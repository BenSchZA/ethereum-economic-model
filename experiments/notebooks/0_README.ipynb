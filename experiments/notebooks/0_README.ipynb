{
 "cells": [
  {
   "cell_type": "markdown",
   "id": "092db441-f6c2-4bf8-b7d4-36686ec01e7a",
   "metadata": {},
   "source": [
    "# Experiment Quick-Start Guide"
   ]
  },
  {
   "cell_type": "markdown",
   "id": "1544c9ad-971b-4e20-9f58-f59eb2867428",
   "metadata": {},
   "source": [
    "## Table of Contents\n",
    "\n",
    "* [Overview of experiment architecture](#Overview-of-experiment-architecture)\n",
    "* [Experiment workflow](#Experiment-workflow)\n",
    "    * [Modifying State Variables](#Modifying-State-Variables)\n",
    "    * [Modifying System Parameters](#Modifying-System-Parameters)\n",
    "    * [Executing experiments](#Executing-experiments)\n",
    "    * [Post-processing and analysing results](#Post-processing-and-analysing-results)\n",
    "    * [Visualizing results](#Visualizing-results)\n",
    "* [Creating new, customized experiment notebooks](#Creating-new,-customized-experiment-notebooks)\n",
    "    * Step 1: Select an experiment template\n",
    "    * Step 2: Create a new notebook\n",
    "    * Step 3: Customize the experiment\n",
    "    * Step 4: Execute the experiment\n",
    "* [Advanced experiment configuration](#Advanced-experiment-configuration)"
   ]
  },
  {
   "cell_type": "markdown",
   "id": "1dbafb7e-419b-4f73-aec8-da958cff54e4",
   "metadata": {},
   "source": [
    "# Overview of experiment architecture\n",
    "\n",
    "The experiment architecture is composed of the following four elements - the **model**, **default experiment**, **experiment templates**, and **experiment notebooks**:\n",
    "\n",
    "1. The **model** is initialized with a default Initial State and set of System Parameters defined in the `model` module.\n",
    "2. The **default experiment**, in the `experiments.default_experiment` module, is an experiment composed of a single simulation that uses the default cadCAD **model** Initial State and System Parameters. Additional default simulation execution settings such as the number of timesteps and runs are also set in the **default experiment**.\n",
    "3. The **experiment templates**, in the `experiments.templates` module, contain pre-configured analyses based on the **default experiment**. Examples include `experiments.templates.time_domain_analysis` (simulation in the time-domain over a period of 5 years) and `experiments.templates.eth_price_sweep_analysis` (simulation in the phase-space sweeping over discrete ETH Price values).\n",
    "4. The **experiment notebooks** perform various scenario analyses by importing existing **experiment templates**, optionally modifying the Initial State and System Parameters within the notebook, and then executing them."
   ]
  },
  {
   "cell_type": "markdown",
   "id": "781e0f41-5d52-4663-b13a-ca9e9c067330",
   "metadata": {},
   "source": [
    "# Experiment workflow\n",
    "\n",
    "If you just want to run (execute) existing experiment notebooks, simply open the respective notebook and execute all cells."
   ]
  },
  {
   "cell_type": "markdown",
   "id": "ba3bc1ff-037a-41bc-a242-8a1b0816e063",
   "metadata": {},
   "source": [
    "The experiment notebooks will start by importing some standard dependencies:"
   ]
  },
  {
   "cell_type": "code",
   "execution_count": null,
   "id": "08d9688f-8eea-4fda-b398-37d1044dc92f",
   "metadata": {},
   "outputs": [],
   "source": [
    "# Import the setup module:\n",
    "# * sets up the Python path\n",
    "# * runs shared notebook configuration methods, such as loading IPython modules\n",
    "import setup\n",
    "\n",
    "# External dependencies\n",
    "import copy\n",
    "import logging\n",
    "import numpy as np\n",
    "import pandas as pd\n",
    "\n",
    "# Project dependencies\n",
    "import model.constants as constants\n",
    "import experiments.notebooks.visualizations as visualizations\n",
    "from experiments.run import run\n",
    "from experiments.utils import inspect_module"
   ]
  },
  {
   "cell_type": "markdown",
   "id": "27c652a9-abb1-4477-b427-628c79b41440",
   "metadata": {},
   "source": [
    "We can then import the default experiment, and create a copy of the simulation object - we create a new copy for each analysis we'd like to perform:"
   ]
  },
  {
   "cell_type": "code",
   "execution_count": null,
   "id": "50bf76d1-469b-45cc-99bd-14c27727b27e",
   "metadata": {},
   "outputs": [],
   "source": [
    "import experiments.default_experiment as default_experiment\n",
    "# Or: import experiments.templates.time_domain_analysis as time_domain_analysis\n",
    "\n",
    "simulation_analysis_1 = copy.deepcopy(default_experiment.experiment.simulations[0])\n",
    "simulation_analysis_2 = copy.deepcopy(default_experiment.experiment.simulations[0])"
   ]
  },
  {
   "cell_type": "markdown",
   "id": "a17964ca-9b02-467c-808d-a209241564f3",
   "metadata": {},
   "source": [
    "We can use the `inspect_module` method to see the configuration of the default experiment before making changes:"
   ]
  },
  {
   "cell_type": "code",
   "execution_count": null,
   "id": "1789113f-9079-431d-818f-da229376a51f",
   "metadata": {},
   "outputs": [],
   "source": [
    "inspect_module(default_experiment)"
   ]
  },
  {
   "cell_type": "markdown",
   "id": "ed179f95-c756-4ce5-a354-cfcb47cdf562",
   "metadata": {},
   "source": [
    "## Modifying State Variables"
   ]
  },
  {
   "cell_type": "markdown",
   "id": "0dd6f40c-7ef2-44e9-894e-7f6d9f16953a",
   "metadata": {},
   "source": [
    "To modify the value of **State Variables** for a specific analysis you need to select the relevant simulation, and update the chosen model Initial State. For example, updating the `eth_supply` Initial State:"
   ]
  },
  {
   "cell_type": "code",
   "execution_count": null,
   "id": "bd7ac9c0-3a05-4c7c-be85-788e02cabfa6",
   "metadata": {},
   "outputs": [],
   "source": [
    "simulation_analysis_1.model.initial_state.update({\n",
    "    \"eth_supply\": 100e6\n",
    "})"
   ]
  },
  {
   "cell_type": "markdown",
   "id": "aab984a4-02c9-4467-9cd1-27b1cc5bc35a",
   "metadata": {},
   "source": [
    "## Modifying System Parameters"
   ]
  },
  {
   "cell_type": "markdown",
   "id": "c444be66-53dc-4683-a65b-b50a37435ff1",
   "metadata": {},
   "source": [
    "To modify the value of **System Parameters** for a specific analysis you need to select the relevant simulation, and update the chosen model System Parameter (which is a list of values). For example, updating the `BASE_REWARD_FACTOR` System Parameter:"
   ]
  },
  {
   "cell_type": "code",
   "execution_count": null,
   "id": "592136aa-95cc-4e3b-99c7-53b122e806ed",
   "metadata": {},
   "outputs": [],
   "source": [
    "simulation_analysis_1.model.params.update({\n",
    "    \"BASE_REWARD_FACTOR\": [64, 32]\n",
    "})"
   ]
  },
  {
   "cell_type": "markdown",
   "id": "d74a97d3-8875-4ed0-ace9-b27b5918dd81",
   "metadata": {},
   "source": [
    "## Executing experiments"
   ]
  },
  {
   "cell_type": "markdown",
   "id": "aaf97fb4-9094-4f1d-bd2d-d9616ad664c7",
   "metadata": {},
   "source": [
    "We can now execute our custom analysis, and retrieve the post-processed Pandas DataFrame, using the `run(...)` method:"
   ]
  },
  {
   "cell_type": "code",
   "execution_count": null,
   "id": "9772aa9b-4083-47af-b26d-135b575928eb",
   "metadata": {},
   "outputs": [],
   "source": [
    "df, exceptions = run(simulation_analysis_1)"
   ]
  },
  {
   "cell_type": "markdown",
   "id": "fc314efc-8382-49d5-92a1-bd5af1dacb5a",
   "metadata": {},
   "source": [
    "## Post-processing and analysing results"
   ]
  },
  {
   "cell_type": "markdown",
   "id": "6307c312-a86b-450c-a543-ef6a00b1f947",
   "metadata": {},
   "source": [
    "We can see that we had no exceptions for the single simulation we executed:"
   ]
  },
  {
   "cell_type": "code",
   "execution_count": null,
   "id": "ad4b43e4-1c0d-486b-8885-a0d1395227c7",
   "metadata": {},
   "outputs": [],
   "source": [
    "exceptions[0]['exception'] == None"
   ]
  },
  {
   "cell_type": "markdown",
   "id": "c9dc740f-0490-456d-8ff6-d76cf4646a87",
   "metadata": {},
   "source": [
    "We can simply display the Pandas DataFrame to inspect the results:"
   ]
  },
  {
   "cell_type": "code",
   "execution_count": null,
   "id": "d3ef9d32-8ad4-4467-aa70-8ec7d33db057",
   "metadata": {},
   "outputs": [],
   "source": [
    "df"
   ]
  },
  {
   "cell_type": "markdown",
   "id": "91be78d8-b2ab-4a7b-ac88-45e0829d2866",
   "metadata": {},
   "source": [
    "## Visualizing results"
   ]
  },
  {
   "cell_type": "markdown",
   "id": "2819bca7-1223-40d1-a745-1314603b42b1",
   "metadata": {},
   "source": [
    "Once we have the results post-processed and in a Pandas DataFrame, we can use Plotly for plotting our results, or Pandas for numerical analyses:"
   ]
  },
  {
   "cell_type": "code",
   "execution_count": null,
   "id": "4880e8ae-3710-49c3-a35d-cc0d9ffe29f0",
   "metadata": {},
   "outputs": [],
   "source": [
    "visualizations.plot_validating_rewards(df, subplot_titles=[\"Base Reward Factor = 64\", \"Base Reward Factor = 32\"])"
   ]
  },
  {
   "cell_type": "markdown",
   "id": "b286ebb9-b062-4242-8ee3-bd23897017dd",
   "metadata": {},
   "source": [
    "# Creating new, customized experiment notebooks\n",
    "\n",
    "If you want to create an entirely new analysis you'll need to create a new experiment notebook, which entails the following steps:\n",
    "* Step 1: Select a base experiment template from the [experiments/templates/](../templates/) directory to start from. The template [example_analysis.py](../templates/example_analysis.py) gives an example of extending the default experiment to override default State Variables and System Parameters.\n",
    "* Step 2: Create a new notebook in [experiments/notebooks/](experiments/notebooks/), using the [template.ipynb](./template.ipynb) notebook as a guide, and import the experiment from the experiment template.\n",
    "* Step 3: Customize the experiment for your specific analysis.\n",
    "* Step 4: Execute your experiment, post-process and analyze the results, and create Plotly charts!"
   ]
  },
  {
   "cell_type": "markdown",
   "id": "db766b95-9333-4fc8-8ed8-a5c83d5a2dd9",
   "metadata": {},
   "source": [
    "# Advanced experiment configuration"
   ]
  },
  {
   "cell_type": "markdown",
   "id": "29ced88a-4e0c-43a5-92d1-1d026f724865",
   "metadata": {},
   "source": [
    "### Setting simulation timesteps and unit of time `dt`"
   ]
  },
  {
   "cell_type": "code",
   "execution_count": null,
   "id": "5ddec154-bcd9-4189-9227-4aac9d8b533a",
   "metadata": {},
   "outputs": [],
   "source": [
    "from model.simulation_configuration import TIMESTEPS, DELTA_TIME, SIMULATION_TIME_MONTHS"
   ]
  },
  {
   "cell_type": "markdown",
   "id": "29990d6c-338a-47aa-9c0c-d460ef98a84b",
   "metadata": {},
   "source": [
    "We can configure the number of simulation timesteps `TIMESTEPS` from a simulation time in months `SIMULATION_TIME_MONTHS`, multiplied by the number of epochs in a month, and divided by the simulation unit of time `DELTA_TIME`:"
   ]
  },
  {
   "cell_type": "code",
   "execution_count": null,
   "id": "82d24679-5bee-46df-b8fe-f58eaadc32ec",
   "metadata": {},
   "outputs": [],
   "source": [
    "SIMULATION_TIME_MONTHS / 12  # Divide months by 12 to get number of years"
   ]
  },
  {
   "cell_type": "markdown",
   "id": "423ca15c-dfc7-432a-bd6a-dc7ec4c2224c",
   "metadata": {},
   "source": [
    "`DELTA_TIME` is a variable that sets how many epochs are simulated for each timestep. Sometimes if we don't need a finer granularity (1 epoch per timestep, for example), then we can set `DELTA_TIME` to a larger value for better performance. The default value is 1 day or `225` epochs. This means that all our time based states will be for a period of 1 day, which is convenient."
   ]
  },
  {
   "cell_type": "code",
   "execution_count": null,
   "id": "e707ffc9-ba5b-4993-8dca-add1c777427f",
   "metadata": {},
   "outputs": [],
   "source": [
    "DELTA_TIME"
   ]
  },
  {
   "cell_type": "markdown",
   "id": "53fd8ac4-d36c-454e-b7d1-161bf01913df",
   "metadata": {},
   "source": [
    "`TIMESTEPS` is now simply the simulation time in months, multiplied by the number of epochs in a month, divided by `DELTA_TIME`:"
   ]
  },
  {
   "cell_type": "markdown",
   "id": "40246080-1688-4c90-8d37-cba266b11ad3",
   "metadata": {},
   "source": [
    "```python\n",
    "TIMESTEPS = constants.epochs_per_month * SIMULATION_TIME_MONTHS // DELTA_TIME\n",
    "```"
   ]
  },
  {
   "cell_type": "code",
   "execution_count": null,
   "id": "d655f4ea-8cc5-4b5a-b463-4c8f6d337884",
   "metadata": {},
   "outputs": [],
   "source": [
    "TIMESTEPS"
   ]
  },
  {
   "cell_type": "markdown",
   "id": "b7f0205f-4088-49df-8af2-4271669c7bc9",
   "metadata": {},
   "source": [
    "Finally, to set the simulation timesteps (note, you may have to update the environmental processes that depend on the number of timesteps, and override the relevant parameters):"
   ]
  },
  {
   "cell_type": "code",
   "execution_count": null,
   "id": "e11276b7-07dc-45e5-891f-d6cb944acc49",
   "metadata": {},
   "outputs": [],
   "source": [
    "simulation_analysis_1.timesteps = TIMESTEPS"
   ]
  },
  {
   "cell_type": "markdown",
   "id": "7ac65e81-819f-485d-8fca-a9f272064a67",
   "metadata": {},
   "source": [
    "### Changing the Ethereum network upgrade stage"
   ]
  },
  {
   "cell_type": "markdown",
   "id": "d21e2c0c-d137-4b4c-949c-eb85fedce7f2",
   "metadata": {},
   "source": [
    "The model operates over different Ethereum network upgrade stages. The default experiment operates in the \"post-merge\" Proof of Stake stage.\n",
    "\n",
    "`Stage` is an Enum, we can import it and see what options we have:"
   ]
  },
  {
   "cell_type": "code",
   "execution_count": null,
   "id": "2ac01652-1c01-4657-b553-59ffebd5023c",
   "metadata": {},
   "outputs": [],
   "source": [
    "from model.types import Stage"
   ]
  },
  {
   "cell_type": "markdown",
   "id": "65627f74-e507-4a27-8d34-1e69ab08040e",
   "metadata": {},
   "source": [
    "The model is well documented, and we can view the Python docstring to see what a Stage is, and create a dictionary to view the Enum members:"
   ]
  },
  {
   "cell_type": "code",
   "execution_count": null,
   "id": "5811c82a-68cc-4335-bb19-d0d0e9b16fda",
   "metadata": {},
   "outputs": [],
   "source": [
    "print(Stage.__doc__)\n",
    "{e.name: e.value for e in Stage}"
   ]
  },
  {
   "cell_type": "markdown",
   "id": "13bbe7df-4a2b-45d5-865a-1fae7b7e04ac",
   "metadata": {},
   "source": [
    "The `PROOF_OF_STAKE` stage, for example, assumes the Beacon Chain has been implemented, EIP1559 has been enabled, and and POW issuance is disabled:"
   ]
  },
  {
   "cell_type": "code",
   "execution_count": null,
   "id": "25051330-7e85-49d2-918c-19a73a84cdb5",
   "metadata": {},
   "outputs": [],
   "source": [
    "inspect_module(Stage)"
   ]
  },
  {
   "cell_type": "markdown",
   "id": "b738a1e1-e895-47a4-9550-d53e2027e9c7",
   "metadata": {},
   "source": [
    "As before, we can update the \"stage\" System Parameter to set the relevant Stage:"
   ]
  },
  {
   "cell_type": "code",
   "execution_count": null,
   "id": "3ae767c3-654f-448e-8a73-c13f5bb23a96",
   "metadata": {},
   "outputs": [],
   "source": [
    "simulation_analysis_1.model.params.update({\n",
    "    \"stage\": [Stage.PROOF_OF_STAKE]\n",
    "})"
   ]
  }
 ],
 "metadata": {
  "kernelspec": {
   "display_name": "Python (CADLabs Ethereum Model)",
   "language": "python",
   "name": "python-cadlabs-eth-model"
  },
  "language_info": {
   "codemirror_mode": {
    "name": "ipython",
    "version": 3
   },
   "file_extension": ".py",
   "mimetype": "text/x-python",
   "name": "python",
   "nbconvert_exporter": "python",
   "pygments_lexer": "ipython3",
   "version": "3.8.11"
  }
 },
 "nbformat": 4,
 "nbformat_minor": 5
}
