{
 "cells": [
  {
   "cell_type": "markdown",
   "id": "226aea42-9677-4ced-b890-3dbfc3da3eef",
   "metadata": {},
   "source": [
    "# Experiment Notebook: Other Analysis"
   ]
  },
  {
   "cell_type": "markdown",
   "id": "e1be1d1b-639a-45c6-aa6a-3571b6417827",
   "metadata": {},
   "source": [
    "## Table of Contents\n",
    "* [Research Question](#Research-Question)\n",
    "* [Experiment Summary](#Experiment-Summary)\n",
    "* [Experiment Assumptions](#Experiment-Assumptions)\n",
    "* [Experiment Setup](#Experiment-Setup)\n",
    "* [Analysis 1: ...](#)"
   ]
  },
  {
   "cell_type": "markdown",
   "id": "2109f3a9-adea-4d6d-b17c-4eac1defcb20",
   "metadata": {},
   "source": [
    "---"
   ]
  },
  {
   "cell_type": "markdown",
   "id": "971d991c-28fb-40b6-9234-bdcf8c382994",
   "metadata": {},
   "source": [
    "# Research Question\n",
    "\n",
    "\n",
    "# Experiment Summary \n",
    "\n",
    "The purpose of this notebook is to \n",
    "\n",
    "# Experiment Assumptions\n",
    "\n",
    "Our model adopts a range of assumptions from the Hoban/Borgers Ethereum 2.0 Economic Model (notably all validator cost assumptions across validator environments).\n",
    "Since the Hoban/Borgers Model was published pre-Altair and the CADLabs model post-Altair, however, some assumptions differ slightly (notably reward/penalty parameters incl. new sync committee).\n",
    "\n",
    "See [assumptions document](ASSUMPTIONS.md) for further details."
   ]
  },
  {
   "cell_type": "markdown",
   "id": "c115e8e0-4019-4dbd-9fce-815bd5129ec2",
   "metadata": {},
   "source": [
    "# Experiment Setup"
   ]
  },
  {
   "cell_type": "code",
   "execution_count": 1,
   "id": "69d1a92d-0f2e-4fd9-8626-89d3d71e29d7",
   "metadata": {},
   "outputs": [
    {
     "name": "stdout",
     "output_type": "stream",
     "text": [
      "time: 883 ms (started: 2021-06-21 16:24:10 +02:00)\n"
     ]
    }
   ],
   "source": [
    "import copy\n",
    "import logging\n",
    "import numpy as np\n",
    "from radcad import Engine\n",
    "\n",
    "import setup\n",
    "import experiments.notebooks.visualizations as visualizations\n",
    "from experiments.run import run\n",
    "from model.types import Stage"
   ]
  },
  {
   "cell_type": "code",
   "execution_count": 2,
   "id": "67aa82d9-fc01-4fbe-aa6c-a339d313b837",
   "metadata": {},
   "outputs": [
    {
     "name": "stdout",
     "output_type": "stream",
     "text": [
      "time: 647 ms (started: 2021-06-21 16:24:11 +02:00)\n"
     ]
    }
   ],
   "source": [
    "import experiments.default_experiment as default_experiment"
   ]
  },
  {
   "cell_type": "code",
   "execution_count": 3,
   "id": "3a6f22fc-08d8-44c1-aa46-3ab8ec492a9c",
   "metadata": {},
   "outputs": [
    {
     "name": "stdout",
     "output_type": "stream",
     "text": [
      "time: 24.8 ms (started: 2021-06-21 16:24:12 +02:00)\n"
     ]
    }
   ],
   "source": [
    "logger = logging.getLogger()\n",
    "logger.disabled = False"
   ]
  },
  {
   "cell_type": "code",
   "execution_count": 4,
   "id": "06b69363-051e-4822-a9ef-14e9de568891",
   "metadata": {},
   "outputs": [
    {
     "name": "stdout",
     "output_type": "stream",
     "text": [
      "time: 28.1 ms (started: 2021-06-21 16:24:12 +02:00)\n"
     ]
    }
   ],
   "source": [
    "simulation = copy.deepcopy(default_experiment.experiment.simulations[0])"
   ]
  },
  {
   "cell_type": "code",
   "execution_count": 5,
   "id": "cdd26590-1164-408f-8e4d-3a1af87c8b80",
   "metadata": {},
   "outputs": [
    {
     "name": "stdout",
     "output_type": "stream",
     "text": [
      "2021-06-21 16:24:12,232 - root - INFO - Running experiment\n",
      "2021-06-21 16:24:12,379 - root - INFO - Starting simulation 0 / run 0 / subset 0\n",
      "2021-06-21 16:24:17,127 - root - INFO - Experiment complete in 4.894604921340942 seconds\n",
      "2021-06-21 16:24:17,130 - root - INFO - Post-processing results\n",
      "2021-06-21 16:24:18,200 - root - INFO - Post-processing complete in 1.0725159645080566 seconds\n",
      "time: 6 s (started: 2021-06-21 16:24:12 +02:00)\n"
     ]
    }
   ],
   "source": [
    "df, _exceptions = run(simulation)"
   ]
  }
 ],
 "metadata": {
  "kernelspec": {
   "display_name": "Python 3",
   "language": "python",
   "name": "python3"
  },
  "language_info": {
   "codemirror_mode": {
    "name": "ipython",
    "version": 3
   },
   "file_extension": ".py",
   "mimetype": "text/x-python",
   "name": "python",
   "nbconvert_exporter": "python",
   "pygments_lexer": "ipython3",
   "version": "3.8.6"
  }
 },
 "nbformat": 4,
 "nbformat_minor": 5
}
