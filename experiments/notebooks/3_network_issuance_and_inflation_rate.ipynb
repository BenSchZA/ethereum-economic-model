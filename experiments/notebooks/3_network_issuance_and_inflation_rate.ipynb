{
 "cells": [
  {
   "cell_type": "markdown",
   "id": "226aea42-9677-4ced-b890-3dbfc3da3eef",
   "metadata": {},
   "source": [
    "# Experiment Notebook: Network Issuance and Inflation Rate"
   ]
  },
  {
   "cell_type": "markdown",
   "id": "e1be1d1b-639a-45c6-aa6a-3571b6417827",
   "metadata": {},
   "source": [
    "# Table of Contents\n",
    "* [Experiment Summary](#Experiment-Summary)\n",
    "* [Experiment Assumptions](#Experiment-Assumptions)\n",
    "* [Experiment Setup](#Experiment-Setup)\n",
    "* [Analysis: Inflation Rate and ETH Supply Over Time](#Analysis:-Inflation-Rate-and-ETH-Supply-Over-Time)"
   ]
  },
  {
   "cell_type": "markdown",
   "id": "971d991c-28fb-40b6-9234-bdcf8c382994",
   "metadata": {},
   "source": [
    "# Experiment Summary \n",
    "\n",
    "The purpose of this notebook is to explore the ETH issuance and resulting annualized inflation rate across different time horizons and adoption scenarios. \n",
    "\n",
    "# Experiment Assumptions\n",
    "\n",
    "See [assumptions document](ASSUMPTIONS.md) for further details."
   ]
  },
  {
   "cell_type": "markdown",
   "id": "c115e8e0-4019-4dbd-9fce-815bd5129ec2",
   "metadata": {},
   "source": [
    "# Experiment Setup\n",
    "\n",
    "We begin with several experiment-notebook-level preparatory setup operations:\n",
    "\n",
    "* Import relevant dependencies\n",
    "* Import relevant experiment templates\n",
    "* Create copies of experiments\n",
    "* Configure and customize experiments \n",
    "\n",
    "Analysis-specific setup operations are handled in their respective notebook sections."
   ]
  },
  {
   "cell_type": "code",
   "execution_count": null,
   "id": "69d1a92d-0f2e-4fd9-8626-89d3d71e29d7",
   "metadata": {},
   "outputs": [],
   "source": [
    "import setup\n",
    "\n",
    "import copy\n",
    "import logging\n",
    "import numpy as np\n",
    "import pandas as pd\n",
    "from datetime import datetime\n",
    "\n",
    "import experiments.notebooks.visualizations as visualizations\n",
    "from experiments.run import run\n",
    "from model.types import Stage\n",
    "from data.historical_values import df_ether_supply"
   ]
  },
  {
   "cell_type": "code",
   "execution_count": null,
   "id": "3a6f22fc-08d8-44c1-aa46-3ab8ec492a9c",
   "metadata": {},
   "outputs": [],
   "source": [
    "# Enable/disable logging\n",
    "logger = logging.getLogger()\n",
    "logger.disabled = False"
   ]
  },
  {
   "cell_type": "code",
   "execution_count": null,
   "id": "67aa82d9-fc01-4fbe-aa6c-a339d313b837",
   "metadata": {},
   "outputs": [],
   "source": [
    "# Import experiment templates\n",
    "import experiments.templates.time_domain_analysis as time_domain_analysis"
   ]
  },
  {
   "cell_type": "code",
   "execution_count": null,
   "id": "06b69363-051e-4822-a9ef-14e9de568891",
   "metadata": {},
   "outputs": [],
   "source": [
    "# Fetch the time-domain analysis experiment\n",
    "experiment = time_domain_analysis.experiment\n",
    "# Create a copy of the experiment simulation\n",
    "simulation = copy.deepcopy(experiment.simulations[0])"
   ]
  },
  {
   "cell_type": "code",
   "execution_count": null,
   "id": "7c70ff44-4985-4fd4-8600-ff74b9c4b7d5",
   "metadata": {},
   "outputs": [],
   "source": [
    "# Experiment configuration\n",
    "\n",
    "simulation_names = {\n",
    "    'Validator Adoption Scenarios': [\n",
    "        'Normal Adoption',\n",
    "        'Low Adoption',\n",
    "        'High Adoption'\n",
    "    ],\n",
    "    'PoS Launch Date Scenarios': [\n",
    "        \"2021/12/1\",\n",
    "        \"2022/03/1\",\n",
    "        \"2022/06/1\",\n",
    "        \"2022/09/1\",\n",
    "    ],\n",
    "    'EIP1559 Scenarios': [\n",
    "        'Disabled',\n",
    "        'Enabled: Steady State',\n",
    "        'Enabled: MEV',\n",
    "    ]\n",
    "}\n",
    "\n",
    "simulation_1 = copy.deepcopy(simulation)\n",
    "simulation_1.model.params.update({\n",
    "    'validator_process': [\n",
    "        lambda _run, _timestep: 3,  # Normal adoption: current average active validators per epoch from Beaconscan\n",
    "        lambda _run, _timestep: 3 * 0.5,  # Low adoption: 50% lower scenario\n",
    "        lambda _run, _timestep: 3 * 1.5,  # High adoption: 50% higher scenario\n",
    "    ],\n",
    "})\n",
    "\n",
    "simulation_2 = copy.deepcopy(simulation)\n",
    "simulation_2.model.params.update({\n",
    "    'date_pos': [\n",
    "        datetime.strptime(\"2021/12/1\", \"%Y/%m/%d\"),\n",
    "        datetime.strptime(\"2022/03/1\", \"%Y/%m/%d\"),\n",
    "        datetime.strptime(\"2022/06/1\", \"%Y/%m/%d\"),\n",
    "        datetime.strptime(\"2022/09/1\", \"%Y/%m/%d\"),\n",
    "    ],\n",
    "})\n",
    "\n",
    "simulation_3 = copy.deepcopy(simulation)\n",
    "simulation_3.model.params.update({\n",
    "    'eip1559_basefee_process': [\n",
    "        lambda _run, _timestep: 0, # Disabled\n",
    "        lambda _run, _timestep: 100, # Enabled: Steady state\n",
    "        lambda _run, _timestep: 70, # Enabled: MEV\n",
    "    ],  # Gwei per gas\n",
    "    'eip1559_tip_process': [\n",
    "        lambda _run, _timestep: 0, # Disabled\n",
    "        lambda _run, _timestep: 1, # Enabled: Steady state\n",
    "        lambda _run, _timestep: 30, # Enabled: MEV\n",
    "    ],  # Gwei per gas\n",
    "})\n",
    "\n",
    "experiment.simulations = [\n",
    "    simulation_1,\n",
    "    simulation_2,\n",
    "    simulation_3\n",
    "]"
   ]
  },
  {
   "cell_type": "code",
   "execution_count": null,
   "id": "cdd26590-1164-408f-8e4d-3a1af87c8b80",
   "metadata": {},
   "outputs": [],
   "source": [
    "df, _exceptions = run(experiment)"
   ]
  },
  {
   "cell_type": "code",
   "execution_count": null,
   "id": "cb12d563-0168-4414-bb31-ebb4aff7524a",
   "metadata": {},
   "outputs": [],
   "source": [
    "df = df.set_index('timestamp', drop=False)"
   ]
  },
  {
   "cell_type": "markdown",
   "id": "9ed1bf73",
   "metadata": {},
   "source": [
    "# Analysis: Inflation Rate and ETH Supply Over Time\n",
    "\n",
    "TODO: update description re. scenarios when finalized\n",
    "\n",
    "This analysis allows the exploration of inflation rate and ETH supply over time, and supports the three adoption scenarios introduced in the second analysis notebook. The activation dates of the two major milestones in this analysis, EIP1559 and Proof of Stake, can be customized to simulate bespoke scenarios."
   ]
  },
  {
   "cell_type": "markdown",
   "id": "ee8943ce-23af-405e-aedc-0b0280b09c63",
   "metadata": {},
   "source": [
    "## WIP Visualisations\n",
    "\n",
    "TODO: combine the following two visualizations, or create sliders for each parameter option\n",
    "\n",
    "See WIP combination `plot_eth_supply_and_inflation_over_all_stages_wip(...)`"
   ]
  },
  {
   "cell_type": "code",
   "execution_count": null,
   "id": "e232777e-2b4c-4156-a0d2-054fcc210340",
   "metadata": {},
   "outputs": [],
   "source": [
    "import plotly.graph_objects as go\n",
    "\n",
    "\n",
    "fig = go.Figure()\n",
    "\n",
    "initial_simulation = 1\n",
    "for subset in df.query(f'simulation == {initial_simulation}').subset.unique():\n",
    "    simulation_key = list(simulation_names.keys())[initial_simulation]\n",
    "    fig.add_trace(\n",
    "        go.Scatter(\n",
    "            x=df.index,\n",
    "            y=df.query(f'subset == {subset} and simulation == 1').eth_supply,\n",
    "            name=simulation_names[simulation_key][subset],\n",
    "            visible=True\n",
    "        )\n",
    "    )\n",
    "\n",
    "buttons = []\n",
    "\n",
    "for simulation_index in df.simulation.unique():\n",
    "    simulation_key = list(simulation_names.keys())[simulation_index]\n",
    "    simulation_df = df.query(f'simulation == {simulation_index}')\n",
    "    buttons.append(dict(method='update',\n",
    "                        label=str(simulation_key),\n",
    "                        visible=True,\n",
    "                        args=[\n",
    "                            {\n",
    "                                'y': [\n",
    "                                    simulation_df.query(f'subset == {subset}').eth_supply \\\n",
    "                                    for subset in simulation_df.subset.unique()\n",
    "                                ],\n",
    "                                'x':[df.index],\n",
    "                                'name': list([\n",
    "                                    simulation_names[simulation_key][subset] for subset in simulation_df.subset.unique()\n",
    "                                ]),\n",
    "                                'type':'scatter'\n",
    "                            }, [subset for subset in simulation_df.subset.unique()]\n",
    "                        ],\n",
    "                    ))\n",
    "\n",
    "fig.update_layout(updatemenus=[dict(\n",
    "    type='buttons',\n",
    "    buttons=buttons,\n",
    "    direction='right',\n",
    "    showactive=True,\n",
    "    pad={\"r\": 10, \"t\": 10},\n",
    "    x=0.5,\n",
    "    xanchor=\"center\",\n",
    "    y=1.1,\n",
    "    yanchor=\"top\"\n",
    ")])\n",
    "fig.update_layout(hovermode='x unified')\n",
    "fig.show()"
   ]
  },
  {
   "cell_type": "code",
   "execution_count": null,
   "id": "282ca0b7-7b70-4e88-8b27-1aba09775d14",
   "metadata": {},
   "outputs": [],
   "source": [
    "from radcad.utils import generate_cartesian_product_parameter_sweep\n",
    "\n",
    "simulation_0 = copy.deepcopy(simulation)\n",
    "\n",
    "param_sweep = generate_cartesian_product_parameter_sweep({\n",
    "#     'validator_process': [\n",
    "#         lambda _run, _timestep: 3,  # Normal adoption: current average active validators per epoch from Beaconscan\n",
    "#         lambda _run, _timestep: 3 * 0.5,  # Low adoption: 50% lower scenario\n",
    "#         lambda _run, _timestep: 3 * 1.5,  # High adoption: 50% higher scenario\n",
    "#     ],\n",
    "#     'date_pos': [\n",
    "#         datetime.strptime(\"2021/12/1\", \"%Y/%m/%d\"),\n",
    "#         datetime.strptime(\"2022/12/1\", \"%Y/%m/%d\"),\n",
    "#         datetime.strptime(\"2023/12/1\", \"%Y/%m/%d\"),\n",
    "#         datetime.strptime(\"2024/12/1\", \"%Y/%m/%d\"),\n",
    "#     ],\n",
    "    'eip1559_basefee_process': [\n",
    "        lambda _run, _timestep: 0, # Disabled\n",
    "        lambda _run, _timestep: 100, # Enabled: Steady state\n",
    "        lambda _run, _timestep: 70, # Enabled: MEV\n",
    "    ],  # Gwei per gas\n",
    "    'eip1559_tip_process': [\n",
    "        lambda _run, _timestep: 0, # Disabled\n",
    "        lambda _run, _timestep: 1, # Enabled: Steady state\n",
    "        lambda _run, _timestep: 30, # Enabled: MEV\n",
    "    ],  # Gwei per gas\n",
    "})\n",
    "\n",
    "simulation_0.model.params.update(param_sweep)"
   ]
  },
  {
   "cell_type": "code",
   "execution_count": null,
   "id": "eabd0be0-9544-4d88-8e3e-82b641510dc6",
   "metadata": {},
   "outputs": [],
   "source": [
    "df_0, _exceptions = run(simulation_0)"
   ]
  },
  {
   "cell_type": "code",
   "execution_count": null,
   "id": "477a3741-b3ce-4a9b-85e8-b1321e37916d",
   "metadata": {},
   "outputs": [],
   "source": [
    "# TODO: Create a dropdown to choose between the three adoption scenarios\n",
    "# TODO: Create a dropdown or slider to allow for the customization of EIP1559 and PoS dates\n",
    "visualizations.plot_eth_supply_and_inflation_over_all_stages(df_ether_supply, df_0)"
   ]
  }
 ],
 "metadata": {
  "interpreter": {
   "hash": "32e42b11b0907d2915f7cd8a0f08a87f18585e7f9215226f31c82d500d0ee43d"
  },
  "kernelspec": {
   "display_name": "Python 3",
   "language": "python",
   "name": "python3"
  },
  "language_info": {
   "codemirror_mode": {
    "name": "ipython",
    "version": 3
   },
   "file_extension": ".py",
   "mimetype": "text/x-python",
   "name": "python",
   "nbconvert_exporter": "python",
   "pygments_lexer": "ipython3",
   "version": "3.9.5"
  }
 },
 "nbformat": 4,
 "nbformat_minor": 5
}
