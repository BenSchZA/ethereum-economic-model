{
 "cells": [
  {
   "cell_type": "markdown",
   "metadata": {},
   "source": [
    "# Experiment Notebook: Model Validation"
   ]
  },
  {
   "cell_type": "markdown",
   "metadata": {},
   "source": [
    "## Table of Contents\n",
    "* [Research Question](#Research-Question)\n",
    "* [Experiment Summary](#Experiment-Summary)\n",
    "* [Experiment Assumptions](#Experiment-Assumptions)\n",
    "* [Experiment Setup](#Experiment-Setup)\n",
    "* [Analysis 1: Profit Yields Across Validator Environments](#Analysis-1:-Profit-Yields-Across-Validator-Environments)\n",
    "* [Analysis 2: Network Yields and Network Inflation](#Analysis-2:-Network-Yields-and-Network-Inflation)\n",
    "* [Analysis 3: Revenue/Profit Yield Spread (\"Three Region Analysis\")](#Analysis-3:-Revenue/Profit-Yield-Spread-(\"Three-Region-Analysis\"))"
   ]
  },
  {
   "cell_type": "markdown",
   "metadata": {},
   "source": [
    "---"
   ]
  },
  {
   "cell_type": "markdown",
   "metadata": {},
   "source": [
    "# Research Question\n",
    "\n",
    "How accurately does that CADLabs model perform compared to a) other, well-established validator economics models and b) past on-chain data?\n",
    "\n",
    "# Experiment Summary \n",
    "\n",
    "The purpose of this notebook is to recreate selected scenario analysis from the (widely acknowledged) [Hoban orgers Ethereum 2.0 Economic Model](https://docs.google.com/spreadsheets/d/1y18MoYSBLlHZ-ueN9m0a-JpC6tYjqDtpISJ6_WdicdE) using the CADLabs model, and to compare the results. \n",
    "\n",
    "**Analysis 1, \"Profit Yields Across Validator Environments\"**, plots the average profitability of validators across different validator environments in two different adoption (i.e. total ETH staked) scenarios and a wide range of ETH prices. A description of the different validator environments and respective assumptions can be found <here> (TODO: add link to description). \n",
    "\n",
    "**Analysis 2, \"Network Yields and Network Inflation\"**, combines the simulation of average (i.e. not validator environment-specific) Revenue Yields, Profit Yields (across two illutrative ETH price levels), with the associated overall network inflation. \n",
    "\n",
    "**Analysis 3, \"Revenue/Profit Yield Spread \"Three Region Analysis\"\"**, compares the spread between average (i.e. not validator environment specific) Revenu yields and Profit yields across a wide range of ETH prices, and across the two adoption scenarios seen earlier in this notebook.\n",
    "\n",
    "These analyses and illustrative insights will be described in further detail in their corresponding sections.\n",
    "\n",
    "# Experiment Assumptions\n",
    "\n",
    "Our model adopts a range of assumptions from the Hoban/Borgers Ethereum 2.0 Economic Model (notably all validator cost assumptions across validator environments).\n",
    "Since the Hoban/Borgers Model was published pre-Altair and the CADLabs model post-Altair, however, some assumptions differ slightly (notably reward/penalty parameters incl. new sync committee). Hence rather than a perfect match of simulation results we expect a very close match, which will serve the purpose of a sanity check.\n",
    "\n",
    "See [assumptions document](ASSUMPTIONS.md) for further details."
   ]
  },
  {
   "cell_type": "markdown",
   "metadata": {},
   "source": [
    "# Experiment Setup"
   ]
  },
  {
   "cell_type": "code",
   "execution_count": 1,
   "metadata": {},
   "outputs": [
    {
     "name": "stdout",
     "output_type": "stream",
     "text": [
      "time: 1.85 s (started: 2021-06-17 14:48:53 +02:00)\n"
     ]
    }
   ],
   "source": [
    "import copy\n",
    "import logging\n",
    "import numpy as np\n",
    "from radcad import Engine\n",
    "\n",
    "import setup\n",
    "import experiments.notebooks.visualizations as visualizations\n",
    "from experiments.default_experiment import experiment, TIMESTEPS, DELTA_TIME\n",
    "from experiments.run import run\n",
    "from model.types import Stage"
   ]
  },
  {
   "cell_type": "code",
   "execution_count": 2,
   "metadata": {},
   "outputs": [
    {
     "name": "stdout",
     "output_type": "stream",
     "text": [
      "time: 29.1 ms (started: 2021-06-17 14:48:55 +02:00)\n"
     ]
    }
   ],
   "source": [
    "logger = logging.getLogger()\n",
    "logger.disabled = True"
   ]
  },
  {
   "cell_type": "code",
   "execution_count": 3,
   "metadata": {},
   "outputs": [
    {
     "name": "stdout",
     "output_type": "stream",
     "text": [
      "time: 29.7 ms (started: 2021-06-17 14:48:55 +02:00)\n"
     ]
    }
   ],
   "source": [
    "# From Hoban/Borgers Economic Report\n",
    "state_variable_overrides = {\n",
    "    \"eth_supply\": 112_000_000,\n",
    "    \"eth_price\": 25,\n",
    "    \"eth_staked\": 524_288,\n",
    "    \"number_of_validators\": 16_384,\n",
    "}\n",
    "\n",
    "# From Hoban/Borgers Economic Report\n",
    "parameter_overrides = {\n",
    "    \"stage\": [Stage.BEACON_CHAIN],\n",
    "    \"daily_pow_issuance\": [0],\n",
    "    # Combination of validator internet, power, and technical uptime from Hoban/Borgers Report\n",
    "    \"validator_uptime_process\": [lambda _run, _timestep: 0.999 * 0.999 * 0.982],\n",
    "}"
   ]
  },
  {
   "cell_type": "code",
   "execution_count": 4,
   "metadata": {},
   "outputs": [
    {
     "name": "stdout",
     "output_type": "stream",
     "text": [
      "time: 31 ms (started: 2021-06-17 14:48:55 +02:00)\n"
     ]
    }
   ],
   "source": [
    "simulation = copy.deepcopy(experiment.simulations[0])\n",
    "\n",
    "# Drop substeps to improve performance\n",
    "simulation.engine = Engine(drop_substeps=True)\n",
    "# Override base experiment System Parameters\n",
    "simulation.model.params.update(parameter_overrides)\n",
    "# Override base experiment State Variables\n",
    "simulation.model.initial_state.update(state_variable_overrides)\n",
    "# Set runs to number of ETH price / staked samples\n",
    "simulation.runs = 50\n",
    "# Run single timestep, set unit of time to multiple epochs\n",
    "simulation.timesteps = 1\n",
    "simulation.model.params.update({\"dt\": [TIMESTEPS * DELTA_TIME]})"
   ]
  },
  {
   "cell_type": "markdown",
   "metadata": {},
   "source": [
    "## Analysis 1: Profit Yields Across Validator Environments"
   ]
  },
  {
   "cell_type": "markdown",
   "metadata": {},
   "source": [
    "The below analysis from the Hoban/Borgers [Ethereum 2.0 Economic Model](https://docs.google.com/spreadsheets/d/1y18MoYSBLlHZ-ueN9m0a-JpC6tYjqDtpISJ6_WdicdE/edit#gid=1146360926) simulate how the average annual validator profitability varies across validator environment (deployment type) and ETH price ranges. The first analysis simulates the original beacon chain minimum requirement of 524288 ETH staked, the second analysis a much higher adoption level at 33,6m ETH staked. Insights include: (TODO: double-check insights)\n",
    "* The average annual validator profitability across all validator environments is much lower in the high-adoption scenario due to systematically lower revenue yields\n",
    "* As Eth approaches very slow prices levels, a \"profitability cliff\" exists for all non-StaaS (Staking-as-a-Service) validator deployments in both adoption scenarios (assumes that StaaS providers offer constant ETH returns)\n",
    "* Average annual validator profitability between validator environments converge as adoption and ETH price grow, due to to decreasing relevance of operational costs\n",
    "\n",
    "In a next step, we will recreate the below analysis using the CADLabs model and compare the results."
   ]
  },
  {
   "cell_type": "markdown",
   "metadata": {},
   "source": [
    "Annualized Model - Yields of Validator Environments at 524_288 ETH Staked | Annualized Model - Yields of Validator Environments at 33_600_000 ETH Staked\n",
    "- | - |\n",
    "![alt](../outputs/hoban_borgers_economic_model/experiment_model_validation_scenario_1a.png) | ![alt](../outputs/hoban_borgers_economic_model/experiment_model_validation_scenario_1b.png) |"
   ]
  },
  {
   "cell_type": "markdown",
   "metadata": {},
   "source": [
    "### Configuration"
   ]
  },
  {
   "cell_type": "code",
   "execution_count": 5,
   "metadata": {},
   "outputs": [
    {
     "name": "stdout",
     "output_type": "stream",
     "text": [
      "time: 33.4 ms (started: 2021-06-17 14:48:55 +02:00)\n"
     ]
    }
   ],
   "source": [
    "# Create a copy of the simulation (TODO: describe better what's going on here)\n",
    "simulation_1 = copy.deepcopy(simulation)\n",
    "\n",
    "# From Hoban/Borgers Economic Report (TODO: describe better what's going on here)\n",
    "eth_price_samples = np.linspace(start=25, stop=1500, num=50)\n",
    "\n",
    "parameter_overrides = {\n",
    "    \"eth_price_process\": [\n",
    "        lambda run, timestep: eth_price_samples[run - 1]\n",
    "    ],\n",
    "    \"eth_staked_process\": [\n",
    "        lambda _run, _timestep: 524_288,  # From Hoban/Borgers Economic Report\n",
    "        lambda _run, _timestep: 33_600_000,  # From Hoban/Borgers Economic Report\n",
    "    ],\n",
    "}\n",
    "\n",
    "# Override base experiment parameters\n",
    "simulation_1.model.params.update(parameter_overrides)"
   ]
  },
  {
   "cell_type": "markdown",
   "metadata": {},
   "source": [
    "### Execution"
   ]
  },
  {
   "cell_type": "code",
   "execution_count": 6,
   "metadata": {},
   "outputs": [
    {
     "name": "stdout",
     "output_type": "stream",
     "text": [
      "time: 593 ms (started: 2021-06-17 14:48:55 +02:00)\n"
     ]
    }
   ],
   "source": [
    "df_1, exceptions = run(simulation_1)"
   ]
  },
  {
   "cell_type": "markdown",
   "metadata": {},
   "source": [
    "### Output Preparation"
   ]
  },
  {
   "cell_type": "code",
   "execution_count": 7,
   "metadata": {},
   "outputs": [
    {
     "data": {
      "text/html": [
       "<div>\n",
       "<style scoped>\n",
       "    .dataframe tbody tr th:only-of-type {\n",
       "        vertical-align: middle;\n",
       "    }\n",
       "\n",
       "    .dataframe tbody tr th {\n",
       "        vertical-align: top;\n",
       "    }\n",
       "\n",
       "    .dataframe thead th {\n",
       "        text-align: right;\n",
       "    }\n",
       "</style>\n",
       "<table border=\"1\" class=\"dataframe\">\n",
       "  <thead>\n",
       "    <tr style=\"text-align: right;\">\n",
       "      <th></th>\n",
       "      <th>stage</th>\n",
       "      <th>timestamp</th>\n",
       "      <th>eth_price</th>\n",
       "      <th>eth_supply</th>\n",
       "      <th>eth_staked</th>\n",
       "      <th>supply_inflation</th>\n",
       "      <th>network_issuance</th>\n",
       "      <th>pow_issuance</th>\n",
       "      <th>number_of_validators_in_activation_queue</th>\n",
       "      <th>average_effective_balance</th>\n",
       "      <th>...</th>\n",
       "      <th>total_online_validator_rewards_eth</th>\n",
       "      <th>total_tips_to_validators_eth</th>\n",
       "      <th>source_reward_eth</th>\n",
       "      <th>target_reward_eth</th>\n",
       "      <th>head_reward_eth</th>\n",
       "      <th>block_proposer_reward_eth</th>\n",
       "      <th>sync_reward_eth</th>\n",
       "      <th>whistleblower_rewards_eth</th>\n",
       "      <th>validating_penalties_eth</th>\n",
       "      <th>amount_slashed_eth</th>\n",
       "    </tr>\n",
       "  </thead>\n",
       "  <tbody>\n",
       "    <tr>\n",
       "      <th>1</th>\n",
       "      <td>2.0</td>\n",
       "      <td>2021-06-17 14:48:54.923321</td>\n",
       "      <td>25.000000</td>\n",
       "      <td>1.121123e+08</td>\n",
       "      <td>524288</td>\n",
       "      <td>0.001017</td>\n",
       "      <td>112259.926774</td>\n",
       "      <td>0.0</td>\n",
       "      <td>0</td>\n",
       "      <td>3.200000e+10</td>\n",
       "      <td>...</td>\n",
       "      <td>112300.426774</td>\n",
       "      <td>0.0</td>\n",
       "      <td>24938.696305</td>\n",
       "      <td>46314.721709</td>\n",
       "      <td>24938.696305</td>\n",
       "      <td>14540.898060</td>\n",
       "      <td>3635.224515</td>\n",
       "      <td>5.0625</td>\n",
       "      <td>2072.872620</td>\n",
       "      <td>40.5</td>\n",
       "    </tr>\n",
       "    <tr>\n",
       "      <th>3</th>\n",
       "      <td>2.0</td>\n",
       "      <td>2021-06-17 14:48:54.923321</td>\n",
       "      <td>25.000000</td>\n",
       "      <td>1.128986e+08</td>\n",
       "      <td>33600000</td>\n",
       "      <td>0.008140</td>\n",
       "      <td>898570.797092</td>\n",
       "      <td>0.0</td>\n",
       "      <td>0</td>\n",
       "      <td>3.200000e+10</td>\n",
       "      <td>...</td>\n",
       "      <td>898611.297092</td>\n",
       "      <td>0.0</td>\n",
       "      <td>199564.301323</td>\n",
       "      <td>370619.416743</td>\n",
       "      <td>199564.301323</td>\n",
       "      <td>116359.613964</td>\n",
       "      <td>29089.903491</td>\n",
       "      <td>5.0625</td>\n",
       "      <td>16591.302252</td>\n",
       "      <td>40.5</td>\n",
       "    </tr>\n",
       "    <tr>\n",
       "      <th>5</th>\n",
       "      <td>2.0</td>\n",
       "      <td>2021-06-17 14:48:54.923321</td>\n",
       "      <td>55.102041</td>\n",
       "      <td>1.121123e+08</td>\n",
       "      <td>524288</td>\n",
       "      <td>0.001017</td>\n",
       "      <td>112259.926774</td>\n",
       "      <td>0.0</td>\n",
       "      <td>0</td>\n",
       "      <td>3.200000e+10</td>\n",
       "      <td>...</td>\n",
       "      <td>112300.426774</td>\n",
       "      <td>0.0</td>\n",
       "      <td>24938.696305</td>\n",
       "      <td>46314.721709</td>\n",
       "      <td>24938.696305</td>\n",
       "      <td>14540.898060</td>\n",
       "      <td>3635.224515</td>\n",
       "      <td>5.0625</td>\n",
       "      <td>2072.872620</td>\n",
       "      <td>40.5</td>\n",
       "    </tr>\n",
       "    <tr>\n",
       "      <th>7</th>\n",
       "      <td>2.0</td>\n",
       "      <td>2021-06-17 14:48:54.923321</td>\n",
       "      <td>55.102041</td>\n",
       "      <td>1.128986e+08</td>\n",
       "      <td>33600000</td>\n",
       "      <td>0.008140</td>\n",
       "      <td>898570.797092</td>\n",
       "      <td>0.0</td>\n",
       "      <td>0</td>\n",
       "      <td>3.200000e+10</td>\n",
       "      <td>...</td>\n",
       "      <td>898611.297092</td>\n",
       "      <td>0.0</td>\n",
       "      <td>199564.301323</td>\n",
       "      <td>370619.416743</td>\n",
       "      <td>199564.301323</td>\n",
       "      <td>116359.613964</td>\n",
       "      <td>29089.903491</td>\n",
       "      <td>5.0625</td>\n",
       "      <td>16591.302252</td>\n",
       "      <td>40.5</td>\n",
       "    </tr>\n",
       "    <tr>\n",
       "      <th>9</th>\n",
       "      <td>2.0</td>\n",
       "      <td>2021-06-17 14:48:54.923321</td>\n",
       "      <td>85.204082</td>\n",
       "      <td>1.121123e+08</td>\n",
       "      <td>524288</td>\n",
       "      <td>0.001017</td>\n",
       "      <td>112259.926774</td>\n",
       "      <td>0.0</td>\n",
       "      <td>0</td>\n",
       "      <td>3.200000e+10</td>\n",
       "      <td>...</td>\n",
       "      <td>112300.426774</td>\n",
       "      <td>0.0</td>\n",
       "      <td>24938.696305</td>\n",
       "      <td>46314.721709</td>\n",
       "      <td>24938.696305</td>\n",
       "      <td>14540.898060</td>\n",
       "      <td>3635.224515</td>\n",
       "      <td>5.0625</td>\n",
       "      <td>2072.872620</td>\n",
       "      <td>40.5</td>\n",
       "    </tr>\n",
       "    <tr>\n",
       "      <th>...</th>\n",
       "      <td>...</td>\n",
       "      <td>...</td>\n",
       "      <td>...</td>\n",
       "      <td>...</td>\n",
       "      <td>...</td>\n",
       "      <td>...</td>\n",
       "      <td>...</td>\n",
       "      <td>...</td>\n",
       "      <td>...</td>\n",
       "      <td>...</td>\n",
       "      <td>...</td>\n",
       "      <td>...</td>\n",
       "      <td>...</td>\n",
       "      <td>...</td>\n",
       "      <td>...</td>\n",
       "      <td>...</td>\n",
       "      <td>...</td>\n",
       "      <td>...</td>\n",
       "      <td>...</td>\n",
       "      <td>...</td>\n",
       "      <td>...</td>\n",
       "    </tr>\n",
       "    <tr>\n",
       "      <th>191</th>\n",
       "      <td>2.0</td>\n",
       "      <td>2021-06-17 14:48:54.923321</td>\n",
       "      <td>1439.795918</td>\n",
       "      <td>1.128986e+08</td>\n",
       "      <td>33600000</td>\n",
       "      <td>0.008140</td>\n",
       "      <td>898570.797092</td>\n",
       "      <td>0.0</td>\n",
       "      <td>0</td>\n",
       "      <td>3.200000e+10</td>\n",
       "      <td>...</td>\n",
       "      <td>898611.297092</td>\n",
       "      <td>0.0</td>\n",
       "      <td>199564.301323</td>\n",
       "      <td>370619.416743</td>\n",
       "      <td>199564.301323</td>\n",
       "      <td>116359.613964</td>\n",
       "      <td>29089.903491</td>\n",
       "      <td>5.0625</td>\n",
       "      <td>16591.302252</td>\n",
       "      <td>40.5</td>\n",
       "    </tr>\n",
       "    <tr>\n",
       "      <th>193</th>\n",
       "      <td>2.0</td>\n",
       "      <td>2021-06-17 14:48:54.923321</td>\n",
       "      <td>1469.897959</td>\n",
       "      <td>1.121123e+08</td>\n",
       "      <td>524288</td>\n",
       "      <td>0.001017</td>\n",
       "      <td>112259.926774</td>\n",
       "      <td>0.0</td>\n",
       "      <td>0</td>\n",
       "      <td>3.200000e+10</td>\n",
       "      <td>...</td>\n",
       "      <td>112300.426774</td>\n",
       "      <td>0.0</td>\n",
       "      <td>24938.696305</td>\n",
       "      <td>46314.721709</td>\n",
       "      <td>24938.696305</td>\n",
       "      <td>14540.898060</td>\n",
       "      <td>3635.224515</td>\n",
       "      <td>5.0625</td>\n",
       "      <td>2072.872620</td>\n",
       "      <td>40.5</td>\n",
       "    </tr>\n",
       "    <tr>\n",
       "      <th>195</th>\n",
       "      <td>2.0</td>\n",
       "      <td>2021-06-17 14:48:54.923321</td>\n",
       "      <td>1469.897959</td>\n",
       "      <td>1.128986e+08</td>\n",
       "      <td>33600000</td>\n",
       "      <td>0.008140</td>\n",
       "      <td>898570.797092</td>\n",
       "      <td>0.0</td>\n",
       "      <td>0</td>\n",
       "      <td>3.200000e+10</td>\n",
       "      <td>...</td>\n",
       "      <td>898611.297092</td>\n",
       "      <td>0.0</td>\n",
       "      <td>199564.301323</td>\n",
       "      <td>370619.416743</td>\n",
       "      <td>199564.301323</td>\n",
       "      <td>116359.613964</td>\n",
       "      <td>29089.903491</td>\n",
       "      <td>5.0625</td>\n",
       "      <td>16591.302252</td>\n",
       "      <td>40.5</td>\n",
       "    </tr>\n",
       "    <tr>\n",
       "      <th>197</th>\n",
       "      <td>2.0</td>\n",
       "      <td>2021-06-17 14:48:54.923321</td>\n",
       "      <td>1500.000000</td>\n",
       "      <td>1.121123e+08</td>\n",
       "      <td>524288</td>\n",
       "      <td>0.001017</td>\n",
       "      <td>112259.926774</td>\n",
       "      <td>0.0</td>\n",
       "      <td>0</td>\n",
       "      <td>3.200000e+10</td>\n",
       "      <td>...</td>\n",
       "      <td>112300.426774</td>\n",
       "      <td>0.0</td>\n",
       "      <td>24938.696305</td>\n",
       "      <td>46314.721709</td>\n",
       "      <td>24938.696305</td>\n",
       "      <td>14540.898060</td>\n",
       "      <td>3635.224515</td>\n",
       "      <td>5.0625</td>\n",
       "      <td>2072.872620</td>\n",
       "      <td>40.5</td>\n",
       "    </tr>\n",
       "    <tr>\n",
       "      <th>199</th>\n",
       "      <td>2.0</td>\n",
       "      <td>2021-06-17 14:48:54.923321</td>\n",
       "      <td>1500.000000</td>\n",
       "      <td>1.128986e+08</td>\n",
       "      <td>33600000</td>\n",
       "      <td>0.008140</td>\n",
       "      <td>898570.797092</td>\n",
       "      <td>0.0</td>\n",
       "      <td>0</td>\n",
       "      <td>3.200000e+10</td>\n",
       "      <td>...</td>\n",
       "      <td>898611.297092</td>\n",
       "      <td>0.0</td>\n",
       "      <td>199564.301323</td>\n",
       "      <td>370619.416743</td>\n",
       "      <td>199564.301323</td>\n",
       "      <td>116359.613964</td>\n",
       "      <td>29089.903491</td>\n",
       "      <td>5.0625</td>\n",
       "      <td>16591.302252</td>\n",
       "      <td>40.5</td>\n",
       "    </tr>\n",
       "  </tbody>\n",
       "</table>\n",
       "<p>100 rows × 152 columns</p>\n",
       "</div>"
      ],
      "text/plain": [
       "     stage                  timestamp    eth_price    eth_supply  eth_staked  \\\n",
       "1      2.0 2021-06-17 14:48:54.923321    25.000000  1.121123e+08      524288   \n",
       "3      2.0 2021-06-17 14:48:54.923321    25.000000  1.128986e+08    33600000   \n",
       "5      2.0 2021-06-17 14:48:54.923321    55.102041  1.121123e+08      524288   \n",
       "7      2.0 2021-06-17 14:48:54.923321    55.102041  1.128986e+08    33600000   \n",
       "9      2.0 2021-06-17 14:48:54.923321    85.204082  1.121123e+08      524288   \n",
       "..     ...                        ...          ...           ...         ...   \n",
       "191    2.0 2021-06-17 14:48:54.923321  1439.795918  1.128986e+08    33600000   \n",
       "193    2.0 2021-06-17 14:48:54.923321  1469.897959  1.121123e+08      524288   \n",
       "195    2.0 2021-06-17 14:48:54.923321  1469.897959  1.128986e+08    33600000   \n",
       "197    2.0 2021-06-17 14:48:54.923321  1500.000000  1.121123e+08      524288   \n",
       "199    2.0 2021-06-17 14:48:54.923321  1500.000000  1.128986e+08    33600000   \n",
       "\n",
       "     supply_inflation  network_issuance  pow_issuance  \\\n",
       "1            0.001017     112259.926774           0.0   \n",
       "3            0.008140     898570.797092           0.0   \n",
       "5            0.001017     112259.926774           0.0   \n",
       "7            0.008140     898570.797092           0.0   \n",
       "9            0.001017     112259.926774           0.0   \n",
       "..                ...               ...           ...   \n",
       "191          0.008140     898570.797092           0.0   \n",
       "193          0.001017     112259.926774           0.0   \n",
       "195          0.008140     898570.797092           0.0   \n",
       "197          0.001017     112259.926774           0.0   \n",
       "199          0.008140     898570.797092           0.0   \n",
       "\n",
       "     number_of_validators_in_activation_queue  average_effective_balance  ...  \\\n",
       "1                                           0               3.200000e+10  ...   \n",
       "3                                           0               3.200000e+10  ...   \n",
       "5                                           0               3.200000e+10  ...   \n",
       "7                                           0               3.200000e+10  ...   \n",
       "9                                           0               3.200000e+10  ...   \n",
       "..                                        ...                        ...  ...   \n",
       "191                                         0               3.200000e+10  ...   \n",
       "193                                         0               3.200000e+10  ...   \n",
       "195                                         0               3.200000e+10  ...   \n",
       "197                                         0               3.200000e+10  ...   \n",
       "199                                         0               3.200000e+10  ...   \n",
       "\n",
       "     total_online_validator_rewards_eth  total_tips_to_validators_eth  \\\n",
       "1                         112300.426774                           0.0   \n",
       "3                         898611.297092                           0.0   \n",
       "5                         112300.426774                           0.0   \n",
       "7                         898611.297092                           0.0   \n",
       "9                         112300.426774                           0.0   \n",
       "..                                  ...                           ...   \n",
       "191                       898611.297092                           0.0   \n",
       "193                       112300.426774                           0.0   \n",
       "195                       898611.297092                           0.0   \n",
       "197                       112300.426774                           0.0   \n",
       "199                       898611.297092                           0.0   \n",
       "\n",
       "     source_reward_eth  target_reward_eth  head_reward_eth  \\\n",
       "1         24938.696305       46314.721709     24938.696305   \n",
       "3        199564.301323      370619.416743    199564.301323   \n",
       "5         24938.696305       46314.721709     24938.696305   \n",
       "7        199564.301323      370619.416743    199564.301323   \n",
       "9         24938.696305       46314.721709     24938.696305   \n",
       "..                 ...                ...              ...   \n",
       "191      199564.301323      370619.416743    199564.301323   \n",
       "193       24938.696305       46314.721709     24938.696305   \n",
       "195      199564.301323      370619.416743    199564.301323   \n",
       "197       24938.696305       46314.721709     24938.696305   \n",
       "199      199564.301323      370619.416743    199564.301323   \n",
       "\n",
       "     block_proposer_reward_eth  sync_reward_eth  whistleblower_rewards_eth  \\\n",
       "1                 14540.898060      3635.224515                     5.0625   \n",
       "3                116359.613964     29089.903491                     5.0625   \n",
       "5                 14540.898060      3635.224515                     5.0625   \n",
       "7                116359.613964     29089.903491                     5.0625   \n",
       "9                 14540.898060      3635.224515                     5.0625   \n",
       "..                         ...              ...                        ...   \n",
       "191              116359.613964     29089.903491                     5.0625   \n",
       "193               14540.898060      3635.224515                     5.0625   \n",
       "195              116359.613964     29089.903491                     5.0625   \n",
       "197               14540.898060      3635.224515                     5.0625   \n",
       "199              116359.613964     29089.903491                     5.0625   \n",
       "\n",
       "     validating_penalties_eth  amount_slashed_eth  \n",
       "1                 2072.872620                40.5  \n",
       "3                16591.302252                40.5  \n",
       "5                 2072.872620                40.5  \n",
       "7                16591.302252                40.5  \n",
       "9                 2072.872620                40.5  \n",
       "..                        ...                 ...  \n",
       "191              16591.302252                40.5  \n",
       "193               2072.872620                40.5  \n",
       "195              16591.302252                40.5  \n",
       "197               2072.872620                40.5  \n",
       "199              16591.302252                40.5  \n",
       "\n",
       "[100 rows x 152 columns]"
      ]
     },
     "execution_count": 7,
     "metadata": {},
     "output_type": "execute_result"
    },
    {
     "name": "stdout",
     "output_type": "stream",
     "text": [
      "time: 75.3 ms (started: 2021-06-17 14:48:56 +02:00)\n"
     ]
    }
   ],
   "source": [
    "df_1"
   ]
  },
  {
   "cell_type": "markdown",
   "metadata": {},
   "source": [
    "### Analysis Results\n",
    "\n",
    "The below plots recreate Hoban/Borger's analysis using the same validator adoption levels (52488 ETH, 3360000 ETH) and cost assumptions. The profit yields across validator environments and adoption levels match very closely (e.g. at the 524288 adoption level and assuming an ETH price of 500 USD/ETH, profit yields for a StaaS validator are shown at around 18%; those were profitable days), e.g. We conclude that the model is valid for this specific analysis."
   ]
  },
  {
   "cell_type": "code",
   "execution_count": 49,
   "metadata": {},
   "outputs": [
    {
     "data": {
      "application/vnd.plotly.v1+json": {
       "config": {
        "plotlyServerURL": "https://plot.ly"
       },
       "data": [
        {
         "hovertemplate": "variable=custom_profit_yields_pct<br>subset=0<br>eth_price=%{x}<br>value=%{y}<extra></extra>",
         "legendgroup": "custom_profit_yields_pct",
         "line": {
          "color": "#1F77B4",
          "dash": "solid"
         },
         "mode": "lines",
         "name": "custom Profit Yields",
         "orientation": "v",
         "showlegend": true,
         "type": "scatter",
         "x": [
          25,
          55.102040816326536,
          85.20408163265307,
          115.3061224489796,
          145.40816326530614,
          175.51020408163265,
          205.6122448979592,
          235.71428571428572,
          265.8163265306123,
          295.9183673469388,
          326.0204081632653,
          356.12244897959187,
          386.2244897959184,
          416.32653061224494,
          446.42857142857144,
          476.530612244898,
          506.6326530612245,
          536.7346938775511,
          566.8367346938776,
          596.9387755102041,
          627.0408163265306,
          657.1428571428572,
          687.2448979591837,
          717.3469387755102,
          747.4489795918367,
          777.5510204081633,
          807.6530612244899,
          837.7551020408164,
          867.8571428571429,
          897.9591836734694,
          928.061224489796,
          958.1632653061225,
          988.265306122449,
          1018.3673469387755,
          1048.4693877551022,
          1078.5714285714287,
          1108.6734693877552,
          1138.7755102040817,
          1168.8775510204082,
          1198.9795918367347,
          1229.0816326530612,
          1259.1836734693877,
          1289.2857142857144,
          1319.387755102041,
          1349.4897959183675,
          1379.591836734694,
          1409.6938775510205,
          1439.795918367347,
          1469.8979591836735,
          1500
         ],
         "xaxis": "x",
         "y": [
          7.3501452598990475,
          15.206705445084232,
          17.51192370301282,
          18.61353242804064,
          19.25903648796922,
          19.683117643619976,
          19.98302615319929,
          20.206334653838436,
          20.379066565081388,
          20.5166564667956,
          20.628838530634567,
          20.72205571835177,
          20.800742353690328,
          20.868050284408852,
          20.926281259899046,
          20.977155431205254,
          21.021984132003784,
          21.06178451845418,
          21.09735768114117,
          21.129343123146914,
          21.158257546310764,
          21.18452297729035,
          21.20848750191835,
          21.23044077910246,
          21.25062580597413,
          21.269247950187758,
          21.28648196236272,
          21.302477476707814,
          21.31736336689493,
          21.331251225808135,
          21.344238168090357,
          21.356409104414485,
          21.367838600115878,
          21.37859240418762,
          21.388728714886877,
          21.39829923340898,
          21.40735004590917,
          21.41592236563381,
          21.424053160379188,
          21.43177568543096,
          21.439119938188796,
          21.44611304758138,
          21.452779608929518,
          21.459141972969423,
          21.46522049619394,
          21.471033758419754,
          21.47659875247957,
          21.48193105011875,
          21.487044947507513,
          21.491953593232378
         ],
         "yaxis": "y"
        },
        {
         "hovertemplate": "variable=custom_profit_yields_pct<br>subset=1<br>eth_price=%{x}<br>value=%{y}<extra></extra>",
         "legendgroup": "custom_profit_yields_pct",
         "line": {
          "color": "#1F77B4",
          "dash": "solid"
         },
         "mode": "lines",
         "name": "custom Profit Yields",
         "orientation": "v",
         "showlegend": false,
         "type": "scatter",
         "x": [
          25,
          55.102040816326536,
          85.20408163265307,
          115.3061224489796,
          145.40816326530614,
          175.51020408163265,
          205.6122448979592,
          235.71428571428572,
          265.8163265306123,
          295.9183673469388,
          326.0204081632653,
          356.12244897959187,
          386.2244897959184,
          416.32653061224494,
          446.42857142857144,
          476.530612244898,
          506.6326530612245,
          536.7346938775511,
          566.8367346938776,
          596.9387755102041,
          627.0408163265306,
          657.1428571428572,
          687.2448979591837,
          717.3469387755102,
          747.4489795918367,
          777.5510204081633,
          807.6530612244899,
          837.7551020408164,
          867.8571428571429,
          897.9591836734694,
          928.061224489796,
          958.1632653061225,
          988.265306122449,
          1018.3673469387755,
          1048.4693877551022,
          1078.5714285714287,
          1108.6734693877552,
          1138.7755102040817,
          1168.8775510204082,
          1198.9795918367347,
          1229.0816326530612,
          1259.1836734693877,
          1289.2857142857144,
          1319.387755102041,
          1349.4897959183675,
          1379.591836734694,
          1409.6938775510205,
          1439.795918367347,
          1469.8979591836735,
          1500
         ],
         "xaxis": "x2",
         "y": [
          -11.668100661557535,
          -3.8115404763723486,
          -1.5063222184437615,
          -0.4047134934159415,
          0.24079056651264108,
          0.6648717221633956,
          0.9647802317427135,
          1.1880887323818596,
          1.3608206436248071,
          1.4984105453390175,
          1.6105926091779899,
          1.7038097968951873,
          1.7824964322337469,
          1.8498043629522694,
          1.9080353384424653,
          1.9589095097486753,
          2.003738210547198,
          2.0435385969975983,
          2.0791117596845896,
          2.111097201690329,
          2.140011624854182,
          2.1662770558337696,
          2.1902415804617674,
          2.2121948576458794,
          2.232379884517551,
          2.2510020287311794,
          2.268236040906142,
          2.2842315552512353,
          2.29911744543835,
          2.313005304351556,
          2.3259922466337795,
          2.3381631829579077,
          2.3495926786592958,
          2.360346482731042,
          2.3704827934303005,
          2.380053311952399,
          2.3891041244525897,
          2.397676444177232,
          2.4058072389226055,
          2.4135297639743802,
          2.4208740167322125,
          2.427867126124799,
          2.4345336874729364,
          2.4408960515128446,
          2.4469745747373617,
          2.452787836963175,
          2.458352831022994,
          2.4636851286621675,
          2.4687990260509345,
          2.4737076717757986
         ],
         "yaxis": "y2"
        },
        {
         "hovertemplate": "variable=diy_hardware_profit_yields_pct<br>subset=0<br>eth_price=%{x}<br>value=%{y}<extra></extra>",
         "legendgroup": "diy_hardware_profit_yields_pct",
         "line": {
          "color": "#FF7F0E",
          "dash": "solid"
         },
         "mode": "lines",
         "name": "diy_hardware Profit Yields",
         "orientation": "v",
         "showlegend": true,
         "type": "scatter",
         "x": [
          25,
          55.102040816326536,
          85.20408163265307,
          115.3061224489796,
          145.40816326530614,
          175.51020408163265,
          205.6122448979592,
          235.71428571428572,
          265.8163265306123,
          295.9183673469388,
          326.0204081632653,
          356.12244897959187,
          386.2244897959184,
          416.32653061224494,
          446.42857142857144,
          476.530612244898,
          506.6326530612245,
          536.7346938775511,
          566.8367346938776,
          596.9387755102041,
          627.0408163265306,
          657.1428571428572,
          687.2448979591837,
          717.3469387755102,
          747.4489795918367,
          777.5510204081633,
          807.6530612244899,
          837.7551020408164,
          867.8571428571429,
          897.9591836734694,
          928.061224489796,
          958.1632653061225,
          988.265306122449,
          1018.3673469387755,
          1048.4693877551022,
          1078.5714285714287,
          1108.6734693877552,
          1138.7755102040817,
          1168.8775510204082,
          1198.9795918367347,
          1229.0816326530612,
          1259.1836734693877,
          1289.2857142857144,
          1319.387755102041,
          1349.4897959183675,
          1379.591836734694,
          1409.6938775510205,
          1439.795918367347,
          1469.8979591836735,
          1500
         ],
         "xaxis": "x",
         "y": [
          7.350145259899045,
          15.206705445084229,
          17.51192370301282,
          18.613532428040642,
          19.259036487969215,
          19.683117643619973,
          19.983026153199294,
          20.20633465383844,
          20.379066565081388,
          20.5166564667956,
          20.628838530634567,
          20.72205571835177,
          20.800742353690328,
          20.868050284408845,
          20.926281259899042,
          20.97715543120525,
          21.021984132003773,
          21.06178451845418,
          21.097357681141172,
          21.129343123146906,
          21.15825754631076,
          21.184522977290346,
          21.208487501918345,
          21.230440779102455,
          21.25062580597413,
          21.269247950187754,
          21.286481962362718,
          21.302477476707814,
          21.317363366894927,
          21.331251225808135,
          21.34423816809036,
          21.35640910441448,
          21.367838600115874,
          21.378592404187618,
          21.388728714886877,
          21.398299233408977,
          21.40735004590917,
          21.41592236563381,
          21.424053160379184,
          21.43177568543096,
          21.43911993818879,
          21.44611304758138,
          21.452779608929514,
          21.459141972969423,
          21.46522049619394,
          21.471033758419754,
          21.47659875247957,
          21.481931050118742,
          21.487044947507513,
          21.491953593232374
         ],
         "yaxis": "y"
        },
        {
         "hovertemplate": "variable=diy_hardware_profit_yields_pct<br>subset=1<br>eth_price=%{x}<br>value=%{y}<extra></extra>",
         "legendgroup": "diy_hardware_profit_yields_pct",
         "line": {
          "color": "#FF7F0E",
          "dash": "solid"
         },
         "mode": "lines",
         "name": "diy_hardware Profit Yields",
         "orientation": "v",
         "showlegend": false,
         "type": "scatter",
         "x": [
          25,
          55.102040816326536,
          85.20408163265307,
          115.3061224489796,
          145.40816326530614,
          175.51020408163265,
          205.6122448979592,
          235.71428571428572,
          265.8163265306123,
          295.9183673469388,
          326.0204081632653,
          356.12244897959187,
          386.2244897959184,
          416.32653061224494,
          446.42857142857144,
          476.530612244898,
          506.6326530612245,
          536.7346938775511,
          566.8367346938776,
          596.9387755102041,
          627.0408163265306,
          657.1428571428572,
          687.2448979591837,
          717.3469387755102,
          747.4489795918367,
          777.5510204081633,
          807.6530612244899,
          837.7551020408164,
          867.8571428571429,
          897.9591836734694,
          928.061224489796,
          958.1632653061225,
          988.265306122449,
          1018.3673469387755,
          1048.4693877551022,
          1078.5714285714287,
          1108.6734693877552,
          1138.7755102040817,
          1168.8775510204082,
          1198.9795918367347,
          1229.0816326530612,
          1259.1836734693877,
          1289.2857142857144,
          1319.387755102041,
          1349.4897959183675,
          1379.591836734694,
          1409.6938775510205,
          1439.795918367347,
          1469.8979591836735,
          1500
         ],
         "xaxis": "x2",
         "y": [
          -11.668100661557537,
          -3.8115404763723495,
          -1.5063222184437621,
          -0.40471349341594226,
          0.24079056651264058,
          0.664871722163395,
          0.964780231742713,
          1.188088732381859,
          1.360820643624807,
          1.4984105453390166,
          1.6105926091779892,
          1.7038097968951869,
          1.7824964322337462,
          1.849804362952269,
          1.9080353384424649,
          1.9589095097486748,
          2.0037382105471977,
          2.043538596997598,
          2.079111759684589,
          2.1110972016903284,
          2.1400116248541816,
          2.166277055833769,
          2.1902415804617674,
          2.212194857645879,
          2.23237988451755,
          2.251002028731179,
          2.2682360409061415,
          2.284231555251235,
          2.2991174454383496,
          2.3130053043515555,
          2.325992246633779,
          2.3381631829579073,
          2.349592678659295,
          2.360346482731042,
          2.370482793430299,
          2.3800533119523988,
          2.3891041244525892,
          2.3976764441772316,
          2.4058072389226046,
          2.41352976397438,
          2.4208740167322116,
          2.427867126124798,
          2.4345336874729355,
          2.4408960515128437,
          2.4469745747373612,
          2.452787836963175,
          2.458352831022993,
          2.463685128662167,
          2.468799026050934,
          2.473707671775798
         ],
         "yaxis": "y2"
        },
        {
         "hovertemplate": "variable=diy_cloud_profit_yields_pct<br>subset=0<br>eth_price=%{x}<br>value=%{y}<extra></extra>",
         "legendgroup": "diy_cloud_profit_yields_pct",
         "line": {
          "color": "#2CA02C",
          "dash": "solid"
         },
         "mode": "lines",
         "name": "diy_cloud Profit Yields",
         "orientation": "v",
         "showlegend": true,
         "type": "scatter",
         "x": [
          25,
          55.102040816326536,
          85.20408163265307,
          115.3061224489796,
          145.40816326530614,
          175.51020408163265,
          205.6122448979592,
          235.71428571428572,
          265.8163265306123,
          295.9183673469388,
          326.0204081632653,
          356.12244897959187,
          386.2244897959184,
          416.32653061224494,
          446.42857142857144,
          476.530612244898,
          506.6326530612245,
          536.7346938775511,
          566.8367346938776,
          596.9387755102041,
          627.0408163265306,
          657.1428571428572,
          687.2448979591837,
          717.3469387755102,
          747.4489795918367,
          777.5510204081633,
          807.6530612244899,
          837.7551020408164,
          867.8571428571429,
          897.9591836734694,
          928.061224489796,
          958.1632653061225,
          988.265306122449,
          1018.3673469387755,
          1048.4693877551022,
          1078.5714285714287,
          1108.6734693877552,
          1138.7755102040817,
          1168.8775510204082,
          1198.9795918367347,
          1229.0816326530612,
          1259.1836734693877,
          1289.2857142857144,
          1319.387755102041,
          1349.4897959183675,
          1379.591836734694,
          1409.6938775510205,
          1439.795918367347,
          1469.8979591836735,
          1500
         ],
         "xaxis": "x",
         "y": [
          18.958070259899046,
          20.473264009899044,
          20.91784181678527,
          21.130294928040637,
          21.25478499674115,
          21.336572076759513,
          21.39441157503552,
          21.4374782144445,
          21.470790797327066,
          21.497325992657665,
          21.518961104969467,
          21.536938705457782,
          21.552113985130223,
          21.56509480034022,
          21.576325059899045,
          21.586136507222385,
          21.594782042376387,
          21.602457831191817,
          21.609318369710024,
          21.61548699066827,
          21.62106334370702,
          21.626128819681654,
          21.630750549431337,
          21.634984395745416,
          21.638877222356378,
          21.642468635883297,
          21.64579233823132,
          21.64887718742645,
          21.65174803767682,
          21.654426410467224,
          21.656931035050224,
          21.659278287055592,
          21.66148254694086,
          21.663556494868985,
          21.665511354789555,
          21.66735709764739,
          21.669102611486707,
          21.670755844576462,
          21.672323926420216,
          21.67381327053734,
          21.675229662140634,
          21.676578333237778,
          21.677864027212063,
          21.679091054562612,
          21.68026334118449,
          21.681384470328037,
          21.68245771918243,
          21.683486090869984,
          21.68447234250925,
          21.685419009899046
         ],
         "yaxis": "y"
        },
        {
         "hovertemplate": "variable=diy_cloud_profit_yields_pct<br>subset=1<br>eth_price=%{x}<br>value=%{y}<extra></extra>",
         "legendgroup": "diy_cloud_profit_yields_pct",
         "line": {
          "color": "#2CA02C",
          "dash": "solid"
         },
         "mode": "lines",
         "name": "diy_cloud Profit Yields",
         "orientation": "v",
         "showlegend": false,
         "type": "scatter",
         "x": [
          25,
          55.102040816326536,
          85.20408163265307,
          115.3061224489796,
          145.40816326530614,
          175.51020408163265,
          205.6122448979592,
          235.71428571428572,
          265.8163265306123,
          295.9183673469388,
          326.0204081632653,
          356.12244897959187,
          386.2244897959184,
          416.32653061224494,
          446.42857142857144,
          476.530612244898,
          506.6326530612245,
          536.7346938775511,
          566.8367346938776,
          596.9387755102041,
          627.0408163265306,
          657.1428571428572,
          687.2448979591837,
          717.3469387755102,
          747.4489795918367,
          777.5510204081633,
          807.6530612244899,
          837.7551020408164,
          867.8571428571429,
          897.9591836734694,
          928.061224489796,
          958.1632653061225,
          988.265306122449,
          1018.3673469387755,
          1048.4693877551022,
          1078.5714285714287,
          1108.6734693877552,
          1138.7755102040817,
          1168.8775510204082,
          1198.9795918367347,
          1229.0816326530612,
          1259.1836734693877,
          1289.2857142857144,
          1319.387755102041,
          1349.4897959183675,
          1379.591836734694,
          1409.6938775510205,
          1439.795918367347,
          1469.8979591836735,
          1500
         ],
         "xaxis": "x2",
         "y": [
          -0.060175661557535384,
          1.4550180884424648,
          1.8995958953286929,
          2.112049006584058,
          2.2365390752845706,
          2.31832615530293,
          2.3761656535789415,
          2.4192322929879198,
          2.452544875870488,
          2.479080071201086,
          2.5007151835128876,
          2.5186927840012046,
          2.5338680636736406,
          2.5468488788836416,
          2.558079138442465,
          2.5678905857658063,
          2.576536120919806,
          2.584211909735241,
          2.5910724482534464,
          2.5972410692116954,
          2.6028174222504386,
          2.6078828982250735,
          2.6125046279747592,
          2.6167384742888378,
          2.620631300899803,
          2.6242227144267174,
          2.627546416774746,
          2.6306312659698707,
          2.6335021162202428,
          2.6361804890106475,
          2.638685113593647,
          2.641032365599014,
          2.643236625484282,
          2.645310573412405,
          2.6472654333329766,
          2.6491111761908095,
          2.6508566900301322,
          2.6525099231198843,
          2.6540780049636346,
          2.655567349080763,
          2.6569837406840593,
          2.6583324117812004,
          2.6596181057554844,
          2.6608451331060383,
          2.6620174197279094,
          2.663138548871459,
          2.6642117977258524,
          2.6652401694134076,
          2.66622642105267,
          2.667173088442465
         ],
         "yaxis": "y2"
        },
        {
         "hovertemplate": "variable=pool_staas_profit_yields_pct<br>subset=0<br>eth_price=%{x}<br>value=%{y}<extra></extra>",
         "legendgroup": "pool_staas_profit_yields_pct",
         "line": {
          "color": "#D62728",
          "dash": "solid"
         },
         "mode": "lines",
         "name": "pool_staas Profit Yields",
         "orientation": "v",
         "showlegend": true,
         "type": "scatter",
         "x": [
          25,
          55.102040816326536,
          85.20408163265307,
          115.3061224489796,
          145.40816326530614,
          175.51020408163265,
          205.6122448979592,
          235.71428571428572,
          265.8163265306123,
          295.9183673469388,
          326.0204081632653,
          356.12244897959187,
          386.2244897959184,
          416.32653061224494,
          446.42857142857144,
          476.530612244898,
          506.6326530612245,
          536.7346938775511,
          566.8367346938776,
          596.9387755102041,
          627.0408163265306,
          657.1428571428572,
          687.2448979591837,
          717.3469387755102,
          747.4489795918367,
          777.5510204081633,
          807.6530612244899,
          837.7551020408164,
          867.8571428571429,
          897.9591836734694,
          928.061224489796,
          958.1632653061225,
          988.265306122449,
          1018.3673469387755,
          1048.4693877551022,
          1078.5714285714287,
          1108.6734693877552,
          1138.7755102040817,
          1168.8775510204082,
          1198.9795918367347,
          1229.0816326530612,
          1259.1836734693877,
          1289.2857142857144,
          1319.387755102041,
          1349.4897959183675,
          1379.591836734694,
          1409.6938775510205,
          1439.795918367347,
          1469.8979591836735,
          1500
         ],
         "xaxis": "x",
         "y": [
          19.123847828711156,
          19.123847828711156,
          19.123847828711156,
          19.12384782871116,
          19.12384782871116,
          19.12384782871116,
          19.12384782871116,
          19.123847828711156,
          19.12384782871116,
          19.12384782871116,
          19.123847828711156,
          19.12384782871116,
          19.123847828711156,
          19.123847828711156,
          19.123847828711156,
          19.12384782871116,
          19.123847828711156,
          19.12384782871116,
          19.123847828711156,
          19.123847828711156,
          19.12384782871116,
          19.123847828711156,
          19.123847828711163,
          19.123847828711156,
          19.123847828711156,
          19.123847828711156,
          19.123847828711156,
          19.123847828711156,
          19.12384782871116,
          19.12384782871116,
          19.12384782871116,
          19.12384782871116,
          19.123847828711156,
          19.12384782871116,
          19.123847828711156,
          19.123847828711156,
          19.123847828711156,
          19.12384782871116,
          19.12384782871116,
          19.12384782871116,
          19.123847828711156,
          19.12384782871116,
          19.123847828711156,
          19.12384782871116,
          19.123847828711163,
          19.123847828711156,
          19.12384782871116,
          19.12384782871116,
          19.123847828711156,
          19.123847828711156
         ],
         "yaxis": "y"
        },
        {
         "hovertemplate": "variable=pool_staas_profit_yields_pct<br>subset=1<br>eth_price=%{x}<br>value=%{y}<extra></extra>",
         "legendgroup": "pool_staas_profit_yields_pct",
         "line": {
          "color": "#D62728",
          "dash": "solid"
         },
         "mode": "lines",
         "name": "pool_staas Profit Yields",
         "orientation": "v",
         "showlegend": false,
         "type": "scatter",
         "x": [
          25,
          55.102040816326536,
          85.20408163265307,
          115.3061224489796,
          145.40816326530614,
          175.51020408163265,
          205.6122448979592,
          235.71428571428572,
          265.8163265306123,
          295.9183673469388,
          326.0204081632653,
          356.12244897959187,
          386.2244897959184,
          416.32653061224494,
          446.42857142857144,
          476.530612244898,
          506.6326530612245,
          536.7346938775511,
          566.8367346938776,
          596.9387755102041,
          627.0408163265306,
          657.1428571428572,
          687.2448979591837,
          717.3469387755102,
          747.4489795918367,
          777.5510204081633,
          807.6530612244899,
          837.7551020408164,
          867.8571428571429,
          897.9591836734694,
          928.061224489796,
          958.1632653061225,
          988.265306122449,
          1018.3673469387755,
          1048.4693877551022,
          1078.5714285714287,
          1108.6734693877552,
          1138.7755102040817,
          1168.8775510204082,
          1198.9795918367347,
          1229.0816326530612,
          1259.1836734693877,
          1289.2857142857144,
          1319.387755102041,
          1349.4897959183675,
          1379.591836734694,
          1409.6938775510205,
          1439.795918367347,
          1469.8979591836735,
          1500
         ],
         "xaxis": "x2",
         "y": [
          2.3877914178293693,
          2.3877914178293698,
          2.3877914178293698,
          2.3877914178293693,
          2.3877914178293693,
          2.3877914178293698,
          2.3877914178293693,
          2.3877914178293698,
          2.3877914178293698,
          2.3877914178293698,
          2.3877914178293693,
          2.3877914178293698,
          2.3877914178293693,
          2.3877914178293698,
          2.3877914178293693,
          2.3877914178293693,
          2.3877914178293693,
          2.3877914178293698,
          2.3877914178293693,
          2.3877914178293698,
          2.3877914178293698,
          2.3877914178293693,
          2.3877914178293698,
          2.3877914178293698,
          2.3877914178293693,
          2.3877914178293698,
          2.3877914178293698,
          2.3877914178293693,
          2.3877914178293698,
          2.3877914178293698,
          2.3877914178293698,
          2.3877914178293698,
          2.3877914178293693,
          2.3877914178293693,
          2.3877914178293693,
          2.3877914178293698,
          2.3877914178293693,
          2.3877914178293698,
          2.3877914178293693,
          2.3877914178293698,
          2.3877914178293693,
          2.3877914178293698,
          2.3877914178293698,
          2.3877914178293698,
          2.3877914178293698,
          2.3877914178293693,
          2.3877914178293693,
          2.3877914178293693,
          2.3877914178293693,
          2.3877914178293698
         ],
         "yaxis": "y2"
        },
        {
         "hovertemplate": "variable=pool_hardware_profit_yields_pct<br>subset=0<br>eth_price=%{x}<br>value=%{y}<extra></extra>",
         "legendgroup": "pool_hardware_profit_yields_pct",
         "line": {
          "color": "#9467BD",
          "dash": "solid"
         },
         "mode": "lines",
         "name": "pool_hardware Profit Yields",
         "orientation": "v",
         "showlegend": true,
         "type": "scatter",
         "x": [
          25,
          55.102040816326536,
          85.20408163265307,
          115.3061224489796,
          145.40816326530614,
          175.51020408163265,
          205.6122448979592,
          235.71428571428572,
          265.8163265306123,
          295.9183673469388,
          326.0204081632653,
          356.12244897959187,
          386.2244897959184,
          416.32653061224494,
          446.42857142857144,
          476.530612244898,
          506.6326530612245,
          536.7346938775511,
          566.8367346938776,
          596.9387755102041,
          627.0408163265306,
          657.1428571428572,
          687.2448979591837,
          717.3469387755102,
          747.4489795918367,
          777.5510204081633,
          807.6530612244899,
          837.7551020408164,
          867.8571428571429,
          897.9591836734694,
          928.061224489796,
          958.1632653061225,
          988.265306122449,
          1018.3673469387755,
          1048.4693877551022,
          1078.5714285714287,
          1108.6734693877552,
          1138.7755102040817,
          1168.8775510204082,
          1198.9795918367347,
          1229.0816326530612,
          1259.1836734693877,
          1289.2857142857144,
          1319.387755102041,
          1349.4897959183675,
          1379.591836734694,
          1409.6938775510205,
          1439.795918367347,
          1469.8979591836735,
          1500
         ],
         "xaxis": "x",
         "y": [
          14.540895259899047,
          18.469175352491636,
          19.621784481455933,
          20.172588843969844,
          20.495340873934133,
          20.70738145175951,
          20.857335706549172,
          20.968989956868743,
          21.055355912490217,
          21.124150863347325,
          21.18024189526681,
          21.22685048912541,
          21.266193806794682,
          21.299847772153946,
          21.328963259899044,
          21.35440034555215,
          21.376814695951413,
          21.39671488917661,
          21.414501470520104,
          21.43049419152298,
          21.444951403104902,
          21.4580841185947,
          21.470066380908698,
          21.48104301950075,
          21.491135532936585,
          21.500446605043404,
          21.509063611130887,
          21.517061368303434,
          21.524504313396992,
          21.531448242853592,
          21.5379417139947,
          21.544027182156768,
          21.549741930007464,
          21.555118832043334,
          21.560186987392964,
          21.564972246654015,
          21.56949765290411,
          21.573783812766433,
          21.577849210139117,
          21.581710472665,
          21.585382599043918,
          21.588879153740212,
          21.592212434414286,
          21.59539361643424,
          21.5984328780465,
          21.601339509159402,
          21.604122006189314,
          21.606788155008896,
          21.60934510370328,
          21.611799426565717
         ],
         "yaxis": "y"
        },
        {
         "hovertemplate": "variable=pool_hardware_profit_yields_pct<br>subset=1<br>eth_price=%{x}<br>value=%{y}<extra></extra>",
         "legendgroup": "pool_hardware_profit_yields_pct",
         "line": {
          "color": "#9467BD",
          "dash": "solid"
         },
         "mode": "lines",
         "name": "pool_hardware Profit Yields",
         "orientation": "v",
         "showlegend": false,
         "type": "scatter",
         "x": [
          25,
          55.102040816326536,
          85.20408163265307,
          115.3061224489796,
          145.40816326530614,
          175.51020408163265,
          205.6122448979592,
          235.71428571428572,
          265.8163265306123,
          295.9183673469388,
          326.0204081632653,
          356.12244897959187,
          386.2244897959184,
          416.32653061224494,
          446.42857142857144,
          476.530612244898,
          506.6326530612245,
          536.7346938775511,
          566.8367346938776,
          596.9387755102041,
          627.0408163265306,
          657.1428571428572,
          687.2448979591837,
          717.3469387755102,
          747.4489795918367,
          777.5510204081633,
          807.6530612244899,
          837.7551020408164,
          867.8571428571429,
          897.9591836734694,
          928.061224489796,
          958.1632653061225,
          988.265306122449,
          1018.3673469387755,
          1048.4693877551022,
          1078.5714285714287,
          1108.6734693877552,
          1138.7755102040817,
          1168.8775510204082,
          1198.9795918367347,
          1229.0816326530612,
          1259.1836734693877,
          1289.2857142857144,
          1319.387755102041,
          1349.4897959183675,
          1379.591836734694,
          1409.6938775510205,
          1439.795918367347,
          1469.8979591836735,
          1500
         ],
         "xaxis": "x2",
         "y": [
          -4.477350661557534,
          -0.5490705689649411,
          0.6035385599993522,
          1.1543429225132622,
          1.4770949524775536,
          1.6891355303029307,
          1.8390897850925896,
          1.9507440354121626,
          2.037109991033636,
          2.1059049418907416,
          2.1619959738102277,
          2.208604567668827,
          2.2479478853381063,
          2.2816018506973683,
          2.3107173384424655,
          2.3361544240955703,
          2.3585687744948323,
          2.378468967720032,
          2.396255549063528,
          2.412248270066397,
          2.426705481648324,
          2.439838197138118,
          2.4518204594521165,
          2.4627970980441725,
          2.472889611480008,
          2.4822006835868233,
          2.490817689674304,
          2.4988154468468506,
          2.506258391940408,
          2.5132023213970114,
          2.5196957925381227,
          2.5257812607001866,
          2.531496008550881,
          2.536872910586754,
          2.5419410659363826,
          2.5467263251974326,
          2.5512517314475276,
          2.5555378913098488,
          2.5596032886825353,
          2.5634645512084226,
          2.567136677587339,
          2.5706332322836323,
          2.5739665129577007,
          2.577147694977655,
          2.5801869565899134,
          2.583093587702821,
          2.5858760847327296,
          2.5885422335523165,
          2.5910991822466998,
          2.5935535051091323
         ],
         "yaxis": "y2"
        },
        {
         "hovertemplate": "variable=pool_cloud_profit_yields_pct<br>subset=0<br>eth_price=%{x}<br>value=%{y}<extra></extra>",
         "legendgroup": "pool_cloud_profit_yields_pct",
         "line": {
          "color": "#8C564B",
          "dash": "solid"
         },
         "mode": "lines",
         "name": "pool_cloud Profit Yields",
         "orientation": "v",
         "showlegend": true,
         "type": "scatter",
         "x": [
          25,
          55.102040816326536,
          85.20408163265307,
          115.3061224489796,
          145.40816326530614,
          175.51020408163265,
          205.6122448979592,
          235.71428571428572,
          265.8163265306123,
          295.9183673469388,
          326.0204081632653,
          356.12244897959187,
          386.2244897959184,
          416.32653061224494,
          446.42857142857144,
          476.530612244898,
          506.6326530612245,
          536.7346938775511,
          566.8367346938776,
          596.9387755102041,
          627.0408163265306,
          657.1428571428572,
          687.2448979591837,
          717.3469387755102,
          747.4489795918367,
          777.5510204081633,
          807.6530612244899,
          837.7551020408164,
          867.8571428571429,
          897.9591836734694,
          928.061224489796,
          958.1632653061225,
          988.265306122449,
          1018.3673469387755,
          1048.4693877551022,
          1078.5714285714287,
          1108.6734693877552,
          1138.7755102040817,
          1168.8775510204082,
          1198.9795918367347,
          1229.0816326530612,
          1259.1836734693877,
          1289.2857142857144,
          1319.387755102041,
          1349.4897959183675,
          1379.591836734694,
          1409.6938775510205,
          1439.795918367347,
          1469.8979591836735,
          1500
         ],
         "xaxis": "x",
         "y": [
          7.761045259899045,
          15.393132296936082,
          17.63248717606671,
          18.702621366093737,
          19.329682452881503,
          19.74164700408509,
          20.032986699105,
          20.249914956868743,
          20.417711670647602,
          20.551370432312837,
          20.66034729432784,
          20.75090113382455,
          20.827339579582002,
          20.892724426565714,
          20.949291659899046,
          20.99871228345365,
          21.042260164229358,
          21.080923396781177,
          21.115480183391394,
          21.14655175562555,
          21.174640052413288,
          21.200155042507742,
          21.223434866432086,
          21.244760907125222,
          21.264369218943415,
          21.282459301893798,
          21.299200913720906,
          21.31473941337042,
          21.329199992409336,
          21.34269105535359,
          21.355306942142033,
          21.36713013742833,
          21.37823307610968,
          21.38867962863652,
          21.398526330458655,
          21.40782340559441,
          21.416615623451733,
          21.424943019755673,
          21.43284150607975,
          21.44034338755862,
          21.44747780452337,
          21.454271110790454,
          21.46074719895722,
          21.46692778116741,
          21.472832632299802,
          21.47847980131916,
          21.4838857955487,
          21.489065741826753,
          21.494033527861557,
          21.49880192656571
         ],
         "yaxis": "y"
        },
        {
         "hovertemplate": "variable=pool_cloud_profit_yields_pct<br>subset=1<br>eth_price=%{x}<br>value=%{y}<extra></extra>",
         "legendgroup": "pool_cloud_profit_yields_pct",
         "line": {
          "color": "#8C564B",
          "dash": "solid"
         },
         "mode": "lines",
         "name": "pool_cloud Profit Yields",
         "orientation": "v",
         "showlegend": false,
         "type": "scatter",
         "x": [
          25,
          55.102040816326536,
          85.20408163265307,
          115.3061224489796,
          145.40816326530614,
          175.51020408163265,
          205.6122448979592,
          235.71428571428572,
          265.8163265306123,
          295.9183673469388,
          326.0204081632653,
          356.12244897959187,
          386.2244897959184,
          416.32653061224494,
          446.42857142857144,
          476.530612244898,
          506.6326530612245,
          536.7346938775511,
          566.8367346938776,
          596.9387755102041,
          627.0408163265306,
          657.1428571428572,
          687.2448979591837,
          717.3469387755102,
          747.4489795918367,
          777.5510204081633,
          807.6530612244899,
          837.7551020408164,
          867.8571428571429,
          897.9591836734694,
          928.061224489796,
          958.1632653061225,
          988.265306122449,
          1018.3673469387755,
          1048.4693877551022,
          1078.5714285714287,
          1108.6734693877552,
          1138.7755102040817,
          1168.8775510204082,
          1198.9795918367347,
          1229.0816326530612,
          1259.1836734693877,
          1289.2857142857144,
          1319.387755102041,
          1349.4897959183675,
          1379.591836734694,
          1409.6938775510205,
          1439.795918367347,
          1469.8979591836735,
          1500
         ],
         "xaxis": "x2",
         "y": [
          -11.257200661557535,
          -3.625113624520497,
          -1.385758745389869,
          -0.3156245553628442,
          0.3114365314249217,
          0.7234010826285119,
          1.0147407776484207,
          1.2316690354121627,
          1.3994657491910258,
          1.5331245108562588,
          1.6421013728712603,
          1.7326552123679666,
          1.8090936581254249,
          1.874478505109132,
          1.9310457384424655,
          1.980466361997069,
          2.0240142427727776,
          2.0626774753245947,
          2.0972342619348145,
          2.128305834168961,
          2.1563941309567047,
          2.181909121051161,
          2.2051889449755016,
          2.226514985668639,
          2.246123297486834,
          2.2642133804372158,
          2.2809549922643226,
          2.2964934919138416,
          2.3109540709527536,
          2.3244451338970107,
          2.3370610206854563,
          2.3488842159717516,
          2.3599871546531004,
          2.37043370717994,
          2.380280409002076,
          2.3895774841378294,
          2.3983697019951578,
          2.4066970982990963,
          2.4145955846231724,
          2.4220974661020396,
          2.4292318830667905,
          2.436025189333875,
          2.442501277500637,
          2.4486818597108337,
          2.4545867108432216,
          2.460233879862584,
          2.4656398740921213,
          2.470819820370176,
          2.4757876064049786,
          2.4805560051091318
         ],
         "yaxis": "y2"
        },
        {
         "hovertemplate": "variable=staas_full_profit_yields_pct<br>subset=0<br>eth_price=%{x}<br>value=%{y}<extra></extra>",
         "legendgroup": "staas_full_profit_yields_pct",
         "line": {
          "color": "#E377C2",
          "dash": "solid"
         },
         "mode": "lines",
         "name": "staas_full Profit Yields",
         "orientation": "v",
         "showlegend": true,
         "type": "scatter",
         "x": [
          25,
          55.102040816326536,
          85.20408163265307,
          115.3061224489796,
          145.40816326530614,
          175.51020408163265,
          205.6122448979592,
          235.71428571428572,
          265.8163265306123,
          295.9183673469388,
          326.0204081632653,
          356.12244897959187,
          386.2244897959184,
          416.32653061224494,
          446.42857142857144,
          476.530612244898,
          506.6326530612245,
          536.7346938775511,
          566.8367346938776,
          596.9387755102041,
          627.0408163265306,
          657.1428571428572,
          687.2448979591837,
          717.3469387755102,
          747.4489795918367,
          777.5510204081633,
          807.6530612244899,
          837.7551020408164,
          867.8571428571429,
          897.9591836734694,
          928.061224489796,
          958.1632653061225,
          988.265306122449,
          1018.3673469387755,
          1048.4693877551022,
          1078.5714285714287,
          1108.6734693877552,
          1138.7755102040817,
          1168.8775510204082,
          1198.9795918367347,
          1229.0816326530612,
          1259.1836734693877,
          1289.2857142857144,
          1319.387755102041,
          1349.4897959183675,
          1379.591836734694,
          1409.6938775510205,
          1439.795918367347,
          1469.8979591836735,
          1500
         ],
         "xaxis": "x",
         "y": [
          18.471898470914187,
          18.471898470914187,
          18.471898470914187,
          18.47189847091419,
          18.47189847091419,
          18.47189847091419,
          18.471898470914187,
          18.471898470914187,
          18.471898470914187,
          18.471898470914187,
          18.47189847091419,
          18.471898470914187,
          18.47189847091419,
          18.471898470914187,
          18.47189847091419,
          18.471898470914187,
          18.47189847091419,
          18.471898470914187,
          18.471898470914187,
          18.47189847091419,
          18.47189847091419,
          18.471898470914187,
          18.47189847091419,
          18.471898470914187,
          18.471898470914187,
          18.471898470914187,
          18.47189847091419,
          18.471898470914187,
          18.47189847091419,
          18.471898470914187,
          18.471898470914187,
          18.47189847091419,
          18.47189847091419,
          18.471898470914187,
          18.471898470914187,
          18.47189847091419,
          18.471898470914187,
          18.471898470914187,
          18.47189847091419,
          18.47189847091419,
          18.47189847091419,
          18.471898470914187,
          18.471898470914187,
          18.471898470914187,
          18.471898470914187,
          18.471898470914187,
          18.47189847091419,
          18.47189847091419,
          18.471898470914187,
          18.471898470914187
         ],
         "yaxis": "y"
        },
        {
         "hovertemplate": "variable=staas_full_profit_yields_pct<br>subset=1<br>eth_price=%{x}<br>value=%{y}<extra></extra>",
         "legendgroup": "staas_full_profit_yields_pct",
         "line": {
          "color": "#E377C2",
          "dash": "solid"
         },
         "mode": "lines",
         "name": "staas_full Profit Yields",
         "orientation": "v",
         "showlegend": false,
         "type": "scatter",
         "x": [
          25,
          55.102040816326536,
          85.20408163265307,
          115.3061224489796,
          145.40816326530614,
          175.51020408163265,
          205.6122448979592,
          235.71428571428572,
          265.8163265306123,
          295.9183673469388,
          326.0204081632653,
          356.12244897959187,
          386.2244897959184,
          416.32653061224494,
          446.42857142857144,
          476.530612244898,
          506.6326530612245,
          536.7346938775511,
          566.8367346938776,
          596.9387755102041,
          627.0408163265306,
          657.1428571428572,
          687.2448979591837,
          717.3469387755102,
          747.4489795918367,
          777.5510204081633,
          807.6530612244899,
          837.7551020408164,
          867.8571428571429,
          897.9591836734694,
          928.061224489796,
          958.1632653061225,
          988.265306122449,
          1018.3673469387755,
          1048.4693877551022,
          1078.5714285714287,
          1108.6734693877552,
          1138.7755102040817,
          1168.8775510204082,
          1198.9795918367347,
          1229.0816326530612,
          1259.1836734693877,
          1289.2857142857144,
          1319.387755102041,
          1349.4897959183675,
          1379.591836734694,
          1409.6938775510205,
          1439.795918367347,
          1469.8979591836735,
          1500
         ],
         "xaxis": "x2",
         "y": [
          2.306389437676095,
          2.3063894376760956,
          2.306389437676095,
          2.3063894376760956,
          2.306389437676095,
          2.306389437676095,
          2.3063894376760956,
          2.3063894376760956,
          2.306389437676095,
          2.3063894376760956,
          2.3063894376760956,
          2.306389437676095,
          2.306389437676095,
          2.306389437676095,
          2.3063894376760956,
          2.306389437676095,
          2.306389437676095,
          2.306389437676095,
          2.306389437676095,
          2.3063894376760956,
          2.3063894376760956,
          2.306389437676095,
          2.306389437676095,
          2.306389437676095,
          2.3063894376760956,
          2.306389437676095,
          2.306389437676095,
          2.306389437676095,
          2.306389437676095,
          2.306389437676095,
          2.306389437676095,
          2.306389437676095,
          2.3063894376760956,
          2.306389437676095,
          2.3063894376760956,
          2.306389437676095,
          2.3063894376760956,
          2.306389437676095,
          2.3063894376760956,
          2.306389437676095,
          2.306389437676095,
          2.306389437676095,
          2.3063894376760956,
          2.306389437676095,
          2.3063894376760956,
          2.306389437676095,
          2.3063894376760956,
          2.306389437676095,
          2.3063894376760956,
          2.306389437676095
         ],
         "yaxis": "y2"
        },
        {
         "hovertemplate": "variable=staas_self_custodied_profit_yields_pct<br>subset=0<br>eth_price=%{x}<br>value=%{y}<extra></extra>",
         "legendgroup": "staas_self_custodied_profit_yields_pct",
         "line": {
          "color": "#7F7F7F",
          "dash": "solid"
         },
         "mode": "lines",
         "name": "staas_self_custodied Profit Yields",
         "orientation": "v",
         "showlegend": true,
         "type": "scatter",
         "x": [
          25,
          55.102040816326536,
          85.20408163265307,
          115.3061224489796,
          145.40816326530614,
          175.51020408163265,
          205.6122448979592,
          235.71428571428572,
          265.8163265306123,
          295.9183673469388,
          326.0204081632653,
          356.12244897959187,
          386.2244897959184,
          416.32653061224494,
          446.42857142857144,
          476.530612244898,
          506.6326530612245,
          536.7346938775511,
          566.8367346938776,
          596.9387755102041,
          627.0408163265306,
          657.1428571428572,
          687.2448979591837,
          717.3469387755102,
          747.4489795918367,
          777.5510204081633,
          807.6530612244899,
          837.7551020408164,
          867.8571428571429,
          897.9591836734694,
          928.061224489796,
          958.1632653061225,
          988.265306122449,
          1018.3673469387755,
          1048.4693877551022,
          1078.5714285714287,
          1108.6734693877552,
          1138.7755102040817,
          1168.8775510204082,
          1198.9795918367347,
          1229.0816326530612,
          1259.1836734693877,
          1289.2857142857144,
          1319.387755102041,
          1349.4897959183675,
          1379.591836734694,
          1409.6938775510205,
          1439.795918367347,
          1469.8979591836735,
          1500
         ],
         "xaxis": "x",
         "y": [
          19.12384782871116,
          19.123847828711156,
          19.123847828711156,
          19.123847828711156,
          19.12384782871116,
          19.12384782871116,
          19.123847828711156,
          19.123847828711156,
          19.123847828711156,
          19.12384782871116,
          19.12384782871116,
          19.12384782871116,
          19.12384782871116,
          19.12384782871116,
          19.12384782871116,
          19.12384782871116,
          19.12384782871116,
          19.123847828711156,
          19.123847828711156,
          19.123847828711163,
          19.123847828711163,
          19.123847828711156,
          19.123847828711163,
          19.12384782871116,
          19.12384782871116,
          19.12384782871116,
          19.123847828711163,
          19.123847828711156,
          19.123847828711163,
          19.123847828711156,
          19.123847828711156,
          19.12384782871116,
          19.12384782871116,
          19.123847828711156,
          19.12384782871116,
          19.123847828711156,
          19.123847828711156,
          19.123847828711156,
          19.123847828711156,
          19.123847828711156,
          19.123847828711163,
          19.123847828711156,
          19.123847828711156,
          19.123847828711156,
          19.123847828711156,
          19.123847828711156,
          19.12384782871116,
          19.123847828711156,
          19.12384782871116,
          19.123847828711156
         ],
         "yaxis": "y"
        },
        {
         "hovertemplate": "variable=staas_self_custodied_profit_yields_pct<br>subset=1<br>eth_price=%{x}<br>value=%{y}<extra></extra>",
         "legendgroup": "staas_self_custodied_profit_yields_pct",
         "line": {
          "color": "#7F7F7F",
          "dash": "solid"
         },
         "mode": "lines",
         "name": "staas_self_custodied Profit Yields",
         "orientation": "v",
         "showlegend": false,
         "type": "scatter",
         "x": [
          25,
          55.102040816326536,
          85.20408163265307,
          115.3061224489796,
          145.40816326530614,
          175.51020408163265,
          205.6122448979592,
          235.71428571428572,
          265.8163265306123,
          295.9183673469388,
          326.0204081632653,
          356.12244897959187,
          386.2244897959184,
          416.32653061224494,
          446.42857142857144,
          476.530612244898,
          506.6326530612245,
          536.7346938775511,
          566.8367346938776,
          596.9387755102041,
          627.0408163265306,
          657.1428571428572,
          687.2448979591837,
          717.3469387755102,
          747.4489795918367,
          777.5510204081633,
          807.6530612244899,
          837.7551020408164,
          867.8571428571429,
          897.9591836734694,
          928.061224489796,
          958.1632653061225,
          988.265306122449,
          1018.3673469387755,
          1048.4693877551022,
          1078.5714285714287,
          1108.6734693877552,
          1138.7755102040817,
          1168.8775510204082,
          1198.9795918367347,
          1229.0816326530612,
          1259.1836734693877,
          1289.2857142857144,
          1319.387755102041,
          1349.4897959183675,
          1379.591836734694,
          1409.6938775510205,
          1439.795918367347,
          1469.8979591836735,
          1500
         ],
         "xaxis": "x2",
         "y": [
          2.3877914178293698,
          2.3877914178293693,
          2.3877914178293698,
          2.3877914178293698,
          2.3877914178293693,
          2.3877914178293698,
          2.3877914178293698,
          2.3877914178293698,
          2.3877914178293693,
          2.3877914178293698,
          2.3877914178293698,
          2.387791417829369,
          2.3877914178293698,
          2.3877914178293693,
          2.3877914178293698,
          2.3877914178293693,
          2.3877914178293693,
          2.3877914178293693,
          2.3877914178293693,
          2.3877914178293698,
          2.3877914178293698,
          2.3877914178293693,
          2.3877914178293693,
          2.3877914178293698,
          2.3877914178293698,
          2.3877914178293693,
          2.3877914178293693,
          2.3877914178293693,
          2.3877914178293698,
          2.3877914178293693,
          2.3877914178293693,
          2.3877914178293698,
          2.3877914178293698,
          2.3877914178293693,
          2.3877914178293698,
          2.3877914178293693,
          2.3877914178293693,
          2.3877914178293698,
          2.3877914178293698,
          2.3877914178293693,
          2.3877914178293693,
          2.3877914178293693,
          2.3877914178293693,
          2.3877914178293698,
          2.3877914178293698,
          2.3877914178293698,
          2.3877914178293698,
          2.3877914178293693,
          2.3877914178293693,
          2.3877914178293693
         ],
         "yaxis": "y2"
        },
        {
         "hovertemplate": "variable=total_profit_yields_pct<br>subset=0<br>eth_price=%{x}<br>value=%{y}<extra></extra>",
         "legendgroup": "total_profit_yields_pct",
         "line": {
          "color": "#BCBD22",
          "dash": "solid"
         },
         "mode": "lines",
         "name": "Total Profit Yields",
         "orientation": "v",
         "showlegend": true,
         "type": "scatter",
         "x": [
          25,
          55.102040816326536,
          85.20408163265307,
          115.3061224489796,
          145.40816326530614,
          175.51020408163265,
          205.6122448979592,
          235.71428571428572,
          265.8163265306123,
          295.9183673469388,
          326.0204081632653,
          356.12244897959187,
          386.2244897959184,
          416.32653061224494,
          446.42857142857144,
          476.530612244898,
          506.6326530612245,
          536.7346938775511,
          566.8367346938776,
          596.9387755102041,
          627.0408163265306,
          657.1428571428572,
          687.2448979591837,
          717.3469387755102,
          747.4489795918367,
          777.5510204081633,
          807.6530612244899,
          837.7551020408164,
          867.8571428571429,
          897.9591836734694,
          928.061224489796,
          958.1632653061225,
          988.265306122449,
          1018.3673469387755,
          1048.4693877551022,
          1078.5714285714287,
          1108.6734693877552,
          1138.7755102040817,
          1168.8775510204082,
          1198.9795918367347,
          1229.0816326530612,
          1259.1836734693877,
          1289.2857142857144,
          1319.387755102041,
          1349.4897959183675,
          1379.591836734694,
          1409.6938775510205,
          1439.795918367347,
          1469.8979591836735,
          1500
         ],
         "xaxis": "x",
         "y": [
          14.310968618463487,
          17.84249242170423,
          18.878688028643126,
          19.373861150543135,
          19.664015225481034,
          19.854639704946045,
          19.989448580001948,
          20.089825751039246,
          20.16746874514295,
          20.22931540596349,
          20.279741243659107,
          20.321642369537983,
          20.35701201212267,
          20.387266926980637,
          20.413441750463488,
          20.43630969046563,
          20.456460191474566,
          20.474350465184017,
          20.49034060181182,
          20.5047180579934,
          20.517715091205556,
          20.529521402430877,
          20.540293456251163,
          20.55016145434542,
          20.55923462392424,
          20.567605277748264,
          20.575351966220907,
          20.58254194991903,
          20.589233157558137,
          20.59547575013962,
          20.601313380695487,
          20.606784216573175,
          20.611921774890952,
          20.6167556098212,
          20.621311881480516,
          20.6256138295562,
          20.629682169775037,
          20.633535427491267,
          20.637190219729312,
          20.64066149474008,
          20.643962736354727,
          20.6471061390267,
          20.650102758352684,
          20.652962640988623,
          20.65569493717804,
          20.658307998548544,
          20.660809463378435,
          20.663206331167245,
          20.665505028043494,
          20.66771146429682
         ],
         "yaxis": "y"
        },
        {
         "hovertemplate": "variable=total_profit_yields_pct<br>subset=1<br>eth_price=%{x}<br>value=%{y}<extra></extra>",
         "legendgroup": "total_profit_yields_pct",
         "line": {
          "color": "#BCBD22",
          "dash": "solid"
         },
         "mode": "lines",
         "name": "Total Profit Yields",
         "orientation": "v",
         "showlegend": false,
         "type": "scatter",
         "x": [
          25,
          55.102040816326536,
          85.20408163265307,
          115.3061224489796,
          145.40816326530614,
          175.51020408163265,
          205.6122448979592,
          235.71428571428572,
          265.8163265306123,
          295.9183673469388,
          326.0204081632653,
          356.12244897959187,
          386.2244897959184,
          416.32653061224494,
          446.42857142857144,
          476.530612244898,
          506.6326530612245,
          536.7346938775511,
          566.8367346938776,
          596.9387755102041,
          627.0408163265306,
          657.1428571428572,
          687.2448979591837,
          717.3469387755102,
          747.4489795918367,
          777.5510204081633,
          807.6530612244899,
          837.7551020408164,
          867.8571428571429,
          897.9591836734694,
          928.061224489796,
          958.1632653061225,
          988.265306122449,
          1018.3673469387755,
          1048.4693877551022,
          1078.5714285714287,
          1108.6734693877552,
          1138.7755102040817,
          1168.8775510204082,
          1198.9795918367347,
          1229.0816326530612,
          1259.1836734693877,
          1289.2857142857144,
          1319.387755102041,
          1349.4897959183675,
          1379.591836734694,
          1409.6938775510205,
          1439.795918367347,
          1469.8979591836735,
          1500
         ],
         "xaxis": "x2",
         "y": [
          -3.870474482449003,
          -0.3389506792082623,
          0.6972449277306376,
          1.1924180496306427,
          1.4825721245685402,
          1.6731966040335549,
          1.8080054790894589,
          1.9083826501267542,
          1.9860256442304596,
          2.0478723050509973,
          2.0982981427466143,
          2.1401992686254956,
          2.1755689112101786,
          2.2058238260681535,
          2.2319986495509965,
          2.254866589553138,
          2.275017090562074,
          2.292907364271529,
          2.308897500899331,
          2.3232749570809115,
          2.3362719902930635,
          2.3480783015183877,
          2.358850355338673,
          2.3687183534329312,
          2.3777915230117475,
          2.3861621768357733,
          2.393908865308419,
          2.4010988490065386,
          2.407790056645647,
          2.414032649227133,
          2.4198702797829927,
          2.425341115660688,
          2.4304786739784614,
          2.4353125089087118,
          2.4398687805680286,
          2.444170728643712,
          2.4482390688625477,
          2.4520923265787737,
          2.45574711881682,
          2.459218393827593,
          2.4625196354422383,
          2.4656630381142053,
          2.468659657440193,
          2.471519540076132,
          2.4742518362655526,
          2.476864897636056,
          2.479366362465944,
          2.481763230254753,
          2.4840619271310036,
          2.48626836338433
         ],
         "yaxis": "y2"
        }
       ],
       "layout": {
        "annotations": [
         {
          "font": {},
          "showarrow": false,
          "text": "ETH Staked = 524288 ETH",
          "x": 0.2375,
          "xanchor": "center",
          "xref": "paper",
          "y": 1,
          "yanchor": "bottom",
          "yref": "paper"
         },
         {
          "font": {},
          "showarrow": false,
          "text": "ETH Staked = 33600000 ETH",
          "x": 0.7625,
          "xanchor": "center",
          "xref": "paper",
          "y": 1,
          "yanchor": "bottom",
          "yref": "paper"
         }
        ],
        "autosize": true,
        "legend": {
         "title": {
          "text": ""
         },
         "tracegroupgap": 0
        },
        "margin": {
         "t": 60
        },
        "template": {
         "data": {
          "bar": [
           {
            "error_x": {
             "color": "rgb(36,36,36)"
            },
            "error_y": {
             "color": "rgb(36,36,36)"
            },
            "marker": {
             "line": {
              "color": "white",
              "width": 0.5
             }
            },
            "type": "bar"
           }
          ],
          "barpolar": [
           {
            "marker": {
             "line": {
              "color": "white",
              "width": 0.5
             }
            },
            "type": "barpolar"
           }
          ],
          "carpet": [
           {
            "aaxis": {
             "endlinecolor": "rgb(36,36,36)",
             "gridcolor": "white",
             "linecolor": "white",
             "minorgridcolor": "white",
             "startlinecolor": "rgb(36,36,36)"
            },
            "baxis": {
             "endlinecolor": "rgb(36,36,36)",
             "gridcolor": "white",
             "linecolor": "white",
             "minorgridcolor": "white",
             "startlinecolor": "rgb(36,36,36)"
            },
            "type": "carpet"
           }
          ],
          "choropleth": [
           {
            "colorbar": {
             "outlinewidth": 1,
             "tickcolor": "rgb(36,36,36)",
             "ticks": "outside"
            },
            "type": "choropleth"
           }
          ],
          "contour": [
           {
            "colorbar": {
             "outlinewidth": 1,
             "tickcolor": "rgb(36,36,36)",
             "ticks": "outside"
            },
            "colorscale": [
             [
              0,
              "#440154"
             ],
             [
              0.1111111111111111,
              "#482878"
             ],
             [
              0.2222222222222222,
              "#3e4989"
             ],
             [
              0.3333333333333333,
              "#31688e"
             ],
             [
              0.4444444444444444,
              "#26828e"
             ],
             [
              0.5555555555555556,
              "#1f9e89"
             ],
             [
              0.6666666666666666,
              "#35b779"
             ],
             [
              0.7777777777777778,
              "#6ece58"
             ],
             [
              0.8888888888888888,
              "#b5de2b"
             ],
             [
              1,
              "#fde725"
             ]
            ],
            "type": "contour"
           }
          ],
          "contourcarpet": [
           {
            "colorbar": {
             "outlinewidth": 1,
             "tickcolor": "rgb(36,36,36)",
             "ticks": "outside"
            },
            "type": "contourcarpet"
           }
          ],
          "heatmap": [
           {
            "colorbar": {
             "outlinewidth": 1,
             "tickcolor": "rgb(36,36,36)",
             "ticks": "outside"
            },
            "colorscale": [
             [
              0,
              "#440154"
             ],
             [
              0.1111111111111111,
              "#482878"
             ],
             [
              0.2222222222222222,
              "#3e4989"
             ],
             [
              0.3333333333333333,
              "#31688e"
             ],
             [
              0.4444444444444444,
              "#26828e"
             ],
             [
              0.5555555555555556,
              "#1f9e89"
             ],
             [
              0.6666666666666666,
              "#35b779"
             ],
             [
              0.7777777777777778,
              "#6ece58"
             ],
             [
              0.8888888888888888,
              "#b5de2b"
             ],
             [
              1,
              "#fde725"
             ]
            ],
            "type": "heatmap"
           }
          ],
          "heatmapgl": [
           {
            "colorbar": {
             "outlinewidth": 1,
             "tickcolor": "rgb(36,36,36)",
             "ticks": "outside"
            },
            "colorscale": [
             [
              0,
              "#440154"
             ],
             [
              0.1111111111111111,
              "#482878"
             ],
             [
              0.2222222222222222,
              "#3e4989"
             ],
             [
              0.3333333333333333,
              "#31688e"
             ],
             [
              0.4444444444444444,
              "#26828e"
             ],
             [
              0.5555555555555556,
              "#1f9e89"
             ],
             [
              0.6666666666666666,
              "#35b779"
             ],
             [
              0.7777777777777778,
              "#6ece58"
             ],
             [
              0.8888888888888888,
              "#b5de2b"
             ],
             [
              1,
              "#fde725"
             ]
            ],
            "type": "heatmapgl"
           }
          ],
          "histogram": [
           {
            "marker": {
             "line": {
              "color": "white",
              "width": 0.6
             }
            },
            "type": "histogram"
           }
          ],
          "histogram2d": [
           {
            "colorbar": {
             "outlinewidth": 1,
             "tickcolor": "rgb(36,36,36)",
             "ticks": "outside"
            },
            "colorscale": [
             [
              0,
              "#440154"
             ],
             [
              0.1111111111111111,
              "#482878"
             ],
             [
              0.2222222222222222,
              "#3e4989"
             ],
             [
              0.3333333333333333,
              "#31688e"
             ],
             [
              0.4444444444444444,
              "#26828e"
             ],
             [
              0.5555555555555556,
              "#1f9e89"
             ],
             [
              0.6666666666666666,
              "#35b779"
             ],
             [
              0.7777777777777778,
              "#6ece58"
             ],
             [
              0.8888888888888888,
              "#b5de2b"
             ],
             [
              1,
              "#fde725"
             ]
            ],
            "type": "histogram2d"
           }
          ],
          "histogram2dcontour": [
           {
            "colorbar": {
             "outlinewidth": 1,
             "tickcolor": "rgb(36,36,36)",
             "ticks": "outside"
            },
            "colorscale": [
             [
              0,
              "#440154"
             ],
             [
              0.1111111111111111,
              "#482878"
             ],
             [
              0.2222222222222222,
              "#3e4989"
             ],
             [
              0.3333333333333333,
              "#31688e"
             ],
             [
              0.4444444444444444,
              "#26828e"
             ],
             [
              0.5555555555555556,
              "#1f9e89"
             ],
             [
              0.6666666666666666,
              "#35b779"
             ],
             [
              0.7777777777777778,
              "#6ece58"
             ],
             [
              0.8888888888888888,
              "#b5de2b"
             ],
             [
              1,
              "#fde725"
             ]
            ],
            "type": "histogram2dcontour"
           }
          ],
          "mesh3d": [
           {
            "colorbar": {
             "outlinewidth": 1,
             "tickcolor": "rgb(36,36,36)",
             "ticks": "outside"
            },
            "type": "mesh3d"
           }
          ],
          "parcoords": [
           {
            "line": {
             "colorbar": {
              "outlinewidth": 1,
              "tickcolor": "rgb(36,36,36)",
              "ticks": "outside"
             }
            },
            "type": "parcoords"
           }
          ],
          "pie": [
           {
            "automargin": true,
            "type": "pie"
           }
          ],
          "scatter": [
           {
            "marker": {
             "colorbar": {
              "outlinewidth": 1,
              "tickcolor": "rgb(36,36,36)",
              "ticks": "outside"
             }
            },
            "type": "scatter"
           }
          ],
          "scatter3d": [
           {
            "line": {
             "colorbar": {
              "outlinewidth": 1,
              "tickcolor": "rgb(36,36,36)",
              "ticks": "outside"
             }
            },
            "marker": {
             "colorbar": {
              "outlinewidth": 1,
              "tickcolor": "rgb(36,36,36)",
              "ticks": "outside"
             }
            },
            "type": "scatter3d"
           }
          ],
          "scattercarpet": [
           {
            "marker": {
             "colorbar": {
              "outlinewidth": 1,
              "tickcolor": "rgb(36,36,36)",
              "ticks": "outside"
             }
            },
            "type": "scattercarpet"
           }
          ],
          "scattergeo": [
           {
            "marker": {
             "colorbar": {
              "outlinewidth": 1,
              "tickcolor": "rgb(36,36,36)",
              "ticks": "outside"
             }
            },
            "type": "scattergeo"
           }
          ],
          "scattergl": [
           {
            "marker": {
             "colorbar": {
              "outlinewidth": 1,
              "tickcolor": "rgb(36,36,36)",
              "ticks": "outside"
             }
            },
            "type": "scattergl"
           }
          ],
          "scattermapbox": [
           {
            "marker": {
             "colorbar": {
              "outlinewidth": 1,
              "tickcolor": "rgb(36,36,36)",
              "ticks": "outside"
             }
            },
            "type": "scattermapbox"
           }
          ],
          "scatterpolar": [
           {
            "marker": {
             "colorbar": {
              "outlinewidth": 1,
              "tickcolor": "rgb(36,36,36)",
              "ticks": "outside"
             }
            },
            "type": "scatterpolar"
           }
          ],
          "scatterpolargl": [
           {
            "marker": {
             "colorbar": {
              "outlinewidth": 1,
              "tickcolor": "rgb(36,36,36)",
              "ticks": "outside"
             }
            },
            "type": "scatterpolargl"
           }
          ],
          "scatterternary": [
           {
            "marker": {
             "colorbar": {
              "outlinewidth": 1,
              "tickcolor": "rgb(36,36,36)",
              "ticks": "outside"
             }
            },
            "type": "scatterternary"
           }
          ],
          "surface": [
           {
            "colorbar": {
             "outlinewidth": 1,
             "tickcolor": "rgb(36,36,36)",
             "ticks": "outside"
            },
            "colorscale": [
             [
              0,
              "#440154"
             ],
             [
              0.1111111111111111,
              "#482878"
             ],
             [
              0.2222222222222222,
              "#3e4989"
             ],
             [
              0.3333333333333333,
              "#31688e"
             ],
             [
              0.4444444444444444,
              "#26828e"
             ],
             [
              0.5555555555555556,
              "#1f9e89"
             ],
             [
              0.6666666666666666,
              "#35b779"
             ],
             [
              0.7777777777777778,
              "#6ece58"
             ],
             [
              0.8888888888888888,
              "#b5de2b"
             ],
             [
              1,
              "#fde725"
             ]
            ],
            "type": "surface"
           }
          ],
          "table": [
           {
            "cells": {
             "fill": {
              "color": "rgb(237,237,237)"
             },
             "line": {
              "color": "white"
             }
            },
            "header": {
             "fill": {
              "color": "rgb(217,217,217)"
             },
             "line": {
              "color": "white"
             }
            },
            "type": "table"
           }
          ]
         },
         "layout": {
          "annotationdefaults": {
           "arrowhead": 0,
           "arrowwidth": 1
          },
          "autotypenumbers": "strict",
          "coloraxis": {
           "colorbar": {
            "outlinewidth": 1,
            "tickcolor": "rgb(36,36,36)",
            "ticks": "outside"
           }
          },
          "colorscale": {
           "diverging": [
            [
             0,
             "rgb(103,0,31)"
            ],
            [
             0.1,
             "rgb(178,24,43)"
            ],
            [
             0.2,
             "rgb(214,96,77)"
            ],
            [
             0.3,
             "rgb(244,165,130)"
            ],
            [
             0.4,
             "rgb(253,219,199)"
            ],
            [
             0.5,
             "rgb(247,247,247)"
            ],
            [
             0.6,
             "rgb(209,229,240)"
            ],
            [
             0.7,
             "rgb(146,197,222)"
            ],
            [
             0.8,
             "rgb(67,147,195)"
            ],
            [
             0.9,
             "rgb(33,102,172)"
            ],
            [
             1,
             "rgb(5,48,97)"
            ]
           ],
           "sequential": [
            [
             0,
             "#440154"
            ],
            [
             0.1111111111111111,
             "#482878"
            ],
            [
             0.2222222222222222,
             "#3e4989"
            ],
            [
             0.3333333333333333,
             "#31688e"
            ],
            [
             0.4444444444444444,
             "#26828e"
            ],
            [
             0.5555555555555556,
             "#1f9e89"
            ],
            [
             0.6666666666666666,
             "#35b779"
            ],
            [
             0.7777777777777778,
             "#6ece58"
            ],
            [
             0.8888888888888888,
             "#b5de2b"
            ],
            [
             1,
             "#fde725"
            ]
           ],
           "sequentialminus": [
            [
             0,
             "#440154"
            ],
            [
             0.1111111111111111,
             "#482878"
            ],
            [
             0.2222222222222222,
             "#3e4989"
            ],
            [
             0.3333333333333333,
             "#31688e"
            ],
            [
             0.4444444444444444,
             "#26828e"
            ],
            [
             0.5555555555555556,
             "#1f9e89"
            ],
            [
             0.6666666666666666,
             "#35b779"
            ],
            [
             0.7777777777777778,
             "#6ece58"
            ],
            [
             0.8888888888888888,
             "#b5de2b"
            ],
            [
             1,
             "#fde725"
            ]
           ]
          },
          "colorway": [
           "#1F77B4",
           "#FF7F0E",
           "#2CA02C",
           "#D62728",
           "#9467BD",
           "#8C564B",
           "#E377C2",
           "#7F7F7F",
           "#BCBD22",
           "#17BECF"
          ],
          "font": {
           "color": "rgb(36,36,36)"
          },
          "geo": {
           "bgcolor": "white",
           "lakecolor": "white",
           "landcolor": "white",
           "showlakes": true,
           "showland": true,
           "subunitcolor": "white"
          },
          "height": 800,
          "hoverlabel": {
           "align": "left"
          },
          "hovermode": "closest",
          "legend": {
           "orientation": "h",
           "title": {
            "text": ""
           },
           "x": 0.5,
           "xanchor": "center",
           "y": -0.2,
           "yanchor": "bottom"
          },
          "mapbox": {
           "style": "light"
          },
          "paper_bgcolor": "white",
          "plot_bgcolor": "white",
          "polar": {
           "angularaxis": {
            "gridcolor": "rgb(232,232,232)",
            "linecolor": "rgb(36,36,36)",
            "showgrid": false,
            "showline": true,
            "ticks": "outside"
           },
           "bgcolor": "white",
           "radialaxis": {
            "gridcolor": "rgb(232,232,232)",
            "linecolor": "rgb(36,36,36)",
            "showgrid": false,
            "showline": true,
            "ticks": "outside"
           }
          },
          "scene": {
           "xaxis": {
            "backgroundcolor": "white",
            "gridcolor": "rgb(232,232,232)",
            "gridwidth": 2,
            "linecolor": "rgb(36,36,36)",
            "showbackground": true,
            "showgrid": false,
            "showline": true,
            "ticks": "outside",
            "zeroline": false,
            "zerolinecolor": "rgb(36,36,36)"
           },
           "yaxis": {
            "backgroundcolor": "white",
            "gridcolor": "rgb(232,232,232)",
            "gridwidth": 2,
            "linecolor": "rgb(36,36,36)",
            "showbackground": true,
            "showgrid": false,
            "showline": true,
            "ticks": "outside",
            "zeroline": false,
            "zerolinecolor": "rgb(36,36,36)"
           },
           "zaxis": {
            "backgroundcolor": "white",
            "gridcolor": "rgb(232,232,232)",
            "gridwidth": 2,
            "linecolor": "rgb(36,36,36)",
            "showbackground": true,
            "showgrid": false,
            "showline": true,
            "ticks": "outside",
            "zeroline": false,
            "zerolinecolor": "rgb(36,36,36)"
           }
          },
          "shapedefaults": {
           "fillcolor": "black",
           "line": {
            "width": 0
           },
           "opacity": 0.3
          },
          "ternary": {
           "aaxis": {
            "gridcolor": "rgb(232,232,232)",
            "linecolor": "rgb(36,36,36)",
            "showgrid": false,
            "showline": true,
            "ticks": "outside"
           },
           "baxis": {
            "gridcolor": "rgb(232,232,232)",
            "linecolor": "rgb(36,36,36)",
            "showgrid": false,
            "showline": true,
            "ticks": "outside"
           },
           "bgcolor": "white",
           "caxis": {
            "gridcolor": "rgb(232,232,232)",
            "linecolor": "rgb(36,36,36)",
            "showgrid": false,
            "showline": true,
            "ticks": "outside"
           }
          },
          "title": {
           "x": 0.5
          },
          "xaxis": {
           "automargin": true,
           "gridcolor": "rgb(232,232,232)",
           "linecolor": "rgb(36,36,36)",
           "showgrid": true,
           "showline": true,
           "ticks": "outside",
           "title": {
            "standoff": 15
           },
           "zeroline": false,
           "zerolinecolor": "rgb(36,36,36)"
          },
          "yaxis": {
           "automargin": true,
           "gridcolor": "rgb(232,232,232)",
           "linecolor": "rgb(36,36,36)",
           "showgrid": true,
           "showline": true,
           "ticks": "outside",
           "title": {
            "standoff": 15
           },
           "zeroline": false,
           "zerolinecolor": "rgb(36,36,36)"
          }
         }
        },
        "title": {
         "text": "Profit Yields of Validator Environments"
        },
        "xaxis": {
         "anchor": "y",
         "autorange": true,
         "domain": [
          0,
          0.475
         ],
         "range": [
          25,
          1500
         ],
         "title": {
          "text": "ETH Price ($/ETH)"
         },
         "type": "linear"
        },
        "xaxis2": {
         "anchor": "y2",
         "autorange": true,
         "domain": [
          0.525,
          1
         ],
         "matches": "x",
         "range": [
          25,
          1500
         ],
         "title": {
          "text": "ETH Price ($/ETH)"
         },
         "type": "linear"
        },
        "yaxis": {
         "anchor": "x",
         "autorange": true,
         "domain": [
          0,
          1
         ],
         "range": [
          6.553741162676823,
          22.48182310712127
         ],
         "showticklabels": true,
         "title": {
          "text": "Profit Yields (%/year)"
         },
         "type": "linear"
        },
        "yaxis2": {
         "anchor": "x2",
         "autorange": true,
         "domain": [
          0,
          1
         ],
         "range": [
          -12.464504758779759,
          3.4635771856646875
         ],
         "showticklabels": true,
         "type": "linear"
        }
       }
      },
      "image/png": "[encoded data removed]",
      "text/html": [
       "<div>                            <div id=\"7c8c2e05-10ce-4ae5-8b34-4138061b5d84\" class=\"plotly-graph-div\" style=\"height:800px; width:100%;\"></div>            <script type=\"text/javascript\">                require([\"plotly\"], function(Plotly) {                    window.PLOTLYENV=window.PLOTLYENV || {};                                    if (document.getElementById(\"7c8c2e05-10ce-4ae5-8b34-4138061b5d84\")) {                    Plotly.newPlot(                        \"7c8c2e05-10ce-4ae5-8b34-4138061b5d84\",                        [{\"hovertemplate\": \"variable=custom_profit_yields_pct<br>subset=0<br>eth_price=%{x}<br>value=%{y}<extra></extra>\", \"legendgroup\": \"custom_profit_yields_pct\", \"line\": {\"color\": \"#1F77B4\", \"dash\": \"solid\"}, \"mode\": \"lines\", \"name\": \"custom Profit Yields\", \"orientation\": \"v\", \"showlegend\": true, \"type\": \"scatter\", \"x\": [25.0, 55.102040816326536, 85.20408163265307, 115.3061224489796, 145.40816326530614, 175.51020408163265, 205.6122448979592, 235.71428571428572, 265.8163265306123, 295.9183673469388, 326.0204081632653, 356.12244897959187, 386.2244897959184, 416.32653061224494, 446.42857142857144, 476.530612244898, 506.6326530612245, 536.7346938775511, 566.8367346938776, 596.9387755102041, 627.0408163265306, 657.1428571428572, 687.2448979591837, 717.3469387755102, 747.4489795918367, 777.5510204081633, 807.6530612244899, 837.7551020408164, 867.8571428571429, 897.9591836734694, 928.061224489796, 958.1632653061225, 988.265306122449, 1018.3673469387755, 1048.4693877551022, 1078.5714285714287, 1108.6734693877552, 1138.7755102040817, 1168.8775510204082, 1198.9795918367347, 1229.0816326530612, 1259.1836734693877, 1289.2857142857144, 1319.387755102041, 1349.4897959183675, 1379.591836734694, 1409.6938775510205, 1439.795918367347, 1469.8979591836735, 1500.0], \"xaxis\": \"x\", \"y\": [7.3501452598990475, 15.206705445084232, 17.51192370301282, 18.61353242804064, 19.25903648796922, 19.683117643619976, 19.98302615319929, 20.206334653838436, 20.379066565081388, 20.5166564667956, 20.628838530634567, 20.72205571835177, 20.800742353690328, 20.868050284408852, 20.926281259899046, 20.977155431205254, 21.021984132003784, 21.06178451845418, 21.09735768114117, 21.129343123146914, 21.158257546310764, 21.18452297729035, 21.20848750191835, 21.23044077910246, 21.25062580597413, 21.269247950187758, 21.28648196236272, 21.302477476707814, 21.31736336689493, 21.331251225808135, 21.344238168090357, 21.356409104414485, 21.367838600115878, 21.37859240418762, 21.388728714886877, 21.39829923340898, 21.40735004590917, 21.41592236563381, 21.424053160379188, 21.43177568543096, 21.439119938188796, 21.44611304758138, 21.452779608929518, 21.459141972969423, 21.46522049619394, 21.471033758419754, 21.47659875247957, 21.48193105011875, 21.487044947507513, 21.491953593232378], \"yaxis\": \"y\"}, {\"hovertemplate\": \"variable=custom_profit_yields_pct<br>subset=1<br>eth_price=%{x}<br>value=%{y}<extra></extra>\", \"legendgroup\": \"custom_profit_yields_pct\", \"line\": {\"color\": \"#1F77B4\", \"dash\": \"solid\"}, \"mode\": \"lines\", \"name\": \"custom Profit Yields\", \"orientation\": \"v\", \"showlegend\": false, \"type\": \"scatter\", \"x\": [25.0, 55.102040816326536, 85.20408163265307, 115.3061224489796, 145.40816326530614, 175.51020408163265, 205.6122448979592, 235.71428571428572, 265.8163265306123, 295.9183673469388, 326.0204081632653, 356.12244897959187, 386.2244897959184, 416.32653061224494, 446.42857142857144, 476.530612244898, 506.6326530612245, 536.7346938775511, 566.8367346938776, 596.9387755102041, 627.0408163265306, 657.1428571428572, 687.2448979591837, 717.3469387755102, 747.4489795918367, 777.5510204081633, 807.6530612244899, 837.7551020408164, 867.8571428571429, 897.9591836734694, 928.061224489796, 958.1632653061225, 988.265306122449, 1018.3673469387755, 1048.4693877551022, 1078.5714285714287, 1108.6734693877552, 1138.7755102040817, 1168.8775510204082, 1198.9795918367347, 1229.0816326530612, 1259.1836734693877, 1289.2857142857144, 1319.387755102041, 1349.4897959183675, 1379.591836734694, 1409.6938775510205, 1439.795918367347, 1469.8979591836735, 1500.0], \"xaxis\": \"x2\", \"y\": [-11.668100661557535, -3.8115404763723486, -1.5063222184437615, -0.4047134934159415, 0.24079056651264108, 0.6648717221633956, 0.9647802317427135, 1.1880887323818596, 1.3608206436248071, 1.4984105453390175, 1.6105926091779899, 1.7038097968951873, 1.7824964322337469, 1.8498043629522694, 1.9080353384424653, 1.9589095097486753, 2.003738210547198, 2.0435385969975983, 2.0791117596845896, 2.111097201690329, 2.140011624854182, 2.1662770558337696, 2.1902415804617674, 2.2121948576458794, 2.232379884517551, 2.2510020287311794, 2.268236040906142, 2.2842315552512353, 2.29911744543835, 2.313005304351556, 2.3259922466337795, 2.3381631829579077, 2.3495926786592958, 2.360346482731042, 2.3704827934303005, 2.380053311952399, 2.3891041244525897, 2.397676444177232, 2.4058072389226055, 2.4135297639743802, 2.4208740167322125, 2.427867126124799, 2.4345336874729364, 2.4408960515128446, 2.4469745747373617, 2.452787836963175, 2.458352831022994, 2.4636851286621675, 2.4687990260509345, 2.4737076717757986], \"yaxis\": \"y2\"}, {\"hovertemplate\": \"variable=diy_hardware_profit_yields_pct<br>subset=0<br>eth_price=%{x}<br>value=%{y}<extra></extra>\", \"legendgroup\": \"diy_hardware_profit_yields_pct\", \"line\": {\"color\": \"#FF7F0E\", \"dash\": \"solid\"}, \"mode\": \"lines\", \"name\": \"diy_hardware Profit Yields\", \"orientation\": \"v\", \"showlegend\": true, \"type\": \"scatter\", \"x\": [25.0, 55.102040816326536, 85.20408163265307, 115.3061224489796, 145.40816326530614, 175.51020408163265, 205.6122448979592, 235.71428571428572, 265.8163265306123, 295.9183673469388, 326.0204081632653, 356.12244897959187, 386.2244897959184, 416.32653061224494, 446.42857142857144, 476.530612244898, 506.6326530612245, 536.7346938775511, 566.8367346938776, 596.9387755102041, 627.0408163265306, 657.1428571428572, 687.2448979591837, 717.3469387755102, 747.4489795918367, 777.5510204081633, 807.6530612244899, 837.7551020408164, 867.8571428571429, 897.9591836734694, 928.061224489796, 958.1632653061225, 988.265306122449, 1018.3673469387755, 1048.4693877551022, 1078.5714285714287, 1108.6734693877552, 1138.7755102040817, 1168.8775510204082, 1198.9795918367347, 1229.0816326530612, 1259.1836734693877, 1289.2857142857144, 1319.387755102041, 1349.4897959183675, 1379.591836734694, 1409.6938775510205, 1439.795918367347, 1469.8979591836735, 1500.0], \"xaxis\": \"x\", \"y\": [7.350145259899045, 15.206705445084229, 17.51192370301282, 18.613532428040642, 19.259036487969215, 19.683117643619973, 19.983026153199294, 20.20633465383844, 20.379066565081388, 20.5166564667956, 20.628838530634567, 20.72205571835177, 20.800742353690328, 20.868050284408845, 20.926281259899042, 20.97715543120525, 21.021984132003773, 21.06178451845418, 21.097357681141172, 21.129343123146906, 21.15825754631076, 21.184522977290346, 21.208487501918345, 21.230440779102455, 21.25062580597413, 21.269247950187754, 21.286481962362718, 21.302477476707814, 21.317363366894927, 21.331251225808135, 21.34423816809036, 21.35640910441448, 21.367838600115874, 21.378592404187618, 21.388728714886877, 21.398299233408977, 21.40735004590917, 21.41592236563381, 21.424053160379184, 21.43177568543096, 21.43911993818879, 21.44611304758138, 21.452779608929514, 21.459141972969423, 21.46522049619394, 21.471033758419754, 21.47659875247957, 21.481931050118742, 21.487044947507513, 21.491953593232374], \"yaxis\": \"y\"}, {\"hovertemplate\": \"variable=diy_hardware_profit_yields_pct<br>subset=1<br>eth_price=%{x}<br>value=%{y}<extra></extra>\", \"legendgroup\": \"diy_hardware_profit_yields_pct\", \"line\": {\"color\": \"#FF7F0E\", \"dash\": \"solid\"}, \"mode\": \"lines\", \"name\": \"diy_hardware Profit Yields\", \"orientation\": \"v\", \"showlegend\": false, \"type\": \"scatter\", \"x\": [25.0, 55.102040816326536, 85.20408163265307, 115.3061224489796, 145.40816326530614, 175.51020408163265, 205.6122448979592, 235.71428571428572, 265.8163265306123, 295.9183673469388, 326.0204081632653, 356.12244897959187, 386.2244897959184, 416.32653061224494, 446.42857142857144, 476.530612244898, 506.6326530612245, 536.7346938775511, 566.8367346938776, 596.9387755102041, 627.0408163265306, 657.1428571428572, 687.2448979591837, 717.3469387755102, 747.4489795918367, 777.5510204081633, 807.6530612244899, 837.7551020408164, 867.8571428571429, 897.9591836734694, 928.061224489796, 958.1632653061225, 988.265306122449, 1018.3673469387755, 1048.4693877551022, 1078.5714285714287, 1108.6734693877552, 1138.7755102040817, 1168.8775510204082, 1198.9795918367347, 1229.0816326530612, 1259.1836734693877, 1289.2857142857144, 1319.387755102041, 1349.4897959183675, 1379.591836734694, 1409.6938775510205, 1439.795918367347, 1469.8979591836735, 1500.0], \"xaxis\": \"x2\", \"y\": [-11.668100661557537, -3.8115404763723495, -1.5063222184437621, -0.40471349341594226, 0.24079056651264058, 0.664871722163395, 0.964780231742713, 1.188088732381859, 1.360820643624807, 1.4984105453390166, 1.6105926091779892, 1.7038097968951869, 1.7824964322337462, 1.849804362952269, 1.9080353384424649, 1.9589095097486748, 2.0037382105471977, 2.043538596997598, 2.079111759684589, 2.1110972016903284, 2.1400116248541816, 2.166277055833769, 2.1902415804617674, 2.212194857645879, 2.23237988451755, 2.251002028731179, 2.2682360409061415, 2.284231555251235, 2.2991174454383496, 2.3130053043515555, 2.325992246633779, 2.3381631829579073, 2.349592678659295, 2.360346482731042, 2.370482793430299, 2.3800533119523988, 2.3891041244525892, 2.3976764441772316, 2.4058072389226046, 2.41352976397438, 2.4208740167322116, 2.427867126124798, 2.4345336874729355, 2.4408960515128437, 2.4469745747373612, 2.452787836963175, 2.458352831022993, 2.463685128662167, 2.468799026050934, 2.473707671775798], \"yaxis\": \"y2\"}, {\"hovertemplate\": \"variable=diy_cloud_profit_yields_pct<br>subset=0<br>eth_price=%{x}<br>value=%{y}<extra></extra>\", \"legendgroup\": \"diy_cloud_profit_yields_pct\", \"line\": {\"color\": \"#2CA02C\", \"dash\": \"solid\"}, \"mode\": \"lines\", \"name\": \"diy_cloud Profit Yields\", \"orientation\": \"v\", \"showlegend\": true, \"type\": \"scatter\", \"x\": [25.0, 55.102040816326536, 85.20408163265307, 115.3061224489796, 145.40816326530614, 175.51020408163265, 205.6122448979592, 235.71428571428572, 265.8163265306123, 295.9183673469388, 326.0204081632653, 356.12244897959187, 386.2244897959184, 416.32653061224494, 446.42857142857144, 476.530612244898, 506.6326530612245, 536.7346938775511, 566.8367346938776, 596.9387755102041, 627.0408163265306, 657.1428571428572, 687.2448979591837, 717.3469387755102, 747.4489795918367, 777.5510204081633, 807.6530612244899, 837.7551020408164, 867.8571428571429, 897.9591836734694, 928.061224489796, 958.1632653061225, 988.265306122449, 1018.3673469387755, 1048.4693877551022, 1078.5714285714287, 1108.6734693877552, 1138.7755102040817, 1168.8775510204082, 1198.9795918367347, 1229.0816326530612, 1259.1836734693877, 1289.2857142857144, 1319.387755102041, 1349.4897959183675, 1379.591836734694, 1409.6938775510205, 1439.795918367347, 1469.8979591836735, 1500.0], \"xaxis\": \"x\", \"y\": [18.958070259899046, 20.473264009899044, 20.91784181678527, 21.130294928040637, 21.25478499674115, 21.336572076759513, 21.39441157503552, 21.4374782144445, 21.470790797327066, 21.497325992657665, 21.518961104969467, 21.536938705457782, 21.552113985130223, 21.56509480034022, 21.576325059899045, 21.586136507222385, 21.594782042376387, 21.602457831191817, 21.609318369710024, 21.61548699066827, 21.62106334370702, 21.626128819681654, 21.630750549431337, 21.634984395745416, 21.638877222356378, 21.642468635883297, 21.64579233823132, 21.64887718742645, 21.65174803767682, 21.654426410467224, 21.656931035050224, 21.659278287055592, 21.66148254694086, 21.663556494868985, 21.665511354789555, 21.66735709764739, 21.669102611486707, 21.670755844576462, 21.672323926420216, 21.67381327053734, 21.675229662140634, 21.676578333237778, 21.677864027212063, 21.679091054562612, 21.68026334118449, 21.681384470328037, 21.68245771918243, 21.683486090869984, 21.68447234250925, 21.685419009899046], \"yaxis\": \"y\"}, {\"hovertemplate\": \"variable=diy_cloud_profit_yields_pct<br>subset=1<br>eth_price=%{x}<br>value=%{y}<extra></extra>\", \"legendgroup\": \"diy_cloud_profit_yields_pct\", \"line\": {\"color\": \"#2CA02C\", \"dash\": \"solid\"}, \"mode\": \"lines\", \"name\": \"diy_cloud Profit Yields\", \"orientation\": \"v\", \"showlegend\": false, \"type\": \"scatter\", \"x\": [25.0, 55.102040816326536, 85.20408163265307, 115.3061224489796, 145.40816326530614, 175.51020408163265, 205.6122448979592, 235.71428571428572, 265.8163265306123, 295.9183673469388, 326.0204081632653, 356.12244897959187, 386.2244897959184, 416.32653061224494, 446.42857142857144, 476.530612244898, 506.6326530612245, 536.7346938775511, 566.8367346938776, 596.9387755102041, 627.0408163265306, 657.1428571428572, 687.2448979591837, 717.3469387755102, 747.4489795918367, 777.5510204081633, 807.6530612244899, 837.7551020408164, 867.8571428571429, 897.9591836734694, 928.061224489796, 958.1632653061225, 988.265306122449, 1018.3673469387755, 1048.4693877551022, 1078.5714285714287, 1108.6734693877552, 1138.7755102040817, 1168.8775510204082, 1198.9795918367347, 1229.0816326530612, 1259.1836734693877, 1289.2857142857144, 1319.387755102041, 1349.4897959183675, 1379.591836734694, 1409.6938775510205, 1439.795918367347, 1469.8979591836735, 1500.0], \"xaxis\": \"x2\", \"y\": [-0.060175661557535384, 1.4550180884424648, 1.8995958953286929, 2.112049006584058, 2.2365390752845706, 2.31832615530293, 2.3761656535789415, 2.4192322929879198, 2.452544875870488, 2.479080071201086, 2.5007151835128876, 2.5186927840012046, 2.5338680636736406, 2.5468488788836416, 2.558079138442465, 2.5678905857658063, 2.576536120919806, 2.584211909735241, 2.5910724482534464, 2.5972410692116954, 2.6028174222504386, 2.6078828982250735, 2.6125046279747592, 2.6167384742888378, 2.620631300899803, 2.6242227144267174, 2.627546416774746, 2.6306312659698707, 2.6335021162202428, 2.6361804890106475, 2.638685113593647, 2.641032365599014, 2.643236625484282, 2.645310573412405, 2.6472654333329766, 2.6491111761908095, 2.6508566900301322, 2.6525099231198843, 2.6540780049636346, 2.655567349080763, 2.6569837406840593, 2.6583324117812004, 2.6596181057554844, 2.6608451331060383, 2.6620174197279094, 2.663138548871459, 2.6642117977258524, 2.6652401694134076, 2.66622642105267, 2.667173088442465], \"yaxis\": \"y2\"}, {\"hovertemplate\": \"variable=pool_staas_profit_yields_pct<br>subset=0<br>eth_price=%{x}<br>value=%{y}<extra></extra>\", \"legendgroup\": \"pool_staas_profit_yields_pct\", \"line\": {\"color\": \"#D62728\", \"dash\": \"solid\"}, \"mode\": \"lines\", \"name\": \"pool_staas Profit Yields\", \"orientation\": \"v\", \"showlegend\": true, \"type\": \"scatter\", \"x\": [25.0, 55.102040816326536, 85.20408163265307, 115.3061224489796, 145.40816326530614, 175.51020408163265, 205.6122448979592, 235.71428571428572, 265.8163265306123, 295.9183673469388, 326.0204081632653, 356.12244897959187, 386.2244897959184, 416.32653061224494, 446.42857142857144, 476.530612244898, 506.6326530612245, 536.7346938775511, 566.8367346938776, 596.9387755102041, 627.0408163265306, 657.1428571428572, 687.2448979591837, 717.3469387755102, 747.4489795918367, 777.5510204081633, 807.6530612244899, 837.7551020408164, 867.8571428571429, 897.9591836734694, 928.061224489796, 958.1632653061225, 988.265306122449, 1018.3673469387755, 1048.4693877551022, 1078.5714285714287, 1108.6734693877552, 1138.7755102040817, 1168.8775510204082, 1198.9795918367347, 1229.0816326530612, 1259.1836734693877, 1289.2857142857144, 1319.387755102041, 1349.4897959183675, 1379.591836734694, 1409.6938775510205, 1439.795918367347, 1469.8979591836735, 1500.0], \"xaxis\": \"x\", \"y\": [19.123847828711156, 19.123847828711156, 19.123847828711156, 19.12384782871116, 19.12384782871116, 19.12384782871116, 19.12384782871116, 19.123847828711156, 19.12384782871116, 19.12384782871116, 19.123847828711156, 19.12384782871116, 19.123847828711156, 19.123847828711156, 19.123847828711156, 19.12384782871116, 19.123847828711156, 19.12384782871116, 19.123847828711156, 19.123847828711156, 19.12384782871116, 19.123847828711156, 19.123847828711163, 19.123847828711156, 19.123847828711156, 19.123847828711156, 19.123847828711156, 19.123847828711156, 19.12384782871116, 19.12384782871116, 19.12384782871116, 19.12384782871116, 19.123847828711156, 19.12384782871116, 19.123847828711156, 19.123847828711156, 19.123847828711156, 19.12384782871116, 19.12384782871116, 19.12384782871116, 19.123847828711156, 19.12384782871116, 19.123847828711156, 19.12384782871116, 19.123847828711163, 19.123847828711156, 19.12384782871116, 19.12384782871116, 19.123847828711156, 19.123847828711156], \"yaxis\": \"y\"}, {\"hovertemplate\": \"variable=pool_staas_profit_yields_pct<br>subset=1<br>eth_price=%{x}<br>value=%{y}<extra></extra>\", \"legendgroup\": \"pool_staas_profit_yields_pct\", \"line\": {\"color\": \"#D62728\", \"dash\": \"solid\"}, \"mode\": \"lines\", \"name\": \"pool_staas Profit Yields\", \"orientation\": \"v\", \"showlegend\": false, \"type\": \"scatter\", \"x\": [25.0, 55.102040816326536, 85.20408163265307, 115.3061224489796, 145.40816326530614, 175.51020408163265, 205.6122448979592, 235.71428571428572, 265.8163265306123, 295.9183673469388, 326.0204081632653, 356.12244897959187, 386.2244897959184, 416.32653061224494, 446.42857142857144, 476.530612244898, 506.6326530612245, 536.7346938775511, 566.8367346938776, 596.9387755102041, 627.0408163265306, 657.1428571428572, 687.2448979591837, 717.3469387755102, 747.4489795918367, 777.5510204081633, 807.6530612244899, 837.7551020408164, 867.8571428571429, 897.9591836734694, 928.061224489796, 958.1632653061225, 988.265306122449, 1018.3673469387755, 1048.4693877551022, 1078.5714285714287, 1108.6734693877552, 1138.7755102040817, 1168.8775510204082, 1198.9795918367347, 1229.0816326530612, 1259.1836734693877, 1289.2857142857144, 1319.387755102041, 1349.4897959183675, 1379.591836734694, 1409.6938775510205, 1439.795918367347, 1469.8979591836735, 1500.0], \"xaxis\": \"x2\", \"y\": [2.3877914178293693, 2.3877914178293698, 2.3877914178293698, 2.3877914178293693, 2.3877914178293693, 2.3877914178293698, 2.3877914178293693, 2.3877914178293698, 2.3877914178293698, 2.3877914178293698, 2.3877914178293693, 2.3877914178293698, 2.3877914178293693, 2.3877914178293698, 2.3877914178293693, 2.3877914178293693, 2.3877914178293693, 2.3877914178293698, 2.3877914178293693, 2.3877914178293698, 2.3877914178293698, 2.3877914178293693, 2.3877914178293698, 2.3877914178293698, 2.3877914178293693, 2.3877914178293698, 2.3877914178293698, 2.3877914178293693, 2.3877914178293698, 2.3877914178293698, 2.3877914178293698, 2.3877914178293698, 2.3877914178293693, 2.3877914178293693, 2.3877914178293693, 2.3877914178293698, 2.3877914178293693, 2.3877914178293698, 2.3877914178293693, 2.3877914178293698, 2.3877914178293693, 2.3877914178293698, 2.3877914178293698, 2.3877914178293698, 2.3877914178293698, 2.3877914178293693, 2.3877914178293693, 2.3877914178293693, 2.3877914178293693, 2.3877914178293698], \"yaxis\": \"y2\"}, {\"hovertemplate\": \"variable=pool_hardware_profit_yields_pct<br>subset=0<br>eth_price=%{x}<br>value=%{y}<extra></extra>\", \"legendgroup\": \"pool_hardware_profit_yields_pct\", \"line\": {\"color\": \"#9467BD\", \"dash\": \"solid\"}, \"mode\": \"lines\", \"name\": \"pool_hardware Profit Yields\", \"orientation\": \"v\", \"showlegend\": true, \"type\": \"scatter\", \"x\": [25.0, 55.102040816326536, 85.20408163265307, 115.3061224489796, 145.40816326530614, 175.51020408163265, 205.6122448979592, 235.71428571428572, 265.8163265306123, 295.9183673469388, 326.0204081632653, 356.12244897959187, 386.2244897959184, 416.32653061224494, 446.42857142857144, 476.530612244898, 506.6326530612245, 536.7346938775511, 566.8367346938776, 596.9387755102041, 627.0408163265306, 657.1428571428572, 687.2448979591837, 717.3469387755102, 747.4489795918367, 777.5510204081633, 807.6530612244899, 837.7551020408164, 867.8571428571429, 897.9591836734694, 928.061224489796, 958.1632653061225, 988.265306122449, 1018.3673469387755, 1048.4693877551022, 1078.5714285714287, 1108.6734693877552, 1138.7755102040817, 1168.8775510204082, 1198.9795918367347, 1229.0816326530612, 1259.1836734693877, 1289.2857142857144, 1319.387755102041, 1349.4897959183675, 1379.591836734694, 1409.6938775510205, 1439.795918367347, 1469.8979591836735, 1500.0], \"xaxis\": \"x\", \"y\": [14.540895259899047, 18.469175352491636, 19.621784481455933, 20.172588843969844, 20.495340873934133, 20.70738145175951, 20.857335706549172, 20.968989956868743, 21.055355912490217, 21.124150863347325, 21.18024189526681, 21.22685048912541, 21.266193806794682, 21.299847772153946, 21.328963259899044, 21.35440034555215, 21.376814695951413, 21.39671488917661, 21.414501470520104, 21.43049419152298, 21.444951403104902, 21.4580841185947, 21.470066380908698, 21.48104301950075, 21.491135532936585, 21.500446605043404, 21.509063611130887, 21.517061368303434, 21.524504313396992, 21.531448242853592, 21.5379417139947, 21.544027182156768, 21.549741930007464, 21.555118832043334, 21.560186987392964, 21.564972246654015, 21.56949765290411, 21.573783812766433, 21.577849210139117, 21.581710472665, 21.585382599043918, 21.588879153740212, 21.592212434414286, 21.59539361643424, 21.5984328780465, 21.601339509159402, 21.604122006189314, 21.606788155008896, 21.60934510370328, 21.611799426565717], \"yaxis\": \"y\"}, {\"hovertemplate\": \"variable=pool_hardware_profit_yields_pct<br>subset=1<br>eth_price=%{x}<br>value=%{y}<extra></extra>\", \"legendgroup\": \"pool_hardware_profit_yields_pct\", \"line\": {\"color\": \"#9467BD\", \"dash\": \"solid\"}, \"mode\": \"lines\", \"name\": \"pool_hardware Profit Yields\", \"orientation\": \"v\", \"showlegend\": false, \"type\": \"scatter\", \"x\": [25.0, 55.102040816326536, 85.20408163265307, 115.3061224489796, 145.40816326530614, 175.51020408163265, 205.6122448979592, 235.71428571428572, 265.8163265306123, 295.9183673469388, 326.0204081632653, 356.12244897959187, 386.2244897959184, 416.32653061224494, 446.42857142857144, 476.530612244898, 506.6326530612245, 536.7346938775511, 566.8367346938776, 596.9387755102041, 627.0408163265306, 657.1428571428572, 687.2448979591837, 717.3469387755102, 747.4489795918367, 777.5510204081633, 807.6530612244899, 837.7551020408164, 867.8571428571429, 897.9591836734694, 928.061224489796, 958.1632653061225, 988.265306122449, 1018.3673469387755, 1048.4693877551022, 1078.5714285714287, 1108.6734693877552, 1138.7755102040817, 1168.8775510204082, 1198.9795918367347, 1229.0816326530612, 1259.1836734693877, 1289.2857142857144, 1319.387755102041, 1349.4897959183675, 1379.591836734694, 1409.6938775510205, 1439.795918367347, 1469.8979591836735, 1500.0], \"xaxis\": \"x2\", \"y\": [-4.477350661557534, -0.5490705689649411, 0.6035385599993522, 1.1543429225132622, 1.4770949524775536, 1.6891355303029307, 1.8390897850925896, 1.9507440354121626, 2.037109991033636, 2.1059049418907416, 2.1619959738102277, 2.208604567668827, 2.2479478853381063, 2.2816018506973683, 2.3107173384424655, 2.3361544240955703, 2.3585687744948323, 2.378468967720032, 2.396255549063528, 2.412248270066397, 2.426705481648324, 2.439838197138118, 2.4518204594521165, 2.4627970980441725, 2.472889611480008, 2.4822006835868233, 2.490817689674304, 2.4988154468468506, 2.506258391940408, 2.5132023213970114, 2.5196957925381227, 2.5257812607001866, 2.531496008550881, 2.536872910586754, 2.5419410659363826, 2.5467263251974326, 2.5512517314475276, 2.5555378913098488, 2.5596032886825353, 2.5634645512084226, 2.567136677587339, 2.5706332322836323, 2.5739665129577007, 2.577147694977655, 2.5801869565899134, 2.583093587702821, 2.5858760847327296, 2.5885422335523165, 2.5910991822466998, 2.5935535051091323], \"yaxis\": \"y2\"}, {\"hovertemplate\": \"variable=pool_cloud_profit_yields_pct<br>subset=0<br>eth_price=%{x}<br>value=%{y}<extra></extra>\", \"legendgroup\": \"pool_cloud_profit_yields_pct\", \"line\": {\"color\": \"#8C564B\", \"dash\": \"solid\"}, \"mode\": \"lines\", \"name\": \"pool_cloud Profit Yields\", \"orientation\": \"v\", \"showlegend\": true, \"type\": \"scatter\", \"x\": [25.0, 55.102040816326536, 85.20408163265307, 115.3061224489796, 145.40816326530614, 175.51020408163265, 205.6122448979592, 235.71428571428572, 265.8163265306123, 295.9183673469388, 326.0204081632653, 356.12244897959187, 386.2244897959184, 416.32653061224494, 446.42857142857144, 476.530612244898, 506.6326530612245, 536.7346938775511, 566.8367346938776, 596.9387755102041, 627.0408163265306, 657.1428571428572, 687.2448979591837, 717.3469387755102, 747.4489795918367, 777.5510204081633, 807.6530612244899, 837.7551020408164, 867.8571428571429, 897.9591836734694, 928.061224489796, 958.1632653061225, 988.265306122449, 1018.3673469387755, 1048.4693877551022, 1078.5714285714287, 1108.6734693877552, 1138.7755102040817, 1168.8775510204082, 1198.9795918367347, 1229.0816326530612, 1259.1836734693877, 1289.2857142857144, 1319.387755102041, 1349.4897959183675, 1379.591836734694, 1409.6938775510205, 1439.795918367347, 1469.8979591836735, 1500.0], \"xaxis\": \"x\", \"y\": [7.761045259899045, 15.393132296936082, 17.63248717606671, 18.702621366093737, 19.329682452881503, 19.74164700408509, 20.032986699105, 20.249914956868743, 20.417711670647602, 20.551370432312837, 20.66034729432784, 20.75090113382455, 20.827339579582002, 20.892724426565714, 20.949291659899046, 20.99871228345365, 21.042260164229358, 21.080923396781177, 21.115480183391394, 21.14655175562555, 21.174640052413288, 21.200155042507742, 21.223434866432086, 21.244760907125222, 21.264369218943415, 21.282459301893798, 21.299200913720906, 21.31473941337042, 21.329199992409336, 21.34269105535359, 21.355306942142033, 21.36713013742833, 21.37823307610968, 21.38867962863652, 21.398526330458655, 21.40782340559441, 21.416615623451733, 21.424943019755673, 21.43284150607975, 21.44034338755862, 21.44747780452337, 21.454271110790454, 21.46074719895722, 21.46692778116741, 21.472832632299802, 21.47847980131916, 21.4838857955487, 21.489065741826753, 21.494033527861557, 21.49880192656571], \"yaxis\": \"y\"}, {\"hovertemplate\": \"variable=pool_cloud_profit_yields_pct<br>subset=1<br>eth_price=%{x}<br>value=%{y}<extra></extra>\", \"legendgroup\": \"pool_cloud_profit_yields_pct\", \"line\": {\"color\": \"#8C564B\", \"dash\": \"solid\"}, \"mode\": \"lines\", \"name\": \"pool_cloud Profit Yields\", \"orientation\": \"v\", \"showlegend\": false, \"type\": \"scatter\", \"x\": [25.0, 55.102040816326536, 85.20408163265307, 115.3061224489796, 145.40816326530614, 175.51020408163265, 205.6122448979592, 235.71428571428572, 265.8163265306123, 295.9183673469388, 326.0204081632653, 356.12244897959187, 386.2244897959184, 416.32653061224494, 446.42857142857144, 476.530612244898, 506.6326530612245, 536.7346938775511, 566.8367346938776, 596.9387755102041, 627.0408163265306, 657.1428571428572, 687.2448979591837, 717.3469387755102, 747.4489795918367, 777.5510204081633, 807.6530612244899, 837.7551020408164, 867.8571428571429, 897.9591836734694, 928.061224489796, 958.1632653061225, 988.265306122449, 1018.3673469387755, 1048.4693877551022, 1078.5714285714287, 1108.6734693877552, 1138.7755102040817, 1168.8775510204082, 1198.9795918367347, 1229.0816326530612, 1259.1836734693877, 1289.2857142857144, 1319.387755102041, 1349.4897959183675, 1379.591836734694, 1409.6938775510205, 1439.795918367347, 1469.8979591836735, 1500.0], \"xaxis\": \"x2\", \"y\": [-11.257200661557535, -3.625113624520497, -1.385758745389869, -0.3156245553628442, 0.3114365314249217, 0.7234010826285119, 1.0147407776484207, 1.2316690354121627, 1.3994657491910258, 1.5331245108562588, 1.6421013728712603, 1.7326552123679666, 1.8090936581254249, 1.874478505109132, 1.9310457384424655, 1.980466361997069, 2.0240142427727776, 2.0626774753245947, 2.0972342619348145, 2.128305834168961, 2.1563941309567047, 2.181909121051161, 2.2051889449755016, 2.226514985668639, 2.246123297486834, 2.2642133804372158, 2.2809549922643226, 2.2964934919138416, 2.3109540709527536, 2.3244451338970107, 2.3370610206854563, 2.3488842159717516, 2.3599871546531004, 2.37043370717994, 2.380280409002076, 2.3895774841378294, 2.3983697019951578, 2.4066970982990963, 2.4145955846231724, 2.4220974661020396, 2.4292318830667905, 2.436025189333875, 2.442501277500637, 2.4486818597108337, 2.4545867108432216, 2.460233879862584, 2.4656398740921213, 2.470819820370176, 2.4757876064049786, 2.4805560051091318], \"yaxis\": \"y2\"}, {\"hovertemplate\": \"variable=staas_full_profit_yields_pct<br>subset=0<br>eth_price=%{x}<br>value=%{y}<extra></extra>\", \"legendgroup\": \"staas_full_profit_yields_pct\", \"line\": {\"color\": \"#E377C2\", \"dash\": \"solid\"}, \"mode\": \"lines\", \"name\": \"staas_full Profit Yields\", \"orientation\": \"v\", \"showlegend\": true, \"type\": \"scatter\", \"x\": [25.0, 55.102040816326536, 85.20408163265307, 115.3061224489796, 145.40816326530614, 175.51020408163265, 205.6122448979592, 235.71428571428572, 265.8163265306123, 295.9183673469388, 326.0204081632653, 356.12244897959187, 386.2244897959184, 416.32653061224494, 446.42857142857144, 476.530612244898, 506.6326530612245, 536.7346938775511, 566.8367346938776, 596.9387755102041, 627.0408163265306, 657.1428571428572, 687.2448979591837, 717.3469387755102, 747.4489795918367, 777.5510204081633, 807.6530612244899, 837.7551020408164, 867.8571428571429, 897.9591836734694, 928.061224489796, 958.1632653061225, 988.265306122449, 1018.3673469387755, 1048.4693877551022, 1078.5714285714287, 1108.6734693877552, 1138.7755102040817, 1168.8775510204082, 1198.9795918367347, 1229.0816326530612, 1259.1836734693877, 1289.2857142857144, 1319.387755102041, 1349.4897959183675, 1379.591836734694, 1409.6938775510205, 1439.795918367347, 1469.8979591836735, 1500.0], \"xaxis\": \"x\", \"y\": [18.471898470914187, 18.471898470914187, 18.471898470914187, 18.47189847091419, 18.47189847091419, 18.47189847091419, 18.471898470914187, 18.471898470914187, 18.471898470914187, 18.471898470914187, 18.47189847091419, 18.471898470914187, 18.47189847091419, 18.471898470914187, 18.47189847091419, 18.471898470914187, 18.47189847091419, 18.471898470914187, 18.471898470914187, 18.47189847091419, 18.47189847091419, 18.471898470914187, 18.47189847091419, 18.471898470914187, 18.471898470914187, 18.471898470914187, 18.47189847091419, 18.471898470914187, 18.47189847091419, 18.471898470914187, 18.471898470914187, 18.47189847091419, 18.47189847091419, 18.471898470914187, 18.471898470914187, 18.47189847091419, 18.471898470914187, 18.471898470914187, 18.47189847091419, 18.47189847091419, 18.47189847091419, 18.471898470914187, 18.471898470914187, 18.471898470914187, 18.471898470914187, 18.471898470914187, 18.47189847091419, 18.47189847091419, 18.471898470914187, 18.471898470914187], \"yaxis\": \"y\"}, {\"hovertemplate\": \"variable=staas_full_profit_yields_pct<br>subset=1<br>eth_price=%{x}<br>value=%{y}<extra></extra>\", \"legendgroup\": \"staas_full_profit_yields_pct\", \"line\": {\"color\": \"#E377C2\", \"dash\": \"solid\"}, \"mode\": \"lines\", \"name\": \"staas_full Profit Yields\", \"orientation\": \"v\", \"showlegend\": false, \"type\": \"scatter\", \"x\": [25.0, 55.102040816326536, 85.20408163265307, 115.3061224489796, 145.40816326530614, 175.51020408163265, 205.6122448979592, 235.71428571428572, 265.8163265306123, 295.9183673469388, 326.0204081632653, 356.12244897959187, 386.2244897959184, 416.32653061224494, 446.42857142857144, 476.530612244898, 506.6326530612245, 536.7346938775511, 566.8367346938776, 596.9387755102041, 627.0408163265306, 657.1428571428572, 687.2448979591837, 717.3469387755102, 747.4489795918367, 777.5510204081633, 807.6530612244899, 837.7551020408164, 867.8571428571429, 897.9591836734694, 928.061224489796, 958.1632653061225, 988.265306122449, 1018.3673469387755, 1048.4693877551022, 1078.5714285714287, 1108.6734693877552, 1138.7755102040817, 1168.8775510204082, 1198.9795918367347, 1229.0816326530612, 1259.1836734693877, 1289.2857142857144, 1319.387755102041, 1349.4897959183675, 1379.591836734694, 1409.6938775510205, 1439.795918367347, 1469.8979591836735, 1500.0], \"xaxis\": \"x2\", \"y\": [2.306389437676095, 2.3063894376760956, 2.306389437676095, 2.3063894376760956, 2.306389437676095, 2.306389437676095, 2.3063894376760956, 2.3063894376760956, 2.306389437676095, 2.3063894376760956, 2.3063894376760956, 2.306389437676095, 2.306389437676095, 2.306389437676095, 2.3063894376760956, 2.306389437676095, 2.306389437676095, 2.306389437676095, 2.306389437676095, 2.3063894376760956, 2.3063894376760956, 2.306389437676095, 2.306389437676095, 2.306389437676095, 2.3063894376760956, 2.306389437676095, 2.306389437676095, 2.306389437676095, 2.306389437676095, 2.306389437676095, 2.306389437676095, 2.306389437676095, 2.3063894376760956, 2.306389437676095, 2.3063894376760956, 2.306389437676095, 2.3063894376760956, 2.306389437676095, 2.3063894376760956, 2.306389437676095, 2.306389437676095, 2.306389437676095, 2.3063894376760956, 2.306389437676095, 2.3063894376760956, 2.306389437676095, 2.3063894376760956, 2.306389437676095, 2.3063894376760956, 2.306389437676095], \"yaxis\": \"y2\"}, {\"hovertemplate\": \"variable=staas_self_custodied_profit_yields_pct<br>subset=0<br>eth_price=%{x}<br>value=%{y}<extra></extra>\", \"legendgroup\": \"staas_self_custodied_profit_yields_pct\", \"line\": {\"color\": \"#7F7F7F\", \"dash\": \"solid\"}, \"mode\": \"lines\", \"name\": \"staas_self_custodied Profit Yields\", \"orientation\": \"v\", \"showlegend\": true, \"type\": \"scatter\", \"x\": [25.0, 55.102040816326536, 85.20408163265307, 115.3061224489796, 145.40816326530614, 175.51020408163265, 205.6122448979592, 235.71428571428572, 265.8163265306123, 295.9183673469388, 326.0204081632653, 356.12244897959187, 386.2244897959184, 416.32653061224494, 446.42857142857144, 476.530612244898, 506.6326530612245, 536.7346938775511, 566.8367346938776, 596.9387755102041, 627.0408163265306, 657.1428571428572, 687.2448979591837, 717.3469387755102, 747.4489795918367, 777.5510204081633, 807.6530612244899, 837.7551020408164, 867.8571428571429, 897.9591836734694, 928.061224489796, 958.1632653061225, 988.265306122449, 1018.3673469387755, 1048.4693877551022, 1078.5714285714287, 1108.6734693877552, 1138.7755102040817, 1168.8775510204082, 1198.9795918367347, 1229.0816326530612, 1259.1836734693877, 1289.2857142857144, 1319.387755102041, 1349.4897959183675, 1379.591836734694, 1409.6938775510205, 1439.795918367347, 1469.8979591836735, 1500.0], \"xaxis\": \"x\", \"y\": [19.12384782871116, 19.123847828711156, 19.123847828711156, 19.123847828711156, 19.12384782871116, 19.12384782871116, 19.123847828711156, 19.123847828711156, 19.123847828711156, 19.12384782871116, 19.12384782871116, 19.12384782871116, 19.12384782871116, 19.12384782871116, 19.12384782871116, 19.12384782871116, 19.12384782871116, 19.123847828711156, 19.123847828711156, 19.123847828711163, 19.123847828711163, 19.123847828711156, 19.123847828711163, 19.12384782871116, 19.12384782871116, 19.12384782871116, 19.123847828711163, 19.123847828711156, 19.123847828711163, 19.123847828711156, 19.123847828711156, 19.12384782871116, 19.12384782871116, 19.123847828711156, 19.12384782871116, 19.123847828711156, 19.123847828711156, 19.123847828711156, 19.123847828711156, 19.123847828711156, 19.123847828711163, 19.123847828711156, 19.123847828711156, 19.123847828711156, 19.123847828711156, 19.123847828711156, 19.12384782871116, 19.123847828711156, 19.12384782871116, 19.123847828711156], \"yaxis\": \"y\"}, {\"hovertemplate\": \"variable=staas_self_custodied_profit_yields_pct<br>subset=1<br>eth_price=%{x}<br>value=%{y}<extra></extra>\", \"legendgroup\": \"staas_self_custodied_profit_yields_pct\", \"line\": {\"color\": \"#7F7F7F\", \"dash\": \"solid\"}, \"mode\": \"lines\", \"name\": \"staas_self_custodied Profit Yields\", \"orientation\": \"v\", \"showlegend\": false, \"type\": \"scatter\", \"x\": [25.0, 55.102040816326536, 85.20408163265307, 115.3061224489796, 145.40816326530614, 175.51020408163265, 205.6122448979592, 235.71428571428572, 265.8163265306123, 295.9183673469388, 326.0204081632653, 356.12244897959187, 386.2244897959184, 416.32653061224494, 446.42857142857144, 476.530612244898, 506.6326530612245, 536.7346938775511, 566.8367346938776, 596.9387755102041, 627.0408163265306, 657.1428571428572, 687.2448979591837, 717.3469387755102, 747.4489795918367, 777.5510204081633, 807.6530612244899, 837.7551020408164, 867.8571428571429, 897.9591836734694, 928.061224489796, 958.1632653061225, 988.265306122449, 1018.3673469387755, 1048.4693877551022, 1078.5714285714287, 1108.6734693877552, 1138.7755102040817, 1168.8775510204082, 1198.9795918367347, 1229.0816326530612, 1259.1836734693877, 1289.2857142857144, 1319.387755102041, 1349.4897959183675, 1379.591836734694, 1409.6938775510205, 1439.795918367347, 1469.8979591836735, 1500.0], \"xaxis\": \"x2\", \"y\": [2.3877914178293698, 2.3877914178293693, 2.3877914178293698, 2.3877914178293698, 2.3877914178293693, 2.3877914178293698, 2.3877914178293698, 2.3877914178293698, 2.3877914178293693, 2.3877914178293698, 2.3877914178293698, 2.387791417829369, 2.3877914178293698, 2.3877914178293693, 2.3877914178293698, 2.3877914178293693, 2.3877914178293693, 2.3877914178293693, 2.3877914178293693, 2.3877914178293698, 2.3877914178293698, 2.3877914178293693, 2.3877914178293693, 2.3877914178293698, 2.3877914178293698, 2.3877914178293693, 2.3877914178293693, 2.3877914178293693, 2.3877914178293698, 2.3877914178293693, 2.3877914178293693, 2.3877914178293698, 2.3877914178293698, 2.3877914178293693, 2.3877914178293698, 2.3877914178293693, 2.3877914178293693, 2.3877914178293698, 2.3877914178293698, 2.3877914178293693, 2.3877914178293693, 2.3877914178293693, 2.3877914178293693, 2.3877914178293698, 2.3877914178293698, 2.3877914178293698, 2.3877914178293698, 2.3877914178293693, 2.3877914178293693, 2.3877914178293693], \"yaxis\": \"y2\"}, {\"hovertemplate\": \"variable=total_profit_yields_pct<br>subset=0<br>eth_price=%{x}<br>value=%{y}<extra></extra>\", \"legendgroup\": \"total_profit_yields_pct\", \"line\": {\"color\": \"#BCBD22\", \"dash\": \"solid\"}, \"mode\": \"lines\", \"name\": \"Total Profit Yields\", \"orientation\": \"v\", \"showlegend\": true, \"type\": \"scatter\", \"x\": [25.0, 55.102040816326536, 85.20408163265307, 115.3061224489796, 145.40816326530614, 175.51020408163265, 205.6122448979592, 235.71428571428572, 265.8163265306123, 295.9183673469388, 326.0204081632653, 356.12244897959187, 386.2244897959184, 416.32653061224494, 446.42857142857144, 476.530612244898, 506.6326530612245, 536.7346938775511, 566.8367346938776, 596.9387755102041, 627.0408163265306, 657.1428571428572, 687.2448979591837, 717.3469387755102, 747.4489795918367, 777.5510204081633, 807.6530612244899, 837.7551020408164, 867.8571428571429, 897.9591836734694, 928.061224489796, 958.1632653061225, 988.265306122449, 1018.3673469387755, 1048.4693877551022, 1078.5714285714287, 1108.6734693877552, 1138.7755102040817, 1168.8775510204082, 1198.9795918367347, 1229.0816326530612, 1259.1836734693877, 1289.2857142857144, 1319.387755102041, 1349.4897959183675, 1379.591836734694, 1409.6938775510205, 1439.795918367347, 1469.8979591836735, 1500.0], \"xaxis\": \"x\", \"y\": [14.310968618463487, 17.84249242170423, 18.878688028643126, 19.373861150543135, 19.664015225481034, 19.854639704946045, 19.989448580001948, 20.089825751039246, 20.16746874514295, 20.22931540596349, 20.279741243659107, 20.321642369537983, 20.35701201212267, 20.387266926980637, 20.413441750463488, 20.43630969046563, 20.456460191474566, 20.474350465184017, 20.49034060181182, 20.5047180579934, 20.517715091205556, 20.529521402430877, 20.540293456251163, 20.55016145434542, 20.55923462392424, 20.567605277748264, 20.575351966220907, 20.58254194991903, 20.589233157558137, 20.59547575013962, 20.601313380695487, 20.606784216573175, 20.611921774890952, 20.6167556098212, 20.621311881480516, 20.6256138295562, 20.629682169775037, 20.633535427491267, 20.637190219729312, 20.64066149474008, 20.643962736354727, 20.6471061390267, 20.650102758352684, 20.652962640988623, 20.65569493717804, 20.658307998548544, 20.660809463378435, 20.663206331167245, 20.665505028043494, 20.66771146429682], \"yaxis\": \"y\"}, {\"hovertemplate\": \"variable=total_profit_yields_pct<br>subset=1<br>eth_price=%{x}<br>value=%{y}<extra></extra>\", \"legendgroup\": \"total_profit_yields_pct\", \"line\": {\"color\": \"#BCBD22\", \"dash\": \"solid\"}, \"mode\": \"lines\", \"name\": \"Total Profit Yields\", \"orientation\": \"v\", \"showlegend\": false, \"type\": \"scatter\", \"x\": [25.0, 55.102040816326536, 85.20408163265307, 115.3061224489796, 145.40816326530614, 175.51020408163265, 205.6122448979592, 235.71428571428572, 265.8163265306123, 295.9183673469388, 326.0204081632653, 356.12244897959187, 386.2244897959184, 416.32653061224494, 446.42857142857144, 476.530612244898, 506.6326530612245, 536.7346938775511, 566.8367346938776, 596.9387755102041, 627.0408163265306, 657.1428571428572, 687.2448979591837, 717.3469387755102, 747.4489795918367, 777.5510204081633, 807.6530612244899, 837.7551020408164, 867.8571428571429, 897.9591836734694, 928.061224489796, 958.1632653061225, 988.265306122449, 1018.3673469387755, 1048.4693877551022, 1078.5714285714287, 1108.6734693877552, 1138.7755102040817, 1168.8775510204082, 1198.9795918367347, 1229.0816326530612, 1259.1836734693877, 1289.2857142857144, 1319.387755102041, 1349.4897959183675, 1379.591836734694, 1409.6938775510205, 1439.795918367347, 1469.8979591836735, 1500.0], \"xaxis\": \"x2\", \"y\": [-3.870474482449003, -0.3389506792082623, 0.6972449277306376, 1.1924180496306427, 1.4825721245685402, 1.6731966040335549, 1.8080054790894589, 1.9083826501267542, 1.9860256442304596, 2.0478723050509973, 2.0982981427466143, 2.1401992686254956, 2.1755689112101786, 2.2058238260681535, 2.2319986495509965, 2.254866589553138, 2.275017090562074, 2.292907364271529, 2.308897500899331, 2.3232749570809115, 2.3362719902930635, 2.3480783015183877, 2.358850355338673, 2.3687183534329312, 2.3777915230117475, 2.3861621768357733, 2.393908865308419, 2.4010988490065386, 2.407790056645647, 2.414032649227133, 2.4198702797829927, 2.425341115660688, 2.4304786739784614, 2.4353125089087118, 2.4398687805680286, 2.444170728643712, 2.4482390688625477, 2.4520923265787737, 2.45574711881682, 2.459218393827593, 2.4625196354422383, 2.4656630381142053, 2.468659657440193, 2.471519540076132, 2.4742518362655526, 2.476864897636056, 2.479366362465944, 2.481763230254753, 2.4840619271310036, 2.48626836338433], \"yaxis\": \"y2\"}],                        {\"annotations\": [{\"font\": {}, \"showarrow\": false, \"text\": \"ETH Staked = 524288 ETH\", \"x\": 0.2375, \"xanchor\": \"center\", \"xref\": \"paper\", \"y\": 1.0, \"yanchor\": \"bottom\", \"yref\": \"paper\"}, {\"font\": {}, \"showarrow\": false, \"text\": \"ETH Staked = 33600000 ETH\", \"x\": 0.7625, \"xanchor\": \"center\", \"xref\": \"paper\", \"y\": 1.0, \"yanchor\": \"bottom\", \"yref\": \"paper\"}], \"legend\": {\"title\": {\"text\": \"\"}, \"tracegroupgap\": 0}, \"margin\": {\"t\": 60}, \"template\": {\"data\": {\"bar\": [{\"error_x\": {\"color\": \"rgb(36,36,36)\"}, \"error_y\": {\"color\": \"rgb(36,36,36)\"}, \"marker\": {\"line\": {\"color\": \"white\", \"width\": 0.5}}, \"type\": \"bar\"}], \"barpolar\": [{\"marker\": {\"line\": {\"color\": \"white\", \"width\": 0.5}}, \"type\": \"barpolar\"}], \"carpet\": [{\"aaxis\": {\"endlinecolor\": \"rgb(36,36,36)\", \"gridcolor\": \"white\", \"linecolor\": \"white\", \"minorgridcolor\": \"white\", \"startlinecolor\": \"rgb(36,36,36)\"}, \"baxis\": {\"endlinecolor\": \"rgb(36,36,36)\", \"gridcolor\": \"white\", \"linecolor\": \"white\", \"minorgridcolor\": \"white\", \"startlinecolor\": \"rgb(36,36,36)\"}, \"type\": \"carpet\"}], \"choropleth\": [{\"colorbar\": {\"outlinewidth\": 1, \"tickcolor\": \"rgb(36,36,36)\", \"ticks\": \"outside\"}, \"type\": \"choropleth\"}], \"contour\": [{\"colorbar\": {\"outlinewidth\": 1, \"tickcolor\": \"rgb(36,36,36)\", \"ticks\": \"outside\"}, \"colorscale\": [[0.0, \"#440154\"], [0.1111111111111111, \"#482878\"], [0.2222222222222222, \"#3e4989\"], [0.3333333333333333, \"#31688e\"], [0.4444444444444444, \"#26828e\"], [0.5555555555555556, \"#1f9e89\"], [0.6666666666666666, \"#35b779\"], [0.7777777777777778, \"#6ece58\"], [0.8888888888888888, \"#b5de2b\"], [1.0, \"#fde725\"]], \"type\": \"contour\"}], \"contourcarpet\": [{\"colorbar\": {\"outlinewidth\": 1, \"tickcolor\": \"rgb(36,36,36)\", \"ticks\": \"outside\"}, \"type\": \"contourcarpet\"}], \"heatmap\": [{\"colorbar\": {\"outlinewidth\": 1, \"tickcolor\": \"rgb(36,36,36)\", \"ticks\": \"outside\"}, \"colorscale\": [[0.0, \"#440154\"], [0.1111111111111111, \"#482878\"], [0.2222222222222222, \"#3e4989\"], [0.3333333333333333, \"#31688e\"], [0.4444444444444444, \"#26828e\"], [0.5555555555555556, \"#1f9e89\"], [0.6666666666666666, \"#35b779\"], [0.7777777777777778, \"#6ece58\"], [0.8888888888888888, \"#b5de2b\"], [1.0, \"#fde725\"]], \"type\": \"heatmap\"}], \"heatmapgl\": [{\"colorbar\": {\"outlinewidth\": 1, \"tickcolor\": \"rgb(36,36,36)\", \"ticks\": \"outside\"}, \"colorscale\": [[0.0, \"#440154\"], [0.1111111111111111, \"#482878\"], [0.2222222222222222, \"#3e4989\"], [0.3333333333333333, \"#31688e\"], [0.4444444444444444, \"#26828e\"], [0.5555555555555556, \"#1f9e89\"], [0.6666666666666666, \"#35b779\"], [0.7777777777777778, \"#6ece58\"], [0.8888888888888888, \"#b5de2b\"], [1.0, \"#fde725\"]], \"type\": \"heatmapgl\"}], \"histogram\": [{\"marker\": {\"line\": {\"color\": \"white\", \"width\": 0.6}}, \"type\": \"histogram\"}], \"histogram2d\": [{\"colorbar\": {\"outlinewidth\": 1, \"tickcolor\": \"rgb(36,36,36)\", \"ticks\": \"outside\"}, \"colorscale\": [[0.0, \"#440154\"], [0.1111111111111111, \"#482878\"], [0.2222222222222222, \"#3e4989\"], [0.3333333333333333, \"#31688e\"], [0.4444444444444444, \"#26828e\"], [0.5555555555555556, \"#1f9e89\"], [0.6666666666666666, \"#35b779\"], [0.7777777777777778, \"#6ece58\"], [0.8888888888888888, \"#b5de2b\"], [1.0, \"#fde725\"]], \"type\": \"histogram2d\"}], \"histogram2dcontour\": [{\"colorbar\": {\"outlinewidth\": 1, \"tickcolor\": \"rgb(36,36,36)\", \"ticks\": \"outside\"}, \"colorscale\": [[0.0, \"#440154\"], [0.1111111111111111, \"#482878\"], [0.2222222222222222, \"#3e4989\"], [0.3333333333333333, \"#31688e\"], [0.4444444444444444, \"#26828e\"], [0.5555555555555556, \"#1f9e89\"], [0.6666666666666666, \"#35b779\"], [0.7777777777777778, \"#6ece58\"], [0.8888888888888888, \"#b5de2b\"], [1.0, \"#fde725\"]], \"type\": \"histogram2dcontour\"}], \"mesh3d\": [{\"colorbar\": {\"outlinewidth\": 1, \"tickcolor\": \"rgb(36,36,36)\", \"ticks\": \"outside\"}, \"type\": \"mesh3d\"}], \"parcoords\": [{\"line\": {\"colorbar\": {\"outlinewidth\": 1, \"tickcolor\": \"rgb(36,36,36)\", \"ticks\": \"outside\"}}, \"type\": \"parcoords\"}], \"pie\": [{\"automargin\": true, \"type\": \"pie\"}], \"scatter\": [{\"marker\": {\"colorbar\": {\"outlinewidth\": 1, \"tickcolor\": \"rgb(36,36,36)\", \"ticks\": \"outside\"}}, \"type\": \"scatter\"}], \"scatter3d\": [{\"line\": {\"colorbar\": {\"outlinewidth\": 1, \"tickcolor\": \"rgb(36,36,36)\", \"ticks\": \"outside\"}}, \"marker\": {\"colorbar\": {\"outlinewidth\": 1, \"tickcolor\": \"rgb(36,36,36)\", \"ticks\": \"outside\"}}, \"type\": \"scatter3d\"}], \"scattercarpet\": [{\"marker\": {\"colorbar\": {\"outlinewidth\": 1, \"tickcolor\": \"rgb(36,36,36)\", \"ticks\": \"outside\"}}, \"type\": \"scattercarpet\"}], \"scattergeo\": [{\"marker\": {\"colorbar\": {\"outlinewidth\": 1, \"tickcolor\": \"rgb(36,36,36)\", \"ticks\": \"outside\"}}, \"type\": \"scattergeo\"}], \"scattergl\": [{\"marker\": {\"colorbar\": {\"outlinewidth\": 1, \"tickcolor\": \"rgb(36,36,36)\", \"ticks\": \"outside\"}}, \"type\": \"scattergl\"}], \"scattermapbox\": [{\"marker\": {\"colorbar\": {\"outlinewidth\": 1, \"tickcolor\": \"rgb(36,36,36)\", \"ticks\": \"outside\"}}, \"type\": \"scattermapbox\"}], \"scatterpolar\": [{\"marker\": {\"colorbar\": {\"outlinewidth\": 1, \"tickcolor\": \"rgb(36,36,36)\", \"ticks\": \"outside\"}}, \"type\": \"scatterpolar\"}], \"scatterpolargl\": [{\"marker\": {\"colorbar\": {\"outlinewidth\": 1, \"tickcolor\": \"rgb(36,36,36)\", \"ticks\": \"outside\"}}, \"type\": \"scatterpolargl\"}], \"scatterternary\": [{\"marker\": {\"colorbar\": {\"outlinewidth\": 1, \"tickcolor\": \"rgb(36,36,36)\", \"ticks\": \"outside\"}}, \"type\": \"scatterternary\"}], \"surface\": [{\"colorbar\": {\"outlinewidth\": 1, \"tickcolor\": \"rgb(36,36,36)\", \"ticks\": \"outside\"}, \"colorscale\": [[0.0, \"#440154\"], [0.1111111111111111, \"#482878\"], [0.2222222222222222, \"#3e4989\"], [0.3333333333333333, \"#31688e\"], [0.4444444444444444, \"#26828e\"], [0.5555555555555556, \"#1f9e89\"], [0.6666666666666666, \"#35b779\"], [0.7777777777777778, \"#6ece58\"], [0.8888888888888888, \"#b5de2b\"], [1.0, \"#fde725\"]], \"type\": \"surface\"}], \"table\": [{\"cells\": {\"fill\": {\"color\": \"rgb(237,237,237)\"}, \"line\": {\"color\": \"white\"}}, \"header\": {\"fill\": {\"color\": \"rgb(217,217,217)\"}, \"line\": {\"color\": \"white\"}}, \"type\": \"table\"}]}, \"layout\": {\"annotationdefaults\": {\"arrowhead\": 0, \"arrowwidth\": 1}, \"autotypenumbers\": \"strict\", \"coloraxis\": {\"colorbar\": {\"outlinewidth\": 1, \"tickcolor\": \"rgb(36,36,36)\", \"ticks\": \"outside\"}}, \"colorscale\": {\"diverging\": [[0.0, \"rgb(103,0,31)\"], [0.1, \"rgb(178,24,43)\"], [0.2, \"rgb(214,96,77)\"], [0.3, \"rgb(244,165,130)\"], [0.4, \"rgb(253,219,199)\"], [0.5, \"rgb(247,247,247)\"], [0.6, \"rgb(209,229,240)\"], [0.7, \"rgb(146,197,222)\"], [0.8, \"rgb(67,147,195)\"], [0.9, \"rgb(33,102,172)\"], [1.0, \"rgb(5,48,97)\"]], \"sequential\": [[0.0, \"#440154\"], [0.1111111111111111, \"#482878\"], [0.2222222222222222, \"#3e4989\"], [0.3333333333333333, \"#31688e\"], [0.4444444444444444, \"#26828e\"], [0.5555555555555556, \"#1f9e89\"], [0.6666666666666666, \"#35b779\"], [0.7777777777777778, \"#6ece58\"], [0.8888888888888888, \"#b5de2b\"], [1.0, \"#fde725\"]], \"sequentialminus\": [[0.0, \"#440154\"], [0.1111111111111111, \"#482878\"], [0.2222222222222222, \"#3e4989\"], [0.3333333333333333, \"#31688e\"], [0.4444444444444444, \"#26828e\"], [0.5555555555555556, \"#1f9e89\"], [0.6666666666666666, \"#35b779\"], [0.7777777777777778, \"#6ece58\"], [0.8888888888888888, \"#b5de2b\"], [1.0, \"#fde725\"]]}, \"colorway\": [\"#1F77B4\", \"#FF7F0E\", \"#2CA02C\", \"#D62728\", \"#9467BD\", \"#8C564B\", \"#E377C2\", \"#7F7F7F\", \"#BCBD22\", \"#17BECF\"], \"font\": {\"color\": \"rgb(36,36,36)\"}, \"geo\": {\"bgcolor\": \"white\", \"lakecolor\": \"white\", \"landcolor\": \"white\", \"showlakes\": true, \"showland\": true, \"subunitcolor\": \"white\"}, \"height\": 800, \"hoverlabel\": {\"align\": \"left\"}, \"hovermode\": \"closest\", \"legend\": {\"orientation\": \"h\", \"title\": {\"text\": \"\"}, \"x\": 0.5, \"xanchor\": \"center\", \"y\": -0.2, \"yanchor\": \"bottom\"}, \"mapbox\": {\"style\": \"light\"}, \"paper_bgcolor\": \"white\", \"plot_bgcolor\": \"white\", \"polar\": {\"angularaxis\": {\"gridcolor\": \"rgb(232,232,232)\", \"linecolor\": \"rgb(36,36,36)\", \"showgrid\": false, \"showline\": true, \"ticks\": \"outside\"}, \"bgcolor\": \"white\", \"radialaxis\": {\"gridcolor\": \"rgb(232,232,232)\", \"linecolor\": \"rgb(36,36,36)\", \"showgrid\": false, \"showline\": true, \"ticks\": \"outside\"}}, \"scene\": {\"xaxis\": {\"backgroundcolor\": \"white\", \"gridcolor\": \"rgb(232,232,232)\", \"gridwidth\": 2, \"linecolor\": \"rgb(36,36,36)\", \"showbackground\": true, \"showgrid\": false, \"showline\": true, \"ticks\": \"outside\", \"zeroline\": false, \"zerolinecolor\": \"rgb(36,36,36)\"}, \"yaxis\": {\"backgroundcolor\": \"white\", \"gridcolor\": \"rgb(232,232,232)\", \"gridwidth\": 2, \"linecolor\": \"rgb(36,36,36)\", \"showbackground\": true, \"showgrid\": false, \"showline\": true, \"ticks\": \"outside\", \"zeroline\": false, \"zerolinecolor\": \"rgb(36,36,36)\"}, \"zaxis\": {\"backgroundcolor\": \"white\", \"gridcolor\": \"rgb(232,232,232)\", \"gridwidth\": 2, \"linecolor\": \"rgb(36,36,36)\", \"showbackground\": true, \"showgrid\": false, \"showline\": true, \"ticks\": \"outside\", \"zeroline\": false, \"zerolinecolor\": \"rgb(36,36,36)\"}}, \"shapedefaults\": {\"fillcolor\": \"black\", \"line\": {\"width\": 0}, \"opacity\": 0.3}, \"ternary\": {\"aaxis\": {\"gridcolor\": \"rgb(232,232,232)\", \"linecolor\": \"rgb(36,36,36)\", \"showgrid\": false, \"showline\": true, \"ticks\": \"outside\"}, \"baxis\": {\"gridcolor\": \"rgb(232,232,232)\", \"linecolor\": \"rgb(36,36,36)\", \"showgrid\": false, \"showline\": true, \"ticks\": \"outside\"}, \"bgcolor\": \"white\", \"caxis\": {\"gridcolor\": \"rgb(232,232,232)\", \"linecolor\": \"rgb(36,36,36)\", \"showgrid\": false, \"showline\": true, \"ticks\": \"outside\"}}, \"title\": {\"x\": 0.5}, \"xaxis\": {\"automargin\": true, \"gridcolor\": \"rgb(232,232,232)\", \"linecolor\": \"rgb(36,36,36)\", \"showgrid\": true, \"showline\": true, \"ticks\": \"outside\", \"title\": {\"standoff\": 15}, \"zeroline\": false, \"zerolinecolor\": \"rgb(36,36,36)\"}, \"yaxis\": {\"automargin\": true, \"gridcolor\": \"rgb(232,232,232)\", \"linecolor\": \"rgb(36,36,36)\", \"showgrid\": true, \"showline\": true, \"ticks\": \"outside\", \"title\": {\"standoff\": 15}, \"zeroline\": false, \"zerolinecolor\": \"rgb(36,36,36)\"}}}, \"title\": {\"text\": \"Profit Yields of Validator Environments\"}, \"xaxis\": {\"anchor\": \"y\", \"domain\": [0.0, 0.475], \"title\": {\"text\": \"ETH Price ($/ETH)\"}}, \"xaxis2\": {\"anchor\": \"y2\", \"domain\": [0.525, 1.0], \"matches\": \"x\", \"title\": {\"text\": \"ETH Price ($/ETH)\"}}, \"yaxis\": {\"anchor\": \"x\", \"domain\": [0.0, 1.0], \"showticklabels\": true, \"title\": {\"text\": \"Profit Yields (%/year)\"}}, \"yaxis2\": {\"anchor\": \"x2\", \"domain\": [0.0, 1.0], \"showticklabels\": true}},                        {\"responsive\": true}                    ).then(function(){\n",
       "                            \n",
       "var gd = document.getElementById('7c8c2e05-10ce-4ae5-8b34-4138061b5d84');\n",
       "var x = new MutationObserver(function (mutations, observer) {{\n",
       "        var display = window.getComputedStyle(gd).display;\n",
       "        if (!display || display === 'none') {{\n",
       "            console.log([gd, 'removed!']);\n",
       "            Plotly.purge(gd);\n",
       "            observer.disconnect();\n",
       "        }}\n",
       "}});\n",
       "\n",
       "// Listen for the removal of the full notebook cells\n",
       "var notebookContainer = gd.closest('#notebook-container');\n",
       "if (notebookContainer) {{\n",
       "    x.observe(notebookContainer, {childList: true});\n",
       "}}\n",
       "\n",
       "// Listen for the clearing of the current output cell\n",
       "var outputEl = gd.closest('.output');\n",
       "if (outputEl) {{\n",
       "    x.observe(outputEl, {childList: true});\n",
       "}}\n",
       "\n",
       "                        })                };                });            </script>        </div>"
      ]
     },
     "metadata": {},
     "output_type": "display_data"
    },
    {
     "name": "stdout",
     "output_type": "stream",
     "text": [
      "time: 245 ms (started: 2021-06-17 15:27:43 +02:00)\n"
     ]
    }
   ],
   "source": [
    "visualizations.plot_validator_environment_yields(df_1.copy())"
   ]
  },
  {
   "cell_type": "markdown",
   "metadata": {},
   "source": [
    "## Analysis 2: Network Yields and Network Inflation"
   ]
  },
  {
   "cell_type": "markdown",
   "metadata": {},
   "source": [
    "The below analysis from the Hoban/Borgers [Ethereum 2.0 Economic Model](https://docs.google.com/spreadsheets/d/1y18MoYSBLlHZ-ueN9m0a-JpC6tYjqDtpISJ6_WdicdE/edit#gid=1146360926) combines the simulation of average (i.e. not validator environment-specific) Revenue Yields, Profit Yields (across two illutrative ETH price levels), with the associated overall network inflation. Illustrative insights include: (TODO: double-check insights in Economic Report)\n",
    "\n",
    "* Both Revenue Yields and Profit Yields decrease systematically as adoption grows (base reward decreases at square root of number of validators, hence yields decrease)\n",
    "* Profit Yields at the 25 USD/ETH price level are lower (in fact negative as adoption grows) than at the 1500 USD/ETH ETH price level (decreasing relevance of operational costs)\n",
    "* Network issuance is expected to stay below 1,00% per year (and in fact turn negative after EIP1559 implementation) \n",
    "\n",
    "In a next step, we will recreate the below analysis using the CADLabs model and compare the results."
   ]
  },
  {
   "cell_type": "code",
   "execution_count": 10,
   "metadata": {},
   "outputs": [
    {
     "name": "stdout",
     "output_type": "stream",
     "text": [
      "time: 25.1 ms (started: 2021-06-17 14:48:57 +02:00)\n"
     ]
    }
   ],
   "source": [
    "net_yield_at_1500_dollars = 20.48\n",
    "net_yield_at_25_dollars = 14.39"
   ]
  },
  {
   "cell_type": "code",
   "execution_count": 11,
   "metadata": {},
   "outputs": [
    {
     "data": {
      "text/plain": [
       "6.09"
      ]
     },
     "execution_count": 11,
     "metadata": {},
     "output_type": "execute_result"
    },
    {
     "name": "stdout",
     "output_type": "stream",
     "text": [
      "time: 26.1 ms (started: 2021-06-17 14:48:57 +02:00)\n"
     ]
    }
   ],
   "source": [
    "# Difference between net yields for each ETH price scenario\n",
    "net_yield_at_1500_dollars - net_yield_at_25_dollars"
   ]
  },
  {
   "cell_type": "markdown",
   "metadata": {},
   "source": [
    "Annualized Model - Rev Yields vs. Network Inflation\n",
    "<span style=\"display:block;\"><img src=\"../outputs/hoban_borgers_economic_model/experiment_model_validation_scenario_2.png\" width=\"50%\"/></span>"
   ]
  },
  {
   "cell_type": "markdown",
   "metadata": {},
   "source": [
    "### Configuration"
   ]
  },
  {
   "cell_type": "code",
   "execution_count": 12,
   "metadata": {},
   "outputs": [
    {
     "name": "stdout",
     "output_type": "stream",
     "text": [
      "time: 32.2 ms (started: 2021-06-17 14:48:57 +02:00)\n"
     ]
    }
   ],
   "source": [
    "# Create a copy of the simulation\n",
    "simulation_2 = copy.deepcopy(simulation)\n",
    "\n",
    "eth_staked_samples = np.linspace(\n",
    "    524_288,  # From Hoban/Borgers Economic Report\n",
    "    33_600_000,  # From Hoban/Borgers Economic Report\n",
    "    50\n",
    ")\n",
    "\n",
    "parameter_overrides = {\n",
    "    \"eth_staked_process\": [\n",
    "        lambda run, timestep: eth_staked_samples[run - 1],\n",
    "    ],\n",
    "    \"eth_price_process\": [\n",
    "        # A sweep of two fixed ETH price points\n",
    "        lambda _run, _timestep: 25,  # From Hoban/Borgers Economic Report\n",
    "        lambda _run, _timestep: 1500,  # From Hoban/Borgers Economic Report\n",
    "    ],\n",
    "}\n",
    "\n",
    "# Override base experiment parameters\n",
    "simulation_2.model.params.update(parameter_overrides)"
   ]
  },
  {
   "cell_type": "markdown",
   "metadata": {},
   "source": [
    "### Execution"
   ]
  },
  {
   "cell_type": "code",
   "execution_count": 13,
   "metadata": {},
   "outputs": [
    {
     "name": "stdout",
     "output_type": "stream",
     "text": [
      "time: 627 ms (started: 2021-06-17 14:48:57 +02:00)\n"
     ]
    }
   ],
   "source": [
    "df_2, exceptions = run(simulation_2)"
   ]
  },
  {
   "cell_type": "markdown",
   "metadata": {},
   "source": [
    "### Output Preparation"
   ]
  },
  {
   "cell_type": "code",
   "execution_count": 14,
   "metadata": {},
   "outputs": [
    {
     "data": {
      "text/html": [
       "<div>\n",
       "<style scoped>\n",
       "    .dataframe tbody tr th:only-of-type {\n",
       "        vertical-align: middle;\n",
       "    }\n",
       "\n",
       "    .dataframe tbody tr th {\n",
       "        vertical-align: top;\n",
       "    }\n",
       "\n",
       "    .dataframe thead th {\n",
       "        text-align: right;\n",
       "    }\n",
       "</style>\n",
       "<table border=\"1\" class=\"dataframe\">\n",
       "  <thead>\n",
       "    <tr style=\"text-align: right;\">\n",
       "      <th></th>\n",
       "      <th>stage</th>\n",
       "      <th>timestamp</th>\n",
       "      <th>eth_price</th>\n",
       "      <th>eth_supply</th>\n",
       "      <th>eth_staked</th>\n",
       "      <th>supply_inflation</th>\n",
       "      <th>network_issuance</th>\n",
       "      <th>pow_issuance</th>\n",
       "      <th>number_of_validators_in_activation_queue</th>\n",
       "      <th>average_effective_balance</th>\n",
       "      <th>...</th>\n",
       "      <th>total_online_validator_rewards_eth</th>\n",
       "      <th>total_tips_to_validators_eth</th>\n",
       "      <th>source_reward_eth</th>\n",
       "      <th>target_reward_eth</th>\n",
       "      <th>head_reward_eth</th>\n",
       "      <th>block_proposer_reward_eth</th>\n",
       "      <th>sync_reward_eth</th>\n",
       "      <th>whistleblower_rewards_eth</th>\n",
       "      <th>validating_penalties_eth</th>\n",
       "      <th>amount_slashed_eth</th>\n",
       "    </tr>\n",
       "  </thead>\n",
       "  <tbody>\n",
       "    <tr>\n",
       "      <th>1</th>\n",
       "      <td>2.0</td>\n",
       "      <td>2021-06-17 14:48:54.923321</td>\n",
       "      <td>25</td>\n",
       "      <td>1.121123e+08</td>\n",
       "      <td>5.242880e+05</td>\n",
       "      <td>0.001017</td>\n",
       "      <td>112259.926774</td>\n",
       "      <td>0.0</td>\n",
       "      <td>0</td>\n",
       "      <td>3.200000e+10</td>\n",
       "      <td>...</td>\n",
       "      <td>112300.426774</td>\n",
       "      <td>0.0</td>\n",
       "      <td>24938.696305</td>\n",
       "      <td>46314.721709</td>\n",
       "      <td>24938.696305</td>\n",
       "      <td>14540.898060</td>\n",
       "      <td>3635.224515</td>\n",
       "      <td>5.062500</td>\n",
       "      <td>2072.872620</td>\n",
       "      <td>40.500000</td>\n",
       "    </tr>\n",
       "    <tr>\n",
       "      <th>3</th>\n",
       "      <td>2.0</td>\n",
       "      <td>2021-06-17 14:48:54.923321</td>\n",
       "      <td>1500</td>\n",
       "      <td>1.121123e+08</td>\n",
       "      <td>5.242880e+05</td>\n",
       "      <td>0.001017</td>\n",
       "      <td>112259.926774</td>\n",
       "      <td>0.0</td>\n",
       "      <td>0</td>\n",
       "      <td>3.200000e+10</td>\n",
       "      <td>...</td>\n",
       "      <td>112300.426774</td>\n",
       "      <td>0.0</td>\n",
       "      <td>24938.696305</td>\n",
       "      <td>46314.721709</td>\n",
       "      <td>24938.696305</td>\n",
       "      <td>14540.898060</td>\n",
       "      <td>3635.224515</td>\n",
       "      <td>5.062500</td>\n",
       "      <td>2072.872620</td>\n",
       "      <td>40.500000</td>\n",
       "    </tr>\n",
       "    <tr>\n",
       "      <th>5</th>\n",
       "      <td>2.0</td>\n",
       "      <td>2021-06-17 14:48:54.923321</td>\n",
       "      <td>25</td>\n",
       "      <td>1.121698e+08</td>\n",
       "      <td>1.199303e+06</td>\n",
       "      <td>0.001538</td>\n",
       "      <td>169804.022002</td>\n",
       "      <td>0.0</td>\n",
       "      <td>0</td>\n",
       "      <td>3.200000e+10</td>\n",
       "      <td>...</td>\n",
       "      <td>169844.522002</td>\n",
       "      <td>0.0</td>\n",
       "      <td>37718.158016</td>\n",
       "      <td>70048.007743</td>\n",
       "      <td>37718.158016</td>\n",
       "      <td>21992.160960</td>\n",
       "      <td>5498.040240</td>\n",
       "      <td>5.062500</td>\n",
       "      <td>3135.065472</td>\n",
       "      <td>40.500000</td>\n",
       "    </tr>\n",
       "    <tr>\n",
       "      <th>7</th>\n",
       "      <td>2.0</td>\n",
       "      <td>2021-06-17 14:48:54.923321</td>\n",
       "      <td>1500</td>\n",
       "      <td>1.121698e+08</td>\n",
       "      <td>1.199303e+06</td>\n",
       "      <td>0.001538</td>\n",
       "      <td>169804.022002</td>\n",
       "      <td>0.0</td>\n",
       "      <td>0</td>\n",
       "      <td>3.200000e+10</td>\n",
       "      <td>...</td>\n",
       "      <td>169844.522002</td>\n",
       "      <td>0.0</td>\n",
       "      <td>37718.158016</td>\n",
       "      <td>70048.007743</td>\n",
       "      <td>37718.158016</td>\n",
       "      <td>21992.160960</td>\n",
       "      <td>5498.040240</td>\n",
       "      <td>5.062500</td>\n",
       "      <td>3135.065472</td>\n",
       "      <td>40.500000</td>\n",
       "    </tr>\n",
       "    <tr>\n",
       "      <th>9</th>\n",
       "      <td>2.0</td>\n",
       "      <td>2021-06-17 14:48:54.923321</td>\n",
       "      <td>25</td>\n",
       "      <td>1.122123e+08</td>\n",
       "      <td>1.874317e+06</td>\n",
       "      <td>0.001923</td>\n",
       "      <td>212252.224791</td>\n",
       "      <td>0.0</td>\n",
       "      <td>0</td>\n",
       "      <td>3.200000e+10</td>\n",
       "      <td>...</td>\n",
       "      <td>212292.724791</td>\n",
       "      <td>0.0</td>\n",
       "      <td>47145.106321</td>\n",
       "      <td>87555.197454</td>\n",
       "      <td>47145.106321</td>\n",
       "      <td>27488.689416</td>\n",
       "      <td>6872.172354</td>\n",
       "      <td>5.062500</td>\n",
       "      <td>3918.609576</td>\n",
       "      <td>40.500000</td>\n",
       "    </tr>\n",
       "    <tr>\n",
       "      <th>...</th>\n",
       "      <td>...</td>\n",
       "      <td>...</td>\n",
       "      <td>...</td>\n",
       "      <td>...</td>\n",
       "      <td>...</td>\n",
       "      <td>...</td>\n",
       "      <td>...</td>\n",
       "      <td>...</td>\n",
       "      <td>...</td>\n",
       "      <td>...</td>\n",
       "      <td>...</td>\n",
       "      <td>...</td>\n",
       "      <td>...</td>\n",
       "      <td>...</td>\n",
       "      <td>...</td>\n",
       "      <td>...</td>\n",
       "      <td>...</td>\n",
       "      <td>...</td>\n",
       "      <td>...</td>\n",
       "      <td>...</td>\n",
       "      <td>...</td>\n",
       "    </tr>\n",
       "    <tr>\n",
       "      <th>191</th>\n",
       "      <td>2.0</td>\n",
       "      <td>2021-06-17 14:48:54.923321</td>\n",
       "      <td>1500</td>\n",
       "      <td>1.128798e+08</td>\n",
       "      <td>3.224997e+07</td>\n",
       "      <td>0.007969</td>\n",
       "      <td>879764.625024</td>\n",
       "      <td>0.0</td>\n",
       "      <td>0</td>\n",
       "      <td>3.199999e+10</td>\n",
       "      <td>...</td>\n",
       "      <td>879805.125006</td>\n",
       "      <td>0.0</td>\n",
       "      <td>195387.818194</td>\n",
       "      <td>362863.090932</td>\n",
       "      <td>195387.818194</td>\n",
       "      <td>113924.461392</td>\n",
       "      <td>28481.115348</td>\n",
       "      <td>5.062498</td>\n",
       "      <td>16244.241552</td>\n",
       "      <td>40.499982</td>\n",
       "    </tr>\n",
       "    <tr>\n",
       "      <th>193</th>\n",
       "      <td>2.0</td>\n",
       "      <td>2021-06-17 14:48:54.923321</td>\n",
       "      <td>25</td>\n",
       "      <td>1.128881e+08</td>\n",
       "      <td>3.292499e+07</td>\n",
       "      <td>0.008045</td>\n",
       "      <td>888087.218524</td>\n",
       "      <td>0.0</td>\n",
       "      <td>0</td>\n",
       "      <td>3.199999e+10</td>\n",
       "      <td>...</td>\n",
       "      <td>888127.718515</td>\n",
       "      <td>0.0</td>\n",
       "      <td>197236.101610</td>\n",
       "      <td>366295.617276</td>\n",
       "      <td>197236.101610</td>\n",
       "      <td>115002.125568</td>\n",
       "      <td>28750.531392</td>\n",
       "      <td>5.062499</td>\n",
       "      <td>16397.821440</td>\n",
       "      <td>40.499991</td>\n",
       "    </tr>\n",
       "    <tr>\n",
       "      <th>195</th>\n",
       "      <td>2.0</td>\n",
       "      <td>2021-06-17 14:48:54.923321</td>\n",
       "      <td>1500</td>\n",
       "      <td>1.128881e+08</td>\n",
       "      <td>3.292499e+07</td>\n",
       "      <td>0.008045</td>\n",
       "      <td>888087.218524</td>\n",
       "      <td>0.0</td>\n",
       "      <td>0</td>\n",
       "      <td>3.199999e+10</td>\n",
       "      <td>...</td>\n",
       "      <td>888127.718515</td>\n",
       "      <td>0.0</td>\n",
       "      <td>197236.101610</td>\n",
       "      <td>366295.617276</td>\n",
       "      <td>197236.101610</td>\n",
       "      <td>115002.125568</td>\n",
       "      <td>28750.531392</td>\n",
       "      <td>5.062499</td>\n",
       "      <td>16397.821440</td>\n",
       "      <td>40.499991</td>\n",
       "    </tr>\n",
       "    <tr>\n",
       "      <th>197</th>\n",
       "      <td>2.0</td>\n",
       "      <td>2021-06-17 14:48:54.923321</td>\n",
       "      <td>25</td>\n",
       "      <td>1.128986e+08</td>\n",
       "      <td>3.360000e+07</td>\n",
       "      <td>0.008140</td>\n",
       "      <td>898570.797092</td>\n",
       "      <td>0.0</td>\n",
       "      <td>0</td>\n",
       "      <td>3.200000e+10</td>\n",
       "      <td>...</td>\n",
       "      <td>898611.297092</td>\n",
       "      <td>0.0</td>\n",
       "      <td>199564.301323</td>\n",
       "      <td>370619.416743</td>\n",
       "      <td>199564.301323</td>\n",
       "      <td>116359.613964</td>\n",
       "      <td>29089.903491</td>\n",
       "      <td>5.062500</td>\n",
       "      <td>16591.302252</td>\n",
       "      <td>40.500000</td>\n",
       "    </tr>\n",
       "    <tr>\n",
       "      <th>199</th>\n",
       "      <td>2.0</td>\n",
       "      <td>2021-06-17 14:48:54.923321</td>\n",
       "      <td>1500</td>\n",
       "      <td>1.128986e+08</td>\n",
       "      <td>3.360000e+07</td>\n",
       "      <td>0.008140</td>\n",
       "      <td>898570.797092</td>\n",
       "      <td>0.0</td>\n",
       "      <td>0</td>\n",
       "      <td>3.200000e+10</td>\n",
       "      <td>...</td>\n",
       "      <td>898611.297092</td>\n",
       "      <td>0.0</td>\n",
       "      <td>199564.301323</td>\n",
       "      <td>370619.416743</td>\n",
       "      <td>199564.301323</td>\n",
       "      <td>116359.613964</td>\n",
       "      <td>29089.903491</td>\n",
       "      <td>5.062500</td>\n",
       "      <td>16591.302252</td>\n",
       "      <td>40.500000</td>\n",
       "    </tr>\n",
       "  </tbody>\n",
       "</table>\n",
       "<p>100 rows × 152 columns</p>\n",
       "</div>"
      ],
      "text/plain": [
       "     stage                  timestamp  eth_price    eth_supply    eth_staked  \\\n",
       "1      2.0 2021-06-17 14:48:54.923321         25  1.121123e+08  5.242880e+05   \n",
       "3      2.0 2021-06-17 14:48:54.923321       1500  1.121123e+08  5.242880e+05   \n",
       "5      2.0 2021-06-17 14:48:54.923321         25  1.121698e+08  1.199303e+06   \n",
       "7      2.0 2021-06-17 14:48:54.923321       1500  1.121698e+08  1.199303e+06   \n",
       "9      2.0 2021-06-17 14:48:54.923321         25  1.122123e+08  1.874317e+06   \n",
       "..     ...                        ...        ...           ...           ...   \n",
       "191    2.0 2021-06-17 14:48:54.923321       1500  1.128798e+08  3.224997e+07   \n",
       "193    2.0 2021-06-17 14:48:54.923321         25  1.128881e+08  3.292499e+07   \n",
       "195    2.0 2021-06-17 14:48:54.923321       1500  1.128881e+08  3.292499e+07   \n",
       "197    2.0 2021-06-17 14:48:54.923321         25  1.128986e+08  3.360000e+07   \n",
       "199    2.0 2021-06-17 14:48:54.923321       1500  1.128986e+08  3.360000e+07   \n",
       "\n",
       "     supply_inflation  network_issuance  pow_issuance  \\\n",
       "1            0.001017     112259.926774           0.0   \n",
       "3            0.001017     112259.926774           0.0   \n",
       "5            0.001538     169804.022002           0.0   \n",
       "7            0.001538     169804.022002           0.0   \n",
       "9            0.001923     212252.224791           0.0   \n",
       "..                ...               ...           ...   \n",
       "191          0.007969     879764.625024           0.0   \n",
       "193          0.008045     888087.218524           0.0   \n",
       "195          0.008045     888087.218524           0.0   \n",
       "197          0.008140     898570.797092           0.0   \n",
       "199          0.008140     898570.797092           0.0   \n",
       "\n",
       "     number_of_validators_in_activation_queue  average_effective_balance  ...  \\\n",
       "1                                           0               3.200000e+10  ...   \n",
       "3                                           0               3.200000e+10  ...   \n",
       "5                                           0               3.200000e+10  ...   \n",
       "7                                           0               3.200000e+10  ...   \n",
       "9                                           0               3.200000e+10  ...   \n",
       "..                                        ...                        ...  ...   \n",
       "191                                         0               3.199999e+10  ...   \n",
       "193                                         0               3.199999e+10  ...   \n",
       "195                                         0               3.199999e+10  ...   \n",
       "197                                         0               3.200000e+10  ...   \n",
       "199                                         0               3.200000e+10  ...   \n",
       "\n",
       "     total_online_validator_rewards_eth  total_tips_to_validators_eth  \\\n",
       "1                         112300.426774                           0.0   \n",
       "3                         112300.426774                           0.0   \n",
       "5                         169844.522002                           0.0   \n",
       "7                         169844.522002                           0.0   \n",
       "9                         212292.724791                           0.0   \n",
       "..                                  ...                           ...   \n",
       "191                       879805.125006                           0.0   \n",
       "193                       888127.718515                           0.0   \n",
       "195                       888127.718515                           0.0   \n",
       "197                       898611.297092                           0.0   \n",
       "199                       898611.297092                           0.0   \n",
       "\n",
       "     source_reward_eth  target_reward_eth  head_reward_eth  \\\n",
       "1         24938.696305       46314.721709     24938.696305   \n",
       "3         24938.696305       46314.721709     24938.696305   \n",
       "5         37718.158016       70048.007743     37718.158016   \n",
       "7         37718.158016       70048.007743     37718.158016   \n",
       "9         47145.106321       87555.197454     47145.106321   \n",
       "..                 ...                ...              ...   \n",
       "191      195387.818194      362863.090932    195387.818194   \n",
       "193      197236.101610      366295.617276    197236.101610   \n",
       "195      197236.101610      366295.617276    197236.101610   \n",
       "197      199564.301323      370619.416743    199564.301323   \n",
       "199      199564.301323      370619.416743    199564.301323   \n",
       "\n",
       "     block_proposer_reward_eth  sync_reward_eth  whistleblower_rewards_eth  \\\n",
       "1                 14540.898060      3635.224515                   5.062500   \n",
       "3                 14540.898060      3635.224515                   5.062500   \n",
       "5                 21992.160960      5498.040240                   5.062500   \n",
       "7                 21992.160960      5498.040240                   5.062500   \n",
       "9                 27488.689416      6872.172354                   5.062500   \n",
       "..                         ...              ...                        ...   \n",
       "191              113924.461392     28481.115348                   5.062498   \n",
       "193              115002.125568     28750.531392                   5.062499   \n",
       "195              115002.125568     28750.531392                   5.062499   \n",
       "197              116359.613964     29089.903491                   5.062500   \n",
       "199              116359.613964     29089.903491                   5.062500   \n",
       "\n",
       "     validating_penalties_eth  amount_slashed_eth  \n",
       "1                 2072.872620           40.500000  \n",
       "3                 2072.872620           40.500000  \n",
       "5                 3135.065472           40.500000  \n",
       "7                 3135.065472           40.500000  \n",
       "9                 3918.609576           40.500000  \n",
       "..                        ...                 ...  \n",
       "191              16244.241552           40.499982  \n",
       "193              16397.821440           40.499991  \n",
       "195              16397.821440           40.499991  \n",
       "197              16591.302252           40.500000  \n",
       "199              16591.302252           40.500000  \n",
       "\n",
       "[100 rows x 152 columns]"
      ]
     },
     "execution_count": 14,
     "metadata": {},
     "output_type": "execute_result"
    },
    {
     "name": "stdout",
     "output_type": "stream",
     "text": [
      "time: 69.1 ms (started: 2021-06-17 14:48:57 +02:00)\n"
     ]
    }
   ],
   "source": [
    "df_2"
   ]
  },
  {
   "cell_type": "markdown",
   "metadata": {},
   "source": [
    "### Analysis Results\n",
    "\n",
    "The below plot recreate Hoban/Borger's analysis. The Profit Yields in either ETH price scenario differ slightly between the Hoban/Borgers and the CADLabs model - likely due to the Altair updates - whereas the annualized inflation rates match very closely, within `0.01` of a percent. We conclude that the model is valid for this specific scenario analysis."
   ]
  },
  {
   "cell_type": "code",
   "execution_count": 15,
   "metadata": {},
   "outputs": [
    {
     "data": {
      "application/vnd.plotly.v1+json": {
       "config": {
        "plotlyServerURL": "https://plot.ly"
       },
       "data": [
        {
         "name": "Revenue Yields",
         "type": "scatter",
         "x": [
          524288,
          1199302.5306122447,
          1874317.0612244897,
          2549331.5918367347,
          3224346.1224489794,
          3899360.653061224,
          4574375.183673469,
          5249389.714285714,
          5924404.244897959,
          6599418.775510204,
          7274433.306122448,
          7949447.8367346935,
          8624462.367346939,
          9299476.897959184,
          9974491.428571427,
          10649505.959183672,
          11324520.489795918,
          11999535.020408163,
          12674549.551020408,
          13349564.081632651,
          14024578.612244897,
          14699593.142857142,
          15374607.673469387,
          16049622.204081632,
          16724636.734693877,
          17399651.265306123,
          18074665.795918368,
          18749680.32653061,
          19424694.857142854,
          20099709.3877551,
          20774723.918367345,
          21449738.44897959,
          22124752.979591835,
          22799767.51020408,
          23474782.040816326,
          24149796.57142857,
          24824811.102040816,
          25499825.63265306,
          26174840.163265303,
          26849854.693877548,
          27524869.224489793,
          28199883.75510204,
          28874898.285714284,
          29549912.81632653,
          30224927.346938774,
          30899941.87755102,
          31574956.408163264,
          32249970.93877551,
          32924985.469387755,
          33600000
         ],
         "xaxis": "x",
         "y": [
          21.948961712498036,
          14.511933710118747,
          11.60632011419861,
          9.949487706055207,
          8.850048656710502,
          8.040998381465156,
          7.4285056493639114,
          6.93379859682024,
          6.52550538062515,
          6.179988904614689,
          5.889440976191582,
          5.6303038675303725,
          5.410429894216753,
          5.20628036991356,
          5.025622180426039,
          4.868572150247614,
          4.719374553623099,
          4.585881867363409,
          4.46025354270551,
          4.342464889511364,
          4.240381307804367,
          4.138297810161283,
          4.051919368570876,
          3.9655493487813347,
          3.8791494569257687,
          3.80847692674868,
          3.7378043902209273,
          3.6671384612534856,
          3.6043180477583356,
          3.541497655164515,
          3.4865297697144895,
          3.4237094138284565,
          3.376599213337005,
          3.3216179132769126,
          3.2745029372154857,
          3.227387955521408,
          3.188125442907782,
          3.1410146172851157,
          3.1017519403546636,
          3.0624892691042964,
          3.023226603113699,
          2.9918164302859416,
          2.9525572317586106,
          2.9211379764743244,
          2.8897280041572446,
          2.8583180283925236,
          2.826908049403369,
          2.795500998360736,
          2.7640909211719116,
          2.7405333318268896
         ],
         "yaxis": "y"
        },
        {
         "name": "Profit Yields @ 25 $/ETH",
         "type": "scatter",
         "x": [
          524288,
          1199302.5306122447,
          1874317.0612244897,
          2549331.5918367347,
          3224346.1224489794,
          3899360.653061224,
          4574375.183673469,
          5249389.714285714,
          5924404.244897959,
          6599418.775510204,
          7274433.306122448,
          7949447.8367346935,
          8624462.367346939,
          9299476.897959184,
          9974491.428571427,
          10649505.959183672,
          11324520.489795918,
          11999535.020408163,
          12674549.551020408,
          13349564.081632651,
          14024578.612244897,
          14699593.142857142,
          15374607.673469387,
          16049622.204081632,
          16724636.734693877,
          17399651.265306123,
          18074665.795918368,
          18749680.32653061,
          19424694.857142854,
          20099709.3877551,
          20774723.918367345,
          21449738.44897959,
          22124752.979591835,
          22799767.51020408,
          23474782.040816326,
          24149796.57142857,
          24824811.102040816,
          25499825.63265306,
          26174840.163265303,
          26849854.693877548,
          27524869.224489793,
          28199883.75510204,
          28874898.285714284,
          29549912.81632653,
          30224927.346938774,
          30899941.87755102,
          31574956.408163264,
          32249970.93877551,
          32924985.469387755,
          33600000
         ],
         "xaxis": "x",
         "y": [
          14.310968618463487,
          7.2715990967458675,
          4.52134498521818,
          2.9530191839275752,
          1.9123817045421807,
          1.1466004491812258,
          0.5668639225176454,
          0.09861329081898561,
          -0.2878801025833115,
          -0.6149157114185021,
          -0.8899231157995648,
          -1.135200157016521,
          -1.3433140959033065,
          -1.5365671817478574,
          -1.707561663753034,
          -1.8562108076267756,
          -1.9974278460018522,
          -2.123780053929279,
          -2.2427050379497544,
          -2.354192648077941,
          -2.4508151941692318,
          -2.5474379455408283,
          -2.6291955644551024,
          -2.7109583169621585,
          -2.792736125169765,
          -2.8596276487515215,
          -2.9265193632274067,
          -2.9934160212412384,
          -3.0528753584035164,
          -3.112334834372765,
          -3.1643617833457864,
          -3.223821497320842,
          -3.2684204724257393,
          -3.320460196648625,
          -3.3650542865713775,
          -3.4096484862296834,
          -3.446810147675541,
          -3.491408709977781,
          -3.5285704874644415,
          -3.5657323453945726,
          -3.6028942778521262,
          -3.632623627211578,
          -3.6697895841417583,
          -3.6995274992491494,
          -3.7292566946521473,
          -3.7589859558768923,
          -3.7887152786999563,
          -3.8184482993679563,
          -3.8481776900007745,
          -3.870474482449003
         ],
         "yaxis": "y"
        },
        {
         "name": "Profit Yields @ 1500 $/ETH",
         "type": "scatter",
         "x": [
          524288,
          1199302.5306122447,
          1874317.0612244897,
          2549331.5918367347,
          3224346.1224489794,
          3899360.653061224,
          4574375.183673469,
          5249389.714285714,
          5924404.244897959,
          6599418.775510204,
          7274433.306122448,
          7949447.8367346935,
          8624462.367346939,
          9299476.897959184,
          9974491.428571427,
          10649505.959183672,
          11324520.489795918,
          11999535.020408163,
          12674549.551020408,
          13349564.081632651,
          14024578.612244897,
          14699593.142857142,
          15374607.673469387,
          16049622.204081632,
          16724636.734693877,
          17399651.265306123,
          18074665.795918368,
          18749680.32653061,
          19424694.857142854,
          20099709.3877551,
          20774723.918367345,
          21449738.44897959,
          22124752.979591835,
          22799767.51020408,
          23474782.040816326,
          24149796.57142857,
          24824811.102040816,
          25499825.63265306,
          26174840.163265303,
          26849854.693877548,
          27524869.224489793,
          28199883.75510204,
          28874898.285714284,
          29549912.81632653,
          30224927.346938774,
          30899941.87755102,
          31574956.408163264,
          32249970.93877551,
          32924985.469387755,
          33600000
         ],
         "xaxis": "x",
         "y": [
          20.66771146429682,
          13.628307327941435,
          10.878043533932816,
          9.309792969440673,
          8.269136137866118,
          7.503342230393296,
          6.92359678561823,
          6.455339529352738,
          6.068875356190954,
          5.741832166788022,
          5.4668185886823855,
          5.2215364222045615,
          5.013418160338933,
          4.820183252987445,
          4.6491840954514805,
          4.500530868760122,
          4.359310234292002,
          4.232954834856391,
          4.1140430484229755,
          4.002552063588123,
          3.9059264676449943,
          3.809300946523774,
          3.7275408010688453,
          3.6457884087216286,
          3.5640079617494975,
          3.4971140041434574,
          3.4302200374449097,
          3.3633321384007915,
          3.303870479435208,
          3.2444088376102784,
          3.1923798635280005,
          3.1329182519024132,
          3.08832668897542,
          3.0362850162022412,
          2.9916890897898543,
          2.9470931563058995,
          2.9099298553237327,
          2.865337717430233,
          2.8281742615746763,
          2.791010809665185,
          2.753847361409149,
          2.724116568817897,
          2.686956280860222,
          2.6572168919276593,
          2.6274862885294814,
          2.5977556808253506,
          2.568025069093411,
          2.53829712094352,
          2.5085664166811834,
          2.48626836338433
         ],
         "yaxis": "y"
        },
        {
         "name": "Network Inflation Rate",
         "type": "scatter",
         "x": [
          524288,
          1199302.5306122447,
          1874317.0612244897,
          2549331.5918367347,
          3224346.1224489794,
          3899360.653061224,
          4574375.183673469,
          5249389.714285714,
          5924404.244897959,
          6599418.775510204,
          7274433.306122448,
          7949447.8367346935,
          8624462.367346939,
          9299476.897959184,
          9974491.428571427,
          10649505.959183672,
          11324520.489795918,
          11999535.020408163,
          12674549.551020408,
          13349564.081632651,
          14024578.612244897,
          14699593.142857142,
          15374607.673469387,
          16049622.204081632,
          16724636.734693877,
          17399651.265306123,
          18074665.795918368,
          18749680.32653061,
          19424694.857142854,
          20099709.3877551,
          20774723.918367345,
          21449738.44897959,
          22124752.979591835,
          22799767.51020408,
          23474782.040816326,
          24149796.57142857,
          24824811.102040816,
          25499825.63265306,
          26174840.163265303,
          26849854.693877548,
          27524869.224489793,
          28199883.75510204,
          28874898.285714284,
          29549912.81632653,
          30224927.346938774,
          30899941.87755102,
          31574956.408163264,
          32249970.93877551,
          32924985.469387755,
          33600000
         ],
         "xaxis": "x",
         "y": [
          0.10169224848233885,
          0.15381938412855864,
          0.19227169128425936,
          0.22419018089465348,
          0.2522230373716123,
          0.27714464824977203,
          0.3003591036441694,
          0.3217296759642581,
          0.341721903248658,
          0.36050375462637463,
          0.378696919215438,
          0.3956299222940089,
          0.4124637457906759,
          0.42796617697729367,
          0.44310356501044296,
          0.4583074437480342,
          0.472423123599065,
          0.48642415113933885,
          0.4997131758374962,
          0.5124280695369239,
          0.5256843255586648,
          0.5377222774341187,
          0.550676454440497,
          0.5626009440609266,
          0.5734902353046722,
          0.5857675060766606,
          0.5972013355176777,
          0.6077928197946639,
          0.6188881555687762,
          0.629233765707615,
          0.6402717760695491,
          0.6491647928034796,
          0.6603807763363686,
          0.6694480736570568,
          0.6794916252961749,
          0.6889728827167677,
          0.6996151149204021,
          0.7080195806473965,
          0.7176777862106725,
          0.7268674132542877,
          0.7355884617813214,
          0.7457984924033585,
          0.7536301243086718,
          0.7630412167645474,
          0.7720798169042453,
          0.7807435542334265,
          0.7890324287464396,
          0.7969472760631285,
          0.8044864155457915,
          0.8139831140327396
         ],
         "yaxis": "y2"
        }
       ],
       "layout": {
        "autosize": true,
        "legend": {
         "title": {
          "text": ""
         }
        },
        "template": {
         "data": {
          "bar": [
           {
            "error_x": {
             "color": "rgb(36,36,36)"
            },
            "error_y": {
             "color": "rgb(36,36,36)"
            },
            "marker": {
             "line": {
              "color": "white",
              "width": 0.5
             }
            },
            "type": "bar"
           }
          ],
          "barpolar": [
           {
            "marker": {
             "line": {
              "color": "white",
              "width": 0.5
             }
            },
            "type": "barpolar"
           }
          ],
          "carpet": [
           {
            "aaxis": {
             "endlinecolor": "rgb(36,36,36)",
             "gridcolor": "white",
             "linecolor": "white",
             "minorgridcolor": "white",
             "startlinecolor": "rgb(36,36,36)"
            },
            "baxis": {
             "endlinecolor": "rgb(36,36,36)",
             "gridcolor": "white",
             "linecolor": "white",
             "minorgridcolor": "white",
             "startlinecolor": "rgb(36,36,36)"
            },
            "type": "carpet"
           }
          ],
          "choropleth": [
           {
            "colorbar": {
             "outlinewidth": 1,
             "tickcolor": "rgb(36,36,36)",
             "ticks": "outside"
            },
            "type": "choropleth"
           }
          ],
          "contour": [
           {
            "colorbar": {
             "outlinewidth": 1,
             "tickcolor": "rgb(36,36,36)",
             "ticks": "outside"
            },
            "colorscale": [
             [
              0,
              "#440154"
             ],
             [
              0.1111111111111111,
              "#482878"
             ],
             [
              0.2222222222222222,
              "#3e4989"
             ],
             [
              0.3333333333333333,
              "#31688e"
             ],
             [
              0.4444444444444444,
              "#26828e"
             ],
             [
              0.5555555555555556,
              "#1f9e89"
             ],
             [
              0.6666666666666666,
              "#35b779"
             ],
             [
              0.7777777777777778,
              "#6ece58"
             ],
             [
              0.8888888888888888,
              "#b5de2b"
             ],
             [
              1,
              "#fde725"
             ]
            ],
            "type": "contour"
           }
          ],
          "contourcarpet": [
           {
            "colorbar": {
             "outlinewidth": 1,
             "tickcolor": "rgb(36,36,36)",
             "ticks": "outside"
            },
            "type": "contourcarpet"
           }
          ],
          "heatmap": [
           {
            "colorbar": {
             "outlinewidth": 1,
             "tickcolor": "rgb(36,36,36)",
             "ticks": "outside"
            },
            "colorscale": [
             [
              0,
              "#440154"
             ],
             [
              0.1111111111111111,
              "#482878"
             ],
             [
              0.2222222222222222,
              "#3e4989"
             ],
             [
              0.3333333333333333,
              "#31688e"
             ],
             [
              0.4444444444444444,
              "#26828e"
             ],
             [
              0.5555555555555556,
              "#1f9e89"
             ],
             [
              0.6666666666666666,
              "#35b779"
             ],
             [
              0.7777777777777778,
              "#6ece58"
             ],
             [
              0.8888888888888888,
              "#b5de2b"
             ],
             [
              1,
              "#fde725"
             ]
            ],
            "type": "heatmap"
           }
          ],
          "heatmapgl": [
           {
            "colorbar": {
             "outlinewidth": 1,
             "tickcolor": "rgb(36,36,36)",
             "ticks": "outside"
            },
            "colorscale": [
             [
              0,
              "#440154"
             ],
             [
              0.1111111111111111,
              "#482878"
             ],
             [
              0.2222222222222222,
              "#3e4989"
             ],
             [
              0.3333333333333333,
              "#31688e"
             ],
             [
              0.4444444444444444,
              "#26828e"
             ],
             [
              0.5555555555555556,
              "#1f9e89"
             ],
             [
              0.6666666666666666,
              "#35b779"
             ],
             [
              0.7777777777777778,
              "#6ece58"
             ],
             [
              0.8888888888888888,
              "#b5de2b"
             ],
             [
              1,
              "#fde725"
             ]
            ],
            "type": "heatmapgl"
           }
          ],
          "histogram": [
           {
            "marker": {
             "line": {
              "color": "white",
              "width": 0.6
             }
            },
            "type": "histogram"
           }
          ],
          "histogram2d": [
           {
            "colorbar": {
             "outlinewidth": 1,
             "tickcolor": "rgb(36,36,36)",
             "ticks": "outside"
            },
            "colorscale": [
             [
              0,
              "#440154"
             ],
             [
              0.1111111111111111,
              "#482878"
             ],
             [
              0.2222222222222222,
              "#3e4989"
             ],
             [
              0.3333333333333333,
              "#31688e"
             ],
             [
              0.4444444444444444,
              "#26828e"
             ],
             [
              0.5555555555555556,
              "#1f9e89"
             ],
             [
              0.6666666666666666,
              "#35b779"
             ],
             [
              0.7777777777777778,
              "#6ece58"
             ],
             [
              0.8888888888888888,
              "#b5de2b"
             ],
             [
              1,
              "#fde725"
             ]
            ],
            "type": "histogram2d"
           }
          ],
          "histogram2dcontour": [
           {
            "colorbar": {
             "outlinewidth": 1,
             "tickcolor": "rgb(36,36,36)",
             "ticks": "outside"
            },
            "colorscale": [
             [
              0,
              "#440154"
             ],
             [
              0.1111111111111111,
              "#482878"
             ],
             [
              0.2222222222222222,
              "#3e4989"
             ],
             [
              0.3333333333333333,
              "#31688e"
             ],
             [
              0.4444444444444444,
              "#26828e"
             ],
             [
              0.5555555555555556,
              "#1f9e89"
             ],
             [
              0.6666666666666666,
              "#35b779"
             ],
             [
              0.7777777777777778,
              "#6ece58"
             ],
             [
              0.8888888888888888,
              "#b5de2b"
             ],
             [
              1,
              "#fde725"
             ]
            ],
            "type": "histogram2dcontour"
           }
          ],
          "mesh3d": [
           {
            "colorbar": {
             "outlinewidth": 1,
             "tickcolor": "rgb(36,36,36)",
             "ticks": "outside"
            },
            "type": "mesh3d"
           }
          ],
          "parcoords": [
           {
            "line": {
             "colorbar": {
              "outlinewidth": 1,
              "tickcolor": "rgb(36,36,36)",
              "ticks": "outside"
             }
            },
            "type": "parcoords"
           }
          ],
          "pie": [
           {
            "automargin": true,
            "type": "pie"
           }
          ],
          "scatter": [
           {
            "marker": {
             "colorbar": {
              "outlinewidth": 1,
              "tickcolor": "rgb(36,36,36)",
              "ticks": "outside"
             }
            },
            "type": "scatter"
           }
          ],
          "scatter3d": [
           {
            "line": {
             "colorbar": {
              "outlinewidth": 1,
              "tickcolor": "rgb(36,36,36)",
              "ticks": "outside"
             }
            },
            "marker": {
             "colorbar": {
              "outlinewidth": 1,
              "tickcolor": "rgb(36,36,36)",
              "ticks": "outside"
             }
            },
            "type": "scatter3d"
           }
          ],
          "scattercarpet": [
           {
            "marker": {
             "colorbar": {
              "outlinewidth": 1,
              "tickcolor": "rgb(36,36,36)",
              "ticks": "outside"
             }
            },
            "type": "scattercarpet"
           }
          ],
          "scattergeo": [
           {
            "marker": {
             "colorbar": {
              "outlinewidth": 1,
              "tickcolor": "rgb(36,36,36)",
              "ticks": "outside"
             }
            },
            "type": "scattergeo"
           }
          ],
          "scattergl": [
           {
            "marker": {
             "colorbar": {
              "outlinewidth": 1,
              "tickcolor": "rgb(36,36,36)",
              "ticks": "outside"
             }
            },
            "type": "scattergl"
           }
          ],
          "scattermapbox": [
           {
            "marker": {
             "colorbar": {
              "outlinewidth": 1,
              "tickcolor": "rgb(36,36,36)",
              "ticks": "outside"
             }
            },
            "type": "scattermapbox"
           }
          ],
          "scatterpolar": [
           {
            "marker": {
             "colorbar": {
              "outlinewidth": 1,
              "tickcolor": "rgb(36,36,36)",
              "ticks": "outside"
             }
            },
            "type": "scatterpolar"
           }
          ],
          "scatterpolargl": [
           {
            "marker": {
             "colorbar": {
              "outlinewidth": 1,
              "tickcolor": "rgb(36,36,36)",
              "ticks": "outside"
             }
            },
            "type": "scatterpolargl"
           }
          ],
          "scatterternary": [
           {
            "marker": {
             "colorbar": {
              "outlinewidth": 1,
              "tickcolor": "rgb(36,36,36)",
              "ticks": "outside"
             }
            },
            "type": "scatterternary"
           }
          ],
          "surface": [
           {
            "colorbar": {
             "outlinewidth": 1,
             "tickcolor": "rgb(36,36,36)",
             "ticks": "outside"
            },
            "colorscale": [
             [
              0,
              "#440154"
             ],
             [
              0.1111111111111111,
              "#482878"
             ],
             [
              0.2222222222222222,
              "#3e4989"
             ],
             [
              0.3333333333333333,
              "#31688e"
             ],
             [
              0.4444444444444444,
              "#26828e"
             ],
             [
              0.5555555555555556,
              "#1f9e89"
             ],
             [
              0.6666666666666666,
              "#35b779"
             ],
             [
              0.7777777777777778,
              "#6ece58"
             ],
             [
              0.8888888888888888,
              "#b5de2b"
             ],
             [
              1,
              "#fde725"
             ]
            ],
            "type": "surface"
           }
          ],
          "table": [
           {
            "cells": {
             "fill": {
              "color": "rgb(237,237,237)"
             },
             "line": {
              "color": "white"
             }
            },
            "header": {
             "fill": {
              "color": "rgb(217,217,217)"
             },
             "line": {
              "color": "white"
             }
            },
            "type": "table"
           }
          ]
         },
         "layout": {
          "annotationdefaults": {
           "arrowhead": 0,
           "arrowwidth": 1
          },
          "autotypenumbers": "strict",
          "coloraxis": {
           "colorbar": {
            "outlinewidth": 1,
            "tickcolor": "rgb(36,36,36)",
            "ticks": "outside"
           }
          },
          "colorscale": {
           "diverging": [
            [
             0,
             "rgb(103,0,31)"
            ],
            [
             0.1,
             "rgb(178,24,43)"
            ],
            [
             0.2,
             "rgb(214,96,77)"
            ],
            [
             0.3,
             "rgb(244,165,130)"
            ],
            [
             0.4,
             "rgb(253,219,199)"
            ],
            [
             0.5,
             "rgb(247,247,247)"
            ],
            [
             0.6,
             "rgb(209,229,240)"
            ],
            [
             0.7,
             "rgb(146,197,222)"
            ],
            [
             0.8,
             "rgb(67,147,195)"
            ],
            [
             0.9,
             "rgb(33,102,172)"
            ],
            [
             1,
             "rgb(5,48,97)"
            ]
           ],
           "sequential": [
            [
             0,
             "#440154"
            ],
            [
             0.1111111111111111,
             "#482878"
            ],
            [
             0.2222222222222222,
             "#3e4989"
            ],
            [
             0.3333333333333333,
             "#31688e"
            ],
            [
             0.4444444444444444,
             "#26828e"
            ],
            [
             0.5555555555555556,
             "#1f9e89"
            ],
            [
             0.6666666666666666,
             "#35b779"
            ],
            [
             0.7777777777777778,
             "#6ece58"
            ],
            [
             0.8888888888888888,
             "#b5de2b"
            ],
            [
             1,
             "#fde725"
            ]
           ],
           "sequentialminus": [
            [
             0,
             "#440154"
            ],
            [
             0.1111111111111111,
             "#482878"
            ],
            [
             0.2222222222222222,
             "#3e4989"
            ],
            [
             0.3333333333333333,
             "#31688e"
            ],
            [
             0.4444444444444444,
             "#26828e"
            ],
            [
             0.5555555555555556,
             "#1f9e89"
            ],
            [
             0.6666666666666666,
             "#35b779"
            ],
            [
             0.7777777777777778,
             "#6ece58"
            ],
            [
             0.8888888888888888,
             "#b5de2b"
            ],
            [
             1,
             "#fde725"
            ]
           ]
          },
          "colorway": [
           "#1F77B4",
           "#FF7F0E",
           "#2CA02C",
           "#D62728",
           "#9467BD",
           "#8C564B",
           "#E377C2",
           "#7F7F7F",
           "#BCBD22",
           "#17BECF"
          ],
          "font": {
           "color": "rgb(36,36,36)"
          },
          "geo": {
           "bgcolor": "white",
           "lakecolor": "white",
           "landcolor": "white",
           "showlakes": true,
           "showland": true,
           "subunitcolor": "white"
          },
          "height": 800,
          "hoverlabel": {
           "align": "left"
          },
          "hovermode": "closest",
          "legend": {
           "orientation": "h",
           "title": {
            "text": ""
           },
           "x": 0.5,
           "xanchor": "center",
           "y": -0.2,
           "yanchor": "bottom"
          },
          "mapbox": {
           "style": "light"
          },
          "paper_bgcolor": "white",
          "plot_bgcolor": "white",
          "polar": {
           "angularaxis": {
            "gridcolor": "rgb(232,232,232)",
            "linecolor": "rgb(36,36,36)",
            "showgrid": false,
            "showline": true,
            "ticks": "outside"
           },
           "bgcolor": "white",
           "radialaxis": {
            "gridcolor": "rgb(232,232,232)",
            "linecolor": "rgb(36,36,36)",
            "showgrid": false,
            "showline": true,
            "ticks": "outside"
           }
          },
          "scene": {
           "xaxis": {
            "backgroundcolor": "white",
            "gridcolor": "rgb(232,232,232)",
            "gridwidth": 2,
            "linecolor": "rgb(36,36,36)",
            "showbackground": true,
            "showgrid": false,
            "showline": true,
            "ticks": "outside",
            "zeroline": false,
            "zerolinecolor": "rgb(36,36,36)"
           },
           "yaxis": {
            "backgroundcolor": "white",
            "gridcolor": "rgb(232,232,232)",
            "gridwidth": 2,
            "linecolor": "rgb(36,36,36)",
            "showbackground": true,
            "showgrid": false,
            "showline": true,
            "ticks": "outside",
            "zeroline": false,
            "zerolinecolor": "rgb(36,36,36)"
           },
           "zaxis": {
            "backgroundcolor": "white",
            "gridcolor": "rgb(232,232,232)",
            "gridwidth": 2,
            "linecolor": "rgb(36,36,36)",
            "showbackground": true,
            "showgrid": false,
            "showline": true,
            "ticks": "outside",
            "zeroline": false,
            "zerolinecolor": "rgb(36,36,36)"
           }
          },
          "shapedefaults": {
           "fillcolor": "black",
           "line": {
            "width": 0
           },
           "opacity": 0.3
          },
          "ternary": {
           "aaxis": {
            "gridcolor": "rgb(232,232,232)",
            "linecolor": "rgb(36,36,36)",
            "showgrid": false,
            "showline": true,
            "ticks": "outside"
           },
           "baxis": {
            "gridcolor": "rgb(232,232,232)",
            "linecolor": "rgb(36,36,36)",
            "showgrid": false,
            "showline": true,
            "ticks": "outside"
           },
           "bgcolor": "white",
           "caxis": {
            "gridcolor": "rgb(232,232,232)",
            "linecolor": "rgb(36,36,36)",
            "showgrid": false,
            "showline": true,
            "ticks": "outside"
           }
          },
          "title": {
           "x": 0.5
          },
          "xaxis": {
           "automargin": true,
           "gridcolor": "rgb(232,232,232)",
           "linecolor": "rgb(36,36,36)",
           "showgrid": true,
           "showline": true,
           "ticks": "outside",
           "title": {
            "standoff": 15
           },
           "zeroline": false,
           "zerolinecolor": "rgb(36,36,36)"
          },
          "yaxis": {
           "automargin": true,
           "gridcolor": "rgb(232,232,232)",
           "linecolor": "rgb(36,36,36)",
           "showgrid": true,
           "showline": true,
           "ticks": "outside",
           "title": {
            "standoff": 15
           },
           "zeroline": false,
           "zerolinecolor": "rgb(36,36,36)"
          }
         }
        },
        "title": {
         "text": "Revenue Yields vs. Network Inflation"
        },
        "xaxis": {
         "anchor": "y",
         "autorange": true,
         "domain": [
          0,
          0.94
         ],
         "range": [
          524288,
          33600000
         ],
         "title": {
          "text": "ETH Staked (ETH)"
         },
         "type": "linear"
        },
        "yaxis": {
         "anchor": "x",
         "autorange": true,
         "domain": [
          0,
          1
         ],
         "range": [
          -5.304887604390505,
          23.38337483443954
         ],
         "title": {
          "text": "Revenue Yields (%/year)"
         },
         "type": "linear"
        },
        "yaxis2": {
         "anchor": "x",
         "autorange": true,
         "overlaying": "y",
         "range": [
          0.06212053372953881,
          0.8535548287855397
         ],
         "side": "right",
         "title": {
          "text": "Network Inflation Rate (%/year)"
         },
         "type": "linear"
        }
       }
      },
      "image/png": "[encoded data removed]",
      "text/html": [
       "<div>                            <div id=\"7fa75c48-839c-4dc1-8a02-00d84688045c\" class=\"plotly-graph-div\" style=\"height:800px; width:100%;\"></div>            <script type=\"text/javascript\">                require([\"plotly\"], function(Plotly) {                    window.PLOTLYENV=window.PLOTLYENV || {};                                    if (document.getElementById(\"7fa75c48-839c-4dc1-8a02-00d84688045c\")) {                    Plotly.newPlot(                        \"7fa75c48-839c-4dc1-8a02-00d84688045c\",                        [{\"name\": \"Revenue Yields\", \"type\": \"scatter\", \"x\": [524288.0, 1199302.5306122447, 1874317.0612244897, 2549331.5918367347, 3224346.1224489794, 3899360.653061224, 4574375.183673469, 5249389.714285714, 5924404.244897959, 6599418.775510204, 7274433.306122448, 7949447.8367346935, 8624462.367346939, 9299476.897959184, 9974491.428571427, 10649505.959183672, 11324520.489795918, 11999535.020408163, 12674549.551020408, 13349564.081632651, 14024578.612244897, 14699593.142857142, 15374607.673469387, 16049622.204081632, 16724636.734693877, 17399651.265306123, 18074665.795918368, 18749680.32653061, 19424694.857142854, 20099709.3877551, 20774723.918367345, 21449738.44897959, 22124752.979591835, 22799767.51020408, 23474782.040816326, 24149796.57142857, 24824811.102040816, 25499825.63265306, 26174840.163265303, 26849854.693877548, 27524869.224489793, 28199883.75510204, 28874898.285714284, 29549912.81632653, 30224927.346938774, 30899941.87755102, 31574956.408163264, 32249970.93877551, 32924985.469387755, 33600000.0], \"xaxis\": \"x\", \"y\": [21.948961712498036, 14.511933710118747, 11.60632011419861, 9.949487706055207, 8.850048656710502, 8.040998381465156, 7.4285056493639114, 6.93379859682024, 6.52550538062515, 6.179988904614689, 5.889440976191582, 5.6303038675303725, 5.410429894216753, 5.20628036991356, 5.025622180426039, 4.868572150247614, 4.719374553623099, 4.585881867363409, 4.46025354270551, 4.342464889511364, 4.240381307804367, 4.138297810161283, 4.051919368570876, 3.9655493487813347, 3.8791494569257687, 3.80847692674868, 3.7378043902209273, 3.6671384612534856, 3.6043180477583356, 3.541497655164515, 3.4865297697144895, 3.4237094138284565, 3.376599213337005, 3.3216179132769126, 3.2745029372154857, 3.227387955521408, 3.188125442907782, 3.1410146172851157, 3.1017519403546636, 3.0624892691042964, 3.023226603113699, 2.9918164302859416, 2.9525572317586106, 2.9211379764743244, 2.8897280041572446, 2.8583180283925236, 2.826908049403369, 2.795500998360736, 2.7640909211719116, 2.7405333318268896], \"yaxis\": \"y\"}, {\"name\": \"Profit Yields @ 25 $/ETH\", \"type\": \"scatter\", \"x\": [524288.0, 1199302.5306122447, 1874317.0612244897, 2549331.5918367347, 3224346.1224489794, 3899360.653061224, 4574375.183673469, 5249389.714285714, 5924404.244897959, 6599418.775510204, 7274433.306122448, 7949447.8367346935, 8624462.367346939, 9299476.897959184, 9974491.428571427, 10649505.959183672, 11324520.489795918, 11999535.020408163, 12674549.551020408, 13349564.081632651, 14024578.612244897, 14699593.142857142, 15374607.673469387, 16049622.204081632, 16724636.734693877, 17399651.265306123, 18074665.795918368, 18749680.32653061, 19424694.857142854, 20099709.3877551, 20774723.918367345, 21449738.44897959, 22124752.979591835, 22799767.51020408, 23474782.040816326, 24149796.57142857, 24824811.102040816, 25499825.63265306, 26174840.163265303, 26849854.693877548, 27524869.224489793, 28199883.75510204, 28874898.285714284, 29549912.81632653, 30224927.346938774, 30899941.87755102, 31574956.408163264, 32249970.93877551, 32924985.469387755, 33600000.0], \"xaxis\": \"x\", \"y\": [14.310968618463487, 7.2715990967458675, 4.52134498521818, 2.9530191839275752, 1.9123817045421807, 1.1466004491812258, 0.5668639225176454, 0.09861329081898561, -0.2878801025833115, -0.6149157114185021, -0.8899231157995648, -1.135200157016521, -1.3433140959033065, -1.5365671817478574, -1.707561663753034, -1.8562108076267756, -1.9974278460018522, -2.123780053929279, -2.2427050379497544, -2.354192648077941, -2.4508151941692318, -2.5474379455408283, -2.6291955644551024, -2.7109583169621585, -2.792736125169765, -2.8596276487515215, -2.9265193632274067, -2.9934160212412384, -3.0528753584035164, -3.112334834372765, -3.1643617833457864, -3.223821497320842, -3.2684204724257393, -3.320460196648625, -3.3650542865713775, -3.4096484862296834, -3.446810147675541, -3.491408709977781, -3.5285704874644415, -3.5657323453945726, -3.6028942778521262, -3.632623627211578, -3.6697895841417583, -3.6995274992491494, -3.7292566946521473, -3.7589859558768923, -3.7887152786999563, -3.8184482993679563, -3.8481776900007745, -3.870474482449003], \"yaxis\": \"y\"}, {\"name\": \"Profit Yields @ 1500 $/ETH\", \"type\": \"scatter\", \"x\": [524288.0, 1199302.5306122447, 1874317.0612244897, 2549331.5918367347, 3224346.1224489794, 3899360.653061224, 4574375.183673469, 5249389.714285714, 5924404.244897959, 6599418.775510204, 7274433.306122448, 7949447.8367346935, 8624462.367346939, 9299476.897959184, 9974491.428571427, 10649505.959183672, 11324520.489795918, 11999535.020408163, 12674549.551020408, 13349564.081632651, 14024578.612244897, 14699593.142857142, 15374607.673469387, 16049622.204081632, 16724636.734693877, 17399651.265306123, 18074665.795918368, 18749680.32653061, 19424694.857142854, 20099709.3877551, 20774723.918367345, 21449738.44897959, 22124752.979591835, 22799767.51020408, 23474782.040816326, 24149796.57142857, 24824811.102040816, 25499825.63265306, 26174840.163265303, 26849854.693877548, 27524869.224489793, 28199883.75510204, 28874898.285714284, 29549912.81632653, 30224927.346938774, 30899941.87755102, 31574956.408163264, 32249970.93877551, 32924985.469387755, 33600000.0], \"xaxis\": \"x\", \"y\": [20.66771146429682, 13.628307327941435, 10.878043533932816, 9.309792969440673, 8.269136137866118, 7.503342230393296, 6.92359678561823, 6.455339529352738, 6.068875356190954, 5.741832166788022, 5.4668185886823855, 5.2215364222045615, 5.013418160338933, 4.820183252987445, 4.6491840954514805, 4.500530868760122, 4.359310234292002, 4.232954834856391, 4.1140430484229755, 4.002552063588123, 3.9059264676449943, 3.809300946523774, 3.7275408010688453, 3.6457884087216286, 3.5640079617494975, 3.4971140041434574, 3.4302200374449097, 3.3633321384007915, 3.303870479435208, 3.2444088376102784, 3.1923798635280005, 3.1329182519024132, 3.08832668897542, 3.0362850162022412, 2.9916890897898543, 2.9470931563058995, 2.9099298553237327, 2.865337717430233, 2.8281742615746763, 2.791010809665185, 2.753847361409149, 2.724116568817897, 2.686956280860222, 2.6572168919276593, 2.6274862885294814, 2.5977556808253506, 2.568025069093411, 2.53829712094352, 2.5085664166811834, 2.48626836338433], \"yaxis\": \"y\"}, {\"name\": \"Network Inflation Rate\", \"type\": \"scatter\", \"x\": [524288.0, 1199302.5306122447, 1874317.0612244897, 2549331.5918367347, 3224346.1224489794, 3899360.653061224, 4574375.183673469, 5249389.714285714, 5924404.244897959, 6599418.775510204, 7274433.306122448, 7949447.8367346935, 8624462.367346939, 9299476.897959184, 9974491.428571427, 10649505.959183672, 11324520.489795918, 11999535.020408163, 12674549.551020408, 13349564.081632651, 14024578.612244897, 14699593.142857142, 15374607.673469387, 16049622.204081632, 16724636.734693877, 17399651.265306123, 18074665.795918368, 18749680.32653061, 19424694.857142854, 20099709.3877551, 20774723.918367345, 21449738.44897959, 22124752.979591835, 22799767.51020408, 23474782.040816326, 24149796.57142857, 24824811.102040816, 25499825.63265306, 26174840.163265303, 26849854.693877548, 27524869.224489793, 28199883.75510204, 28874898.285714284, 29549912.81632653, 30224927.346938774, 30899941.87755102, 31574956.408163264, 32249970.93877551, 32924985.469387755, 33600000.0], \"xaxis\": \"x\", \"y\": [0.10169224848233885, 0.15381938412855864, 0.19227169128425936, 0.22419018089465348, 0.2522230373716123, 0.27714464824977203, 0.3003591036441694, 0.3217296759642581, 0.341721903248658, 0.36050375462637463, 0.378696919215438, 0.3956299222940089, 0.4124637457906759, 0.42796617697729367, 0.44310356501044296, 0.4583074437480342, 0.472423123599065, 0.48642415113933885, 0.4997131758374962, 0.5124280695369239, 0.5256843255586648, 0.5377222774341187, 0.550676454440497, 0.5626009440609266, 0.5734902353046722, 0.5857675060766606, 0.5972013355176777, 0.6077928197946639, 0.6188881555687762, 0.629233765707615, 0.6402717760695491, 0.6491647928034796, 0.6603807763363686, 0.6694480736570568, 0.6794916252961749, 0.6889728827167677, 0.6996151149204021, 0.7080195806473965, 0.7176777862106725, 0.7268674132542877, 0.7355884617813214, 0.7457984924033585, 0.7536301243086718, 0.7630412167645474, 0.7720798169042453, 0.7807435542334265, 0.7890324287464396, 0.7969472760631285, 0.8044864155457915, 0.8139831140327396], \"yaxis\": \"y2\"}],                        {\"legend\": {\"title\": {\"text\": \"\"}}, \"template\": {\"data\": {\"bar\": [{\"error_x\": {\"color\": \"rgb(36,36,36)\"}, \"error_y\": {\"color\": \"rgb(36,36,36)\"}, \"marker\": {\"line\": {\"color\": \"white\", \"width\": 0.5}}, \"type\": \"bar\"}], \"barpolar\": [{\"marker\": {\"line\": {\"color\": \"white\", \"width\": 0.5}}, \"type\": \"barpolar\"}], \"carpet\": [{\"aaxis\": {\"endlinecolor\": \"rgb(36,36,36)\", \"gridcolor\": \"white\", \"linecolor\": \"white\", \"minorgridcolor\": \"white\", \"startlinecolor\": \"rgb(36,36,36)\"}, \"baxis\": {\"endlinecolor\": \"rgb(36,36,36)\", \"gridcolor\": \"white\", \"linecolor\": \"white\", \"minorgridcolor\": \"white\", \"startlinecolor\": \"rgb(36,36,36)\"}, \"type\": \"carpet\"}], \"choropleth\": [{\"colorbar\": {\"outlinewidth\": 1, \"tickcolor\": \"rgb(36,36,36)\", \"ticks\": \"outside\"}, \"type\": \"choropleth\"}], \"contour\": [{\"colorbar\": {\"outlinewidth\": 1, \"tickcolor\": \"rgb(36,36,36)\", \"ticks\": \"outside\"}, \"colorscale\": [[0.0, \"#440154\"], [0.1111111111111111, \"#482878\"], [0.2222222222222222, \"#3e4989\"], [0.3333333333333333, \"#31688e\"], [0.4444444444444444, \"#26828e\"], [0.5555555555555556, \"#1f9e89\"], [0.6666666666666666, \"#35b779\"], [0.7777777777777778, \"#6ece58\"], [0.8888888888888888, \"#b5de2b\"], [1.0, \"#fde725\"]], \"type\": \"contour\"}], \"contourcarpet\": [{\"colorbar\": {\"outlinewidth\": 1, \"tickcolor\": \"rgb(36,36,36)\", \"ticks\": \"outside\"}, \"type\": \"contourcarpet\"}], \"heatmap\": [{\"colorbar\": {\"outlinewidth\": 1, \"tickcolor\": \"rgb(36,36,36)\", \"ticks\": \"outside\"}, \"colorscale\": [[0.0, \"#440154\"], [0.1111111111111111, \"#482878\"], [0.2222222222222222, \"#3e4989\"], [0.3333333333333333, \"#31688e\"], [0.4444444444444444, \"#26828e\"], [0.5555555555555556, \"#1f9e89\"], [0.6666666666666666, \"#35b779\"], [0.7777777777777778, \"#6ece58\"], [0.8888888888888888, \"#b5de2b\"], [1.0, \"#fde725\"]], \"type\": \"heatmap\"}], \"heatmapgl\": [{\"colorbar\": {\"outlinewidth\": 1, \"tickcolor\": \"rgb(36,36,36)\", \"ticks\": \"outside\"}, \"colorscale\": [[0.0, \"#440154\"], [0.1111111111111111, \"#482878\"], [0.2222222222222222, \"#3e4989\"], [0.3333333333333333, \"#31688e\"], [0.4444444444444444, \"#26828e\"], [0.5555555555555556, \"#1f9e89\"], [0.6666666666666666, \"#35b779\"], [0.7777777777777778, \"#6ece58\"], [0.8888888888888888, \"#b5de2b\"], [1.0, \"#fde725\"]], \"type\": \"heatmapgl\"}], \"histogram\": [{\"marker\": {\"line\": {\"color\": \"white\", \"width\": 0.6}}, \"type\": \"histogram\"}], \"histogram2d\": [{\"colorbar\": {\"outlinewidth\": 1, \"tickcolor\": \"rgb(36,36,36)\", \"ticks\": \"outside\"}, \"colorscale\": [[0.0, \"#440154\"], [0.1111111111111111, \"#482878\"], [0.2222222222222222, \"#3e4989\"], [0.3333333333333333, \"#31688e\"], [0.4444444444444444, \"#26828e\"], [0.5555555555555556, \"#1f9e89\"], [0.6666666666666666, \"#35b779\"], [0.7777777777777778, \"#6ece58\"], [0.8888888888888888, \"#b5de2b\"], [1.0, \"#fde725\"]], \"type\": \"histogram2d\"}], \"histogram2dcontour\": [{\"colorbar\": {\"outlinewidth\": 1, \"tickcolor\": \"rgb(36,36,36)\", \"ticks\": \"outside\"}, \"colorscale\": [[0.0, \"#440154\"], [0.1111111111111111, \"#482878\"], [0.2222222222222222, \"#3e4989\"], [0.3333333333333333, \"#31688e\"], [0.4444444444444444, \"#26828e\"], [0.5555555555555556, \"#1f9e89\"], [0.6666666666666666, \"#35b779\"], [0.7777777777777778, \"#6ece58\"], [0.8888888888888888, \"#b5de2b\"], [1.0, \"#fde725\"]], \"type\": \"histogram2dcontour\"}], \"mesh3d\": [{\"colorbar\": {\"outlinewidth\": 1, \"tickcolor\": \"rgb(36,36,36)\", \"ticks\": \"outside\"}, \"type\": \"mesh3d\"}], \"parcoords\": [{\"line\": {\"colorbar\": {\"outlinewidth\": 1, \"tickcolor\": \"rgb(36,36,36)\", \"ticks\": \"outside\"}}, \"type\": \"parcoords\"}], \"pie\": [{\"automargin\": true, \"type\": \"pie\"}], \"scatter\": [{\"marker\": {\"colorbar\": {\"outlinewidth\": 1, \"tickcolor\": \"rgb(36,36,36)\", \"ticks\": \"outside\"}}, \"type\": \"scatter\"}], \"scatter3d\": [{\"line\": {\"colorbar\": {\"outlinewidth\": 1, \"tickcolor\": \"rgb(36,36,36)\", \"ticks\": \"outside\"}}, \"marker\": {\"colorbar\": {\"outlinewidth\": 1, \"tickcolor\": \"rgb(36,36,36)\", \"ticks\": \"outside\"}}, \"type\": \"scatter3d\"}], \"scattercarpet\": [{\"marker\": {\"colorbar\": {\"outlinewidth\": 1, \"tickcolor\": \"rgb(36,36,36)\", \"ticks\": \"outside\"}}, \"type\": \"scattercarpet\"}], \"scattergeo\": [{\"marker\": {\"colorbar\": {\"outlinewidth\": 1, \"tickcolor\": \"rgb(36,36,36)\", \"ticks\": \"outside\"}}, \"type\": \"scattergeo\"}], \"scattergl\": [{\"marker\": {\"colorbar\": {\"outlinewidth\": 1, \"tickcolor\": \"rgb(36,36,36)\", \"ticks\": \"outside\"}}, \"type\": \"scattergl\"}], \"scattermapbox\": [{\"marker\": {\"colorbar\": {\"outlinewidth\": 1, \"tickcolor\": \"rgb(36,36,36)\", \"ticks\": \"outside\"}}, \"type\": \"scattermapbox\"}], \"scatterpolar\": [{\"marker\": {\"colorbar\": {\"outlinewidth\": 1, \"tickcolor\": \"rgb(36,36,36)\", \"ticks\": \"outside\"}}, \"type\": \"scatterpolar\"}], \"scatterpolargl\": [{\"marker\": {\"colorbar\": {\"outlinewidth\": 1, \"tickcolor\": \"rgb(36,36,36)\", \"ticks\": \"outside\"}}, \"type\": \"scatterpolargl\"}], \"scatterternary\": [{\"marker\": {\"colorbar\": {\"outlinewidth\": 1, \"tickcolor\": \"rgb(36,36,36)\", \"ticks\": \"outside\"}}, \"type\": \"scatterternary\"}], \"surface\": [{\"colorbar\": {\"outlinewidth\": 1, \"tickcolor\": \"rgb(36,36,36)\", \"ticks\": \"outside\"}, \"colorscale\": [[0.0, \"#440154\"], [0.1111111111111111, \"#482878\"], [0.2222222222222222, \"#3e4989\"], [0.3333333333333333, \"#31688e\"], [0.4444444444444444, \"#26828e\"], [0.5555555555555556, \"#1f9e89\"], [0.6666666666666666, \"#35b779\"], [0.7777777777777778, \"#6ece58\"], [0.8888888888888888, \"#b5de2b\"], [1.0, \"#fde725\"]], \"type\": \"surface\"}], \"table\": [{\"cells\": {\"fill\": {\"color\": \"rgb(237,237,237)\"}, \"line\": {\"color\": \"white\"}}, \"header\": {\"fill\": {\"color\": \"rgb(217,217,217)\"}, \"line\": {\"color\": \"white\"}}, \"type\": \"table\"}]}, \"layout\": {\"annotationdefaults\": {\"arrowhead\": 0, \"arrowwidth\": 1}, \"autotypenumbers\": \"strict\", \"coloraxis\": {\"colorbar\": {\"outlinewidth\": 1, \"tickcolor\": \"rgb(36,36,36)\", \"ticks\": \"outside\"}}, \"colorscale\": {\"diverging\": [[0.0, \"rgb(103,0,31)\"], [0.1, \"rgb(178,24,43)\"], [0.2, \"rgb(214,96,77)\"], [0.3, \"rgb(244,165,130)\"], [0.4, \"rgb(253,219,199)\"], [0.5, \"rgb(247,247,247)\"], [0.6, \"rgb(209,229,240)\"], [0.7, \"rgb(146,197,222)\"], [0.8, \"rgb(67,147,195)\"], [0.9, \"rgb(33,102,172)\"], [1.0, \"rgb(5,48,97)\"]], \"sequential\": [[0.0, \"#440154\"], [0.1111111111111111, \"#482878\"], [0.2222222222222222, \"#3e4989\"], [0.3333333333333333, \"#31688e\"], [0.4444444444444444, \"#26828e\"], [0.5555555555555556, \"#1f9e89\"], [0.6666666666666666, \"#35b779\"], [0.7777777777777778, \"#6ece58\"], [0.8888888888888888, \"#b5de2b\"], [1.0, \"#fde725\"]], \"sequentialminus\": [[0.0, \"#440154\"], [0.1111111111111111, \"#482878\"], [0.2222222222222222, \"#3e4989\"], [0.3333333333333333, \"#31688e\"], [0.4444444444444444, \"#26828e\"], [0.5555555555555556, \"#1f9e89\"], [0.6666666666666666, \"#35b779\"], [0.7777777777777778, \"#6ece58\"], [0.8888888888888888, \"#b5de2b\"], [1.0, \"#fde725\"]]}, \"colorway\": [\"#1F77B4\", \"#FF7F0E\", \"#2CA02C\", \"#D62728\", \"#9467BD\", \"#8C564B\", \"#E377C2\", \"#7F7F7F\", \"#BCBD22\", \"#17BECF\"], \"font\": {\"color\": \"rgb(36,36,36)\"}, \"geo\": {\"bgcolor\": \"white\", \"lakecolor\": \"white\", \"landcolor\": \"white\", \"showlakes\": true, \"showland\": true, \"subunitcolor\": \"white\"}, \"height\": 800, \"hoverlabel\": {\"align\": \"left\"}, \"hovermode\": \"closest\", \"legend\": {\"orientation\": \"h\", \"title\": {\"text\": \"\"}, \"x\": 0.5, \"xanchor\": \"center\", \"y\": -0.2, \"yanchor\": \"bottom\"}, \"mapbox\": {\"style\": \"light\"}, \"paper_bgcolor\": \"white\", \"plot_bgcolor\": \"white\", \"polar\": {\"angularaxis\": {\"gridcolor\": \"rgb(232,232,232)\", \"linecolor\": \"rgb(36,36,36)\", \"showgrid\": false, \"showline\": true, \"ticks\": \"outside\"}, \"bgcolor\": \"white\", \"radialaxis\": {\"gridcolor\": \"rgb(232,232,232)\", \"linecolor\": \"rgb(36,36,36)\", \"showgrid\": false, \"showline\": true, \"ticks\": \"outside\"}}, \"scene\": {\"xaxis\": {\"backgroundcolor\": \"white\", \"gridcolor\": \"rgb(232,232,232)\", \"gridwidth\": 2, \"linecolor\": \"rgb(36,36,36)\", \"showbackground\": true, \"showgrid\": false, \"showline\": true, \"ticks\": \"outside\", \"zeroline\": false, \"zerolinecolor\": \"rgb(36,36,36)\"}, \"yaxis\": {\"backgroundcolor\": \"white\", \"gridcolor\": \"rgb(232,232,232)\", \"gridwidth\": 2, \"linecolor\": \"rgb(36,36,36)\", \"showbackground\": true, \"showgrid\": false, \"showline\": true, \"ticks\": \"outside\", \"zeroline\": false, \"zerolinecolor\": \"rgb(36,36,36)\"}, \"zaxis\": {\"backgroundcolor\": \"white\", \"gridcolor\": \"rgb(232,232,232)\", \"gridwidth\": 2, \"linecolor\": \"rgb(36,36,36)\", \"showbackground\": true, \"showgrid\": false, \"showline\": true, \"ticks\": \"outside\", \"zeroline\": false, \"zerolinecolor\": \"rgb(36,36,36)\"}}, \"shapedefaults\": {\"fillcolor\": \"black\", \"line\": {\"width\": 0}, \"opacity\": 0.3}, \"ternary\": {\"aaxis\": {\"gridcolor\": \"rgb(232,232,232)\", \"linecolor\": \"rgb(36,36,36)\", \"showgrid\": false, \"showline\": true, \"ticks\": \"outside\"}, \"baxis\": {\"gridcolor\": \"rgb(232,232,232)\", \"linecolor\": \"rgb(36,36,36)\", \"showgrid\": false, \"showline\": true, \"ticks\": \"outside\"}, \"bgcolor\": \"white\", \"caxis\": {\"gridcolor\": \"rgb(232,232,232)\", \"linecolor\": \"rgb(36,36,36)\", \"showgrid\": false, \"showline\": true, \"ticks\": \"outside\"}}, \"title\": {\"x\": 0.5}, \"xaxis\": {\"automargin\": true, \"gridcolor\": \"rgb(232,232,232)\", \"linecolor\": \"rgb(36,36,36)\", \"showgrid\": true, \"showline\": true, \"ticks\": \"outside\", \"title\": {\"standoff\": 15}, \"zeroline\": false, \"zerolinecolor\": \"rgb(36,36,36)\"}, \"yaxis\": {\"automargin\": true, \"gridcolor\": \"rgb(232,232,232)\", \"linecolor\": \"rgb(36,36,36)\", \"showgrid\": true, \"showline\": true, \"ticks\": \"outside\", \"title\": {\"standoff\": 15}, \"zeroline\": false, \"zerolinecolor\": \"rgb(36,36,36)\"}}}, \"title\": {\"text\": \"Revenue Yields vs. Network Inflation\"}, \"xaxis\": {\"anchor\": \"y\", \"domain\": [0.0, 0.94], \"title\": {\"text\": \"ETH Staked (ETH)\"}}, \"yaxis\": {\"anchor\": \"x\", \"domain\": [0.0, 1.0], \"title\": {\"text\": \"Revenue Yields (%/year)\"}}, \"yaxis2\": {\"anchor\": \"x\", \"overlaying\": \"y\", \"side\": \"right\", \"title\": {\"text\": \"Network Inflation Rate (%/year)\"}}},                        {\"responsive\": true}                    ).then(function(){\n",
       "                            \n",
       "var gd = document.getElementById('7fa75c48-839c-4dc1-8a02-00d84688045c');\n",
       "var x = new MutationObserver(function (mutations, observer) {{\n",
       "        var display = window.getComputedStyle(gd).display;\n",
       "        if (!display || display === 'none') {{\n",
       "            console.log([gd, 'removed!']);\n",
       "            Plotly.purge(gd);\n",
       "            observer.disconnect();\n",
       "        }}\n",
       "}});\n",
       "\n",
       "// Listen for the removal of the full notebook cells\n",
       "var notebookContainer = gd.closest('#notebook-container');\n",
       "if (notebookContainer) {{\n",
       "    x.observe(notebookContainer, {childList: true});\n",
       "}}\n",
       "\n",
       "// Listen for the clearing of the current output cell\n",
       "var outputEl = gd.closest('.output');\n",
       "if (outputEl) {{\n",
       "    x.observe(outputEl, {childList: true});\n",
       "}}\n",
       "\n",
       "                        })                };                });            </script>        </div>"
      ]
     },
     "metadata": {},
     "output_type": "display_data"
    },
    {
     "name": "stdout",
     "output_type": "stream",
     "text": [
      "time: 109 ms (started: 2021-06-17 14:48:58 +02:00)\n"
     ]
    }
   ],
   "source": [
    "visualizations.plot_revenue_yields_vs_network_inflation(df_2)"
   ]
  },
  {
   "cell_type": "code",
   "execution_count": 16,
   "metadata": {},
   "outputs": [
    {
     "data": {
      "text/plain": [
       "6.356742845833331"
      ]
     },
     "execution_count": 16,
     "metadata": {},
     "output_type": "execute_result"
    },
    {
     "name": "stdout",
     "output_type": "stream",
     "text": [
      "time: 41 ms (started: 2021-06-17 14:48:58 +02:00)\n"
     ]
    }
   ],
   "source": [
    "# Difference between net yields for each ETH price scenario\n",
    "df_2.query('subset == 1').iloc[0]['total_profit_yields_pct'] - df_2.query('subset == 0').iloc[0]['total_profit_yields_pct']"
   ]
  },
  {
   "cell_type": "code",
   "execution_count": 17,
   "metadata": {},
   "outputs": [
    {
     "data": {
      "text/plain": [
       "count    50.000000\n",
       "mean      0.547942\n",
       "std       0.191176\n",
       "min       0.101692\n",
       "25%       0.416339\n",
       "50%       0.579629\n",
       "75%       0.705918\n",
       "max       0.813983\n",
       "Name: supply_inflation, dtype: float64"
      ]
     },
     "execution_count": 17,
     "metadata": {},
     "output_type": "execute_result"
    },
    {
     "name": "stdout",
     "output_type": "stream",
     "text": [
      "time: 37.6 ms (started: 2021-06-17 14:48:58 +02:00)\n"
     ]
    }
   ],
   "source": [
    "# Minimum and maximum annualized inflation rate\n",
    "(df_2.query('subset == 0')['supply_inflation'] * 100).describe()"
   ]
  },
  {
   "cell_type": "markdown",
   "metadata": {},
   "source": [
    "## Analysis 3: Revenue/Profit Yield Spread (\"Three Region Analysis\")"
   ]
  },
  {
   "cell_type": "markdown",
   "metadata": {},
   "source": [
    "The below \"Thee Region Analysis\" from the Hoban/Borgers [Ethereum 2.0 Economic Model](https://docs.google.com/spreadsheets/d/1y18MoYSBLlHZ-ueN9m0a-JpC6tYjqDtpISJ6_WdicdE/edit#gid=1146360926) compare the spread between average (i.e. not validator environment specific) Revenu yields and Profit yields across a wide range of ETH prices, and across the two adoption scenarios seen earlier in this notebook. Illustrative insights include:\n",
    "\n",
    "* As Eth approaches very slow prices levels, a \"profitability cliff\" exists either of the two adoption scenarios, as operational costs squeeze validators' margins\n",
    "* The Revenue/Profit Yield Spread is smaller in the high-adoption-scenario, as (TODO: ADD RATIONALE FOR TIGTHER SPREAD)\n",
    "\n",
    "In a next step, we will recreate the below analysis using the CADLabs model and compare the results."
   ]
  },
  {
   "cell_type": "markdown",
   "metadata": {},
   "source": [
    "Annualized Model - Revenue Net Yield Spread at 524_288 ETH Staked | Annualized Model - Revenue Net Yield Spread at 33_600_000 ETH Staked\n",
    "- | - |\n",
    "![alt](../outputs/hoban_borgers_economic_model/experiment_model_validation_scenario_3a.png) | ![alt](../outputs/hoban_borgers_economic_model/experiment_model_validation_scenario_3b.png) |"
   ]
  },
  {
   "cell_type": "markdown",
   "metadata": {},
   "source": [
    "### Configuration"
   ]
  },
  {
   "cell_type": "code",
   "execution_count": 18,
   "metadata": {},
   "outputs": [
    {
     "name": "stdout",
     "output_type": "stream",
     "text": [
      "time: 33.4 ms (started: 2021-06-17 14:48:58 +02:00)\n"
     ]
    }
   ],
   "source": [
    "# Create a copy of the simulation\n",
    "simulation_3 = copy.deepcopy(simulation)\n",
    "\n",
    "\n",
    "# ETH price range from Hoban/Borgers Economic Report\n",
    "eth_price_samples = np.linspace(start=25, stop=1500, num=50)\n",
    "\n",
    "parameter_overrides = {\n",
    "    \"eth_price_process\": [\n",
    "        lambda run, _timestep: eth_price_samples[run - 1]\n",
    "    ],\n",
    "    \"eth_staked_process\": [\n",
    "        # A sweep of two fixed ETH staked points\n",
    "        lambda _run, _timestep: 524_288,  # From Hoban/Borgers Economic Report\n",
    "        lambda _run, _timestep: 33_600_000,  # From Hoban/Borgers Economic Report\n",
    "    ],\n",
    "}\n",
    "\n",
    "# Override base experiment parameters\n",
    "simulation_3.model.params.update(parameter_overrides)"
   ]
  },
  {
   "cell_type": "markdown",
   "metadata": {},
   "source": [
    "### Execution"
   ]
  },
  {
   "cell_type": "code",
   "execution_count": 19,
   "metadata": {},
   "outputs": [
    {
     "name": "stdout",
     "output_type": "stream",
     "text": [
      "time: 554 ms (started: 2021-06-17 14:48:58 +02:00)\n"
     ]
    }
   ],
   "source": [
    "df_3, exceptions = run(simulation_3)"
   ]
  },
  {
   "cell_type": "markdown",
   "metadata": {},
   "source": [
    "### Output Preparation"
   ]
  },
  {
   "cell_type": "code",
   "execution_count": 20,
   "metadata": {},
   "outputs": [
    {
     "data": {
      "text/html": [
       "<div>\n",
       "<style scoped>\n",
       "    .dataframe tbody tr th:only-of-type {\n",
       "        vertical-align: middle;\n",
       "    }\n",
       "\n",
       "    .dataframe tbody tr th {\n",
       "        vertical-align: top;\n",
       "    }\n",
       "\n",
       "    .dataframe thead th {\n",
       "        text-align: right;\n",
       "    }\n",
       "</style>\n",
       "<table border=\"1\" class=\"dataframe\">\n",
       "  <thead>\n",
       "    <tr style=\"text-align: right;\">\n",
       "      <th></th>\n",
       "      <th>stage</th>\n",
       "      <th>timestamp</th>\n",
       "      <th>eth_price</th>\n",
       "      <th>eth_supply</th>\n",
       "      <th>eth_staked</th>\n",
       "      <th>supply_inflation</th>\n",
       "      <th>network_issuance</th>\n",
       "      <th>pow_issuance</th>\n",
       "      <th>number_of_validators_in_activation_queue</th>\n",
       "      <th>average_effective_balance</th>\n",
       "      <th>...</th>\n",
       "      <th>total_online_validator_rewards_eth</th>\n",
       "      <th>total_tips_to_validators_eth</th>\n",
       "      <th>source_reward_eth</th>\n",
       "      <th>target_reward_eth</th>\n",
       "      <th>head_reward_eth</th>\n",
       "      <th>block_proposer_reward_eth</th>\n",
       "      <th>sync_reward_eth</th>\n",
       "      <th>whistleblower_rewards_eth</th>\n",
       "      <th>validating_penalties_eth</th>\n",
       "      <th>amount_slashed_eth</th>\n",
       "    </tr>\n",
       "  </thead>\n",
       "  <tbody>\n",
       "    <tr>\n",
       "      <th>1</th>\n",
       "      <td>2.0</td>\n",
       "      <td>2021-06-17 14:48:54.923321</td>\n",
       "      <td>25.000000</td>\n",
       "      <td>1.121123e+08</td>\n",
       "      <td>524288</td>\n",
       "      <td>0.001017</td>\n",
       "      <td>112259.926774</td>\n",
       "      <td>0.0</td>\n",
       "      <td>0</td>\n",
       "      <td>3.200000e+10</td>\n",
       "      <td>...</td>\n",
       "      <td>112300.426774</td>\n",
       "      <td>0.0</td>\n",
       "      <td>24938.696305</td>\n",
       "      <td>46314.721709</td>\n",
       "      <td>24938.696305</td>\n",
       "      <td>14540.898060</td>\n",
       "      <td>3635.224515</td>\n",
       "      <td>5.0625</td>\n",
       "      <td>2072.872620</td>\n",
       "      <td>40.5</td>\n",
       "    </tr>\n",
       "    <tr>\n",
       "      <th>3</th>\n",
       "      <td>2.0</td>\n",
       "      <td>2021-06-17 14:48:54.923321</td>\n",
       "      <td>25.000000</td>\n",
       "      <td>1.128986e+08</td>\n",
       "      <td>33600000</td>\n",
       "      <td>0.008140</td>\n",
       "      <td>898570.797092</td>\n",
       "      <td>0.0</td>\n",
       "      <td>0</td>\n",
       "      <td>3.200000e+10</td>\n",
       "      <td>...</td>\n",
       "      <td>898611.297092</td>\n",
       "      <td>0.0</td>\n",
       "      <td>199564.301323</td>\n",
       "      <td>370619.416743</td>\n",
       "      <td>199564.301323</td>\n",
       "      <td>116359.613964</td>\n",
       "      <td>29089.903491</td>\n",
       "      <td>5.0625</td>\n",
       "      <td>16591.302252</td>\n",
       "      <td>40.5</td>\n",
       "    </tr>\n",
       "    <tr>\n",
       "      <th>5</th>\n",
       "      <td>2.0</td>\n",
       "      <td>2021-06-17 14:48:54.923321</td>\n",
       "      <td>55.102041</td>\n",
       "      <td>1.121123e+08</td>\n",
       "      <td>524288</td>\n",
       "      <td>0.001017</td>\n",
       "      <td>112259.926774</td>\n",
       "      <td>0.0</td>\n",
       "      <td>0</td>\n",
       "      <td>3.200000e+10</td>\n",
       "      <td>...</td>\n",
       "      <td>112300.426774</td>\n",
       "      <td>0.0</td>\n",
       "      <td>24938.696305</td>\n",
       "      <td>46314.721709</td>\n",
       "      <td>24938.696305</td>\n",
       "      <td>14540.898060</td>\n",
       "      <td>3635.224515</td>\n",
       "      <td>5.0625</td>\n",
       "      <td>2072.872620</td>\n",
       "      <td>40.5</td>\n",
       "    </tr>\n",
       "    <tr>\n",
       "      <th>7</th>\n",
       "      <td>2.0</td>\n",
       "      <td>2021-06-17 14:48:54.923321</td>\n",
       "      <td>55.102041</td>\n",
       "      <td>1.128986e+08</td>\n",
       "      <td>33600000</td>\n",
       "      <td>0.008140</td>\n",
       "      <td>898570.797092</td>\n",
       "      <td>0.0</td>\n",
       "      <td>0</td>\n",
       "      <td>3.200000e+10</td>\n",
       "      <td>...</td>\n",
       "      <td>898611.297092</td>\n",
       "      <td>0.0</td>\n",
       "      <td>199564.301323</td>\n",
       "      <td>370619.416743</td>\n",
       "      <td>199564.301323</td>\n",
       "      <td>116359.613964</td>\n",
       "      <td>29089.903491</td>\n",
       "      <td>5.0625</td>\n",
       "      <td>16591.302252</td>\n",
       "      <td>40.5</td>\n",
       "    </tr>\n",
       "    <tr>\n",
       "      <th>9</th>\n",
       "      <td>2.0</td>\n",
       "      <td>2021-06-17 14:48:54.923321</td>\n",
       "      <td>85.204082</td>\n",
       "      <td>1.121123e+08</td>\n",
       "      <td>524288</td>\n",
       "      <td>0.001017</td>\n",
       "      <td>112259.926774</td>\n",
       "      <td>0.0</td>\n",
       "      <td>0</td>\n",
       "      <td>3.200000e+10</td>\n",
       "      <td>...</td>\n",
       "      <td>112300.426774</td>\n",
       "      <td>0.0</td>\n",
       "      <td>24938.696305</td>\n",
       "      <td>46314.721709</td>\n",
       "      <td>24938.696305</td>\n",
       "      <td>14540.898060</td>\n",
       "      <td>3635.224515</td>\n",
       "      <td>5.0625</td>\n",
       "      <td>2072.872620</td>\n",
       "      <td>40.5</td>\n",
       "    </tr>\n",
       "    <tr>\n",
       "      <th>...</th>\n",
       "      <td>...</td>\n",
       "      <td>...</td>\n",
       "      <td>...</td>\n",
       "      <td>...</td>\n",
       "      <td>...</td>\n",
       "      <td>...</td>\n",
       "      <td>...</td>\n",
       "      <td>...</td>\n",
       "      <td>...</td>\n",
       "      <td>...</td>\n",
       "      <td>...</td>\n",
       "      <td>...</td>\n",
       "      <td>...</td>\n",
       "      <td>...</td>\n",
       "      <td>...</td>\n",
       "      <td>...</td>\n",
       "      <td>...</td>\n",
       "      <td>...</td>\n",
       "      <td>...</td>\n",
       "      <td>...</td>\n",
       "      <td>...</td>\n",
       "    </tr>\n",
       "    <tr>\n",
       "      <th>191</th>\n",
       "      <td>2.0</td>\n",
       "      <td>2021-06-17 14:48:54.923321</td>\n",
       "      <td>1439.795918</td>\n",
       "      <td>1.128986e+08</td>\n",
       "      <td>33600000</td>\n",
       "      <td>0.008140</td>\n",
       "      <td>898570.797092</td>\n",
       "      <td>0.0</td>\n",
       "      <td>0</td>\n",
       "      <td>3.200000e+10</td>\n",
       "      <td>...</td>\n",
       "      <td>898611.297092</td>\n",
       "      <td>0.0</td>\n",
       "      <td>199564.301323</td>\n",
       "      <td>370619.416743</td>\n",
       "      <td>199564.301323</td>\n",
       "      <td>116359.613964</td>\n",
       "      <td>29089.903491</td>\n",
       "      <td>5.0625</td>\n",
       "      <td>16591.302252</td>\n",
       "      <td>40.5</td>\n",
       "    </tr>\n",
       "    <tr>\n",
       "      <th>193</th>\n",
       "      <td>2.0</td>\n",
       "      <td>2021-06-17 14:48:54.923321</td>\n",
       "      <td>1469.897959</td>\n",
       "      <td>1.121123e+08</td>\n",
       "      <td>524288</td>\n",
       "      <td>0.001017</td>\n",
       "      <td>112259.926774</td>\n",
       "      <td>0.0</td>\n",
       "      <td>0</td>\n",
       "      <td>3.200000e+10</td>\n",
       "      <td>...</td>\n",
       "      <td>112300.426774</td>\n",
       "      <td>0.0</td>\n",
       "      <td>24938.696305</td>\n",
       "      <td>46314.721709</td>\n",
       "      <td>24938.696305</td>\n",
       "      <td>14540.898060</td>\n",
       "      <td>3635.224515</td>\n",
       "      <td>5.0625</td>\n",
       "      <td>2072.872620</td>\n",
       "      <td>40.5</td>\n",
       "    </tr>\n",
       "    <tr>\n",
       "      <th>195</th>\n",
       "      <td>2.0</td>\n",
       "      <td>2021-06-17 14:48:54.923321</td>\n",
       "      <td>1469.897959</td>\n",
       "      <td>1.128986e+08</td>\n",
       "      <td>33600000</td>\n",
       "      <td>0.008140</td>\n",
       "      <td>898570.797092</td>\n",
       "      <td>0.0</td>\n",
       "      <td>0</td>\n",
       "      <td>3.200000e+10</td>\n",
       "      <td>...</td>\n",
       "      <td>898611.297092</td>\n",
       "      <td>0.0</td>\n",
       "      <td>199564.301323</td>\n",
       "      <td>370619.416743</td>\n",
       "      <td>199564.301323</td>\n",
       "      <td>116359.613964</td>\n",
       "      <td>29089.903491</td>\n",
       "      <td>5.0625</td>\n",
       "      <td>16591.302252</td>\n",
       "      <td>40.5</td>\n",
       "    </tr>\n",
       "    <tr>\n",
       "      <th>197</th>\n",
       "      <td>2.0</td>\n",
       "      <td>2021-06-17 14:48:54.923321</td>\n",
       "      <td>1500.000000</td>\n",
       "      <td>1.121123e+08</td>\n",
       "      <td>524288</td>\n",
       "      <td>0.001017</td>\n",
       "      <td>112259.926774</td>\n",
       "      <td>0.0</td>\n",
       "      <td>0</td>\n",
       "      <td>3.200000e+10</td>\n",
       "      <td>...</td>\n",
       "      <td>112300.426774</td>\n",
       "      <td>0.0</td>\n",
       "      <td>24938.696305</td>\n",
       "      <td>46314.721709</td>\n",
       "      <td>24938.696305</td>\n",
       "      <td>14540.898060</td>\n",
       "      <td>3635.224515</td>\n",
       "      <td>5.0625</td>\n",
       "      <td>2072.872620</td>\n",
       "      <td>40.5</td>\n",
       "    </tr>\n",
       "    <tr>\n",
       "      <th>199</th>\n",
       "      <td>2.0</td>\n",
       "      <td>2021-06-17 14:48:54.923321</td>\n",
       "      <td>1500.000000</td>\n",
       "      <td>1.128986e+08</td>\n",
       "      <td>33600000</td>\n",
       "      <td>0.008140</td>\n",
       "      <td>898570.797092</td>\n",
       "      <td>0.0</td>\n",
       "      <td>0</td>\n",
       "      <td>3.200000e+10</td>\n",
       "      <td>...</td>\n",
       "      <td>898611.297092</td>\n",
       "      <td>0.0</td>\n",
       "      <td>199564.301323</td>\n",
       "      <td>370619.416743</td>\n",
       "      <td>199564.301323</td>\n",
       "      <td>116359.613964</td>\n",
       "      <td>29089.903491</td>\n",
       "      <td>5.0625</td>\n",
       "      <td>16591.302252</td>\n",
       "      <td>40.5</td>\n",
       "    </tr>\n",
       "  </tbody>\n",
       "</table>\n",
       "<p>100 rows × 152 columns</p>\n",
       "</div>"
      ],
      "text/plain": [
       "     stage                  timestamp    eth_price    eth_supply  eth_staked  \\\n",
       "1      2.0 2021-06-17 14:48:54.923321    25.000000  1.121123e+08      524288   \n",
       "3      2.0 2021-06-17 14:48:54.923321    25.000000  1.128986e+08    33600000   \n",
       "5      2.0 2021-06-17 14:48:54.923321    55.102041  1.121123e+08      524288   \n",
       "7      2.0 2021-06-17 14:48:54.923321    55.102041  1.128986e+08    33600000   \n",
       "9      2.0 2021-06-17 14:48:54.923321    85.204082  1.121123e+08      524288   \n",
       "..     ...                        ...          ...           ...         ...   \n",
       "191    2.0 2021-06-17 14:48:54.923321  1439.795918  1.128986e+08    33600000   \n",
       "193    2.0 2021-06-17 14:48:54.923321  1469.897959  1.121123e+08      524288   \n",
       "195    2.0 2021-06-17 14:48:54.923321  1469.897959  1.128986e+08    33600000   \n",
       "197    2.0 2021-06-17 14:48:54.923321  1500.000000  1.121123e+08      524288   \n",
       "199    2.0 2021-06-17 14:48:54.923321  1500.000000  1.128986e+08    33600000   \n",
       "\n",
       "     supply_inflation  network_issuance  pow_issuance  \\\n",
       "1            0.001017     112259.926774           0.0   \n",
       "3            0.008140     898570.797092           0.0   \n",
       "5            0.001017     112259.926774           0.0   \n",
       "7            0.008140     898570.797092           0.0   \n",
       "9            0.001017     112259.926774           0.0   \n",
       "..                ...               ...           ...   \n",
       "191          0.008140     898570.797092           0.0   \n",
       "193          0.001017     112259.926774           0.0   \n",
       "195          0.008140     898570.797092           0.0   \n",
       "197          0.001017     112259.926774           0.0   \n",
       "199          0.008140     898570.797092           0.0   \n",
       "\n",
       "     number_of_validators_in_activation_queue  average_effective_balance  ...  \\\n",
       "1                                           0               3.200000e+10  ...   \n",
       "3                                           0               3.200000e+10  ...   \n",
       "5                                           0               3.200000e+10  ...   \n",
       "7                                           0               3.200000e+10  ...   \n",
       "9                                           0               3.200000e+10  ...   \n",
       "..                                        ...                        ...  ...   \n",
       "191                                         0               3.200000e+10  ...   \n",
       "193                                         0               3.200000e+10  ...   \n",
       "195                                         0               3.200000e+10  ...   \n",
       "197                                         0               3.200000e+10  ...   \n",
       "199                                         0               3.200000e+10  ...   \n",
       "\n",
       "     total_online_validator_rewards_eth  total_tips_to_validators_eth  \\\n",
       "1                         112300.426774                           0.0   \n",
       "3                         898611.297092                           0.0   \n",
       "5                         112300.426774                           0.0   \n",
       "7                         898611.297092                           0.0   \n",
       "9                         112300.426774                           0.0   \n",
       "..                                  ...                           ...   \n",
       "191                       898611.297092                           0.0   \n",
       "193                       112300.426774                           0.0   \n",
       "195                       898611.297092                           0.0   \n",
       "197                       112300.426774                           0.0   \n",
       "199                       898611.297092                           0.0   \n",
       "\n",
       "     source_reward_eth  target_reward_eth  head_reward_eth  \\\n",
       "1         24938.696305       46314.721709     24938.696305   \n",
       "3        199564.301323      370619.416743    199564.301323   \n",
       "5         24938.696305       46314.721709     24938.696305   \n",
       "7        199564.301323      370619.416743    199564.301323   \n",
       "9         24938.696305       46314.721709     24938.696305   \n",
       "..                 ...                ...              ...   \n",
       "191      199564.301323      370619.416743    199564.301323   \n",
       "193       24938.696305       46314.721709     24938.696305   \n",
       "195      199564.301323      370619.416743    199564.301323   \n",
       "197       24938.696305       46314.721709     24938.696305   \n",
       "199      199564.301323      370619.416743    199564.301323   \n",
       "\n",
       "     block_proposer_reward_eth  sync_reward_eth  whistleblower_rewards_eth  \\\n",
       "1                 14540.898060      3635.224515                     5.0625   \n",
       "3                116359.613964     29089.903491                     5.0625   \n",
       "5                 14540.898060      3635.224515                     5.0625   \n",
       "7                116359.613964     29089.903491                     5.0625   \n",
       "9                 14540.898060      3635.224515                     5.0625   \n",
       "..                         ...              ...                        ...   \n",
       "191              116359.613964     29089.903491                     5.0625   \n",
       "193               14540.898060      3635.224515                     5.0625   \n",
       "195              116359.613964     29089.903491                     5.0625   \n",
       "197               14540.898060      3635.224515                     5.0625   \n",
       "199              116359.613964     29089.903491                     5.0625   \n",
       "\n",
       "     validating_penalties_eth  amount_slashed_eth  \n",
       "1                 2072.872620                40.5  \n",
       "3                16591.302252                40.5  \n",
       "5                 2072.872620                40.5  \n",
       "7                16591.302252                40.5  \n",
       "9                 2072.872620                40.5  \n",
       "..                        ...                 ...  \n",
       "191              16591.302252                40.5  \n",
       "193               2072.872620                40.5  \n",
       "195              16591.302252                40.5  \n",
       "197               2072.872620                40.5  \n",
       "199              16591.302252                40.5  \n",
       "\n",
       "[100 rows x 152 columns]"
      ]
     },
     "execution_count": 20,
     "metadata": {},
     "output_type": "execute_result"
    },
    {
     "name": "stdout",
     "output_type": "stream",
     "text": [
      "time: 62.7 ms (started: 2021-06-17 14:48:58 +02:00)\n"
     ]
    }
   ],
   "source": [
    "df_3"
   ]
  },
  {
   "cell_type": "markdown",
   "metadata": {},
   "source": [
    "### Analysis Results\n",
    "\n",
    "The below plots recreate Hoban/Borger's analysis. The revenue net yield spread for our model closely matches the Hoban/Borgers Ethereum 2.0 Economic Model for both scenarios. We can conclude that the model is valid for this specific scenario analysis."
   ]
  },
  {
   "cell_type": "code",
   "execution_count": 21,
   "metadata": {},
   "outputs": [
    {
     "data": {
      "application/vnd.plotly.v1+json": {
       "config": {
        "plotlyServerURL": "https://plot.ly"
       },
       "data": [
        {
         "hovertemplate": "variable=total_revenue_yields_pct<br>eth_price=%{x}<br>value=%{y}<extra></extra>",
         "legendgroup": "total_revenue_yields_pct",
         "line": {
          "color": "#1F77B4",
          "dash": "solid"
         },
         "mode": "lines",
         "name": "Total Revenue Yields",
         "orientation": "v",
         "showlegend": true,
         "type": "scatter",
         "x": [
          25,
          55.102040816326536,
          85.20408163265307,
          115.3061224489796,
          145.40816326530614,
          175.51020408163265,
          205.6122448979592,
          235.71428571428572,
          265.8163265306123,
          295.9183673469388,
          326.0204081632653,
          356.12244897959187,
          386.2244897959184,
          416.32653061224494,
          446.42857142857144,
          476.530612244898,
          506.6326530612245,
          536.7346938775511,
          566.8367346938776,
          596.9387755102041,
          627.0408163265306,
          657.1428571428572,
          687.2448979591837,
          717.3469387755102,
          747.4489795918367,
          777.5510204081633,
          807.6530612244899,
          837.7551020408164,
          867.8571428571429,
          897.9591836734694,
          928.061224489796,
          958.1632653061225,
          988.265306122449,
          1018.3673469387755,
          1048.4693877551022,
          1078.5714285714287,
          1108.6734693877552,
          1138.7755102040817,
          1168.8775510204082,
          1198.9795918367347,
          1229.0816326530612,
          1259.1836734693877,
          1289.2857142857144,
          1319.387755102041,
          1349.4897959183675,
          1379.591836734694,
          1409.6938775510205,
          1439.795918367347,
          1469.8979591836735,
          1500
         ],
         "xaxis": "x",
         "y": [
          21.948961712498036,
          21.948961712498036,
          21.948961712498036,
          21.94896171249804,
          21.948961712498036,
          21.94896171249804,
          21.948961712498036,
          21.948961712498033,
          21.94896171249804,
          21.94896171249804,
          21.948961712498036,
          21.948961712498033,
          21.94896171249804,
          21.94896171249803,
          21.948961712498036,
          21.948961712498036,
          21.948961712498033,
          21.948961712498036,
          21.948961712498033,
          21.948961712498036,
          21.94896171249804,
          21.948961712498033,
          21.948961712498036,
          21.948961712498033,
          21.948961712498036,
          21.948961712498036,
          21.948961712498033,
          21.948961712498036,
          21.948961712498036,
          21.948961712498036,
          21.948961712498036,
          21.948961712498036,
          21.948961712498036,
          21.948961712498036,
          21.948961712498036,
          21.948961712498033,
          21.948961712498036,
          21.948961712498036,
          21.94896171249804,
          21.948961712498036,
          21.948961712498033,
          21.94896171249804,
          21.948961712498036,
          21.948961712498036,
          21.948961712498036,
          21.948961712498036,
          21.948961712498033,
          21.948961712498036,
          21.948961712498036,
          21.948961712498036
         ],
         "yaxis": "y"
        },
        {
         "hovertemplate": "variable=total_profit_yields_pct<br>eth_price=%{x}<br>value=%{y}<extra></extra>",
         "legendgroup": "total_profit_yields_pct",
         "line": {
          "color": "#FF7F0E",
          "dash": "solid"
         },
         "mode": "lines",
         "name": "Total Profit Yields",
         "orientation": "v",
         "showlegend": true,
         "type": "scatter",
         "x": [
          25,
          55.102040816326536,
          85.20408163265307,
          115.3061224489796,
          145.40816326530614,
          175.51020408163265,
          205.6122448979592,
          235.71428571428572,
          265.8163265306123,
          295.9183673469388,
          326.0204081632653,
          356.12244897959187,
          386.2244897959184,
          416.32653061224494,
          446.42857142857144,
          476.530612244898,
          506.6326530612245,
          536.7346938775511,
          566.8367346938776,
          596.9387755102041,
          627.0408163265306,
          657.1428571428572,
          687.2448979591837,
          717.3469387755102,
          747.4489795918367,
          777.5510204081633,
          807.6530612244899,
          837.7551020408164,
          867.8571428571429,
          897.9591836734694,
          928.061224489796,
          958.1632653061225,
          988.265306122449,
          1018.3673469387755,
          1048.4693877551022,
          1078.5714285714287,
          1108.6734693877552,
          1138.7755102040817,
          1168.8775510204082,
          1198.9795918367347,
          1229.0816326530612,
          1259.1836734693877,
          1289.2857142857144,
          1319.387755102041,
          1349.4897959183675,
          1379.591836734694,
          1409.6938775510205,
          1439.795918367347,
          1469.8979591836735,
          1500
         ],
         "xaxis": "x",
         "y": [
          14.310968618463487,
          17.84249242170423,
          18.878688028643126,
          19.373861150543135,
          19.664015225481034,
          19.854639704946045,
          19.989448580001948,
          20.089825751039246,
          20.16746874514295,
          20.22931540596349,
          20.279741243659107,
          20.321642369537983,
          20.35701201212267,
          20.387266926980637,
          20.413441750463488,
          20.43630969046563,
          20.456460191474566,
          20.474350465184017,
          20.49034060181182,
          20.5047180579934,
          20.517715091205556,
          20.529521402430877,
          20.540293456251163,
          20.55016145434542,
          20.55923462392424,
          20.567605277748264,
          20.575351966220907,
          20.58254194991903,
          20.589233157558137,
          20.59547575013962,
          20.601313380695487,
          20.606784216573175,
          20.611921774890952,
          20.6167556098212,
          20.621311881480516,
          20.6256138295562,
          20.629682169775037,
          20.633535427491267,
          20.637190219729312,
          20.64066149474008,
          20.643962736354727,
          20.6471061390267,
          20.650102758352684,
          20.652962640988623,
          20.65569493717804,
          20.658307998548544,
          20.660809463378435,
          20.663206331167245,
          20.665505028043494,
          20.66771146429682
         ],
         "yaxis": "y"
        }
       ],
       "layout": {
        "annotations": [
         {
          "showarrow": false,
          "text": "Cliff",
          "x": 125,
          "y": 21.94896171249804,
          "yshift": 10
         },
         {
          "showarrow": false,
          "text": "Economics of Scale",
          "x": 762.5,
          "y": 21.94896171249804,
          "yshift": 10
         },
         {
          "showarrow": false,
          "text": "Stability",
          "x": 1400,
          "y": 21.94896171249804,
          "yshift": 10
         }
        ],
        "autosize": true,
        "legend": {
         "title": {
          "text": ""
         },
         "tracegroupgap": 0
        },
        "margin": {
         "t": 60
        },
        "template": {
         "data": {
          "bar": [
           {
            "error_x": {
             "color": "rgb(36,36,36)"
            },
            "error_y": {
             "color": "rgb(36,36,36)"
            },
            "marker": {
             "line": {
              "color": "white",
              "width": 0.5
             }
            },
            "type": "bar"
           }
          ],
          "barpolar": [
           {
            "marker": {
             "line": {
              "color": "white",
              "width": 0.5
             }
            },
            "type": "barpolar"
           }
          ],
          "carpet": [
           {
            "aaxis": {
             "endlinecolor": "rgb(36,36,36)",
             "gridcolor": "white",
             "linecolor": "white",
             "minorgridcolor": "white",
             "startlinecolor": "rgb(36,36,36)"
            },
            "baxis": {
             "endlinecolor": "rgb(36,36,36)",
             "gridcolor": "white",
             "linecolor": "white",
             "minorgridcolor": "white",
             "startlinecolor": "rgb(36,36,36)"
            },
            "type": "carpet"
           }
          ],
          "choropleth": [
           {
            "colorbar": {
             "outlinewidth": 1,
             "tickcolor": "rgb(36,36,36)",
             "ticks": "outside"
            },
            "type": "choropleth"
           }
          ],
          "contour": [
           {
            "colorbar": {
             "outlinewidth": 1,
             "tickcolor": "rgb(36,36,36)",
             "ticks": "outside"
            },
            "colorscale": [
             [
              0,
              "#440154"
             ],
             [
              0.1111111111111111,
              "#482878"
             ],
             [
              0.2222222222222222,
              "#3e4989"
             ],
             [
              0.3333333333333333,
              "#31688e"
             ],
             [
              0.4444444444444444,
              "#26828e"
             ],
             [
              0.5555555555555556,
              "#1f9e89"
             ],
             [
              0.6666666666666666,
              "#35b779"
             ],
             [
              0.7777777777777778,
              "#6ece58"
             ],
             [
              0.8888888888888888,
              "#b5de2b"
             ],
             [
              1,
              "#fde725"
             ]
            ],
            "type": "contour"
           }
          ],
          "contourcarpet": [
           {
            "colorbar": {
             "outlinewidth": 1,
             "tickcolor": "rgb(36,36,36)",
             "ticks": "outside"
            },
            "type": "contourcarpet"
           }
          ],
          "heatmap": [
           {
            "colorbar": {
             "outlinewidth": 1,
             "tickcolor": "rgb(36,36,36)",
             "ticks": "outside"
            },
            "colorscale": [
             [
              0,
              "#440154"
             ],
             [
              0.1111111111111111,
              "#482878"
             ],
             [
              0.2222222222222222,
              "#3e4989"
             ],
             [
              0.3333333333333333,
              "#31688e"
             ],
             [
              0.4444444444444444,
              "#26828e"
             ],
             [
              0.5555555555555556,
              "#1f9e89"
             ],
             [
              0.6666666666666666,
              "#35b779"
             ],
             [
              0.7777777777777778,
              "#6ece58"
             ],
             [
              0.8888888888888888,
              "#b5de2b"
             ],
             [
              1,
              "#fde725"
             ]
            ],
            "type": "heatmap"
           }
          ],
          "heatmapgl": [
           {
            "colorbar": {
             "outlinewidth": 1,
             "tickcolor": "rgb(36,36,36)",
             "ticks": "outside"
            },
            "colorscale": [
             [
              0,
              "#440154"
             ],
             [
              0.1111111111111111,
              "#482878"
             ],
             [
              0.2222222222222222,
              "#3e4989"
             ],
             [
              0.3333333333333333,
              "#31688e"
             ],
             [
              0.4444444444444444,
              "#26828e"
             ],
             [
              0.5555555555555556,
              "#1f9e89"
             ],
             [
              0.6666666666666666,
              "#35b779"
             ],
             [
              0.7777777777777778,
              "#6ece58"
             ],
             [
              0.8888888888888888,
              "#b5de2b"
             ],
             [
              1,
              "#fde725"
             ]
            ],
            "type": "heatmapgl"
           }
          ],
          "histogram": [
           {
            "marker": {
             "line": {
              "color": "white",
              "width": 0.6
             }
            },
            "type": "histogram"
           }
          ],
          "histogram2d": [
           {
            "colorbar": {
             "outlinewidth": 1,
             "tickcolor": "rgb(36,36,36)",
             "ticks": "outside"
            },
            "colorscale": [
             [
              0,
              "#440154"
             ],
             [
              0.1111111111111111,
              "#482878"
             ],
             [
              0.2222222222222222,
              "#3e4989"
             ],
             [
              0.3333333333333333,
              "#31688e"
             ],
             [
              0.4444444444444444,
              "#26828e"
             ],
             [
              0.5555555555555556,
              "#1f9e89"
             ],
             [
              0.6666666666666666,
              "#35b779"
             ],
             [
              0.7777777777777778,
              "#6ece58"
             ],
             [
              0.8888888888888888,
              "#b5de2b"
             ],
             [
              1,
              "#fde725"
             ]
            ],
            "type": "histogram2d"
           }
          ],
          "histogram2dcontour": [
           {
            "colorbar": {
             "outlinewidth": 1,
             "tickcolor": "rgb(36,36,36)",
             "ticks": "outside"
            },
            "colorscale": [
             [
              0,
              "#440154"
             ],
             [
              0.1111111111111111,
              "#482878"
             ],
             [
              0.2222222222222222,
              "#3e4989"
             ],
             [
              0.3333333333333333,
              "#31688e"
             ],
             [
              0.4444444444444444,
              "#26828e"
             ],
             [
              0.5555555555555556,
              "#1f9e89"
             ],
             [
              0.6666666666666666,
              "#35b779"
             ],
             [
              0.7777777777777778,
              "#6ece58"
             ],
             [
              0.8888888888888888,
              "#b5de2b"
             ],
             [
              1,
              "#fde725"
             ]
            ],
            "type": "histogram2dcontour"
           }
          ],
          "mesh3d": [
           {
            "colorbar": {
             "outlinewidth": 1,
             "tickcolor": "rgb(36,36,36)",
             "ticks": "outside"
            },
            "type": "mesh3d"
           }
          ],
          "parcoords": [
           {
            "line": {
             "colorbar": {
              "outlinewidth": 1,
              "tickcolor": "rgb(36,36,36)",
              "ticks": "outside"
             }
            },
            "type": "parcoords"
           }
          ],
          "pie": [
           {
            "automargin": true,
            "type": "pie"
           }
          ],
          "scatter": [
           {
            "marker": {
             "colorbar": {
              "outlinewidth": 1,
              "tickcolor": "rgb(36,36,36)",
              "ticks": "outside"
             }
            },
            "type": "scatter"
           }
          ],
          "scatter3d": [
           {
            "line": {
             "colorbar": {
              "outlinewidth": 1,
              "tickcolor": "rgb(36,36,36)",
              "ticks": "outside"
             }
            },
            "marker": {
             "colorbar": {
              "outlinewidth": 1,
              "tickcolor": "rgb(36,36,36)",
              "ticks": "outside"
             }
            },
            "type": "scatter3d"
           }
          ],
          "scattercarpet": [
           {
            "marker": {
             "colorbar": {
              "outlinewidth": 1,
              "tickcolor": "rgb(36,36,36)",
              "ticks": "outside"
             }
            },
            "type": "scattercarpet"
           }
          ],
          "scattergeo": [
           {
            "marker": {
             "colorbar": {
              "outlinewidth": 1,
              "tickcolor": "rgb(36,36,36)",
              "ticks": "outside"
             }
            },
            "type": "scattergeo"
           }
          ],
          "scattergl": [
           {
            "marker": {
             "colorbar": {
              "outlinewidth": 1,
              "tickcolor": "rgb(36,36,36)",
              "ticks": "outside"
             }
            },
            "type": "scattergl"
           }
          ],
          "scattermapbox": [
           {
            "marker": {
             "colorbar": {
              "outlinewidth": 1,
              "tickcolor": "rgb(36,36,36)",
              "ticks": "outside"
             }
            },
            "type": "scattermapbox"
           }
          ],
          "scatterpolar": [
           {
            "marker": {
             "colorbar": {
              "outlinewidth": 1,
              "tickcolor": "rgb(36,36,36)",
              "ticks": "outside"
             }
            },
            "type": "scatterpolar"
           }
          ],
          "scatterpolargl": [
           {
            "marker": {
             "colorbar": {
              "outlinewidth": 1,
              "tickcolor": "rgb(36,36,36)",
              "ticks": "outside"
             }
            },
            "type": "scatterpolargl"
           }
          ],
          "scatterternary": [
           {
            "marker": {
             "colorbar": {
              "outlinewidth": 1,
              "tickcolor": "rgb(36,36,36)",
              "ticks": "outside"
             }
            },
            "type": "scatterternary"
           }
          ],
          "surface": [
           {
            "colorbar": {
             "outlinewidth": 1,
             "tickcolor": "rgb(36,36,36)",
             "ticks": "outside"
            },
            "colorscale": [
             [
              0,
              "#440154"
             ],
             [
              0.1111111111111111,
              "#482878"
             ],
             [
              0.2222222222222222,
              "#3e4989"
             ],
             [
              0.3333333333333333,
              "#31688e"
             ],
             [
              0.4444444444444444,
              "#26828e"
             ],
             [
              0.5555555555555556,
              "#1f9e89"
             ],
             [
              0.6666666666666666,
              "#35b779"
             ],
             [
              0.7777777777777778,
              "#6ece58"
             ],
             [
              0.8888888888888888,
              "#b5de2b"
             ],
             [
              1,
              "#fde725"
             ]
            ],
            "type": "surface"
           }
          ],
          "table": [
           {
            "cells": {
             "fill": {
              "color": "rgb(237,237,237)"
             },
             "line": {
              "color": "white"
             }
            },
            "header": {
             "fill": {
              "color": "rgb(217,217,217)"
             },
             "line": {
              "color": "white"
             }
            },
            "type": "table"
           }
          ]
         },
         "layout": {
          "annotationdefaults": {
           "arrowhead": 0,
           "arrowwidth": 1
          },
          "autotypenumbers": "strict",
          "coloraxis": {
           "colorbar": {
            "outlinewidth": 1,
            "tickcolor": "rgb(36,36,36)",
            "ticks": "outside"
           }
          },
          "colorscale": {
           "diverging": [
            [
             0,
             "rgb(103,0,31)"
            ],
            [
             0.1,
             "rgb(178,24,43)"
            ],
            [
             0.2,
             "rgb(214,96,77)"
            ],
            [
             0.3,
             "rgb(244,165,130)"
            ],
            [
             0.4,
             "rgb(253,219,199)"
            ],
            [
             0.5,
             "rgb(247,247,247)"
            ],
            [
             0.6,
             "rgb(209,229,240)"
            ],
            [
             0.7,
             "rgb(146,197,222)"
            ],
            [
             0.8,
             "rgb(67,147,195)"
            ],
            [
             0.9,
             "rgb(33,102,172)"
            ],
            [
             1,
             "rgb(5,48,97)"
            ]
           ],
           "sequential": [
            [
             0,
             "#440154"
            ],
            [
             0.1111111111111111,
             "#482878"
            ],
            [
             0.2222222222222222,
             "#3e4989"
            ],
            [
             0.3333333333333333,
             "#31688e"
            ],
            [
             0.4444444444444444,
             "#26828e"
            ],
            [
             0.5555555555555556,
             "#1f9e89"
            ],
            [
             0.6666666666666666,
             "#35b779"
            ],
            [
             0.7777777777777778,
             "#6ece58"
            ],
            [
             0.8888888888888888,
             "#b5de2b"
            ],
            [
             1,
             "#fde725"
            ]
           ],
           "sequentialminus": [
            [
             0,
             "#440154"
            ],
            [
             0.1111111111111111,
             "#482878"
            ],
            [
             0.2222222222222222,
             "#3e4989"
            ],
            [
             0.3333333333333333,
             "#31688e"
            ],
            [
             0.4444444444444444,
             "#26828e"
            ],
            [
             0.5555555555555556,
             "#1f9e89"
            ],
            [
             0.6666666666666666,
             "#35b779"
            ],
            [
             0.7777777777777778,
             "#6ece58"
            ],
            [
             0.8888888888888888,
             "#b5de2b"
            ],
            [
             1,
             "#fde725"
            ]
           ]
          },
          "colorway": [
           "#1F77B4",
           "#FF7F0E",
           "#2CA02C",
           "#D62728",
           "#9467BD",
           "#8C564B",
           "#E377C2",
           "#7F7F7F",
           "#BCBD22",
           "#17BECF"
          ],
          "font": {
           "color": "rgb(36,36,36)"
          },
          "geo": {
           "bgcolor": "white",
           "lakecolor": "white",
           "landcolor": "white",
           "showlakes": true,
           "showland": true,
           "subunitcolor": "white"
          },
          "height": 800,
          "hoverlabel": {
           "align": "left"
          },
          "hovermode": "closest",
          "legend": {
           "orientation": "h",
           "title": {
            "text": ""
           },
           "x": 0.5,
           "xanchor": "center",
           "y": -0.2,
           "yanchor": "bottom"
          },
          "mapbox": {
           "style": "light"
          },
          "paper_bgcolor": "white",
          "plot_bgcolor": "white",
          "polar": {
           "angularaxis": {
            "gridcolor": "rgb(232,232,232)",
            "linecolor": "rgb(36,36,36)",
            "showgrid": false,
            "showline": true,
            "ticks": "outside"
           },
           "bgcolor": "white",
           "radialaxis": {
            "gridcolor": "rgb(232,232,232)",
            "linecolor": "rgb(36,36,36)",
            "showgrid": false,
            "showline": true,
            "ticks": "outside"
           }
          },
          "scene": {
           "xaxis": {
            "backgroundcolor": "white",
            "gridcolor": "rgb(232,232,232)",
            "gridwidth": 2,
            "linecolor": "rgb(36,36,36)",
            "showbackground": true,
            "showgrid": false,
            "showline": true,
            "ticks": "outside",
            "zeroline": false,
            "zerolinecolor": "rgb(36,36,36)"
           },
           "yaxis": {
            "backgroundcolor": "white",
            "gridcolor": "rgb(232,232,232)",
            "gridwidth": 2,
            "linecolor": "rgb(36,36,36)",
            "showbackground": true,
            "showgrid": false,
            "showline": true,
            "ticks": "outside",
            "zeroline": false,
            "zerolinecolor": "rgb(36,36,36)"
           },
           "zaxis": {
            "backgroundcolor": "white",
            "gridcolor": "rgb(232,232,232)",
            "gridwidth": 2,
            "linecolor": "rgb(36,36,36)",
            "showbackground": true,
            "showgrid": false,
            "showline": true,
            "ticks": "outside",
            "zeroline": false,
            "zerolinecolor": "rgb(36,36,36)"
           }
          },
          "shapedefaults": {
           "fillcolor": "black",
           "line": {
            "width": 0
           },
           "opacity": 0.3
          },
          "ternary": {
           "aaxis": {
            "gridcolor": "rgb(232,232,232)",
            "linecolor": "rgb(36,36,36)",
            "showgrid": false,
            "showline": true,
            "ticks": "outside"
           },
           "baxis": {
            "gridcolor": "rgb(232,232,232)",
            "linecolor": "rgb(36,36,36)",
            "showgrid": false,
            "showline": true,
            "ticks": "outside"
           },
           "bgcolor": "white",
           "caxis": {
            "gridcolor": "rgb(232,232,232)",
            "linecolor": "rgb(36,36,36)",
            "showgrid": false,
            "showline": true,
            "ticks": "outside"
           }
          },
          "title": {
           "x": 0.5
          },
          "xaxis": {
           "automargin": true,
           "gridcolor": "rgb(232,232,232)",
           "linecolor": "rgb(36,36,36)",
           "showgrid": true,
           "showline": true,
           "ticks": "outside",
           "title": {
            "standoff": 15
           },
           "zeroline": false,
           "zerolinecolor": "rgb(36,36,36)"
          },
          "yaxis": {
           "automargin": true,
           "gridcolor": "rgb(232,232,232)",
           "linecolor": "rgb(36,36,36)",
           "showgrid": true,
           "showline": true,
           "ticks": "outside",
           "title": {
            "standoff": 15
           },
           "zeroline": false,
           "zerolinecolor": "rgb(36,36,36)"
          }
         }
        },
        "title": {
         "text": "Three Region Yield Analysis @ 524288 ETH Staked"
        },
        "xaxis": {
         "anchor": "y",
         "autorange": true,
         "domain": [
          0,
          1
         ],
         "range": [
          25,
          1500
         ],
         "title": {
          "text": "ETH Price ($/ETH)"
         },
         "type": "linear"
        },
        "yaxis": {
         "anchor": "x",
         "autorange": true,
         "domain": [
          0,
          1
         ],
         "range": [
          13.8866356687949,
          22.373294662166625
         ],
         "title": {
          "text": "Revenue Yields (%/year)"
         },
         "type": "linear"
        }
       }
      },
      "image/png": "[encoded data removed]",
      "text/html": [
       "<div>                            <div id=\"15bc9bae-dfc3-4c1f-97fc-a918c2d7f3f5\" class=\"plotly-graph-div\" style=\"height:800px; width:100%;\"></div>            <script type=\"text/javascript\">                require([\"plotly\"], function(Plotly) {                    window.PLOTLYENV=window.PLOTLYENV || {};                                    if (document.getElementById(\"15bc9bae-dfc3-4c1f-97fc-a918c2d7f3f5\")) {                    Plotly.newPlot(                        \"15bc9bae-dfc3-4c1f-97fc-a918c2d7f3f5\",                        [{\"hovertemplate\": \"variable=total_revenue_yields_pct<br>eth_price=%{x}<br>value=%{y}<extra></extra>\", \"legendgroup\": \"total_revenue_yields_pct\", \"line\": {\"color\": \"#1F77B4\", \"dash\": \"solid\"}, \"mode\": \"lines\", \"name\": \"Total Revenue Yields\", \"orientation\": \"v\", \"showlegend\": true, \"type\": \"scatter\", \"x\": [25.0, 55.102040816326536, 85.20408163265307, 115.3061224489796, 145.40816326530614, 175.51020408163265, 205.6122448979592, 235.71428571428572, 265.8163265306123, 295.9183673469388, 326.0204081632653, 356.12244897959187, 386.2244897959184, 416.32653061224494, 446.42857142857144, 476.530612244898, 506.6326530612245, 536.7346938775511, 566.8367346938776, 596.9387755102041, 627.0408163265306, 657.1428571428572, 687.2448979591837, 717.3469387755102, 747.4489795918367, 777.5510204081633, 807.6530612244899, 837.7551020408164, 867.8571428571429, 897.9591836734694, 928.061224489796, 958.1632653061225, 988.265306122449, 1018.3673469387755, 1048.4693877551022, 1078.5714285714287, 1108.6734693877552, 1138.7755102040817, 1168.8775510204082, 1198.9795918367347, 1229.0816326530612, 1259.1836734693877, 1289.2857142857144, 1319.387755102041, 1349.4897959183675, 1379.591836734694, 1409.6938775510205, 1439.795918367347, 1469.8979591836735, 1500.0], \"xaxis\": \"x\", \"y\": [21.948961712498036, 21.948961712498036, 21.948961712498036, 21.94896171249804, 21.948961712498036, 21.94896171249804, 21.948961712498036, 21.948961712498033, 21.94896171249804, 21.94896171249804, 21.948961712498036, 21.948961712498033, 21.94896171249804, 21.94896171249803, 21.948961712498036, 21.948961712498036, 21.948961712498033, 21.948961712498036, 21.948961712498033, 21.948961712498036, 21.94896171249804, 21.948961712498033, 21.948961712498036, 21.948961712498033, 21.948961712498036, 21.948961712498036, 21.948961712498033, 21.948961712498036, 21.948961712498036, 21.948961712498036, 21.948961712498036, 21.948961712498036, 21.948961712498036, 21.948961712498036, 21.948961712498036, 21.948961712498033, 21.948961712498036, 21.948961712498036, 21.94896171249804, 21.948961712498036, 21.948961712498033, 21.94896171249804, 21.948961712498036, 21.948961712498036, 21.948961712498036, 21.948961712498036, 21.948961712498033, 21.948961712498036, 21.948961712498036, 21.948961712498036], \"yaxis\": \"y\"}, {\"hovertemplate\": \"variable=total_profit_yields_pct<br>eth_price=%{x}<br>value=%{y}<extra></extra>\", \"legendgroup\": \"total_profit_yields_pct\", \"line\": {\"color\": \"#FF7F0E\", \"dash\": \"solid\"}, \"mode\": \"lines\", \"name\": \"Total Profit Yields\", \"orientation\": \"v\", \"showlegend\": true, \"type\": \"scatter\", \"x\": [25.0, 55.102040816326536, 85.20408163265307, 115.3061224489796, 145.40816326530614, 175.51020408163265, 205.6122448979592, 235.71428571428572, 265.8163265306123, 295.9183673469388, 326.0204081632653, 356.12244897959187, 386.2244897959184, 416.32653061224494, 446.42857142857144, 476.530612244898, 506.6326530612245, 536.7346938775511, 566.8367346938776, 596.9387755102041, 627.0408163265306, 657.1428571428572, 687.2448979591837, 717.3469387755102, 747.4489795918367, 777.5510204081633, 807.6530612244899, 837.7551020408164, 867.8571428571429, 897.9591836734694, 928.061224489796, 958.1632653061225, 988.265306122449, 1018.3673469387755, 1048.4693877551022, 1078.5714285714287, 1108.6734693877552, 1138.7755102040817, 1168.8775510204082, 1198.9795918367347, 1229.0816326530612, 1259.1836734693877, 1289.2857142857144, 1319.387755102041, 1349.4897959183675, 1379.591836734694, 1409.6938775510205, 1439.795918367347, 1469.8979591836735, 1500.0], \"xaxis\": \"x\", \"y\": [14.310968618463487, 17.84249242170423, 18.878688028643126, 19.373861150543135, 19.664015225481034, 19.854639704946045, 19.989448580001948, 20.089825751039246, 20.16746874514295, 20.22931540596349, 20.279741243659107, 20.321642369537983, 20.35701201212267, 20.387266926980637, 20.413441750463488, 20.43630969046563, 20.456460191474566, 20.474350465184017, 20.49034060181182, 20.5047180579934, 20.517715091205556, 20.529521402430877, 20.540293456251163, 20.55016145434542, 20.55923462392424, 20.567605277748264, 20.575351966220907, 20.58254194991903, 20.589233157558137, 20.59547575013962, 20.601313380695487, 20.606784216573175, 20.611921774890952, 20.6167556098212, 20.621311881480516, 20.6256138295562, 20.629682169775037, 20.633535427491267, 20.637190219729312, 20.64066149474008, 20.643962736354727, 20.6471061390267, 20.650102758352684, 20.652962640988623, 20.65569493717804, 20.658307998548544, 20.660809463378435, 20.663206331167245, 20.665505028043494, 20.66771146429682], \"yaxis\": \"y\"}],                        {\"annotations\": [{\"showarrow\": false, \"text\": \"Cliff\", \"x\": 125.0, \"y\": 21.94896171249804, \"yshift\": 10}, {\"showarrow\": false, \"text\": \"Economics of Scale\", \"x\": 762.5, \"y\": 21.94896171249804, \"yshift\": 10}, {\"showarrow\": false, \"text\": \"Stability\", \"x\": 1400.0, \"y\": 21.94896171249804, \"yshift\": 10}], \"legend\": {\"title\": {\"text\": \"\"}, \"tracegroupgap\": 0}, \"margin\": {\"t\": 60}, \"template\": {\"data\": {\"bar\": [{\"error_x\": {\"color\": \"rgb(36,36,36)\"}, \"error_y\": {\"color\": \"rgb(36,36,36)\"}, \"marker\": {\"line\": {\"color\": \"white\", \"width\": 0.5}}, \"type\": \"bar\"}], \"barpolar\": [{\"marker\": {\"line\": {\"color\": \"white\", \"width\": 0.5}}, \"type\": \"barpolar\"}], \"carpet\": [{\"aaxis\": {\"endlinecolor\": \"rgb(36,36,36)\", \"gridcolor\": \"white\", \"linecolor\": \"white\", \"minorgridcolor\": \"white\", \"startlinecolor\": \"rgb(36,36,36)\"}, \"baxis\": {\"endlinecolor\": \"rgb(36,36,36)\", \"gridcolor\": \"white\", \"linecolor\": \"white\", \"minorgridcolor\": \"white\", \"startlinecolor\": \"rgb(36,36,36)\"}, \"type\": \"carpet\"}], \"choropleth\": [{\"colorbar\": {\"outlinewidth\": 1, \"tickcolor\": \"rgb(36,36,36)\", \"ticks\": \"outside\"}, \"type\": \"choropleth\"}], \"contour\": [{\"colorbar\": {\"outlinewidth\": 1, \"tickcolor\": \"rgb(36,36,36)\", \"ticks\": \"outside\"}, \"colorscale\": [[0.0, \"#440154\"], [0.1111111111111111, \"#482878\"], [0.2222222222222222, \"#3e4989\"], [0.3333333333333333, \"#31688e\"], [0.4444444444444444, \"#26828e\"], [0.5555555555555556, \"#1f9e89\"], [0.6666666666666666, \"#35b779\"], [0.7777777777777778, \"#6ece58\"], [0.8888888888888888, \"#b5de2b\"], [1.0, \"#fde725\"]], \"type\": \"contour\"}], \"contourcarpet\": [{\"colorbar\": {\"outlinewidth\": 1, \"tickcolor\": \"rgb(36,36,36)\", \"ticks\": \"outside\"}, \"type\": \"contourcarpet\"}], \"heatmap\": [{\"colorbar\": {\"outlinewidth\": 1, \"tickcolor\": \"rgb(36,36,36)\", \"ticks\": \"outside\"}, \"colorscale\": [[0.0, \"#440154\"], [0.1111111111111111, \"#482878\"], [0.2222222222222222, \"#3e4989\"], [0.3333333333333333, \"#31688e\"], [0.4444444444444444, \"#26828e\"], [0.5555555555555556, \"#1f9e89\"], [0.6666666666666666, \"#35b779\"], [0.7777777777777778, \"#6ece58\"], [0.8888888888888888, \"#b5de2b\"], [1.0, \"#fde725\"]], \"type\": \"heatmap\"}], \"heatmapgl\": [{\"colorbar\": {\"outlinewidth\": 1, \"tickcolor\": \"rgb(36,36,36)\", \"ticks\": \"outside\"}, \"colorscale\": [[0.0, \"#440154\"], [0.1111111111111111, \"#482878\"], [0.2222222222222222, \"#3e4989\"], [0.3333333333333333, \"#31688e\"], [0.4444444444444444, \"#26828e\"], [0.5555555555555556, \"#1f9e89\"], [0.6666666666666666, \"#35b779\"], [0.7777777777777778, \"#6ece58\"], [0.8888888888888888, \"#b5de2b\"], [1.0, \"#fde725\"]], \"type\": \"heatmapgl\"}], \"histogram\": [{\"marker\": {\"line\": {\"color\": \"white\", \"width\": 0.6}}, \"type\": \"histogram\"}], \"histogram2d\": [{\"colorbar\": {\"outlinewidth\": 1, \"tickcolor\": \"rgb(36,36,36)\", \"ticks\": \"outside\"}, \"colorscale\": [[0.0, \"#440154\"], [0.1111111111111111, \"#482878\"], [0.2222222222222222, \"#3e4989\"], [0.3333333333333333, \"#31688e\"], [0.4444444444444444, \"#26828e\"], [0.5555555555555556, \"#1f9e89\"], [0.6666666666666666, \"#35b779\"], [0.7777777777777778, \"#6ece58\"], [0.8888888888888888, \"#b5de2b\"], [1.0, \"#fde725\"]], \"type\": \"histogram2d\"}], \"histogram2dcontour\": [{\"colorbar\": {\"outlinewidth\": 1, \"tickcolor\": \"rgb(36,36,36)\", \"ticks\": \"outside\"}, \"colorscale\": [[0.0, \"#440154\"], [0.1111111111111111, \"#482878\"], [0.2222222222222222, \"#3e4989\"], [0.3333333333333333, \"#31688e\"], [0.4444444444444444, \"#26828e\"], [0.5555555555555556, \"#1f9e89\"], [0.6666666666666666, \"#35b779\"], [0.7777777777777778, \"#6ece58\"], [0.8888888888888888, \"#b5de2b\"], [1.0, \"#fde725\"]], \"type\": \"histogram2dcontour\"}], \"mesh3d\": [{\"colorbar\": {\"outlinewidth\": 1, \"tickcolor\": \"rgb(36,36,36)\", \"ticks\": \"outside\"}, \"type\": \"mesh3d\"}], \"parcoords\": [{\"line\": {\"colorbar\": {\"outlinewidth\": 1, \"tickcolor\": \"rgb(36,36,36)\", \"ticks\": \"outside\"}}, \"type\": \"parcoords\"}], \"pie\": [{\"automargin\": true, \"type\": \"pie\"}], \"scatter\": [{\"marker\": {\"colorbar\": {\"outlinewidth\": 1, \"tickcolor\": \"rgb(36,36,36)\", \"ticks\": \"outside\"}}, \"type\": \"scatter\"}], \"scatter3d\": [{\"line\": {\"colorbar\": {\"outlinewidth\": 1, \"tickcolor\": \"rgb(36,36,36)\", \"ticks\": \"outside\"}}, \"marker\": {\"colorbar\": {\"outlinewidth\": 1, \"tickcolor\": \"rgb(36,36,36)\", \"ticks\": \"outside\"}}, \"type\": \"scatter3d\"}], \"scattercarpet\": [{\"marker\": {\"colorbar\": {\"outlinewidth\": 1, \"tickcolor\": \"rgb(36,36,36)\", \"ticks\": \"outside\"}}, \"type\": \"scattercarpet\"}], \"scattergeo\": [{\"marker\": {\"colorbar\": {\"outlinewidth\": 1, \"tickcolor\": \"rgb(36,36,36)\", \"ticks\": \"outside\"}}, \"type\": \"scattergeo\"}], \"scattergl\": [{\"marker\": {\"colorbar\": {\"outlinewidth\": 1, \"tickcolor\": \"rgb(36,36,36)\", \"ticks\": \"outside\"}}, \"type\": \"scattergl\"}], \"scattermapbox\": [{\"marker\": {\"colorbar\": {\"outlinewidth\": 1, \"tickcolor\": \"rgb(36,36,36)\", \"ticks\": \"outside\"}}, \"type\": \"scattermapbox\"}], \"scatterpolar\": [{\"marker\": {\"colorbar\": {\"outlinewidth\": 1, \"tickcolor\": \"rgb(36,36,36)\", \"ticks\": \"outside\"}}, \"type\": \"scatterpolar\"}], \"scatterpolargl\": [{\"marker\": {\"colorbar\": {\"outlinewidth\": 1, \"tickcolor\": \"rgb(36,36,36)\", \"ticks\": \"outside\"}}, \"type\": \"scatterpolargl\"}], \"scatterternary\": [{\"marker\": {\"colorbar\": {\"outlinewidth\": 1, \"tickcolor\": \"rgb(36,36,36)\", \"ticks\": \"outside\"}}, \"type\": \"scatterternary\"}], \"surface\": [{\"colorbar\": {\"outlinewidth\": 1, \"tickcolor\": \"rgb(36,36,36)\", \"ticks\": \"outside\"}, \"colorscale\": [[0.0, \"#440154\"], [0.1111111111111111, \"#482878\"], [0.2222222222222222, \"#3e4989\"], [0.3333333333333333, \"#31688e\"], [0.4444444444444444, \"#26828e\"], [0.5555555555555556, \"#1f9e89\"], [0.6666666666666666, \"#35b779\"], [0.7777777777777778, \"#6ece58\"], [0.8888888888888888, \"#b5de2b\"], [1.0, \"#fde725\"]], \"type\": \"surface\"}], \"table\": [{\"cells\": {\"fill\": {\"color\": \"rgb(237,237,237)\"}, \"line\": {\"color\": \"white\"}}, \"header\": {\"fill\": {\"color\": \"rgb(217,217,217)\"}, \"line\": {\"color\": \"white\"}}, \"type\": \"table\"}]}, \"layout\": {\"annotationdefaults\": {\"arrowhead\": 0, \"arrowwidth\": 1}, \"autotypenumbers\": \"strict\", \"coloraxis\": {\"colorbar\": {\"outlinewidth\": 1, \"tickcolor\": \"rgb(36,36,36)\", \"ticks\": \"outside\"}}, \"colorscale\": {\"diverging\": [[0.0, \"rgb(103,0,31)\"], [0.1, \"rgb(178,24,43)\"], [0.2, \"rgb(214,96,77)\"], [0.3, \"rgb(244,165,130)\"], [0.4, \"rgb(253,219,199)\"], [0.5, \"rgb(247,247,247)\"], [0.6, \"rgb(209,229,240)\"], [0.7, \"rgb(146,197,222)\"], [0.8, \"rgb(67,147,195)\"], [0.9, \"rgb(33,102,172)\"], [1.0, \"rgb(5,48,97)\"]], \"sequential\": [[0.0, \"#440154\"], [0.1111111111111111, \"#482878\"], [0.2222222222222222, \"#3e4989\"], [0.3333333333333333, \"#31688e\"], [0.4444444444444444, \"#26828e\"], [0.5555555555555556, \"#1f9e89\"], [0.6666666666666666, \"#35b779\"], [0.7777777777777778, \"#6ece58\"], [0.8888888888888888, \"#b5de2b\"], [1.0, \"#fde725\"]], \"sequentialminus\": [[0.0, \"#440154\"], [0.1111111111111111, \"#482878\"], [0.2222222222222222, \"#3e4989\"], [0.3333333333333333, \"#31688e\"], [0.4444444444444444, \"#26828e\"], [0.5555555555555556, \"#1f9e89\"], [0.6666666666666666, \"#35b779\"], [0.7777777777777778, \"#6ece58\"], [0.8888888888888888, \"#b5de2b\"], [1.0, \"#fde725\"]]}, \"colorway\": [\"#1F77B4\", \"#FF7F0E\", \"#2CA02C\", \"#D62728\", \"#9467BD\", \"#8C564B\", \"#E377C2\", \"#7F7F7F\", \"#BCBD22\", \"#17BECF\"], \"font\": {\"color\": \"rgb(36,36,36)\"}, \"geo\": {\"bgcolor\": \"white\", \"lakecolor\": \"white\", \"landcolor\": \"white\", \"showlakes\": true, \"showland\": true, \"subunitcolor\": \"white\"}, \"height\": 800, \"hoverlabel\": {\"align\": \"left\"}, \"hovermode\": \"closest\", \"legend\": {\"orientation\": \"h\", \"title\": {\"text\": \"\"}, \"x\": 0.5, \"xanchor\": \"center\", \"y\": -0.2, \"yanchor\": \"bottom\"}, \"mapbox\": {\"style\": \"light\"}, \"paper_bgcolor\": \"white\", \"plot_bgcolor\": \"white\", \"polar\": {\"angularaxis\": {\"gridcolor\": \"rgb(232,232,232)\", \"linecolor\": \"rgb(36,36,36)\", \"showgrid\": false, \"showline\": true, \"ticks\": \"outside\"}, \"bgcolor\": \"white\", \"radialaxis\": {\"gridcolor\": \"rgb(232,232,232)\", \"linecolor\": \"rgb(36,36,36)\", \"showgrid\": false, \"showline\": true, \"ticks\": \"outside\"}}, \"scene\": {\"xaxis\": {\"backgroundcolor\": \"white\", \"gridcolor\": \"rgb(232,232,232)\", \"gridwidth\": 2, \"linecolor\": \"rgb(36,36,36)\", \"showbackground\": true, \"showgrid\": false, \"showline\": true, \"ticks\": \"outside\", \"zeroline\": false, \"zerolinecolor\": \"rgb(36,36,36)\"}, \"yaxis\": {\"backgroundcolor\": \"white\", \"gridcolor\": \"rgb(232,232,232)\", \"gridwidth\": 2, \"linecolor\": \"rgb(36,36,36)\", \"showbackground\": true, \"showgrid\": false, \"showline\": true, \"ticks\": \"outside\", \"zeroline\": false, \"zerolinecolor\": \"rgb(36,36,36)\"}, \"zaxis\": {\"backgroundcolor\": \"white\", \"gridcolor\": \"rgb(232,232,232)\", \"gridwidth\": 2, \"linecolor\": \"rgb(36,36,36)\", \"showbackground\": true, \"showgrid\": false, \"showline\": true, \"ticks\": \"outside\", \"zeroline\": false, \"zerolinecolor\": \"rgb(36,36,36)\"}}, \"shapedefaults\": {\"fillcolor\": \"black\", \"line\": {\"width\": 0}, \"opacity\": 0.3}, \"ternary\": {\"aaxis\": {\"gridcolor\": \"rgb(232,232,232)\", \"linecolor\": \"rgb(36,36,36)\", \"showgrid\": false, \"showline\": true, \"ticks\": \"outside\"}, \"baxis\": {\"gridcolor\": \"rgb(232,232,232)\", \"linecolor\": \"rgb(36,36,36)\", \"showgrid\": false, \"showline\": true, \"ticks\": \"outside\"}, \"bgcolor\": \"white\", \"caxis\": {\"gridcolor\": \"rgb(232,232,232)\", \"linecolor\": \"rgb(36,36,36)\", \"showgrid\": false, \"showline\": true, \"ticks\": \"outside\"}}, \"title\": {\"x\": 0.5}, \"xaxis\": {\"automargin\": true, \"gridcolor\": \"rgb(232,232,232)\", \"linecolor\": \"rgb(36,36,36)\", \"showgrid\": true, \"showline\": true, \"ticks\": \"outside\", \"title\": {\"standoff\": 15}, \"zeroline\": false, \"zerolinecolor\": \"rgb(36,36,36)\"}, \"yaxis\": {\"automargin\": true, \"gridcolor\": \"rgb(232,232,232)\", \"linecolor\": \"rgb(36,36,36)\", \"showgrid\": true, \"showline\": true, \"ticks\": \"outside\", \"title\": {\"standoff\": 15}, \"zeroline\": false, \"zerolinecolor\": \"rgb(36,36,36)\"}}}, \"title\": {\"text\": \"Three Region Yield Analysis @ 524288 ETH Staked\"}, \"xaxis\": {\"anchor\": \"y\", \"domain\": [0.0, 1.0], \"title\": {\"text\": \"ETH Price ($/ETH)\"}}, \"yaxis\": {\"anchor\": \"x\", \"domain\": [0.0, 1.0], \"title\": {\"text\": \"Revenue Yields (%/year)\"}}},                        {\"responsive\": true}                    ).then(function(){\n",
       "                            \n",
       "var gd = document.getElementById('15bc9bae-dfc3-4c1f-97fc-a918c2d7f3f5');\n",
       "var x = new MutationObserver(function (mutations, observer) {{\n",
       "        var display = window.getComputedStyle(gd).display;\n",
       "        if (!display || display === 'none') {{\n",
       "            console.log([gd, 'removed!']);\n",
       "            Plotly.purge(gd);\n",
       "            observer.disconnect();\n",
       "        }}\n",
       "}});\n",
       "\n",
       "// Listen for the removal of the full notebook cells\n",
       "var notebookContainer = gd.closest('#notebook-container');\n",
       "if (notebookContainer) {{\n",
       "    x.observe(notebookContainer, {childList: true});\n",
       "}}\n",
       "\n",
       "// Listen for the clearing of the current output cell\n",
       "var outputEl = gd.closest('.output');\n",
       "if (outputEl) {{\n",
       "    x.observe(outputEl, {childList: true});\n",
       "}}\n",
       "\n",
       "                        })                };                });            </script>        </div>"
      ]
     },
     "metadata": {},
     "output_type": "display_data"
    },
    {
     "name": "stdout",
     "output_type": "stream",
     "text": [
      "time: 157 ms (started: 2021-06-17 14:48:58 +02:00)\n"
     ]
    }
   ],
   "source": [
    "visualizations.plot_three_region_yield_analysis(df_3.query('subset == 0').copy())"
   ]
  },
  {
   "cell_type": "code",
   "execution_count": 22,
   "metadata": {},
   "outputs": [
    {
     "data": {
      "application/vnd.plotly.v1+json": {
       "config": {
        "plotlyServerURL": "https://plot.ly"
       },
       "data": [
        {
         "hovertemplate": "variable=total_revenue_yields_pct<br>eth_price=%{x}<br>value=%{y}<extra></extra>",
         "legendgroup": "total_revenue_yields_pct",
         "line": {
          "color": "#1F77B4",
          "dash": "solid"
         },
         "mode": "lines",
         "name": "Total Revenue Yields",
         "orientation": "v",
         "showlegend": true,
         "type": "scatter",
         "x": [
          25,
          55.102040816326536,
          85.20408163265307,
          115.3061224489796,
          145.40816326530614,
          175.51020408163265,
          205.6122448979592,
          235.71428571428572,
          265.8163265306123,
          295.9183673469388,
          326.0204081632653,
          356.12244897959187,
          386.2244897959184,
          416.32653061224494,
          446.42857142857144,
          476.530612244898,
          506.6326530612245,
          536.7346938775511,
          566.8367346938776,
          596.9387755102041,
          627.0408163265306,
          657.1428571428572,
          687.2448979591837,
          717.3469387755102,
          747.4489795918367,
          777.5510204081633,
          807.6530612244899,
          837.7551020408164,
          867.8571428571429,
          897.9591836734694,
          928.061224489796,
          958.1632653061225,
          988.265306122449,
          1018.3673469387755,
          1048.4693877551022,
          1078.5714285714287,
          1108.6734693877552,
          1138.7755102040817,
          1168.8775510204082,
          1198.9795918367347,
          1229.0816326530612,
          1259.1836734693877,
          1289.2857142857144,
          1319.387755102041,
          1349.4897959183675,
          1379.591836734694,
          1409.6938775510205,
          1439.795918367347,
          1469.8979591836735,
          1500
         ],
         "xaxis": "x",
         "y": [
          2.7405333318268896,
          2.7405333318268896,
          2.7405333318268896,
          2.7405333318268896,
          2.7405333318268896,
          2.74053333182689,
          2.74053333182689,
          2.7405333318268896,
          2.7405333318268896,
          2.7405333318268905,
          2.7405333318268896,
          2.74053333182689,
          2.74053333182689,
          2.7405333318268896,
          2.7405333318268896,
          2.7405333318268896,
          2.7405333318268896,
          2.74053333182689,
          2.7405333318268896,
          2.74053333182689,
          2.7405333318268896,
          2.7405333318268896,
          2.7405333318268896,
          2.7405333318268896,
          2.74053333182689,
          2.7405333318268896,
          2.7405333318268896,
          2.7405333318268896,
          2.7405333318268896,
          2.7405333318268896,
          2.74053333182689,
          2.74053333182689,
          2.7405333318268896,
          2.7405333318268896,
          2.7405333318268896,
          2.74053333182689,
          2.74053333182689,
          2.7405333318268896,
          2.74053333182689,
          2.7405333318268896,
          2.74053333182689,
          2.7405333318268896,
          2.7405333318268896,
          2.7405333318268896,
          2.7405333318268896,
          2.74053333182689,
          2.74053333182689,
          2.7405333318268896,
          2.7405333318268896,
          2.7405333318268896
         ],
         "yaxis": "y"
        },
        {
         "hovertemplate": "variable=total_profit_yields_pct<br>eth_price=%{x}<br>value=%{y}<extra></extra>",
         "legendgroup": "total_profit_yields_pct",
         "line": {
          "color": "#FF7F0E",
          "dash": "solid"
         },
         "mode": "lines",
         "name": "Total Profit Yields",
         "orientation": "v",
         "showlegend": true,
         "type": "scatter",
         "x": [
          25,
          55.102040816326536,
          85.20408163265307,
          115.3061224489796,
          145.40816326530614,
          175.51020408163265,
          205.6122448979592,
          235.71428571428572,
          265.8163265306123,
          295.9183673469388,
          326.0204081632653,
          356.12244897959187,
          386.2244897959184,
          416.32653061224494,
          446.42857142857144,
          476.530612244898,
          506.6326530612245,
          536.7346938775511,
          566.8367346938776,
          596.9387755102041,
          627.0408163265306,
          657.1428571428572,
          687.2448979591837,
          717.3469387755102,
          747.4489795918367,
          777.5510204081633,
          807.6530612244899,
          837.7551020408164,
          867.8571428571429,
          897.9591836734694,
          928.061224489796,
          958.1632653061225,
          988.265306122449,
          1018.3673469387755,
          1048.4693877551022,
          1078.5714285714287,
          1108.6734693877552,
          1138.7755102040817,
          1168.8775510204082,
          1198.9795918367347,
          1229.0816326530612,
          1259.1836734693877,
          1289.2857142857144,
          1319.387755102041,
          1349.4897959183675,
          1379.591836734694,
          1409.6938775510205,
          1439.795918367347,
          1469.8979591836735,
          1500
         ],
         "xaxis": "x",
         "y": [
          -3.870474482449003,
          -0.3389506792082623,
          0.6972449277306376,
          1.1924180496306427,
          1.4825721245685402,
          1.6731966040335549,
          1.8080054790894589,
          1.9083826501267542,
          1.9860256442304596,
          2.0478723050509973,
          2.0982981427466143,
          2.1401992686254956,
          2.1755689112101786,
          2.2058238260681535,
          2.2319986495509965,
          2.254866589553138,
          2.275017090562074,
          2.292907364271529,
          2.308897500899331,
          2.3232749570809115,
          2.3362719902930635,
          2.3480783015183877,
          2.358850355338673,
          2.3687183534329312,
          2.3777915230117475,
          2.3861621768357733,
          2.393908865308419,
          2.4010988490065386,
          2.407790056645647,
          2.414032649227133,
          2.4198702797829927,
          2.425341115660688,
          2.4304786739784614,
          2.4353125089087118,
          2.4398687805680286,
          2.444170728643712,
          2.4482390688625477,
          2.4520923265787737,
          2.45574711881682,
          2.459218393827593,
          2.4625196354422383,
          2.4656630381142053,
          2.468659657440193,
          2.471519540076132,
          2.4742518362655526,
          2.476864897636056,
          2.479366362465944,
          2.481763230254753,
          2.4840619271310036,
          2.48626836338433
         ],
         "yaxis": "y"
        }
       ],
       "layout": {
        "annotations": [
         {
          "showarrow": false,
          "text": "Cliff",
          "x": 125,
          "y": 2.7405333318268905,
          "yshift": 10
         },
         {
          "showarrow": false,
          "text": "Economics of Scale",
          "x": 762.5,
          "y": 2.7405333318268905,
          "yshift": 10
         },
         {
          "showarrow": false,
          "text": "Stability",
          "x": 1400,
          "y": 2.7405333318268905,
          "yshift": 10
         }
        ],
        "autosize": true,
        "legend": {
         "title": {
          "text": ""
         },
         "tracegroupgap": 0
        },
        "margin": {
         "t": 60
        },
        "template": {
         "data": {
          "bar": [
           {
            "error_x": {
             "color": "rgb(36,36,36)"
            },
            "error_y": {
             "color": "rgb(36,36,36)"
            },
            "marker": {
             "line": {
              "color": "white",
              "width": 0.5
             }
            },
            "type": "bar"
           }
          ],
          "barpolar": [
           {
            "marker": {
             "line": {
              "color": "white",
              "width": 0.5
             }
            },
            "type": "barpolar"
           }
          ],
          "carpet": [
           {
            "aaxis": {
             "endlinecolor": "rgb(36,36,36)",
             "gridcolor": "white",
             "linecolor": "white",
             "minorgridcolor": "white",
             "startlinecolor": "rgb(36,36,36)"
            },
            "baxis": {
             "endlinecolor": "rgb(36,36,36)",
             "gridcolor": "white",
             "linecolor": "white",
             "minorgridcolor": "white",
             "startlinecolor": "rgb(36,36,36)"
            },
            "type": "carpet"
           }
          ],
          "choropleth": [
           {
            "colorbar": {
             "outlinewidth": 1,
             "tickcolor": "rgb(36,36,36)",
             "ticks": "outside"
            },
            "type": "choropleth"
           }
          ],
          "contour": [
           {
            "colorbar": {
             "outlinewidth": 1,
             "tickcolor": "rgb(36,36,36)",
             "ticks": "outside"
            },
            "colorscale": [
             [
              0,
              "#440154"
             ],
             [
              0.1111111111111111,
              "#482878"
             ],
             [
              0.2222222222222222,
              "#3e4989"
             ],
             [
              0.3333333333333333,
              "#31688e"
             ],
             [
              0.4444444444444444,
              "#26828e"
             ],
             [
              0.5555555555555556,
              "#1f9e89"
             ],
             [
              0.6666666666666666,
              "#35b779"
             ],
             [
              0.7777777777777778,
              "#6ece58"
             ],
             [
              0.8888888888888888,
              "#b5de2b"
             ],
             [
              1,
              "#fde725"
             ]
            ],
            "type": "contour"
           }
          ],
          "contourcarpet": [
           {
            "colorbar": {
             "outlinewidth": 1,
             "tickcolor": "rgb(36,36,36)",
             "ticks": "outside"
            },
            "type": "contourcarpet"
           }
          ],
          "heatmap": [
           {
            "colorbar": {
             "outlinewidth": 1,
             "tickcolor": "rgb(36,36,36)",
             "ticks": "outside"
            },
            "colorscale": [
             [
              0,
              "#440154"
             ],
             [
              0.1111111111111111,
              "#482878"
             ],
             [
              0.2222222222222222,
              "#3e4989"
             ],
             [
              0.3333333333333333,
              "#31688e"
             ],
             [
              0.4444444444444444,
              "#26828e"
             ],
             [
              0.5555555555555556,
              "#1f9e89"
             ],
             [
              0.6666666666666666,
              "#35b779"
             ],
             [
              0.7777777777777778,
              "#6ece58"
             ],
             [
              0.8888888888888888,
              "#b5de2b"
             ],
             [
              1,
              "#fde725"
             ]
            ],
            "type": "heatmap"
           }
          ],
          "heatmapgl": [
           {
            "colorbar": {
             "outlinewidth": 1,
             "tickcolor": "rgb(36,36,36)",
             "ticks": "outside"
            },
            "colorscale": [
             [
              0,
              "#440154"
             ],
             [
              0.1111111111111111,
              "#482878"
             ],
             [
              0.2222222222222222,
              "#3e4989"
             ],
             [
              0.3333333333333333,
              "#31688e"
             ],
             [
              0.4444444444444444,
              "#26828e"
             ],
             [
              0.5555555555555556,
              "#1f9e89"
             ],
             [
              0.6666666666666666,
              "#35b779"
             ],
             [
              0.7777777777777778,
              "#6ece58"
             ],
             [
              0.8888888888888888,
              "#b5de2b"
             ],
             [
              1,
              "#fde725"
             ]
            ],
            "type": "heatmapgl"
           }
          ],
          "histogram": [
           {
            "marker": {
             "line": {
              "color": "white",
              "width": 0.6
             }
            },
            "type": "histogram"
           }
          ],
          "histogram2d": [
           {
            "colorbar": {
             "outlinewidth": 1,
             "tickcolor": "rgb(36,36,36)",
             "ticks": "outside"
            },
            "colorscale": [
             [
              0,
              "#440154"
             ],
             [
              0.1111111111111111,
              "#482878"
             ],
             [
              0.2222222222222222,
              "#3e4989"
             ],
             [
              0.3333333333333333,
              "#31688e"
             ],
             [
              0.4444444444444444,
              "#26828e"
             ],
             [
              0.5555555555555556,
              "#1f9e89"
             ],
             [
              0.6666666666666666,
              "#35b779"
             ],
             [
              0.7777777777777778,
              "#6ece58"
             ],
             [
              0.8888888888888888,
              "#b5de2b"
             ],
             [
              1,
              "#fde725"
             ]
            ],
            "type": "histogram2d"
           }
          ],
          "histogram2dcontour": [
           {
            "colorbar": {
             "outlinewidth": 1,
             "tickcolor": "rgb(36,36,36)",
             "ticks": "outside"
            },
            "colorscale": [
             [
              0,
              "#440154"
             ],
             [
              0.1111111111111111,
              "#482878"
             ],
             [
              0.2222222222222222,
              "#3e4989"
             ],
             [
              0.3333333333333333,
              "#31688e"
             ],
             [
              0.4444444444444444,
              "#26828e"
             ],
             [
              0.5555555555555556,
              "#1f9e89"
             ],
             [
              0.6666666666666666,
              "#35b779"
             ],
             [
              0.7777777777777778,
              "#6ece58"
             ],
             [
              0.8888888888888888,
              "#b5de2b"
             ],
             [
              1,
              "#fde725"
             ]
            ],
            "type": "histogram2dcontour"
           }
          ],
          "mesh3d": [
           {
            "colorbar": {
             "outlinewidth": 1,
             "tickcolor": "rgb(36,36,36)",
             "ticks": "outside"
            },
            "type": "mesh3d"
           }
          ],
          "parcoords": [
           {
            "line": {
             "colorbar": {
              "outlinewidth": 1,
              "tickcolor": "rgb(36,36,36)",
              "ticks": "outside"
             }
            },
            "type": "parcoords"
           }
          ],
          "pie": [
           {
            "automargin": true,
            "type": "pie"
           }
          ],
          "scatter": [
           {
            "marker": {
             "colorbar": {
              "outlinewidth": 1,
              "tickcolor": "rgb(36,36,36)",
              "ticks": "outside"
             }
            },
            "type": "scatter"
           }
          ],
          "scatter3d": [
           {
            "line": {
             "colorbar": {
              "outlinewidth": 1,
              "tickcolor": "rgb(36,36,36)",
              "ticks": "outside"
             }
            },
            "marker": {
             "colorbar": {
              "outlinewidth": 1,
              "tickcolor": "rgb(36,36,36)",
              "ticks": "outside"
             }
            },
            "type": "scatter3d"
           }
          ],
          "scattercarpet": [
           {
            "marker": {
             "colorbar": {
              "outlinewidth": 1,
              "tickcolor": "rgb(36,36,36)",
              "ticks": "outside"
             }
            },
            "type": "scattercarpet"
           }
          ],
          "scattergeo": [
           {
            "marker": {
             "colorbar": {
              "outlinewidth": 1,
              "tickcolor": "rgb(36,36,36)",
              "ticks": "outside"
             }
            },
            "type": "scattergeo"
           }
          ],
          "scattergl": [
           {
            "marker": {
             "colorbar": {
              "outlinewidth": 1,
              "tickcolor": "rgb(36,36,36)",
              "ticks": "outside"
             }
            },
            "type": "scattergl"
           }
          ],
          "scattermapbox": [
           {
            "marker": {
             "colorbar": {
              "outlinewidth": 1,
              "tickcolor": "rgb(36,36,36)",
              "ticks": "outside"
             }
            },
            "type": "scattermapbox"
           }
          ],
          "scatterpolar": [
           {
            "marker": {
             "colorbar": {
              "outlinewidth": 1,
              "tickcolor": "rgb(36,36,36)",
              "ticks": "outside"
             }
            },
            "type": "scatterpolar"
           }
          ],
          "scatterpolargl": [
           {
            "marker": {
             "colorbar": {
              "outlinewidth": 1,
              "tickcolor": "rgb(36,36,36)",
              "ticks": "outside"
             }
            },
            "type": "scatterpolargl"
           }
          ],
          "scatterternary": [
           {
            "marker": {
             "colorbar": {
              "outlinewidth": 1,
              "tickcolor": "rgb(36,36,36)",
              "ticks": "outside"
             }
            },
            "type": "scatterternary"
           }
          ],
          "surface": [
           {
            "colorbar": {
             "outlinewidth": 1,
             "tickcolor": "rgb(36,36,36)",
             "ticks": "outside"
            },
            "colorscale": [
             [
              0,
              "#440154"
             ],
             [
              0.1111111111111111,
              "#482878"
             ],
             [
              0.2222222222222222,
              "#3e4989"
             ],
             [
              0.3333333333333333,
              "#31688e"
             ],
             [
              0.4444444444444444,
              "#26828e"
             ],
             [
              0.5555555555555556,
              "#1f9e89"
             ],
             [
              0.6666666666666666,
              "#35b779"
             ],
             [
              0.7777777777777778,
              "#6ece58"
             ],
             [
              0.8888888888888888,
              "#b5de2b"
             ],
             [
              1,
              "#fde725"
             ]
            ],
            "type": "surface"
           }
          ],
          "table": [
           {
            "cells": {
             "fill": {
              "color": "rgb(237,237,237)"
             },
             "line": {
              "color": "white"
             }
            },
            "header": {
             "fill": {
              "color": "rgb(217,217,217)"
             },
             "line": {
              "color": "white"
             }
            },
            "type": "table"
           }
          ]
         },
         "layout": {
          "annotationdefaults": {
           "arrowhead": 0,
           "arrowwidth": 1
          },
          "autotypenumbers": "strict",
          "coloraxis": {
           "colorbar": {
            "outlinewidth": 1,
            "tickcolor": "rgb(36,36,36)",
            "ticks": "outside"
           }
          },
          "colorscale": {
           "diverging": [
            [
             0,
             "rgb(103,0,31)"
            ],
            [
             0.1,
             "rgb(178,24,43)"
            ],
            [
             0.2,
             "rgb(214,96,77)"
            ],
            [
             0.3,
             "rgb(244,165,130)"
            ],
            [
             0.4,
             "rgb(253,219,199)"
            ],
            [
             0.5,
             "rgb(247,247,247)"
            ],
            [
             0.6,
             "rgb(209,229,240)"
            ],
            [
             0.7,
             "rgb(146,197,222)"
            ],
            [
             0.8,
             "rgb(67,147,195)"
            ],
            [
             0.9,
             "rgb(33,102,172)"
            ],
            [
             1,
             "rgb(5,48,97)"
            ]
           ],
           "sequential": [
            [
             0,
             "#440154"
            ],
            [
             0.1111111111111111,
             "#482878"
            ],
            [
             0.2222222222222222,
             "#3e4989"
            ],
            [
             0.3333333333333333,
             "#31688e"
            ],
            [
             0.4444444444444444,
             "#26828e"
            ],
            [
             0.5555555555555556,
             "#1f9e89"
            ],
            [
             0.6666666666666666,
             "#35b779"
            ],
            [
             0.7777777777777778,
             "#6ece58"
            ],
            [
             0.8888888888888888,
             "#b5de2b"
            ],
            [
             1,
             "#fde725"
            ]
           ],
           "sequentialminus": [
            [
             0,
             "#440154"
            ],
            [
             0.1111111111111111,
             "#482878"
            ],
            [
             0.2222222222222222,
             "#3e4989"
            ],
            [
             0.3333333333333333,
             "#31688e"
            ],
            [
             0.4444444444444444,
             "#26828e"
            ],
            [
             0.5555555555555556,
             "#1f9e89"
            ],
            [
             0.6666666666666666,
             "#35b779"
            ],
            [
             0.7777777777777778,
             "#6ece58"
            ],
            [
             0.8888888888888888,
             "#b5de2b"
            ],
            [
             1,
             "#fde725"
            ]
           ]
          },
          "colorway": [
           "#1F77B4",
           "#FF7F0E",
           "#2CA02C",
           "#D62728",
           "#9467BD",
           "#8C564B",
           "#E377C2",
           "#7F7F7F",
           "#BCBD22",
           "#17BECF"
          ],
          "font": {
           "color": "rgb(36,36,36)"
          },
          "geo": {
           "bgcolor": "white",
           "lakecolor": "white",
           "landcolor": "white",
           "showlakes": true,
           "showland": true,
           "subunitcolor": "white"
          },
          "height": 800,
          "hoverlabel": {
           "align": "left"
          },
          "hovermode": "closest",
          "legend": {
           "orientation": "h",
           "title": {
            "text": ""
           },
           "x": 0.5,
           "xanchor": "center",
           "y": -0.2,
           "yanchor": "bottom"
          },
          "mapbox": {
           "style": "light"
          },
          "paper_bgcolor": "white",
          "plot_bgcolor": "white",
          "polar": {
           "angularaxis": {
            "gridcolor": "rgb(232,232,232)",
            "linecolor": "rgb(36,36,36)",
            "showgrid": false,
            "showline": true,
            "ticks": "outside"
           },
           "bgcolor": "white",
           "radialaxis": {
            "gridcolor": "rgb(232,232,232)",
            "linecolor": "rgb(36,36,36)",
            "showgrid": false,
            "showline": true,
            "ticks": "outside"
           }
          },
          "scene": {
           "xaxis": {
            "backgroundcolor": "white",
            "gridcolor": "rgb(232,232,232)",
            "gridwidth": 2,
            "linecolor": "rgb(36,36,36)",
            "showbackground": true,
            "showgrid": false,
            "showline": true,
            "ticks": "outside",
            "zeroline": false,
            "zerolinecolor": "rgb(36,36,36)"
           },
           "yaxis": {
            "backgroundcolor": "white",
            "gridcolor": "rgb(232,232,232)",
            "gridwidth": 2,
            "linecolor": "rgb(36,36,36)",
            "showbackground": true,
            "showgrid": false,
            "showline": true,
            "ticks": "outside",
            "zeroline": false,
            "zerolinecolor": "rgb(36,36,36)"
           },
           "zaxis": {
            "backgroundcolor": "white",
            "gridcolor": "rgb(232,232,232)",
            "gridwidth": 2,
            "linecolor": "rgb(36,36,36)",
            "showbackground": true,
            "showgrid": false,
            "showline": true,
            "ticks": "outside",
            "zeroline": false,
            "zerolinecolor": "rgb(36,36,36)"
           }
          },
          "shapedefaults": {
           "fillcolor": "black",
           "line": {
            "width": 0
           },
           "opacity": 0.3
          },
          "ternary": {
           "aaxis": {
            "gridcolor": "rgb(232,232,232)",
            "linecolor": "rgb(36,36,36)",
            "showgrid": false,
            "showline": true,
            "ticks": "outside"
           },
           "baxis": {
            "gridcolor": "rgb(232,232,232)",
            "linecolor": "rgb(36,36,36)",
            "showgrid": false,
            "showline": true,
            "ticks": "outside"
           },
           "bgcolor": "white",
           "caxis": {
            "gridcolor": "rgb(232,232,232)",
            "linecolor": "rgb(36,36,36)",
            "showgrid": false,
            "showline": true,
            "ticks": "outside"
           }
          },
          "title": {
           "x": 0.5
          },
          "xaxis": {
           "automargin": true,
           "gridcolor": "rgb(232,232,232)",
           "linecolor": "rgb(36,36,36)",
           "showgrid": true,
           "showline": true,
           "ticks": "outside",
           "title": {
            "standoff": 15
           },
           "zeroline": false,
           "zerolinecolor": "rgb(36,36,36)"
          },
          "yaxis": {
           "automargin": true,
           "gridcolor": "rgb(232,232,232)",
           "linecolor": "rgb(36,36,36)",
           "showgrid": true,
           "showline": true,
           "ticks": "outside",
           "title": {
            "standoff": 15
           },
           "zeroline": false,
           "zerolinecolor": "rgb(36,36,36)"
          }
         }
        },
        "title": {
         "text": "Three Region Yield Analysis @ 33600000 ETH Staked"
        },
        "xaxis": {
         "anchor": "y",
         "autorange": true,
         "domain": [
          0,
          1
         ],
         "range": [
          25,
          1500
         ],
         "title": {
          "text": "ETH Price ($/ETH)"
         },
         "type": "linear"
        },
        "yaxis": {
         "anchor": "x",
         "autorange": true,
         "domain": [
          0,
          1
         ],
         "range": [
          -4.23775269435322,
          3.1078115437311067
         ],
         "title": {
          "text": "Revenue Yields (%/year)"
         },
         "type": "linear"
        }
       }
      },
      "image/png": "[encoded data removed]",
      "text/html": [
       "<div>                            <div id=\"ba88632e-e6c0-41ed-8d05-dd81a9b974d6\" class=\"plotly-graph-div\" style=\"height:800px; width:100%;\"></div>            <script type=\"text/javascript\">                require([\"plotly\"], function(Plotly) {                    window.PLOTLYENV=window.PLOTLYENV || {};                                    if (document.getElementById(\"ba88632e-e6c0-41ed-8d05-dd81a9b974d6\")) {                    Plotly.newPlot(                        \"ba88632e-e6c0-41ed-8d05-dd81a9b974d6\",                        [{\"hovertemplate\": \"variable=total_revenue_yields_pct<br>eth_price=%{x}<br>value=%{y}<extra></extra>\", \"legendgroup\": \"total_revenue_yields_pct\", \"line\": {\"color\": \"#1F77B4\", \"dash\": \"solid\"}, \"mode\": \"lines\", \"name\": \"Total Revenue Yields\", \"orientation\": \"v\", \"showlegend\": true, \"type\": \"scatter\", \"x\": [25.0, 55.102040816326536, 85.20408163265307, 115.3061224489796, 145.40816326530614, 175.51020408163265, 205.6122448979592, 235.71428571428572, 265.8163265306123, 295.9183673469388, 326.0204081632653, 356.12244897959187, 386.2244897959184, 416.32653061224494, 446.42857142857144, 476.530612244898, 506.6326530612245, 536.7346938775511, 566.8367346938776, 596.9387755102041, 627.0408163265306, 657.1428571428572, 687.2448979591837, 717.3469387755102, 747.4489795918367, 777.5510204081633, 807.6530612244899, 837.7551020408164, 867.8571428571429, 897.9591836734694, 928.061224489796, 958.1632653061225, 988.265306122449, 1018.3673469387755, 1048.4693877551022, 1078.5714285714287, 1108.6734693877552, 1138.7755102040817, 1168.8775510204082, 1198.9795918367347, 1229.0816326530612, 1259.1836734693877, 1289.2857142857144, 1319.387755102041, 1349.4897959183675, 1379.591836734694, 1409.6938775510205, 1439.795918367347, 1469.8979591836735, 1500.0], \"xaxis\": \"x\", \"y\": [2.7405333318268896, 2.7405333318268896, 2.7405333318268896, 2.7405333318268896, 2.7405333318268896, 2.74053333182689, 2.74053333182689, 2.7405333318268896, 2.7405333318268896, 2.7405333318268905, 2.7405333318268896, 2.74053333182689, 2.74053333182689, 2.7405333318268896, 2.7405333318268896, 2.7405333318268896, 2.7405333318268896, 2.74053333182689, 2.7405333318268896, 2.74053333182689, 2.7405333318268896, 2.7405333318268896, 2.7405333318268896, 2.7405333318268896, 2.74053333182689, 2.7405333318268896, 2.7405333318268896, 2.7405333318268896, 2.7405333318268896, 2.7405333318268896, 2.74053333182689, 2.74053333182689, 2.7405333318268896, 2.7405333318268896, 2.7405333318268896, 2.74053333182689, 2.74053333182689, 2.7405333318268896, 2.74053333182689, 2.7405333318268896, 2.74053333182689, 2.7405333318268896, 2.7405333318268896, 2.7405333318268896, 2.7405333318268896, 2.74053333182689, 2.74053333182689, 2.7405333318268896, 2.7405333318268896, 2.7405333318268896], \"yaxis\": \"y\"}, {\"hovertemplate\": \"variable=total_profit_yields_pct<br>eth_price=%{x}<br>value=%{y}<extra></extra>\", \"legendgroup\": \"total_profit_yields_pct\", \"line\": {\"color\": \"#FF7F0E\", \"dash\": \"solid\"}, \"mode\": \"lines\", \"name\": \"Total Profit Yields\", \"orientation\": \"v\", \"showlegend\": true, \"type\": \"scatter\", \"x\": [25.0, 55.102040816326536, 85.20408163265307, 115.3061224489796, 145.40816326530614, 175.51020408163265, 205.6122448979592, 235.71428571428572, 265.8163265306123, 295.9183673469388, 326.0204081632653, 356.12244897959187, 386.2244897959184, 416.32653061224494, 446.42857142857144, 476.530612244898, 506.6326530612245, 536.7346938775511, 566.8367346938776, 596.9387755102041, 627.0408163265306, 657.1428571428572, 687.2448979591837, 717.3469387755102, 747.4489795918367, 777.5510204081633, 807.6530612244899, 837.7551020408164, 867.8571428571429, 897.9591836734694, 928.061224489796, 958.1632653061225, 988.265306122449, 1018.3673469387755, 1048.4693877551022, 1078.5714285714287, 1108.6734693877552, 1138.7755102040817, 1168.8775510204082, 1198.9795918367347, 1229.0816326530612, 1259.1836734693877, 1289.2857142857144, 1319.387755102041, 1349.4897959183675, 1379.591836734694, 1409.6938775510205, 1439.795918367347, 1469.8979591836735, 1500.0], \"xaxis\": \"x\", \"y\": [-3.870474482449003, -0.3389506792082623, 0.6972449277306376, 1.1924180496306427, 1.4825721245685402, 1.6731966040335549, 1.8080054790894589, 1.9083826501267542, 1.9860256442304596, 2.0478723050509973, 2.0982981427466143, 2.1401992686254956, 2.1755689112101786, 2.2058238260681535, 2.2319986495509965, 2.254866589553138, 2.275017090562074, 2.292907364271529, 2.308897500899331, 2.3232749570809115, 2.3362719902930635, 2.3480783015183877, 2.358850355338673, 2.3687183534329312, 2.3777915230117475, 2.3861621768357733, 2.393908865308419, 2.4010988490065386, 2.407790056645647, 2.414032649227133, 2.4198702797829927, 2.425341115660688, 2.4304786739784614, 2.4353125089087118, 2.4398687805680286, 2.444170728643712, 2.4482390688625477, 2.4520923265787737, 2.45574711881682, 2.459218393827593, 2.4625196354422383, 2.4656630381142053, 2.468659657440193, 2.471519540076132, 2.4742518362655526, 2.476864897636056, 2.479366362465944, 2.481763230254753, 2.4840619271310036, 2.48626836338433], \"yaxis\": \"y\"}],                        {\"annotations\": [{\"showarrow\": false, \"text\": \"Cliff\", \"x\": 125.0, \"y\": 2.7405333318268905, \"yshift\": 10}, {\"showarrow\": false, \"text\": \"Economics of Scale\", \"x\": 762.5, \"y\": 2.7405333318268905, \"yshift\": 10}, {\"showarrow\": false, \"text\": \"Stability\", \"x\": 1400.0, \"y\": 2.7405333318268905, \"yshift\": 10}], \"legend\": {\"title\": {\"text\": \"\"}, \"tracegroupgap\": 0}, \"margin\": {\"t\": 60}, \"template\": {\"data\": {\"bar\": [{\"error_x\": {\"color\": \"rgb(36,36,36)\"}, \"error_y\": {\"color\": \"rgb(36,36,36)\"}, \"marker\": {\"line\": {\"color\": \"white\", \"width\": 0.5}}, \"type\": \"bar\"}], \"barpolar\": [{\"marker\": {\"line\": {\"color\": \"white\", \"width\": 0.5}}, \"type\": \"barpolar\"}], \"carpet\": [{\"aaxis\": {\"endlinecolor\": \"rgb(36,36,36)\", \"gridcolor\": \"white\", \"linecolor\": \"white\", \"minorgridcolor\": \"white\", \"startlinecolor\": \"rgb(36,36,36)\"}, \"baxis\": {\"endlinecolor\": \"rgb(36,36,36)\", \"gridcolor\": \"white\", \"linecolor\": \"white\", \"minorgridcolor\": \"white\", \"startlinecolor\": \"rgb(36,36,36)\"}, \"type\": \"carpet\"}], \"choropleth\": [{\"colorbar\": {\"outlinewidth\": 1, \"tickcolor\": \"rgb(36,36,36)\", \"ticks\": \"outside\"}, \"type\": \"choropleth\"}], \"contour\": [{\"colorbar\": {\"outlinewidth\": 1, \"tickcolor\": \"rgb(36,36,36)\", \"ticks\": \"outside\"}, \"colorscale\": [[0.0, \"#440154\"], [0.1111111111111111, \"#482878\"], [0.2222222222222222, \"#3e4989\"], [0.3333333333333333, \"#31688e\"], [0.4444444444444444, \"#26828e\"], [0.5555555555555556, \"#1f9e89\"], [0.6666666666666666, \"#35b779\"], [0.7777777777777778, \"#6ece58\"], [0.8888888888888888, \"#b5de2b\"], [1.0, \"#fde725\"]], \"type\": \"contour\"}], \"contourcarpet\": [{\"colorbar\": {\"outlinewidth\": 1, \"tickcolor\": \"rgb(36,36,36)\", \"ticks\": \"outside\"}, \"type\": \"contourcarpet\"}], \"heatmap\": [{\"colorbar\": {\"outlinewidth\": 1, \"tickcolor\": \"rgb(36,36,36)\", \"ticks\": \"outside\"}, \"colorscale\": [[0.0, \"#440154\"], [0.1111111111111111, \"#482878\"], [0.2222222222222222, \"#3e4989\"], [0.3333333333333333, \"#31688e\"], [0.4444444444444444, \"#26828e\"], [0.5555555555555556, \"#1f9e89\"], [0.6666666666666666, \"#35b779\"], [0.7777777777777778, \"#6ece58\"], [0.8888888888888888, \"#b5de2b\"], [1.0, \"#fde725\"]], \"type\": \"heatmap\"}], \"heatmapgl\": [{\"colorbar\": {\"outlinewidth\": 1, \"tickcolor\": \"rgb(36,36,36)\", \"ticks\": \"outside\"}, \"colorscale\": [[0.0, \"#440154\"], [0.1111111111111111, \"#482878\"], [0.2222222222222222, \"#3e4989\"], [0.3333333333333333, \"#31688e\"], [0.4444444444444444, \"#26828e\"], [0.5555555555555556, \"#1f9e89\"], [0.6666666666666666, \"#35b779\"], [0.7777777777777778, \"#6ece58\"], [0.8888888888888888, \"#b5de2b\"], [1.0, \"#fde725\"]], \"type\": \"heatmapgl\"}], \"histogram\": [{\"marker\": {\"line\": {\"color\": \"white\", \"width\": 0.6}}, \"type\": \"histogram\"}], \"histogram2d\": [{\"colorbar\": {\"outlinewidth\": 1, \"tickcolor\": \"rgb(36,36,36)\", \"ticks\": \"outside\"}, \"colorscale\": [[0.0, \"#440154\"], [0.1111111111111111, \"#482878\"], [0.2222222222222222, \"#3e4989\"], [0.3333333333333333, \"#31688e\"], [0.4444444444444444, \"#26828e\"], [0.5555555555555556, \"#1f9e89\"], [0.6666666666666666, \"#35b779\"], [0.7777777777777778, \"#6ece58\"], [0.8888888888888888, \"#b5de2b\"], [1.0, \"#fde725\"]], \"type\": \"histogram2d\"}], \"histogram2dcontour\": [{\"colorbar\": {\"outlinewidth\": 1, \"tickcolor\": \"rgb(36,36,36)\", \"ticks\": \"outside\"}, \"colorscale\": [[0.0, \"#440154\"], [0.1111111111111111, \"#482878\"], [0.2222222222222222, \"#3e4989\"], [0.3333333333333333, \"#31688e\"], [0.4444444444444444, \"#26828e\"], [0.5555555555555556, \"#1f9e89\"], [0.6666666666666666, \"#35b779\"], [0.7777777777777778, \"#6ece58\"], [0.8888888888888888, \"#b5de2b\"], [1.0, \"#fde725\"]], \"type\": \"histogram2dcontour\"}], \"mesh3d\": [{\"colorbar\": {\"outlinewidth\": 1, \"tickcolor\": \"rgb(36,36,36)\", \"ticks\": \"outside\"}, \"type\": \"mesh3d\"}], \"parcoords\": [{\"line\": {\"colorbar\": {\"outlinewidth\": 1, \"tickcolor\": \"rgb(36,36,36)\", \"ticks\": \"outside\"}}, \"type\": \"parcoords\"}], \"pie\": [{\"automargin\": true, \"type\": \"pie\"}], \"scatter\": [{\"marker\": {\"colorbar\": {\"outlinewidth\": 1, \"tickcolor\": \"rgb(36,36,36)\", \"ticks\": \"outside\"}}, \"type\": \"scatter\"}], \"scatter3d\": [{\"line\": {\"colorbar\": {\"outlinewidth\": 1, \"tickcolor\": \"rgb(36,36,36)\", \"ticks\": \"outside\"}}, \"marker\": {\"colorbar\": {\"outlinewidth\": 1, \"tickcolor\": \"rgb(36,36,36)\", \"ticks\": \"outside\"}}, \"type\": \"scatter3d\"}], \"scattercarpet\": [{\"marker\": {\"colorbar\": {\"outlinewidth\": 1, \"tickcolor\": \"rgb(36,36,36)\", \"ticks\": \"outside\"}}, \"type\": \"scattercarpet\"}], \"scattergeo\": [{\"marker\": {\"colorbar\": {\"outlinewidth\": 1, \"tickcolor\": \"rgb(36,36,36)\", \"ticks\": \"outside\"}}, \"type\": \"scattergeo\"}], \"scattergl\": [{\"marker\": {\"colorbar\": {\"outlinewidth\": 1, \"tickcolor\": \"rgb(36,36,36)\", \"ticks\": \"outside\"}}, \"type\": \"scattergl\"}], \"scattermapbox\": [{\"marker\": {\"colorbar\": {\"outlinewidth\": 1, \"tickcolor\": \"rgb(36,36,36)\", \"ticks\": \"outside\"}}, \"type\": \"scattermapbox\"}], \"scatterpolar\": [{\"marker\": {\"colorbar\": {\"outlinewidth\": 1, \"tickcolor\": \"rgb(36,36,36)\", \"ticks\": \"outside\"}}, \"type\": \"scatterpolar\"}], \"scatterpolargl\": [{\"marker\": {\"colorbar\": {\"outlinewidth\": 1, \"tickcolor\": \"rgb(36,36,36)\", \"ticks\": \"outside\"}}, \"type\": \"scatterpolargl\"}], \"scatterternary\": [{\"marker\": {\"colorbar\": {\"outlinewidth\": 1, \"tickcolor\": \"rgb(36,36,36)\", \"ticks\": \"outside\"}}, \"type\": \"scatterternary\"}], \"surface\": [{\"colorbar\": {\"outlinewidth\": 1, \"tickcolor\": \"rgb(36,36,36)\", \"ticks\": \"outside\"}, \"colorscale\": [[0.0, \"#440154\"], [0.1111111111111111, \"#482878\"], [0.2222222222222222, \"#3e4989\"], [0.3333333333333333, \"#31688e\"], [0.4444444444444444, \"#26828e\"], [0.5555555555555556, \"#1f9e89\"], [0.6666666666666666, \"#35b779\"], [0.7777777777777778, \"#6ece58\"], [0.8888888888888888, \"#b5de2b\"], [1.0, \"#fde725\"]], \"type\": \"surface\"}], \"table\": [{\"cells\": {\"fill\": {\"color\": \"rgb(237,237,237)\"}, \"line\": {\"color\": \"white\"}}, \"header\": {\"fill\": {\"color\": \"rgb(217,217,217)\"}, \"line\": {\"color\": \"white\"}}, \"type\": \"table\"}]}, \"layout\": {\"annotationdefaults\": {\"arrowhead\": 0, \"arrowwidth\": 1}, \"autotypenumbers\": \"strict\", \"coloraxis\": {\"colorbar\": {\"outlinewidth\": 1, \"tickcolor\": \"rgb(36,36,36)\", \"ticks\": \"outside\"}}, \"colorscale\": {\"diverging\": [[0.0, \"rgb(103,0,31)\"], [0.1, \"rgb(178,24,43)\"], [0.2, \"rgb(214,96,77)\"], [0.3, \"rgb(244,165,130)\"], [0.4, \"rgb(253,219,199)\"], [0.5, \"rgb(247,247,247)\"], [0.6, \"rgb(209,229,240)\"], [0.7, \"rgb(146,197,222)\"], [0.8, \"rgb(67,147,195)\"], [0.9, \"rgb(33,102,172)\"], [1.0, \"rgb(5,48,97)\"]], \"sequential\": [[0.0, \"#440154\"], [0.1111111111111111, \"#482878\"], [0.2222222222222222, \"#3e4989\"], [0.3333333333333333, \"#31688e\"], [0.4444444444444444, \"#26828e\"], [0.5555555555555556, \"#1f9e89\"], [0.6666666666666666, \"#35b779\"], [0.7777777777777778, \"#6ece58\"], [0.8888888888888888, \"#b5de2b\"], [1.0, \"#fde725\"]], \"sequentialminus\": [[0.0, \"#440154\"], [0.1111111111111111, \"#482878\"], [0.2222222222222222, \"#3e4989\"], [0.3333333333333333, \"#31688e\"], [0.4444444444444444, \"#26828e\"], [0.5555555555555556, \"#1f9e89\"], [0.6666666666666666, \"#35b779\"], [0.7777777777777778, \"#6ece58\"], [0.8888888888888888, \"#b5de2b\"], [1.0, \"#fde725\"]]}, \"colorway\": [\"#1F77B4\", \"#FF7F0E\", \"#2CA02C\", \"#D62728\", \"#9467BD\", \"#8C564B\", \"#E377C2\", \"#7F7F7F\", \"#BCBD22\", \"#17BECF\"], \"font\": {\"color\": \"rgb(36,36,36)\"}, \"geo\": {\"bgcolor\": \"white\", \"lakecolor\": \"white\", \"landcolor\": \"white\", \"showlakes\": true, \"showland\": true, \"subunitcolor\": \"white\"}, \"height\": 800, \"hoverlabel\": {\"align\": \"left\"}, \"hovermode\": \"closest\", \"legend\": {\"orientation\": \"h\", \"title\": {\"text\": \"\"}, \"x\": 0.5, \"xanchor\": \"center\", \"y\": -0.2, \"yanchor\": \"bottom\"}, \"mapbox\": {\"style\": \"light\"}, \"paper_bgcolor\": \"white\", \"plot_bgcolor\": \"white\", \"polar\": {\"angularaxis\": {\"gridcolor\": \"rgb(232,232,232)\", \"linecolor\": \"rgb(36,36,36)\", \"showgrid\": false, \"showline\": true, \"ticks\": \"outside\"}, \"bgcolor\": \"white\", \"radialaxis\": {\"gridcolor\": \"rgb(232,232,232)\", \"linecolor\": \"rgb(36,36,36)\", \"showgrid\": false, \"showline\": true, \"ticks\": \"outside\"}}, \"scene\": {\"xaxis\": {\"backgroundcolor\": \"white\", \"gridcolor\": \"rgb(232,232,232)\", \"gridwidth\": 2, \"linecolor\": \"rgb(36,36,36)\", \"showbackground\": true, \"showgrid\": false, \"showline\": true, \"ticks\": \"outside\", \"zeroline\": false, \"zerolinecolor\": \"rgb(36,36,36)\"}, \"yaxis\": {\"backgroundcolor\": \"white\", \"gridcolor\": \"rgb(232,232,232)\", \"gridwidth\": 2, \"linecolor\": \"rgb(36,36,36)\", \"showbackground\": true, \"showgrid\": false, \"showline\": true, \"ticks\": \"outside\", \"zeroline\": false, \"zerolinecolor\": \"rgb(36,36,36)\"}, \"zaxis\": {\"backgroundcolor\": \"white\", \"gridcolor\": \"rgb(232,232,232)\", \"gridwidth\": 2, \"linecolor\": \"rgb(36,36,36)\", \"showbackground\": true, \"showgrid\": false, \"showline\": true, \"ticks\": \"outside\", \"zeroline\": false, \"zerolinecolor\": \"rgb(36,36,36)\"}}, \"shapedefaults\": {\"fillcolor\": \"black\", \"line\": {\"width\": 0}, \"opacity\": 0.3}, \"ternary\": {\"aaxis\": {\"gridcolor\": \"rgb(232,232,232)\", \"linecolor\": \"rgb(36,36,36)\", \"showgrid\": false, \"showline\": true, \"ticks\": \"outside\"}, \"baxis\": {\"gridcolor\": \"rgb(232,232,232)\", \"linecolor\": \"rgb(36,36,36)\", \"showgrid\": false, \"showline\": true, \"ticks\": \"outside\"}, \"bgcolor\": \"white\", \"caxis\": {\"gridcolor\": \"rgb(232,232,232)\", \"linecolor\": \"rgb(36,36,36)\", \"showgrid\": false, \"showline\": true, \"ticks\": \"outside\"}}, \"title\": {\"x\": 0.5}, \"xaxis\": {\"automargin\": true, \"gridcolor\": \"rgb(232,232,232)\", \"linecolor\": \"rgb(36,36,36)\", \"showgrid\": true, \"showline\": true, \"ticks\": \"outside\", \"title\": {\"standoff\": 15}, \"zeroline\": false, \"zerolinecolor\": \"rgb(36,36,36)\"}, \"yaxis\": {\"automargin\": true, \"gridcolor\": \"rgb(232,232,232)\", \"linecolor\": \"rgb(36,36,36)\", \"showgrid\": true, \"showline\": true, \"ticks\": \"outside\", \"title\": {\"standoff\": 15}, \"zeroline\": false, \"zerolinecolor\": \"rgb(36,36,36)\"}}}, \"title\": {\"text\": \"Three Region Yield Analysis @ 33600000 ETH Staked\"}, \"xaxis\": {\"anchor\": \"y\", \"domain\": [0.0, 1.0], \"title\": {\"text\": \"ETH Price ($/ETH)\"}}, \"yaxis\": {\"anchor\": \"x\", \"domain\": [0.0, 1.0], \"title\": {\"text\": \"Revenue Yields (%/year)\"}}},                        {\"responsive\": true}                    ).then(function(){\n",
       "                            \n",
       "var gd = document.getElementById('ba88632e-e6c0-41ed-8d05-dd81a9b974d6');\n",
       "var x = new MutationObserver(function (mutations, observer) {{\n",
       "        var display = window.getComputedStyle(gd).display;\n",
       "        if (!display || display === 'none') {{\n",
       "            console.log([gd, 'removed!']);\n",
       "            Plotly.purge(gd);\n",
       "            observer.disconnect();\n",
       "        }}\n",
       "}});\n",
       "\n",
       "// Listen for the removal of the full notebook cells\n",
       "var notebookContainer = gd.closest('#notebook-container');\n",
       "if (notebookContainer) {{\n",
       "    x.observe(notebookContainer, {childList: true});\n",
       "}}\n",
       "\n",
       "// Listen for the clearing of the current output cell\n",
       "var outputEl = gd.closest('.output');\n",
       "if (outputEl) {{\n",
       "    x.observe(outputEl, {childList: true});\n",
       "}}\n",
       "\n",
       "                        })                };                });            </script>        </div>"
      ]
     },
     "metadata": {},
     "output_type": "display_data"
    },
    {
     "name": "stdout",
     "output_type": "stream",
     "text": [
      "time: 203 ms (started: 2021-06-17 14:48:59 +02:00)\n"
     ]
    }
   ],
   "source": [
    "visualizations.plot_three_region_yield_analysis(df_3.query('subset == 1').copy())"
   ]
  }
 ],
 "metadata": {
  "kernelspec": {
   "display_name": "Python (CADLabs Ethereum Model)",
   "language": "python",
   "name": "python-cadlabs-eth-model"
  },
  "language_info": {
   "codemirror_mode": {
    "name": "ipython",
    "version": 3
   },
   "file_extension": ".py",
   "mimetype": "text/x-python",
   "name": "python",
   "nbconvert_exporter": "python",
   "pygments_lexer": "ipython3",
   "version": "3.8.10"
  }
 },
 "nbformat": 4,
 "nbformat_minor": 4
}
