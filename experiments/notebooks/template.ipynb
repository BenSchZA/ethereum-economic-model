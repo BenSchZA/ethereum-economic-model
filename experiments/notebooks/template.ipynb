{
 "cells": [
  {
   "cell_type": "markdown",
   "metadata": {},
   "source": [
    "# Experiment Notebook: {Descriptive Experiment Keywords}"
   ]
  },
  {
   "cell_type": "markdown",
   "metadata": {},
   "source": [
    "# Table of Contents\n",
    "* [Experiment Summary](#Experiment-Summary)\n",
    "* [Experiment Assumptions](#Experiment-Assumptions)\n",
    "* [Experiment Setup](#Experiment-Setup)\n",
    "* [Analysis 1: ...](#Analysis-1:-...)"
   ]
  },
  {
   "cell_type": "markdown",
   "metadata": {},
   "source": [
    "# Experiment Summary \n",
    "\n",
    "The purpose of this notebook is to...\n",
    "\n",
    "# Experiment Assumptions\n",
    "\n",
    "See [assumptions document](ASSUMPTIONS.md) for further details."
   ]
  },
  {
   "cell_type": "markdown",
   "metadata": {},
   "source": [
    "# Experiment Setup\n",
    "\n",
    "We begin with several experiment-notebook-level preparatory setup operations:\n",
    "\n",
    "* Import relevant dependencies\n",
    "* Import relevant experiment templates\n",
    "* Create copies of experiments\n",
    "* Configure and customize experiments \n",
    "\n",
    "Analysis-specific setup operations are handled in their respective notebook sections."
   ]
  },
  {
   "cell_type": "code",
   "execution_count": 5,
   "metadata": {},
   "outputs": [
    {
     "name": "stdout",
     "output_type": "stream",
     "text": [
      "time: 28 ms (started: 2021-07-01 17:53:12 +02:00)\n"
     ]
    }
   ],
   "source": [
    "# Import the setup module:\n",
    "# * sets up the Python path\n",
    "# * runs shared notebook configuration methods, such as loading IPython modules\n",
    "import setup\n",
    "\n",
    "import copy\n",
    "import logging\n",
    "import numpy as np\n",
    "import pandas as pd\n",
    "\n",
    "import experiments.notebooks.visualizations as visualizations\n",
    "from experiments.run import run\n",
    "from experiments.utils import inspect_module"
   ]
  },
  {
   "cell_type": "code",
   "execution_count": 6,
   "metadata": {},
   "outputs": [
    {
     "name": "stdout",
     "output_type": "stream",
     "text": [
      "time: 25.3 ms (started: 2021-07-01 17:53:12 +02:00)\n"
     ]
    }
   ],
   "source": [
    "# Enable/disable logging\n",
    "logger = logging.getLogger()\n",
    "logger.disabled = False"
   ]
  },
  {
   "cell_type": "code",
   "execution_count": 7,
   "metadata": {},
   "outputs": [
    {
     "name": "stdout",
     "output_type": "stream",
     "text": [
      "time: 25.3 ms (started: 2021-07-01 17:53:12 +02:00)\n"
     ]
    }
   ],
   "source": [
    "# Import experiment templates\n",
    "import experiments.default_experiment as default_experiment\n",
    "import experiments.templates.time_domain_analysis as time_domain_analysis"
   ]
  },
  {
   "cell_type": "code",
   "execution_count": 8,
   "metadata": {},
   "outputs": [
    {
     "data": {
      "text/html": [
       "<style>pre { line-height: 125%; }\n",
       "td.linenos .normal { color: inherit; background-color: transparent; padding-left: 5px; padding-right: 5px; }\n",
       "span.linenos { color: inherit; background-color: transparent; padding-left: 5px; padding-right: 5px; }\n",
       "td.linenos .special { color: #000000; background-color: #ffffc0; padding-left: 5px; padding-right: 5px; }\n",
       "span.linenos.special { color: #000000; background-color: #ffffc0; padding-left: 5px; padding-right: 5px; }\n",
       ".highlight .hll { background-color: #ffffcc }\n",
       ".highlight { background: #f8f8f8; }\n",
       ".highlight .c { color: #408080; font-style: italic } /* Comment */\n",
       ".highlight .err { border: 1px solid #FF0000 } /* Error */\n",
       ".highlight .k { color: #008000; font-weight: bold } /* Keyword */\n",
       ".highlight .o { color: #666666 } /* Operator */\n",
       ".highlight .ch { color: #408080; font-style: italic } /* Comment.Hashbang */\n",
       ".highlight .cm { color: #408080; font-style: italic } /* Comment.Multiline */\n",
       ".highlight .cp { color: #BC7A00 } /* Comment.Preproc */\n",
       ".highlight .cpf { color: #408080; font-style: italic } /* Comment.PreprocFile */\n",
       ".highlight .c1 { color: #408080; font-style: italic } /* Comment.Single */\n",
       ".highlight .cs { color: #408080; font-style: italic } /* Comment.Special */\n",
       ".highlight .gd { color: #A00000 } /* Generic.Deleted */\n",
       ".highlight .ge { font-style: italic } /* Generic.Emph */\n",
       ".highlight .gr { color: #FF0000 } /* Generic.Error */\n",
       ".highlight .gh { color: #000080; font-weight: bold } /* Generic.Heading */\n",
       ".highlight .gi { color: #00A000 } /* Generic.Inserted */\n",
       ".highlight .go { color: #888888 } /* Generic.Output */\n",
       ".highlight .gp { color: #000080; font-weight: bold } /* Generic.Prompt */\n",
       ".highlight .gs { font-weight: bold } /* Generic.Strong */\n",
       ".highlight .gu { color: #800080; font-weight: bold } /* Generic.Subheading */\n",
       ".highlight .gt { color: #0044DD } /* Generic.Traceback */\n",
       ".highlight .kc { color: #008000; font-weight: bold } /* Keyword.Constant */\n",
       ".highlight .kd { color: #008000; font-weight: bold } /* Keyword.Declaration */\n",
       ".highlight .kn { color: #008000; font-weight: bold } /* Keyword.Namespace */\n",
       ".highlight .kp { color: #008000 } /* Keyword.Pseudo */\n",
       ".highlight .kr { color: #008000; font-weight: bold } /* Keyword.Reserved */\n",
       ".highlight .kt { color: #B00040 } /* Keyword.Type */\n",
       ".highlight .m { color: #666666 } /* Literal.Number */\n",
       ".highlight .s { color: #BA2121 } /* Literal.String */\n",
       ".highlight .na { color: #7D9029 } /* Name.Attribute */\n",
       ".highlight .nb { color: #008000 } /* Name.Builtin */\n",
       ".highlight .nc { color: #0000FF; font-weight: bold } /* Name.Class */\n",
       ".highlight .no { color: #880000 } /* Name.Constant */\n",
       ".highlight .nd { color: #AA22FF } /* Name.Decorator */\n",
       ".highlight .ni { color: #999999; font-weight: bold } /* Name.Entity */\n",
       ".highlight .ne { color: #D2413A; font-weight: bold } /* Name.Exception */\n",
       ".highlight .nf { color: #0000FF } /* Name.Function */\n",
       ".highlight .nl { color: #A0A000 } /* Name.Label */\n",
       ".highlight .nn { color: #0000FF; font-weight: bold } /* Name.Namespace */\n",
       ".highlight .nt { color: #008000; font-weight: bold } /* Name.Tag */\n",
       ".highlight .nv { color: #19177C } /* Name.Variable */\n",
       ".highlight .ow { color: #AA22FF; font-weight: bold } /* Operator.Word */\n",
       ".highlight .w { color: #bbbbbb } /* Text.Whitespace */\n",
       ".highlight .mb { color: #666666 } /* Literal.Number.Bin */\n",
       ".highlight .mf { color: #666666 } /* Literal.Number.Float */\n",
       ".highlight .mh { color: #666666 } /* Literal.Number.Hex */\n",
       ".highlight .mi { color: #666666 } /* Literal.Number.Integer */\n",
       ".highlight .mo { color: #666666 } /* Literal.Number.Oct */\n",
       ".highlight .sa { color: #BA2121 } /* Literal.String.Affix */\n",
       ".highlight .sb { color: #BA2121 } /* Literal.String.Backtick */\n",
       ".highlight .sc { color: #BA2121 } /* Literal.String.Char */\n",
       ".highlight .dl { color: #BA2121 } /* Literal.String.Delimiter */\n",
       ".highlight .sd { color: #BA2121; font-style: italic } /* Literal.String.Doc */\n",
       ".highlight .s2 { color: #BA2121 } /* Literal.String.Double */\n",
       ".highlight .se { color: #BB6622; font-weight: bold } /* Literal.String.Escape */\n",
       ".highlight .sh { color: #BA2121 } /* Literal.String.Heredoc */\n",
       ".highlight .si { color: #BB6688; font-weight: bold } /* Literal.String.Interpol */\n",
       ".highlight .sx { color: #008000 } /* Literal.String.Other */\n",
       ".highlight .sr { color: #BB6688 } /* Literal.String.Regex */\n",
       ".highlight .s1 { color: #BA2121 } /* Literal.String.Single */\n",
       ".highlight .ss { color: #19177C } /* Literal.String.Symbol */\n",
       ".highlight .bp { color: #008000 } /* Name.Builtin.Pseudo */\n",
       ".highlight .fm { color: #0000FF } /* Name.Function.Magic */\n",
       ".highlight .vc { color: #19177C } /* Name.Variable.Class */\n",
       ".highlight .vg { color: #19177C } /* Name.Variable.Global */\n",
       ".highlight .vi { color: #19177C } /* Name.Variable.Instance */\n",
       ".highlight .vm { color: #19177C } /* Name.Variable.Magic */\n",
       ".highlight .il { color: #666666 } /* Literal.Number.Integer.Long */</style>"
      ],
      "text/plain": [
       "<IPython.core.display.HTML object>"
      ]
     },
     "metadata": {},
     "output_type": "display_data"
    },
    {
     "data": {
      "text/html": [
       "<style>pre { line-height: 125%; }\n",
       "td.linenos .normal { color: inherit; background-color: transparent; padding-left: 5px; padding-right: 5px; }\n",
       "span.linenos { color: inherit; background-color: transparent; padding-left: 5px; padding-right: 5px; }\n",
       "td.linenos .special { color: #000000; background-color: #ffffc0; padding-left: 5px; padding-right: 5px; }\n",
       "span.linenos.special { color: #000000; background-color: #ffffc0; padding-left: 5px; padding-right: 5px; }\n",
       ".output_html .hll { background-color: #ffffcc }\n",
       ".output_html { background: #f8f8f8; }\n",
       ".output_html .c { color: #408080; font-style: italic } /* Comment */\n",
       ".output_html .err { border: 1px solid #FF0000 } /* Error */\n",
       ".output_html .k { color: #008000; font-weight: bold } /* Keyword */\n",
       ".output_html .o { color: #666666 } /* Operator */\n",
       ".output_html .ch { color: #408080; font-style: italic } /* Comment.Hashbang */\n",
       ".output_html .cm { color: #408080; font-style: italic } /* Comment.Multiline */\n",
       ".output_html .cp { color: #BC7A00 } /* Comment.Preproc */\n",
       ".output_html .cpf { color: #408080; font-style: italic } /* Comment.PreprocFile */\n",
       ".output_html .c1 { color: #408080; font-style: italic } /* Comment.Single */\n",
       ".output_html .cs { color: #408080; font-style: italic } /* Comment.Special */\n",
       ".output_html .gd { color: #A00000 } /* Generic.Deleted */\n",
       ".output_html .ge { font-style: italic } /* Generic.Emph */\n",
       ".output_html .gr { color: #FF0000 } /* Generic.Error */\n",
       ".output_html .gh { color: #000080; font-weight: bold } /* Generic.Heading */\n",
       ".output_html .gi { color: #00A000 } /* Generic.Inserted */\n",
       ".output_html .go { color: #888888 } /* Generic.Output */\n",
       ".output_html .gp { color: #000080; font-weight: bold } /* Generic.Prompt */\n",
       ".output_html .gs { font-weight: bold } /* Generic.Strong */\n",
       ".output_html .gu { color: #800080; font-weight: bold } /* Generic.Subheading */\n",
       ".output_html .gt { color: #0044DD } /* Generic.Traceback */\n",
       ".output_html .kc { color: #008000; font-weight: bold } /* Keyword.Constant */\n",
       ".output_html .kd { color: #008000; font-weight: bold } /* Keyword.Declaration */\n",
       ".output_html .kn { color: #008000; font-weight: bold } /* Keyword.Namespace */\n",
       ".output_html .kp { color: #008000 } /* Keyword.Pseudo */\n",
       ".output_html .kr { color: #008000; font-weight: bold } /* Keyword.Reserved */\n",
       ".output_html .kt { color: #B00040 } /* Keyword.Type */\n",
       ".output_html .m { color: #666666 } /* Literal.Number */\n",
       ".output_html .s { color: #BA2121 } /* Literal.String */\n",
       ".output_html .na { color: #7D9029 } /* Name.Attribute */\n",
       ".output_html .nb { color: #008000 } /* Name.Builtin */\n",
       ".output_html .nc { color: #0000FF; font-weight: bold } /* Name.Class */\n",
       ".output_html .no { color: #880000 } /* Name.Constant */\n",
       ".output_html .nd { color: #AA22FF } /* Name.Decorator */\n",
       ".output_html .ni { color: #999999; font-weight: bold } /* Name.Entity */\n",
       ".output_html .ne { color: #D2413A; font-weight: bold } /* Name.Exception */\n",
       ".output_html .nf { color: #0000FF } /* Name.Function */\n",
       ".output_html .nl { color: #A0A000 } /* Name.Label */\n",
       ".output_html .nn { color: #0000FF; font-weight: bold } /* Name.Namespace */\n",
       ".output_html .nt { color: #008000; font-weight: bold } /* Name.Tag */\n",
       ".output_html .nv { color: #19177C } /* Name.Variable */\n",
       ".output_html .ow { color: #AA22FF; font-weight: bold } /* Operator.Word */\n",
       ".output_html .w { color: #bbbbbb } /* Text.Whitespace */\n",
       ".output_html .mb { color: #666666 } /* Literal.Number.Bin */\n",
       ".output_html .mf { color: #666666 } /* Literal.Number.Float */\n",
       ".output_html .mh { color: #666666 } /* Literal.Number.Hex */\n",
       ".output_html .mi { color: #666666 } /* Literal.Number.Integer */\n",
       ".output_html .mo { color: #666666 } /* Literal.Number.Oct */\n",
       ".output_html .sa { color: #BA2121 } /* Literal.String.Affix */\n",
       ".output_html .sb { color: #BA2121 } /* Literal.String.Backtick */\n",
       ".output_html .sc { color: #BA2121 } /* Literal.String.Char */\n",
       ".output_html .dl { color: #BA2121 } /* Literal.String.Delimiter */\n",
       ".output_html .sd { color: #BA2121; font-style: italic } /* Literal.String.Doc */\n",
       ".output_html .s2 { color: #BA2121 } /* Literal.String.Double */\n",
       ".output_html .se { color: #BB6622; font-weight: bold } /* Literal.String.Escape */\n",
       ".output_html .sh { color: #BA2121 } /* Literal.String.Heredoc */\n",
       ".output_html .si { color: #BB6688; font-weight: bold } /* Literal.String.Interpol */\n",
       ".output_html .sx { color: #008000 } /* Literal.String.Other */\n",
       ".output_html .sr { color: #BB6688 } /* Literal.String.Regex */\n",
       ".output_html .s1 { color: #BA2121 } /* Literal.String.Single */\n",
       ".output_html .ss { color: #19177C } /* Literal.String.Symbol */\n",
       ".output_html .bp { color: #008000 } /* Name.Builtin.Pseudo */\n",
       ".output_html .fm { color: #0000FF } /* Name.Function.Magic */\n",
       ".output_html .vc { color: #19177C } /* Name.Variable.Class */\n",
       ".output_html .vg { color: #19177C } /* Name.Variable.Global */\n",
       ".output_html .vi { color: #19177C } /* Name.Variable.Instance */\n",
       ".output_html .vm { color: #19177C } /* Name.Variable.Magic */\n",
       ".output_html .il { color: #666666 } /* Literal.Number.Integer.Long */</style><div class=\"highlight\"><pre><span></span><span class=\"sd\">&quot;&quot;&quot;</span>\n",
       "<span class=\"sd\">The default experiment with default System Parameters, State Variables, and Simulation Configuration.</span>\n",
       "\n",
       "<span class=\"sd\">The defaults are defined in their respective modules (e.g. `model/system_parameters.py`).</span>\n",
       "<span class=\"sd\">&quot;&quot;&quot;</span>\n",
       "\n",
       "<span class=\"kn\">from</span> <span class=\"nn\">radcad</span> <span class=\"kn\">import</span> <span class=\"n\">Model</span><span class=\"p\">,</span> <span class=\"n\">Simulation</span><span class=\"p\">,</span> <span class=\"n\">Experiment</span><span class=\"p\">,</span> <span class=\"n\">Backend</span>\n",
       "\n",
       "<span class=\"kn\">from</span> <span class=\"nn\">model.system_parameters</span> <span class=\"kn\">import</span> <span class=\"n\">parameters</span>\n",
       "<span class=\"kn\">from</span> <span class=\"nn\">model.state_variables</span> <span class=\"kn\">import</span> <span class=\"n\">initial_state</span>\n",
       "<span class=\"kn\">from</span> <span class=\"nn\">model.state_update_blocks</span> <span class=\"kn\">import</span> <span class=\"n\">state_update_blocks</span>\n",
       "<span class=\"kn\">from</span> <span class=\"nn\">model.simulation_configuration</span> <span class=\"kn\">import</span> <span class=\"n\">TIMESTEPS</span><span class=\"p\">,</span> <span class=\"n\">MONTE_CARLO_RUNS</span>\n",
       "\n",
       "\n",
       "<span class=\"c1\"># Create Model</span>\n",
       "<span class=\"n\">model</span> <span class=\"o\">=</span> <span class=\"n\">Model</span><span class=\"p\">(</span><span class=\"n\">params</span><span class=\"o\">=</span><span class=\"n\">parameters</span><span class=\"p\">,</span> <span class=\"n\">initial_state</span><span class=\"o\">=</span><span class=\"n\">initial_state</span><span class=\"p\">,</span> <span class=\"n\">state_update_blocks</span><span class=\"o\">=</span><span class=\"n\">state_update_blocks</span><span class=\"p\">)</span>\n",
       "<span class=\"c1\"># Create Model Simulation</span>\n",
       "<span class=\"n\">simulation</span> <span class=\"o\">=</span> <span class=\"n\">Simulation</span><span class=\"p\">(</span><span class=\"n\">model</span><span class=\"o\">=</span><span class=\"n\">model</span><span class=\"p\">,</span> <span class=\"n\">timesteps</span><span class=\"o\">=</span><span class=\"n\">TIMESTEPS</span><span class=\"p\">,</span> <span class=\"n\">runs</span><span class=\"o\">=</span><span class=\"n\">MONTE_CARLO_RUNS</span><span class=\"p\">)</span>\n",
       "<span class=\"c1\"># Create Experiment of single Simulation</span>\n",
       "<span class=\"n\">experiment</span> <span class=\"o\">=</span> <span class=\"n\">Experiment</span><span class=\"p\">([</span><span class=\"n\">simulation</span><span class=\"p\">])</span>\n",
       "<span class=\"c1\"># Configure Simulation &amp; Experiment engine</span>\n",
       "<span class=\"n\">simulation</span><span class=\"o\">.</span><span class=\"n\">engine</span> <span class=\"o\">=</span> <span class=\"n\">experiment</span><span class=\"o\">.</span><span class=\"n\">engine</span>\n",
       "<span class=\"n\">experiment</span><span class=\"o\">.</span><span class=\"n\">engine</span><span class=\"o\">.</span><span class=\"n\">backend</span> <span class=\"o\">=</span> <span class=\"n\">Backend</span><span class=\"o\">.</span><span class=\"n\">SINGLE_PROCESS</span>\n",
       "<span class=\"n\">experiment</span><span class=\"o\">.</span><span class=\"n\">engine</span><span class=\"o\">.</span><span class=\"n\">deepcopy</span> <span class=\"o\">=</span> <span class=\"kc\">False</span>\n",
       "<span class=\"n\">experiment</span><span class=\"o\">.</span><span class=\"n\">engine</span><span class=\"o\">.</span><span class=\"n\">drop_substeps</span> <span class=\"o\">=</span> <span class=\"kc\">True</span>\n",
       "</pre></div>\n"
      ],
      "text/latex": [
       "\\begin{Verbatim}[commandchars=\\\\\\{\\}]\n",
       "\\PY{l+s+sd}{\\PYZdq{}\\PYZdq{}\\PYZdq{}}\n",
       "\\PY{l+s+sd}{The default experiment with default System Parameters, State Variables, and Simulation Configuration.}\n",
       "\n",
       "\\PY{l+s+sd}{The defaults are defined in their respective modules (e.g. `model/system\\PYZus{}parameters.py`).}\n",
       "\\PY{l+s+sd}{\\PYZdq{}\\PYZdq{}\\PYZdq{}}\n",
       "\n",
       "\\PY{k+kn}{from} \\PY{n+nn}{radcad} \\PY{k+kn}{import} \\PY{n}{Model}\\PY{p}{,} \\PY{n}{Simulation}\\PY{p}{,} \\PY{n}{Experiment}\\PY{p}{,} \\PY{n}{Backend}\n",
       "\n",
       "\\PY{k+kn}{from} \\PY{n+nn}{model}\\PY{n+nn}{.}\\PY{n+nn}{system\\PYZus{}parameters} \\PY{k+kn}{import} \\PY{n}{parameters}\n",
       "\\PY{k+kn}{from} \\PY{n+nn}{model}\\PY{n+nn}{.}\\PY{n+nn}{state\\PYZus{}variables} \\PY{k+kn}{import} \\PY{n}{initial\\PYZus{}state}\n",
       "\\PY{k+kn}{from} \\PY{n+nn}{model}\\PY{n+nn}{.}\\PY{n+nn}{state\\PYZus{}update\\PYZus{}blocks} \\PY{k+kn}{import} \\PY{n}{state\\PYZus{}update\\PYZus{}blocks}\n",
       "\\PY{k+kn}{from} \\PY{n+nn}{model}\\PY{n+nn}{.}\\PY{n+nn}{simulation\\PYZus{}configuration} \\PY{k+kn}{import} \\PY{n}{TIMESTEPS}\\PY{p}{,} \\PY{n}{MONTE\\PYZus{}CARLO\\PYZus{}RUNS}\n",
       "\n",
       "\n",
       "\\PY{c+c1}{\\PYZsh{} Create Model}\n",
       "\\PY{n}{model} \\PY{o}{=} \\PY{n}{Model}\\PY{p}{(}\\PY{n}{params}\\PY{o}{=}\\PY{n}{parameters}\\PY{p}{,} \\PY{n}{initial\\PYZus{}state}\\PY{o}{=}\\PY{n}{initial\\PYZus{}state}\\PY{p}{,} \\PY{n}{state\\PYZus{}update\\PYZus{}blocks}\\PY{o}{=}\\PY{n}{state\\PYZus{}update\\PYZus{}blocks}\\PY{p}{)}\n",
       "\\PY{c+c1}{\\PYZsh{} Create Model Simulation}\n",
       "\\PY{n}{simulation} \\PY{o}{=} \\PY{n}{Simulation}\\PY{p}{(}\\PY{n}{model}\\PY{o}{=}\\PY{n}{model}\\PY{p}{,} \\PY{n}{timesteps}\\PY{o}{=}\\PY{n}{TIMESTEPS}\\PY{p}{,} \\PY{n}{runs}\\PY{o}{=}\\PY{n}{MONTE\\PYZus{}CARLO\\PYZus{}RUNS}\\PY{p}{)}\n",
       "\\PY{c+c1}{\\PYZsh{} Create Experiment of single Simulation}\n",
       "\\PY{n}{experiment} \\PY{o}{=} \\PY{n}{Experiment}\\PY{p}{(}\\PY{p}{[}\\PY{n}{simulation}\\PY{p}{]}\\PY{p}{)}\n",
       "\\PY{c+c1}{\\PYZsh{} Configure Simulation \\PYZam{} Experiment engine}\n",
       "\\PY{n}{simulation}\\PY{o}{.}\\PY{n}{engine} \\PY{o}{=} \\PY{n}{experiment}\\PY{o}{.}\\PY{n}{engine}\n",
       "\\PY{n}{experiment}\\PY{o}{.}\\PY{n}{engine}\\PY{o}{.}\\PY{n}{backend} \\PY{o}{=} \\PY{n}{Backend}\\PY{o}{.}\\PY{n}{SINGLE\\PYZus{}PROCESS}\n",
       "\\PY{n}{experiment}\\PY{o}{.}\\PY{n}{engine}\\PY{o}{.}\\PY{n}{deepcopy} \\PY{o}{=} \\PY{k+kc}{False}\n",
       "\\PY{n}{experiment}\\PY{o}{.}\\PY{n}{engine}\\PY{o}{.}\\PY{n}{drop\\PYZus{}substeps} \\PY{o}{=} \\PY{k+kc}{True}\n",
       "\\end{Verbatim}\n"
      ],
      "text/plain": [
       "\"\"\"\n",
       "The default experiment with default System Parameters, State Variables, and Simulation Configuration.\n",
       "\n",
       "The defaults are defined in their respective modules (e.g. `model/system_parameters.py`).\n",
       "\"\"\"\n",
       "\n",
       "from radcad import Model, Simulation, Experiment, Backend\n",
       "\n",
       "from model.system_parameters import parameters\n",
       "from model.state_variables import initial_state\n",
       "from model.state_update_blocks import state_update_blocks\n",
       "from model.simulation_configuration import TIMESTEPS, MONTE_CARLO_RUNS\n",
       "\n",
       "\n",
       "# Create Model\n",
       "model = Model(params=parameters, initial_state=initial_state, state_update_blocks=state_update_blocks)\n",
       "# Create Model Simulation\n",
       "simulation = Simulation(model=model, timesteps=TIMESTEPS, runs=MONTE_CARLO_RUNS)\n",
       "# Create Experiment of single Simulation\n",
       "experiment = Experiment([simulation])\n",
       "# Configure Simulation & Experiment engine\n",
       "simulation.engine = experiment.engine\n",
       "experiment.engine.backend = Backend.SINGLE_PROCESS\n",
       "experiment.engine.deepcopy = False\n",
       "experiment.engine.drop_substeps = True"
      ]
     },
     "execution_count": 8,
     "metadata": {},
     "output_type": "execute_result"
    },
    {
     "name": "stdout",
     "output_type": "stream",
     "text": [
      "time: 102 ms (started: 2021-07-01 17:53:13 +02:00)\n"
     ]
    }
   ],
   "source": [
    "# Inspect experiment template\n",
    "inspect_module(default_experiment)"
   ]
  },
  {
   "cell_type": "code",
   "execution_count": 9,
   "metadata": {},
   "outputs": [
    {
     "name": "stdout",
     "output_type": "stream",
     "text": [
      "time: 27 ms (started: 2021-07-01 17:53:13 +02:00)\n"
     ]
    }
   ],
   "source": [
    "# Create a simulation for each analysis\n",
    "simulation_1 = copy.deepcopy(default_experiment.experiment.simulations[0])\n",
    "simulation_2 = copy.deepcopy(time_domain_analysis.experiment.simulations[0])"
   ]
  },
  {
   "cell_type": "code",
   "execution_count": 10,
   "metadata": {},
   "outputs": [
    {
     "name": "stdout",
     "output_type": "stream",
     "text": [
      "time: 25.8 ms (started: 2021-07-01 17:53:13 +02:00)\n"
     ]
    }
   ],
   "source": [
    "# Experiment configuration\n",
    "simulation_1.model.initial_state.update({})\n",
    "simulation_1.model.params.update({})\n",
    "\n",
    "simulation_2.model.initial_state.update({})\n",
    "simulation_2.model.params.update({})"
   ]
  },
  {
   "cell_type": "markdown",
   "metadata": {},
   "source": [
    "# Analysis 1: ..."
   ]
  },
  {
   "cell_type": "markdown",
   "metadata": {},
   "source": [
    "TODO: fill in analysis description"
   ]
  },
  {
   "cell_type": "code",
   "execution_count": 11,
   "metadata": {},
   "outputs": [
    {
     "name": "stdout",
     "output_type": "stream",
     "text": [
      "time: 26.4 ms (started: 2021-07-01 17:53:14 +02:00)\n"
     ]
    }
   ],
   "source": [
    "# Analysis-specific setup"
   ]
  },
  {
   "cell_type": "code",
   "execution_count": 12,
   "metadata": {},
   "outputs": [
    {
     "name": "stdout",
     "output_type": "stream",
     "text": [
      "2021-07-01 17:53:14,651 - root - INFO - Running experiment\n",
      "2021-07-01 17:53:14,656 - root - INFO - Starting simulation 0 / run 0 / subset 0\n",
      "2021-07-01 17:53:14,791 - root - INFO - Experiment complete in 0.13876819610595703 seconds\n",
      "2021-07-01 17:53:14,792 - root - INFO - Post-processing results\n",
      "2021-07-01 17:53:14,808 - numexpr.utils - INFO - Note: NumExpr detected 12 cores but \"NUMEXPR_MAX_THREADS\" not set, so enforcing safe limit of 8.\n",
      "2021-07-01 17:53:14,808 - numexpr.utils - INFO - NumExpr defaulting to 8 threads.\n",
      "2021-07-01 17:53:15,151 - root - INFO - Post-processing complete in 0.3598148822784424 seconds\n",
      "time: 527 ms (started: 2021-07-01 17:53:14 +02:00)\n"
     ]
    }
   ],
   "source": [
    "# Experiment execution\n",
    "df, exceptions = run(default_experiment.experiment)"
   ]
  },
  {
   "cell_type": "code",
   "execution_count": 13,
   "metadata": {},
   "outputs": [
    {
     "name": "stdout",
     "output_type": "stream",
     "text": [
      "time: 28.9 ms (started: 2021-07-01 17:53:16 +02:00)\n"
     ]
    }
   ],
   "source": [
    "# Post-processing and visualizations"
   ]
  }
 ],
 "metadata": {
  "kernelspec": {
   "display_name": "Python (CADLabs Ethereum Model)",
   "language": "python",
   "name": "python-cadlabs-eth-model"
  },
  "language_info": {
   "codemirror_mode": {
    "name": "ipython",
    "version": 3
   },
   "file_extension": ".py",
   "mimetype": "text/x-python",
   "name": "python",
   "nbconvert_exporter": "python",
   "pygments_lexer": "ipython3",
   "version": "3.8.11"
  }
 },
 "nbformat": 4,
 "nbformat_minor": 4
}
