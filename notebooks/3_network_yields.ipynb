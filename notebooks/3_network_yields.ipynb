{
 "cells": [
  {
   "cell_type": "markdown",
   "id": "3ba89bd6-73d7-4b66-92cf-a98b637f55b4",
   "metadata": {},
   "source": [
    "# 2. What are the best and worst case network yields?"
   ]
  },
  {
   "cell_type": "code",
   "execution_count": 1,
   "id": "565f9c39-4f61-4496-9533-643f79341e27",
   "metadata": {},
   "outputs": [
    {
     "name": "stdout",
     "output_type": "stream",
     "text": [
      "time: 1.11 s (started: 2021-05-28 10:03:26 +02:00)\n"
     ]
    }
   ],
   "source": [
    "import copy\n",
    "import logging\n",
    "\n",
    "import setup\n",
    "import visualizations as visualizations\n",
    "import experiments.templates.revenue_net_yield_spread as revenue_net_yield_spread_template\n",
    "\n",
    "from experiments.run import run"
   ]
  },
  {
   "cell_type": "code",
   "execution_count": 2,
   "id": "6cd2b0df-fdce-44d1-a731-5c12f4652388",
   "metadata": {},
   "outputs": [
    {
     "data": {
      "text/html": [
       "<style>pre { line-height: 125%; }\n",
       "td.linenos .normal { color: inherit; background-color: transparent; padding-left: 5px; padding-right: 5px; }\n",
       "span.linenos { color: inherit; background-color: transparent; padding-left: 5px; padding-right: 5px; }\n",
       "td.linenos .special { color: #000000; background-color: #ffffc0; padding-left: 5px; padding-right: 5px; }\n",
       "span.linenos.special { color: #000000; background-color: #ffffc0; padding-left: 5px; padding-right: 5px; }\n",
       ".highlight .hll { background-color: #ffffcc }\n",
       ".highlight { background: #f8f8f8; }\n",
       ".highlight .c { color: #408080; font-style: italic } /* Comment */\n",
       ".highlight .err { border: 1px solid #FF0000 } /* Error */\n",
       ".highlight .k { color: #008000; font-weight: bold } /* Keyword */\n",
       ".highlight .o { color: #666666 } /* Operator */\n",
       ".highlight .ch { color: #408080; font-style: italic } /* Comment.Hashbang */\n",
       ".highlight .cm { color: #408080; font-style: italic } /* Comment.Multiline */\n",
       ".highlight .cp { color: #BC7A00 } /* Comment.Preproc */\n",
       ".highlight .cpf { color: #408080; font-style: italic } /* Comment.PreprocFile */\n",
       ".highlight .c1 { color: #408080; font-style: italic } /* Comment.Single */\n",
       ".highlight .cs { color: #408080; font-style: italic } /* Comment.Special */\n",
       ".highlight .gd { color: #A00000 } /* Generic.Deleted */\n",
       ".highlight .ge { font-style: italic } /* Generic.Emph */\n",
       ".highlight .gr { color: #FF0000 } /* Generic.Error */\n",
       ".highlight .gh { color: #000080; font-weight: bold } /* Generic.Heading */\n",
       ".highlight .gi { color: #00A000 } /* Generic.Inserted */\n",
       ".highlight .go { color: #888888 } /* Generic.Output */\n",
       ".highlight .gp { color: #000080; font-weight: bold } /* Generic.Prompt */\n",
       ".highlight .gs { font-weight: bold } /* Generic.Strong */\n",
       ".highlight .gu { color: #800080; font-weight: bold } /* Generic.Subheading */\n",
       ".highlight .gt { color: #0044DD } /* Generic.Traceback */\n",
       ".highlight .kc { color: #008000; font-weight: bold } /* Keyword.Constant */\n",
       ".highlight .kd { color: #008000; font-weight: bold } /* Keyword.Declaration */\n",
       ".highlight .kn { color: #008000; font-weight: bold } /* Keyword.Namespace */\n",
       ".highlight .kp { color: #008000 } /* Keyword.Pseudo */\n",
       ".highlight .kr { color: #008000; font-weight: bold } /* Keyword.Reserved */\n",
       ".highlight .kt { color: #B00040 } /* Keyword.Type */\n",
       ".highlight .m { color: #666666 } /* Literal.Number */\n",
       ".highlight .s { color: #BA2121 } /* Literal.String */\n",
       ".highlight .na { color: #7D9029 } /* Name.Attribute */\n",
       ".highlight .nb { color: #008000 } /* Name.Builtin */\n",
       ".highlight .nc { color: #0000FF; font-weight: bold } /* Name.Class */\n",
       ".highlight .no { color: #880000 } /* Name.Constant */\n",
       ".highlight .nd { color: #AA22FF } /* Name.Decorator */\n",
       ".highlight .ni { color: #999999; font-weight: bold } /* Name.Entity */\n",
       ".highlight .ne { color: #D2413A; font-weight: bold } /* Name.Exception */\n",
       ".highlight .nf { color: #0000FF } /* Name.Function */\n",
       ".highlight .nl { color: #A0A000 } /* Name.Label */\n",
       ".highlight .nn { color: #0000FF; font-weight: bold } /* Name.Namespace */\n",
       ".highlight .nt { color: #008000; font-weight: bold } /* Name.Tag */\n",
       ".highlight .nv { color: #19177C } /* Name.Variable */\n",
       ".highlight .ow { color: #AA22FF; font-weight: bold } /* Operator.Word */\n",
       ".highlight .w { color: #bbbbbb } /* Text.Whitespace */\n",
       ".highlight .mb { color: #666666 } /* Literal.Number.Bin */\n",
       ".highlight .mf { color: #666666 } /* Literal.Number.Float */\n",
       ".highlight .mh { color: #666666 } /* Literal.Number.Hex */\n",
       ".highlight .mi { color: #666666 } /* Literal.Number.Integer */\n",
       ".highlight .mo { color: #666666 } /* Literal.Number.Oct */\n",
       ".highlight .sa { color: #BA2121 } /* Literal.String.Affix */\n",
       ".highlight .sb { color: #BA2121 } /* Literal.String.Backtick */\n",
       ".highlight .sc { color: #BA2121 } /* Literal.String.Char */\n",
       ".highlight .dl { color: #BA2121 } /* Literal.String.Delimiter */\n",
       ".highlight .sd { color: #BA2121; font-style: italic } /* Literal.String.Doc */\n",
       ".highlight .s2 { color: #BA2121 } /* Literal.String.Double */\n",
       ".highlight .se { color: #BB6622; font-weight: bold } /* Literal.String.Escape */\n",
       ".highlight .sh { color: #BA2121 } /* Literal.String.Heredoc */\n",
       ".highlight .si { color: #BB6688; font-weight: bold } /* Literal.String.Interpol */\n",
       ".highlight .sx { color: #008000 } /* Literal.String.Other */\n",
       ".highlight .sr { color: #BB6688 } /* Literal.String.Regex */\n",
       ".highlight .s1 { color: #BA2121 } /* Literal.String.Single */\n",
       ".highlight .ss { color: #19177C } /* Literal.String.Symbol */\n",
       ".highlight .bp { color: #008000 } /* Name.Builtin.Pseudo */\n",
       ".highlight .fm { color: #0000FF } /* Name.Function.Magic */\n",
       ".highlight .vc { color: #19177C } /* Name.Variable.Class */\n",
       ".highlight .vg { color: #19177C } /* Name.Variable.Global */\n",
       ".highlight .vi { color: #19177C } /* Name.Variable.Instance */\n",
       ".highlight .vm { color: #19177C } /* Name.Variable.Magic */\n",
       ".highlight .il { color: #666666 } /* Literal.Number.Integer.Long */</style>"
      ],
      "text/plain": [
       "<IPython.core.display.HTML object>"
      ]
     },
     "metadata": {},
     "output_type": "display_data"
    },
    {
     "data": {
      "text/html": [
       "<style>pre { line-height: 125%; }\n",
       "td.linenos .normal { color: inherit; background-color: transparent; padding-left: 5px; padding-right: 5px; }\n",
       "span.linenos { color: inherit; background-color: transparent; padding-left: 5px; padding-right: 5px; }\n",
       "td.linenos .special { color: #000000; background-color: #ffffc0; padding-left: 5px; padding-right: 5px; }\n",
       "span.linenos.special { color: #000000; background-color: #ffffc0; padding-left: 5px; padding-right: 5px; }\n",
       ".output_html .hll { background-color: #ffffcc }\n",
       ".output_html { background: #f8f8f8; }\n",
       ".output_html .c { color: #408080; font-style: italic } /* Comment */\n",
       ".output_html .err { border: 1px solid #FF0000 } /* Error */\n",
       ".output_html .k { color: #008000; font-weight: bold } /* Keyword */\n",
       ".output_html .o { color: #666666 } /* Operator */\n",
       ".output_html .ch { color: #408080; font-style: italic } /* Comment.Hashbang */\n",
       ".output_html .cm { color: #408080; font-style: italic } /* Comment.Multiline */\n",
       ".output_html .cp { color: #BC7A00 } /* Comment.Preproc */\n",
       ".output_html .cpf { color: #408080; font-style: italic } /* Comment.PreprocFile */\n",
       ".output_html .c1 { color: #408080; font-style: italic } /* Comment.Single */\n",
       ".output_html .cs { color: #408080; font-style: italic } /* Comment.Special */\n",
       ".output_html .gd { color: #A00000 } /* Generic.Deleted */\n",
       ".output_html .ge { font-style: italic } /* Generic.Emph */\n",
       ".output_html .gr { color: #FF0000 } /* Generic.Error */\n",
       ".output_html .gh { color: #000080; font-weight: bold } /* Generic.Heading */\n",
       ".output_html .gi { color: #00A000 } /* Generic.Inserted */\n",
       ".output_html .go { color: #888888 } /* Generic.Output */\n",
       ".output_html .gp { color: #000080; font-weight: bold } /* Generic.Prompt */\n",
       ".output_html .gs { font-weight: bold } /* Generic.Strong */\n",
       ".output_html .gu { color: #800080; font-weight: bold } /* Generic.Subheading */\n",
       ".output_html .gt { color: #0044DD } /* Generic.Traceback */\n",
       ".output_html .kc { color: #008000; font-weight: bold } /* Keyword.Constant */\n",
       ".output_html .kd { color: #008000; font-weight: bold } /* Keyword.Declaration */\n",
       ".output_html .kn { color: #008000; font-weight: bold } /* Keyword.Namespace */\n",
       ".output_html .kp { color: #008000 } /* Keyword.Pseudo */\n",
       ".output_html .kr { color: #008000; font-weight: bold } /* Keyword.Reserved */\n",
       ".output_html .kt { color: #B00040 } /* Keyword.Type */\n",
       ".output_html .m { color: #666666 } /* Literal.Number */\n",
       ".output_html .s { color: #BA2121 } /* Literal.String */\n",
       ".output_html .na { color: #7D9029 } /* Name.Attribute */\n",
       ".output_html .nb { color: #008000 } /* Name.Builtin */\n",
       ".output_html .nc { color: #0000FF; font-weight: bold } /* Name.Class */\n",
       ".output_html .no { color: #880000 } /* Name.Constant */\n",
       ".output_html .nd { color: #AA22FF } /* Name.Decorator */\n",
       ".output_html .ni { color: #999999; font-weight: bold } /* Name.Entity */\n",
       ".output_html .ne { color: #D2413A; font-weight: bold } /* Name.Exception */\n",
       ".output_html .nf { color: #0000FF } /* Name.Function */\n",
       ".output_html .nl { color: #A0A000 } /* Name.Label */\n",
       ".output_html .nn { color: #0000FF; font-weight: bold } /* Name.Namespace */\n",
       ".output_html .nt { color: #008000; font-weight: bold } /* Name.Tag */\n",
       ".output_html .nv { color: #19177C } /* Name.Variable */\n",
       ".output_html .ow { color: #AA22FF; font-weight: bold } /* Operator.Word */\n",
       ".output_html .w { color: #bbbbbb } /* Text.Whitespace */\n",
       ".output_html .mb { color: #666666 } /* Literal.Number.Bin */\n",
       ".output_html .mf { color: #666666 } /* Literal.Number.Float */\n",
       ".output_html .mh { color: #666666 } /* Literal.Number.Hex */\n",
       ".output_html .mi { color: #666666 } /* Literal.Number.Integer */\n",
       ".output_html .mo { color: #666666 } /* Literal.Number.Oct */\n",
       ".output_html .sa { color: #BA2121 } /* Literal.String.Affix */\n",
       ".output_html .sb { color: #BA2121 } /* Literal.String.Backtick */\n",
       ".output_html .sc { color: #BA2121 } /* Literal.String.Char */\n",
       ".output_html .dl { color: #BA2121 } /* Literal.String.Delimiter */\n",
       ".output_html .sd { color: #BA2121; font-style: italic } /* Literal.String.Doc */\n",
       ".output_html .s2 { color: #BA2121 } /* Literal.String.Double */\n",
       ".output_html .se { color: #BB6622; font-weight: bold } /* Literal.String.Escape */\n",
       ".output_html .sh { color: #BA2121 } /* Literal.String.Heredoc */\n",
       ".output_html .si { color: #BB6688; font-weight: bold } /* Literal.String.Interpol */\n",
       ".output_html .sx { color: #008000 } /* Literal.String.Other */\n",
       ".output_html .sr { color: #BB6688 } /* Literal.String.Regex */\n",
       ".output_html .s1 { color: #BA2121 } /* Literal.String.Single */\n",
       ".output_html .ss { color: #19177C } /* Literal.String.Symbol */\n",
       ".output_html .bp { color: #008000 } /* Name.Builtin.Pseudo */\n",
       ".output_html .fm { color: #0000FF } /* Name.Function.Magic */\n",
       ".output_html .vc { color: #19177C } /* Name.Variable.Class */\n",
       ".output_html .vg { color: #19177C } /* Name.Variable.Global */\n",
       ".output_html .vi { color: #19177C } /* Name.Variable.Instance */\n",
       ".output_html .vm { color: #19177C } /* Name.Variable.Magic */\n",
       ".output_html .il { color: #666666 } /* Literal.Number.Integer.Long */</style><div class=\"highlight\"><pre><span></span><span class=\"kn\">import</span> <span class=\"nn\">numpy</span> <span class=\"k\">as</span> <span class=\"nn\">np</span>\n",
       "\n",
       "<span class=\"kn\">from</span> <span class=\"nn\">model.state_variables</span> <span class=\"kn\">import</span> <span class=\"n\">eth_staked</span><span class=\"p\">,</span> <span class=\"n\">eth_supply</span>\n",
       "<span class=\"kn\">from</span> <span class=\"nn\">experiments.base</span> <span class=\"kn\">import</span> <span class=\"n\">experiment</span><span class=\"p\">,</span> <span class=\"n\">TIMESTEPS</span><span class=\"p\">,</span> <span class=\"n\">DELTA_TIME</span>\n",
       "<span class=\"kn\">from</span> <span class=\"nn\">experiments.utils</span> <span class=\"kn\">import</span> <span class=\"n\">generate_cartesion_product</span>\n",
       "<span class=\"kn\">from</span> <span class=\"nn\">model.types</span> <span class=\"kn\">import</span> <span class=\"n\">Phase</span>\n",
       "\n",
       "\n",
       "<span class=\"n\">sweep</span> <span class=\"o\">=</span> <span class=\"n\">generate_cartesion_product</span><span class=\"p\">({</span>\n",
       "    <span class=\"c1\"># ETH price range from 100 $/ETH to 3000 $/ETH</span>\n",
       "    <span class=\"s2\">&quot;eth_price_samples&quot;</span><span class=\"p\">:</span> <span class=\"n\">np</span><span class=\"o\">.</span><span class=\"n\">linspace</span><span class=\"p\">(</span><span class=\"n\">start</span><span class=\"o\">=</span><span class=\"mi\">10</span><span class=\"p\">,</span> <span class=\"n\">stop</span><span class=\"o\">=</span><span class=\"mi\">100</span><span class=\"p\">,</span> <span class=\"n\">num</span><span class=\"o\">=</span><span class=\"mi\">20</span><span class=\"p\">),</span>\n",
       "    <span class=\"c1\"># ETH staked range from genesis requirement to 5e6 ETH staked as in Hoban/Borgers report</span>\n",
       "    <span class=\"s2\">&quot;eth_staked_samples&quot;</span><span class=\"p\">:</span> <span class=\"n\">np</span><span class=\"o\">.</span><span class=\"n\">linspace</span><span class=\"p\">(</span><span class=\"n\">start</span><span class=\"o\">=</span><span class=\"mi\">524_288</span><span class=\"p\">,</span> <span class=\"n\">stop</span><span class=\"o\">=</span><span class=\"mf\">5e6</span><span class=\"p\">,</span> <span class=\"n\">num</span><span class=\"o\">=</span><span class=\"mi\">20</span><span class=\"p\">),</span>\n",
       "<span class=\"p\">})</span>\n",
       "\n",
       "<span class=\"n\">parameter_overrides</span> <span class=\"o\">=</span> <span class=\"p\">{</span>\n",
       "    <span class=\"s2\">&quot;phase&quot;</span><span class=\"p\">:</span> <span class=\"p\">[</span><span class=\"n\">Phase</span><span class=\"o\">.</span><span class=\"n\">PHASE_0</span><span class=\"p\">],</span>\n",
       "    <span class=\"s2\">&quot;eth_price_process&quot;</span><span class=\"p\">:</span> <span class=\"p\">[</span>\n",
       "        <span class=\"k\">lambda</span> <span class=\"n\">run</span><span class=\"p\">,</span> <span class=\"n\">_timestep</span><span class=\"p\">:</span> <span class=\"n\">sweep</span><span class=\"p\">[</span><span class=\"s2\">&quot;eth_price_samples&quot;</span><span class=\"p\">][</span><span class=\"n\">run</span> <span class=\"o\">-</span> <span class=\"mi\">1</span><span class=\"p\">]</span>\n",
       "    <span class=\"p\">],</span>\n",
       "    <span class=\"s2\">&quot;eth_staked_process&quot;</span><span class=\"p\">:</span> <span class=\"p\">[</span>\n",
       "        <span class=\"k\">lambda</span> <span class=\"n\">run</span><span class=\"p\">,</span> <span class=\"n\">_timestep</span><span class=\"p\">:</span> <span class=\"n\">sweep</span><span class=\"p\">[</span><span class=\"s2\">&quot;eth_staked_samples&quot;</span><span class=\"p\">][</span><span class=\"n\">run</span> <span class=\"o\">-</span> <span class=\"mi\">1</span><span class=\"p\">]</span>\n",
       "    <span class=\"p\">]</span>\n",
       "<span class=\"p\">}</span>\n",
       "\n",
       "<span class=\"c1\"># Override base experiment parameters</span>\n",
       "<span class=\"n\">experiment</span><span class=\"o\">.</span><span class=\"n\">simulations</span><span class=\"p\">[</span><span class=\"mi\">0</span><span class=\"p\">]</span><span class=\"o\">.</span><span class=\"n\">model</span><span class=\"o\">.</span><span class=\"n\">params</span><span class=\"o\">.</span><span class=\"n\">update</span><span class=\"p\">(</span><span class=\"n\">parameter_overrides</span><span class=\"p\">)</span>\n",
       "<span class=\"c1\"># Set runs to number of combinations in sweep</span>\n",
       "<span class=\"n\">experiment</span><span class=\"o\">.</span><span class=\"n\">simulations</span><span class=\"p\">[</span><span class=\"mi\">0</span><span class=\"p\">]</span><span class=\"o\">.</span><span class=\"n\">runs</span> <span class=\"o\">=</span> <span class=\"nb\">len</span><span class=\"p\">(</span><span class=\"n\">sweep</span><span class=\"p\">[</span><span class=\"s2\">&quot;eth_price_samples&quot;</span><span class=\"p\">])</span>\n",
       "<span class=\"c1\"># Run single timestep, set unit of time to multiple epochs</span>\n",
       "<span class=\"n\">experiment</span><span class=\"o\">.</span><span class=\"n\">simulations</span><span class=\"p\">[</span><span class=\"mi\">0</span><span class=\"p\">]</span><span class=\"o\">.</span><span class=\"n\">timesteps</span> <span class=\"o\">=</span> <span class=\"mi\">1</span>\n",
       "<span class=\"n\">experiment</span><span class=\"o\">.</span><span class=\"n\">simulations</span><span class=\"p\">[</span><span class=\"mi\">0</span><span class=\"p\">]</span><span class=\"o\">.</span><span class=\"n\">model</span><span class=\"o\">.</span><span class=\"n\">params</span><span class=\"o\">.</span><span class=\"n\">update</span><span class=\"p\">({</span><span class=\"s2\">&quot;dt&quot;</span><span class=\"p\">:</span> <span class=\"p\">[</span><span class=\"n\">TIMESTEPS</span> <span class=\"o\">*</span> <span class=\"n\">DELTA_TIME</span><span class=\"p\">]})</span>\n",
       "</pre></div>\n"
      ],
      "text/latex": [
       "\\begin{Verbatim}[commandchars=\\\\\\{\\}]\n",
       "\\PY{k+kn}{import} \\PY{n+nn}{numpy} \\PY{k}{as} \\PY{n+nn}{np}\n",
       "\n",
       "\\PY{k+kn}{from} \\PY{n+nn}{model}\\PY{n+nn}{.}\\PY{n+nn}{state\\PYZus{}variables} \\PY{k+kn}{import} \\PY{n}{eth\\PYZus{}staked}\\PY{p}{,} \\PY{n}{eth\\PYZus{}supply}\n",
       "\\PY{k+kn}{from} \\PY{n+nn}{experiments}\\PY{n+nn}{.}\\PY{n+nn}{base} \\PY{k+kn}{import} \\PY{n}{experiment}\\PY{p}{,} \\PY{n}{TIMESTEPS}\\PY{p}{,} \\PY{n}{DELTA\\PYZus{}TIME}\n",
       "\\PY{k+kn}{from} \\PY{n+nn}{experiments}\\PY{n+nn}{.}\\PY{n+nn}{utils} \\PY{k+kn}{import} \\PY{n}{generate\\PYZus{}cartesion\\PYZus{}product}\n",
       "\\PY{k+kn}{from} \\PY{n+nn}{model}\\PY{n+nn}{.}\\PY{n+nn}{types} \\PY{k+kn}{import} \\PY{n}{Phase}\n",
       "\n",
       "\n",
       "\\PY{n}{sweep} \\PY{o}{=} \\PY{n}{generate\\PYZus{}cartesion\\PYZus{}product}\\PY{p}{(}\\PY{p}{\\PYZob{}}\n",
       "    \\PY{c+c1}{\\PYZsh{} ETH price range from 100 \\PYZdl{}/ETH to 3000 \\PYZdl{}/ETH}\n",
       "    \\PY{l+s+s2}{\\PYZdq{}}\\PY{l+s+s2}{eth\\PYZus{}price\\PYZus{}samples}\\PY{l+s+s2}{\\PYZdq{}}\\PY{p}{:} \\PY{n}{np}\\PY{o}{.}\\PY{n}{linspace}\\PY{p}{(}\\PY{n}{start}\\PY{o}{=}\\PY{l+m+mi}{10}\\PY{p}{,} \\PY{n}{stop}\\PY{o}{=}\\PY{l+m+mi}{100}\\PY{p}{,} \\PY{n}{num}\\PY{o}{=}\\PY{l+m+mi}{20}\\PY{p}{)}\\PY{p}{,}\n",
       "    \\PY{c+c1}{\\PYZsh{} ETH staked range from genesis requirement to 5e6 ETH staked as in Hoban/Borgers report}\n",
       "    \\PY{l+s+s2}{\\PYZdq{}}\\PY{l+s+s2}{eth\\PYZus{}staked\\PYZus{}samples}\\PY{l+s+s2}{\\PYZdq{}}\\PY{p}{:} \\PY{n}{np}\\PY{o}{.}\\PY{n}{linspace}\\PY{p}{(}\\PY{n}{start}\\PY{o}{=}\\PY{l+m+mi}{524\\PYZus{}288}\\PY{p}{,} \\PY{n}{stop}\\PY{o}{=}\\PY{l+m+mf}{5e6}\\PY{p}{,} \\PY{n}{num}\\PY{o}{=}\\PY{l+m+mi}{20}\\PY{p}{)}\\PY{p}{,}\n",
       "\\PY{p}{\\PYZcb{}}\\PY{p}{)}\n",
       "\n",
       "\\PY{n}{parameter\\PYZus{}overrides} \\PY{o}{=} \\PY{p}{\\PYZob{}}\n",
       "    \\PY{l+s+s2}{\\PYZdq{}}\\PY{l+s+s2}{phase}\\PY{l+s+s2}{\\PYZdq{}}\\PY{p}{:} \\PY{p}{[}\\PY{n}{Phase}\\PY{o}{.}\\PY{n}{PHASE\\PYZus{}0}\\PY{p}{]}\\PY{p}{,}\n",
       "    \\PY{l+s+s2}{\\PYZdq{}}\\PY{l+s+s2}{eth\\PYZus{}price\\PYZus{}process}\\PY{l+s+s2}{\\PYZdq{}}\\PY{p}{:} \\PY{p}{[}\n",
       "        \\PY{k}{lambda} \\PY{n}{run}\\PY{p}{,} \\PY{n}{\\PYZus{}timestep}\\PY{p}{:} \\PY{n}{sweep}\\PY{p}{[}\\PY{l+s+s2}{\\PYZdq{}}\\PY{l+s+s2}{eth\\PYZus{}price\\PYZus{}samples}\\PY{l+s+s2}{\\PYZdq{}}\\PY{p}{]}\\PY{p}{[}\\PY{n}{run} \\PY{o}{\\PYZhy{}} \\PY{l+m+mi}{1}\\PY{p}{]}\n",
       "    \\PY{p}{]}\\PY{p}{,}\n",
       "    \\PY{l+s+s2}{\\PYZdq{}}\\PY{l+s+s2}{eth\\PYZus{}staked\\PYZus{}process}\\PY{l+s+s2}{\\PYZdq{}}\\PY{p}{:} \\PY{p}{[}\n",
       "        \\PY{k}{lambda} \\PY{n}{run}\\PY{p}{,} \\PY{n}{\\PYZus{}timestep}\\PY{p}{:} \\PY{n}{sweep}\\PY{p}{[}\\PY{l+s+s2}{\\PYZdq{}}\\PY{l+s+s2}{eth\\PYZus{}staked\\PYZus{}samples}\\PY{l+s+s2}{\\PYZdq{}}\\PY{p}{]}\\PY{p}{[}\\PY{n}{run} \\PY{o}{\\PYZhy{}} \\PY{l+m+mi}{1}\\PY{p}{]}\n",
       "    \\PY{p}{]}\n",
       "\\PY{p}{\\PYZcb{}}\n",
       "\n",
       "\\PY{c+c1}{\\PYZsh{} Override base experiment parameters}\n",
       "\\PY{n}{experiment}\\PY{o}{.}\\PY{n}{simulations}\\PY{p}{[}\\PY{l+m+mi}{0}\\PY{p}{]}\\PY{o}{.}\\PY{n}{model}\\PY{o}{.}\\PY{n}{params}\\PY{o}{.}\\PY{n}{update}\\PY{p}{(}\\PY{n}{parameter\\PYZus{}overrides}\\PY{p}{)}\n",
       "\\PY{c+c1}{\\PYZsh{} Set runs to number of combinations in sweep}\n",
       "\\PY{n}{experiment}\\PY{o}{.}\\PY{n}{simulations}\\PY{p}{[}\\PY{l+m+mi}{0}\\PY{p}{]}\\PY{o}{.}\\PY{n}{runs} \\PY{o}{=} \\PY{n+nb}{len}\\PY{p}{(}\\PY{n}{sweep}\\PY{p}{[}\\PY{l+s+s2}{\\PYZdq{}}\\PY{l+s+s2}{eth\\PYZus{}price\\PYZus{}samples}\\PY{l+s+s2}{\\PYZdq{}}\\PY{p}{]}\\PY{p}{)}\n",
       "\\PY{c+c1}{\\PYZsh{} Run single timestep, set unit of time to multiple epochs}\n",
       "\\PY{n}{experiment}\\PY{o}{.}\\PY{n}{simulations}\\PY{p}{[}\\PY{l+m+mi}{0}\\PY{p}{]}\\PY{o}{.}\\PY{n}{timesteps} \\PY{o}{=} \\PY{l+m+mi}{1}\n",
       "\\PY{n}{experiment}\\PY{o}{.}\\PY{n}{simulations}\\PY{p}{[}\\PY{l+m+mi}{0}\\PY{p}{]}\\PY{o}{.}\\PY{n}{model}\\PY{o}{.}\\PY{n}{params}\\PY{o}{.}\\PY{n}{update}\\PY{p}{(}\\PY{p}{\\PYZob{}}\\PY{l+s+s2}{\\PYZdq{}}\\PY{l+s+s2}{dt}\\PY{l+s+s2}{\\PYZdq{}}\\PY{p}{:} \\PY{p}{[}\\PY{n}{TIMESTEPS} \\PY{o}{*} \\PY{n}{DELTA\\PYZus{}TIME}\\PY{p}{]}\\PY{p}{\\PYZcb{}}\\PY{p}{)}\n",
       "\\end{Verbatim}\n"
      ],
      "text/plain": [
       "import numpy as np\n",
       "\n",
       "from model.state_variables import eth_staked, eth_supply\n",
       "from experiments.base import experiment, TIMESTEPS, DELTA_TIME\n",
       "from experiments.utils import generate_cartesion_product\n",
       "from model.types import Phase\n",
       "\n",
       "\n",
       "sweep = generate_cartesion_product({\n",
       "    # ETH price range from 100 $/ETH to 3000 $/ETH\n",
       "    \"eth_price_samples\": np.linspace(start=10, stop=100, num=20),\n",
       "    # ETH staked range from genesis requirement to 5e6 ETH staked as in Hoban/Borgers report\n",
       "    \"eth_staked_samples\": np.linspace(start=524_288, stop=5e6, num=20),\n",
       "})\n",
       "\n",
       "parameter_overrides = {\n",
       "    \"phase\": [Phase.PHASE_0],\n",
       "    \"eth_price_process\": [\n",
       "        lambda run, _timestep: sweep[\"eth_price_samples\"][run - 1]\n",
       "    ],\n",
       "    \"eth_staked_process\": [\n",
       "        lambda run, _timestep: sweep[\"eth_staked_samples\"][run - 1]\n",
       "    ]\n",
       "}\n",
       "\n",
       "# Override base experiment parameters\n",
       "experiment.simulations[0].model.params.update(parameter_overrides)\n",
       "# Set runs to number of combinations in sweep\n",
       "experiment.simulations[0].runs = len(sweep[\"eth_price_samples\"])\n",
       "# Run single timestep, set unit of time to multiple epochs\n",
       "experiment.simulations[0].timesteps = 1\n",
       "experiment.simulations[0].model.params.update({\"dt\": [TIMESTEPS * DELTA_TIME]})"
      ]
     },
     "execution_count": 2,
     "metadata": {},
     "output_type": "execute_result"
    },
    {
     "name": "stdout",
     "output_type": "stream",
     "text": [
      "time: 91 ms (started: 2021-05-28 10:03:27 +02:00)\n"
     ]
    }
   ],
   "source": [
    "visualizations.inspect_module(revenue_net_yield_spread_template)"
   ]
  },
  {
   "cell_type": "code",
   "execution_count": 5,
   "id": "89591bea-d715-4256-9215-91d51115ffda",
   "metadata": {},
   "outputs": [
    {
     "name": "stdout",
     "output_type": "stream",
     "text": [
      "time: 1.4 s (started: 2021-05-28 10:05:20 +02:00)\n"
     ]
    }
   ],
   "source": [
    "logger = logging.getLogger()\n",
    "logger.disabled = True\n",
    "\n",
    "df, exceptions = run(revenue_net_yield_spread_template.experiment)"
   ]
  },
  {
   "cell_type": "code",
   "execution_count": 6,
   "id": "279c7aea-80a4-4667-ac26-0f613df917c6",
   "metadata": {},
   "outputs": [
    {
     "data": {
      "application/vnd.plotly.v1+json": {
       "config": {
        "plotlyServerURL": "https://plot.ly"
       },
       "data": [
        {
         "autocontour": true,
         "colorbar": {
          "title": {
           "font": {
            "size": 14
           },
           "side": "right",
           "text": "Spread (%)"
          }
         },
         "contours": {
          "end": 16,
          "labelfont": {
           "color": "white",
           "size": 12
          },
          "showlabels": true,
          "size": 2,
          "start": 2
         },
         "line": {
          "smoothing": 0.85
         },
         "type": "contour",
         "x": [
          10,
          14.736842105263158,
          19.473684210526315,
          24.210526315789473,
          28.94736842105263,
          33.68421052631579,
          38.421052631578945,
          43.1578947368421,
          47.89473684210526,
          52.63157894736842,
          57.368421052631575,
          62.10526315789473,
          66.84210526315789,
          71.57894736842104,
          76.3157894736842,
          81.05263157894737,
          85.78947368421052,
          90.52631578947367,
          95.26315789473684,
          100
         ],
         "y": [
          524288,
          759851.7894736843,
          995415.5789473684,
          1230979.3684210526,
          1466543.1578947369,
          1702106.9473684211,
          1937670.7368421052,
          2173234.5263157897,
          2408798.3157894737,
          2644362.1052631577,
          2879925.8947368423,
          3115489.6842105263,
          3351053.4736842103,
          3586617.263157895,
          3822181.052631579,
          4057744.8421052634,
          4293308.631578947,
          4528872.421052631,
          4764436.2105263155,
          5000000
         ],
         "z": [
          [
           17.336425114123635,
           12.141750270373633,
           9.47421453979931,
           7.850497138580158,
           6.758178159578176,
           5.9730738934205085,
           5.381556980561989,
           4.919885243696804,
           4.549533191046709,
           4.245844507873635,
           3.9923062494447343,
           3.7774433185727823,
           3.593033401525208,
           3.433030679380984,
           3.2928903641236325,
           3.1691300857145386,
           3.059036586516271,
           2.9604645000247984,
           2.8716951624661746,
           2.7913355516236287
          ],
          [
           17.136890010997973,
           11.942295765179328,
           9.274801422731919,
           7.651109214285668,
           6.558807183149099,
           5.773715098269692,
           5.182207363086576,
           4.720542789285119,
           4.350196482829004,
           4.046512511534994,
           3.7929781868766916,
           3.5781185897086303,
           3.3937115338714836,
           3.2337112942480744,
           3.0935731533365356,
           2.969814795128947,
           2.859723004085385,
           2.7611524469882376,
           2.672384486729486,
           2.5920261227057733
          ],
          [
           17.014114194543215,
           11.819395404695536,
           9.151837107206184,
           7.528105969603974,
           6.435777749762485,
           5.650666841751416,
           5.059144924756776,
           4.597469282224372,
           4.227114096456619,
           3.92342284412706,
           3.669882440806056,
           3.4550176922289335,
           3.270606215103683,
           3.110602139362662,
           2.9704606385412156,
           2.846699313140453,
           2.73660488256923,
           2.6380319621740576,
           2.54926187364139,
           2.468901582969716
          ],
          [
           16.928151105294162,
           11.733490476122046,
           9.065962044925554,
           7.442249086805952,
           6.349933096798216,
           5.564830978980158,
           4.973315684733672,
           4.511645211175441,
           4.141294171947413,
           3.837606319780429,
           3.584068755127257,
           3.369206412200839,
           3.1847969997679293,
           3.024794715451142,
           2.884654783670232,
           2.760894843915663,
           2.6508016459744788,
           2.5522298292131893,
           2.4634607345607513,
           2.3831013436122355
          ],
          [
           16.863649522553626,
           11.669028369916672,
           9.001520210454448,
           7.3778195916513605,
           6.28551190263837,
           5.500415751160288,
           4.908904952101457,
           4.447237986982367,
           4.076889762216505,
           3.7732042179085,
           3.51966857999998,
           3.304807869908016,
           3.1203998588842,
           2.9603987904958924,
           2.820259923700613,
           2.696500924452838,
           2.5864085631588054,
           2.487837495488563,
           2.399069075431939,
           2.318710295170151
          ],
          [
           16.813425884562143,
           11.618735620642338,
           8.951191971602437,
           7.327469750447716,
           6.235147528943631,
           5.450040932237569,
           4.858522263486425,
           4.396849156168461,
           4.026496004144157,
           3.7228064194842325,
           3.4692674084378705,
           3.2544038397545147,
           3.069993375293997,
           2.9099901781885453,
           2.7698494469306674,
           2.646088801144492,
           2.535994975138383,
           2.437422596039891,
           2.348652994973291,
           2.2682931455866857
          ],
          [
           16.77211641488161,
           11.577459631839007,
           8.909933175681992,
           7.286221419760335,
           6.1939062385039465,
           5.408804701975916,
           4.817289845687673,
           4.35561971395051,
           3.985268948930589,
           3.6815813216142503,
           3.4280439446804287,
           3.2131817608382054,
           3.0287724849421256,
           2.868770319091114,
           2.728630491069884,
           2.6048706429472404,
           2.494777526519119,
           2.396205782740454,
           2.307436753812704,
           2.2270774223623224
          ],
          [
           16.73822399212934,
           11.543516942279366,
           8.875964673437487,
           7.252237205446778,
           6.159911454253031,
           5.374802320582524,
           4.783281740419811,
           4.321607141268426,
           3.9512527924986367,
           3.6475622265074064,
           3.3940223961844547,
           3.179158133198901,
           2.9947470728412195,
           2.834743358707354,
           2.6946021746038955,
           2.5708411289021402,
           2.46074694714291,
           2.3621742495212743,
           2.2734043616078665,
           2.1930442525494147
          ],
          [
           16.709541900634697,
           11.514863424813885,
           8.847325829122118,
           7.223607292614086,
           6.13128754987232,
           5.346182734776673,
           4.754665408334748,
           4.292993348672759,
           3.9226410370757776,
           3.618952141566254,
           3.3654137058656417,
           3.1505506247634285,
           2.966140578778063,
           2.806137744761351,
           2.6659973315191268,
           2.542236966577941,
           2.432143390403268,
           2.3335712349910605,
           2.244801835365699,
           2.1644421683364286
          ],
          [
           16.68422209762636,
           11.489567104998947,
           8.822041568244327,
           7.1983303719589085,
           6.106015567185083,
           5.320914301253894,
           4.729399648839985,
           4.26772967622425,
           3.8973790388511897,
           3.5936915162052783,
           3.340154226656858,
           3.125292116870061,
           2.9408829045333604,
           2.7808807938294615,
           2.6407410141094907,
           2.5169812086425063,
           2.4068881301596052,
           2.3083164203551467,
           2.2195474220229547,
           2.1391881182696038
          ],
          [
           16.662483081083867,
           11.467790009935579,
           8.800244919345921,
           7.176521820726128,
           6.084199008927358,
           5.299091987946992,
           4.7075729995371285,
           4.245899642729429,
           3.875546290565011,
           3.5718565417901864,
           3.3183173937304726,
           3.1034537089341026,
           2.9190431448175387,
           2.7590398612458094,
           2.618899054255399,
           2.495138341588544,
           2.3850444560873534,
           2.286472023720009,
           2.1977023746820112,
           2.1173424818686675
          ],
          [
           16.64307615138391,
           11.448404115836453,
           8.780869827312085,
           7.157153303862468,
           6.064834915359997,
           5.2797310736238465,
           4.688214480534967,
           4.226542993246086,
           3.856191140805552,
           3.552502621804318,
           3.2989645004363135,
           3.084101685717666,
           2.8996918683607174,
           2.7396892327127738,
           2.599548993214232,
           2.475788781709025,
           2.3656953420264806,
           2.2671233088223435,
           2.178354019251765,
           2.097994451851031
          ],
          [
           16.625780673901048,
           11.431126716540646,
           8.76360171140963,
           7.139890838721185,
           6.047576251639868,
           5.26247514217517,
           4.670960607646973,
           4.209290727039602,
           3.8389401634754448,
           3.5352527013528388,
           3.2817154623330467,
           3.0668533953671195,
           2.882444219782191,
           2.7224421409658577,
           2.5823023891749983,
           2.4585426083726807,
           2.3484495518307433,
           2.2498778616710995,
           2.1611088810300974,
           2.080749593291925
          ],
          [
           16.610311788774098,
           11.415627187723105,
           8.748086446642862,
           7.124365995550541,
           6.032044964815705,
           5.246939223975043,
           4.655421200053995,
           4.193748596018057,
           3.8233958477254903,
           3.5197065941255854,
           3.2661678594687835,
           3.051304525013869,
           2.866894261584057,
           2.7068912389023128,
           2.566750660415541,
           2.442990149544107,
           2.3328964435541772,
           2.2343241719120357,
           2.14555466761552,
           2.065194905831306
          ],
          [
           16.59638509773674,
           11.40171712095034,
           8.734184916654621,
           7.110469661865922,
           6.018152126826252,
           5.23304889851649,
           4.641532767598177,
           4.179861641027784,
           3.8095100779548314,
           3.5058217962350113,
           3.2522838729643357,
           3.0374212261247795,
           2.8530115528530366,
           2.693009042220199,
           2.5528689122176447,
           2.429108797410194,
           2.3190154437471264,
           2.2204434875604235,
           2.1316742673480897,
           2.05131476273482
          ],
          [
           16.58343619011239,
           11.388741941412713,
           8.7211962461345,
           7.097472779443414,
           6.005149720033046,
           5.220042521081844,
           4.628523398584363,
           4.166849937122915,
           3.79649650100549,
           3.492806683389201,
           3.2392674778563357,
           3.0244037443539087,
           2.839993138434501,
           2.679989818592664,
           2.5398489798346384,
           2.4160882391132663,
           2.305994328655604,
           2.207421873943513,
           2.118652204782899,
           2.0382922937532904
          ],
          [
           16.57161537488067,
           11.37693645552055,
           8.709398632065353,
           7.085679956918713,
           5.993360120910973,
           5.20825523878041,
           4.616737861832723,
           4.1550657627516046,
           3.784713419532684,
           3.48102449809317,
           3.2274860407445845,
           3.0126229412966303,
           2.8282128795657098,
           2.668210031887411,
           2.528069606679521,
           2.4043092311712533,
           2.2942156455964167,
           2.1956434817677835,
           2.106874074562989,
           2.026514400672336
          ],
          [
           16.561053124550263,
           11.36638793985581,
           8.698857169337032,
           7.075142787282127,
           5.9828258393542795,
           5.1977230330311395,
           4.606207220047953,
           4.14453634162205,
           3.774184977610063,
           3.4704968591202343,
           3.216959072124136,
           3.002096540771512,
           2.8176869666184725,
           2.657684541985688,
           2.517544487307318,
           2.3937844390199263,
           2.2836911445311454,
           2.1851192413260696,
           2.096350068826472,
           2.0159906074057847
          ],
          [
           16.55103518681619,
           11.35634748897818,
           8.68880515765596,
           7.06508373859026,
           5.972762056673333,
           5.1876558477955435,
           4.596137471243784,
           4.134464591983875,
           3.7641116229072438,
           3.4604221882644057,
           3.2068833024616694,
           2.9920198399169777,
           2.807609466551849,
           2.647606348485046,
           2.5074656864541227,
           2.3837051018034368,
           2.2736113301816596,
           2.175038999776117,
           2.0862694425600754,
           2.0059096328697628
          ],
          [
           16.541745114999998,
           11.347070271249999,
           8.679534540675677,
           7.055817139456522,
           5.963498160454546,
           5.178393894296874,
           4.5868769814383565,
           4.125205244573172,
           3.7548531919230763,
           3.4511645087499994,
           3.1976262503211013,
           2.9827633194491536,
           2.7983534024015757,
           2.6383506802573526,
           2.4982103650000003,
           2.374450086590909,
           2.2643565873926397,
           2.1657845009011645,
           2.0770151633425415,
           1.9966555524999992
          ]
         ]
        }
       ],
       "layout": {
        "autosize": false,
        "height": 800,
        "template": {
         "data": {
          "bar": [
           {
            "error_x": {
             "color": "#2a3f5f"
            },
            "error_y": {
             "color": "#2a3f5f"
            },
            "marker": {
             "line": {
              "color": "#E5ECF6",
              "width": 0.5
             }
            },
            "type": "bar"
           }
          ],
          "barpolar": [
           {
            "marker": {
             "line": {
              "color": "#E5ECF6",
              "width": 0.5
             }
            },
            "type": "barpolar"
           }
          ],
          "carpet": [
           {
            "aaxis": {
             "endlinecolor": "#2a3f5f",
             "gridcolor": "white",
             "linecolor": "white",
             "minorgridcolor": "white",
             "startlinecolor": "#2a3f5f"
            },
            "baxis": {
             "endlinecolor": "#2a3f5f",
             "gridcolor": "white",
             "linecolor": "white",
             "minorgridcolor": "white",
             "startlinecolor": "#2a3f5f"
            },
            "type": "carpet"
           }
          ],
          "choropleth": [
           {
            "colorbar": {
             "outlinewidth": 0,
             "ticks": ""
            },
            "type": "choropleth"
           }
          ],
          "contour": [
           {
            "colorbar": {
             "outlinewidth": 0,
             "ticks": ""
            },
            "colorscale": [
             [
              0,
              "#0d0887"
             ],
             [
              0.1111111111111111,
              "#46039f"
             ],
             [
              0.2222222222222222,
              "#7201a8"
             ],
             [
              0.3333333333333333,
              "#9c179e"
             ],
             [
              0.4444444444444444,
              "#bd3786"
             ],
             [
              0.5555555555555556,
              "#d8576b"
             ],
             [
              0.6666666666666666,
              "#ed7953"
             ],
             [
              0.7777777777777778,
              "#fb9f3a"
             ],
             [
              0.8888888888888888,
              "#fdca26"
             ],
             [
              1,
              "#f0f921"
             ]
            ],
            "type": "contour"
           }
          ],
          "contourcarpet": [
           {
            "colorbar": {
             "outlinewidth": 0,
             "ticks": ""
            },
            "type": "contourcarpet"
           }
          ],
          "heatmap": [
           {
            "colorbar": {
             "outlinewidth": 0,
             "ticks": ""
            },
            "colorscale": [
             [
              0,
              "#0d0887"
             ],
             [
              0.1111111111111111,
              "#46039f"
             ],
             [
              0.2222222222222222,
              "#7201a8"
             ],
             [
              0.3333333333333333,
              "#9c179e"
             ],
             [
              0.4444444444444444,
              "#bd3786"
             ],
             [
              0.5555555555555556,
              "#d8576b"
             ],
             [
              0.6666666666666666,
              "#ed7953"
             ],
             [
              0.7777777777777778,
              "#fb9f3a"
             ],
             [
              0.8888888888888888,
              "#fdca26"
             ],
             [
              1,
              "#f0f921"
             ]
            ],
            "type": "heatmap"
           }
          ],
          "heatmapgl": [
           {
            "colorbar": {
             "outlinewidth": 0,
             "ticks": ""
            },
            "colorscale": [
             [
              0,
              "#0d0887"
             ],
             [
              0.1111111111111111,
              "#46039f"
             ],
             [
              0.2222222222222222,
              "#7201a8"
             ],
             [
              0.3333333333333333,
              "#9c179e"
             ],
             [
              0.4444444444444444,
              "#bd3786"
             ],
             [
              0.5555555555555556,
              "#d8576b"
             ],
             [
              0.6666666666666666,
              "#ed7953"
             ],
             [
              0.7777777777777778,
              "#fb9f3a"
             ],
             [
              0.8888888888888888,
              "#fdca26"
             ],
             [
              1,
              "#f0f921"
             ]
            ],
            "type": "heatmapgl"
           }
          ],
          "histogram": [
           {
            "marker": {
             "colorbar": {
              "outlinewidth": 0,
              "ticks": ""
             }
            },
            "type": "histogram"
           }
          ],
          "histogram2d": [
           {
            "colorbar": {
             "outlinewidth": 0,
             "ticks": ""
            },
            "colorscale": [
             [
              0,
              "#0d0887"
             ],
             [
              0.1111111111111111,
              "#46039f"
             ],
             [
              0.2222222222222222,
              "#7201a8"
             ],
             [
              0.3333333333333333,
              "#9c179e"
             ],
             [
              0.4444444444444444,
              "#bd3786"
             ],
             [
              0.5555555555555556,
              "#d8576b"
             ],
             [
              0.6666666666666666,
              "#ed7953"
             ],
             [
              0.7777777777777778,
              "#fb9f3a"
             ],
             [
              0.8888888888888888,
              "#fdca26"
             ],
             [
              1,
              "#f0f921"
             ]
            ],
            "type": "histogram2d"
           }
          ],
          "histogram2dcontour": [
           {
            "colorbar": {
             "outlinewidth": 0,
             "ticks": ""
            },
            "colorscale": [
             [
              0,
              "#0d0887"
             ],
             [
              0.1111111111111111,
              "#46039f"
             ],
             [
              0.2222222222222222,
              "#7201a8"
             ],
             [
              0.3333333333333333,
              "#9c179e"
             ],
             [
              0.4444444444444444,
              "#bd3786"
             ],
             [
              0.5555555555555556,
              "#d8576b"
             ],
             [
              0.6666666666666666,
              "#ed7953"
             ],
             [
              0.7777777777777778,
              "#fb9f3a"
             ],
             [
              0.8888888888888888,
              "#fdca26"
             ],
             [
              1,
              "#f0f921"
             ]
            ],
            "type": "histogram2dcontour"
           }
          ],
          "mesh3d": [
           {
            "colorbar": {
             "outlinewidth": 0,
             "ticks": ""
            },
            "type": "mesh3d"
           }
          ],
          "parcoords": [
           {
            "line": {
             "colorbar": {
              "outlinewidth": 0,
              "ticks": ""
             }
            },
            "type": "parcoords"
           }
          ],
          "pie": [
           {
            "automargin": true,
            "type": "pie"
           }
          ],
          "scatter": [
           {
            "marker": {
             "colorbar": {
              "outlinewidth": 0,
              "ticks": ""
             }
            },
            "type": "scatter"
           }
          ],
          "scatter3d": [
           {
            "line": {
             "colorbar": {
              "outlinewidth": 0,
              "ticks": ""
             }
            },
            "marker": {
             "colorbar": {
              "outlinewidth": 0,
              "ticks": ""
             }
            },
            "type": "scatter3d"
           }
          ],
          "scattercarpet": [
           {
            "marker": {
             "colorbar": {
              "outlinewidth": 0,
              "ticks": ""
             }
            },
            "type": "scattercarpet"
           }
          ],
          "scattergeo": [
           {
            "marker": {
             "colorbar": {
              "outlinewidth": 0,
              "ticks": ""
             }
            },
            "type": "scattergeo"
           }
          ],
          "scattergl": [
           {
            "marker": {
             "colorbar": {
              "outlinewidth": 0,
              "ticks": ""
             }
            },
            "type": "scattergl"
           }
          ],
          "scattermapbox": [
           {
            "marker": {
             "colorbar": {
              "outlinewidth": 0,
              "ticks": ""
             }
            },
            "type": "scattermapbox"
           }
          ],
          "scatterpolar": [
           {
            "marker": {
             "colorbar": {
              "outlinewidth": 0,
              "ticks": ""
             }
            },
            "type": "scatterpolar"
           }
          ],
          "scatterpolargl": [
           {
            "marker": {
             "colorbar": {
              "outlinewidth": 0,
              "ticks": ""
             }
            },
            "type": "scatterpolargl"
           }
          ],
          "scatterternary": [
           {
            "marker": {
             "colorbar": {
              "outlinewidth": 0,
              "ticks": ""
             }
            },
            "type": "scatterternary"
           }
          ],
          "surface": [
           {
            "colorbar": {
             "outlinewidth": 0,
             "ticks": ""
            },
            "colorscale": [
             [
              0,
              "#0d0887"
             ],
             [
              0.1111111111111111,
              "#46039f"
             ],
             [
              0.2222222222222222,
              "#7201a8"
             ],
             [
              0.3333333333333333,
              "#9c179e"
             ],
             [
              0.4444444444444444,
              "#bd3786"
             ],
             [
              0.5555555555555556,
              "#d8576b"
             ],
             [
              0.6666666666666666,
              "#ed7953"
             ],
             [
              0.7777777777777778,
              "#fb9f3a"
             ],
             [
              0.8888888888888888,
              "#fdca26"
             ],
             [
              1,
              "#f0f921"
             ]
            ],
            "type": "surface"
           }
          ],
          "table": [
           {
            "cells": {
             "fill": {
              "color": "#EBF0F8"
             },
             "line": {
              "color": "white"
             }
            },
            "header": {
             "fill": {
              "color": "#C8D4E3"
             },
             "line": {
              "color": "white"
             }
            },
            "type": "table"
           }
          ]
         },
         "layout": {
          "annotationdefaults": {
           "arrowcolor": "#2a3f5f",
           "arrowhead": 0,
           "arrowwidth": 1
          },
          "autotypenumbers": "strict",
          "coloraxis": {
           "colorbar": {
            "outlinewidth": 0,
            "ticks": ""
           }
          },
          "colorscale": {
           "diverging": [
            [
             0,
             "#8e0152"
            ],
            [
             0.1,
             "#c51b7d"
            ],
            [
             0.2,
             "#de77ae"
            ],
            [
             0.3,
             "#f1b6da"
            ],
            [
             0.4,
             "#fde0ef"
            ],
            [
             0.5,
             "#f7f7f7"
            ],
            [
             0.6,
             "#e6f5d0"
            ],
            [
             0.7,
             "#b8e186"
            ],
            [
             0.8,
             "#7fbc41"
            ],
            [
             0.9,
             "#4d9221"
            ],
            [
             1,
             "#276419"
            ]
           ],
           "sequential": [
            [
             0,
             "#0d0887"
            ],
            [
             0.1111111111111111,
             "#46039f"
            ],
            [
             0.2222222222222222,
             "#7201a8"
            ],
            [
             0.3333333333333333,
             "#9c179e"
            ],
            [
             0.4444444444444444,
             "#bd3786"
            ],
            [
             0.5555555555555556,
             "#d8576b"
            ],
            [
             0.6666666666666666,
             "#ed7953"
            ],
            [
             0.7777777777777778,
             "#fb9f3a"
            ],
            [
             0.8888888888888888,
             "#fdca26"
            ],
            [
             1,
             "#f0f921"
            ]
           ],
           "sequentialminus": [
            [
             0,
             "#0d0887"
            ],
            [
             0.1111111111111111,
             "#46039f"
            ],
            [
             0.2222222222222222,
             "#7201a8"
            ],
            [
             0.3333333333333333,
             "#9c179e"
            ],
            [
             0.4444444444444444,
             "#bd3786"
            ],
            [
             0.5555555555555556,
             "#d8576b"
            ],
            [
             0.6666666666666666,
             "#ed7953"
            ],
            [
             0.7777777777777778,
             "#fb9f3a"
            ],
            [
             0.8888888888888888,
             "#fdca26"
            ],
            [
             1,
             "#f0f921"
            ]
           ]
          },
          "colorway": [
           "#636efa",
           "#EF553B",
           "#00cc96",
           "#ab63fa",
           "#FFA15A",
           "#19d3f3",
           "#FF6692",
           "#B6E880",
           "#FF97FF",
           "#FECB52"
          ],
          "font": {
           "color": "#2a3f5f"
          },
          "geo": {
           "bgcolor": "white",
           "lakecolor": "white",
           "landcolor": "#E5ECF6",
           "showlakes": true,
           "showland": true,
           "subunitcolor": "white"
          },
          "hoverlabel": {
           "align": "left"
          },
          "hovermode": "closest",
          "mapbox": {
           "style": "light"
          },
          "paper_bgcolor": "white",
          "plot_bgcolor": "#E5ECF6",
          "polar": {
           "angularaxis": {
            "gridcolor": "white",
            "linecolor": "white",
            "ticks": ""
           },
           "bgcolor": "#E5ECF6",
           "radialaxis": {
            "gridcolor": "white",
            "linecolor": "white",
            "ticks": ""
           }
          },
          "scene": {
           "xaxis": {
            "backgroundcolor": "#E5ECF6",
            "gridcolor": "white",
            "gridwidth": 2,
            "linecolor": "white",
            "showbackground": true,
            "ticks": "",
            "zerolinecolor": "white"
           },
           "yaxis": {
            "backgroundcolor": "#E5ECF6",
            "gridcolor": "white",
            "gridwidth": 2,
            "linecolor": "white",
            "showbackground": true,
            "ticks": "",
            "zerolinecolor": "white"
           },
           "zaxis": {
            "backgroundcolor": "#E5ECF6",
            "gridcolor": "white",
            "gridwidth": 2,
            "linecolor": "white",
            "showbackground": true,
            "ticks": "",
            "zerolinecolor": "white"
           }
          },
          "shapedefaults": {
           "line": {
            "color": "#2a3f5f"
           }
          },
          "ternary": {
           "aaxis": {
            "gridcolor": "white",
            "linecolor": "white",
            "ticks": ""
           },
           "baxis": {
            "gridcolor": "white",
            "linecolor": "white",
            "ticks": ""
           },
           "bgcolor": "#E5ECF6",
           "caxis": {
            "gridcolor": "white",
            "linecolor": "white",
            "ticks": ""
           }
          },
          "title": {
           "x": 0.05
          },
          "xaxis": {
           "automargin": true,
           "gridcolor": "white",
           "linecolor": "white",
           "ticks": "",
           "title": {
            "standoff": 15
           },
           "zerolinecolor": "white",
           "zerolinewidth": 2
          },
          "yaxis": {
           "automargin": true,
           "gridcolor": "white",
           "linecolor": "white",
           "ticks": "",
           "title": {
            "standoff": 15
           },
           "zerolinecolor": "white",
           "zerolinewidth": 2
          }
         }
        },
        "title": {
         "text": "Contour Plot of Revenue-Net Yield Spread over ETH Price vs. ETH Staked"
        },
        "width": 1000,
        "xaxis": {
         "autorange": true,
         "range": [
          10,
          100
         ],
         "title": {
          "text": "ETH Price ($/ETH)"
         },
         "type": "linear"
        },
        "yaxis": {
         "autorange": true,
         "range": [
          524288,
          5000000
         ],
         "title": {
          "text": "ETH Staked (ETH)"
         },
         "type": "linear"
        }
       }
      },
      "image/png": "[encoded data removed]",
      "text/html": [
       "<div>                            <div id=\"0e2a6b53-aa09-490b-b728-93b878ef38ac\" class=\"plotly-graph-div\" style=\"height:800px; width:1000px;\"></div>            <script type=\"text/javascript\">                require([\"plotly\"], function(Plotly) {                    window.PLOTLYENV=window.PLOTLYENV || {};                                    if (document.getElementById(\"0e2a6b53-aa09-490b-b728-93b878ef38ac\")) {                    Plotly.newPlot(                        \"0e2a6b53-aa09-490b-b728-93b878ef38ac\",                        [{\"colorbar\": {\"title\": {\"font\": {\"size\": 14}, \"side\": \"right\", \"text\": \"Spread (%)\"}}, \"contours\": {\"labelfont\": {\"color\": \"white\", \"size\": 12}, \"showlabels\": true}, \"line\": {\"smoothing\": 0.85}, \"type\": \"contour\", \"x\": [10.0, 14.736842105263158, 19.473684210526315, 24.210526315789473, 28.94736842105263, 33.68421052631579, 38.421052631578945, 43.1578947368421, 47.89473684210526, 52.63157894736842, 57.368421052631575, 62.10526315789473, 66.84210526315789, 71.57894736842104, 76.3157894736842, 81.05263157894737, 85.78947368421052, 90.52631578947367, 95.26315789473684, 100.0], \"y\": [524288.0, 759851.7894736843, 995415.5789473684, 1230979.3684210526, 1466543.1578947369, 1702106.9473684211, 1937670.7368421052, 2173234.5263157897, 2408798.3157894737, 2644362.1052631577, 2879925.8947368423, 3115489.6842105263, 3351053.4736842103, 3586617.263157895, 3822181.052631579, 4057744.8421052634, 4293308.631578947, 4528872.421052631, 4764436.2105263155, 5000000.0], \"z\": [[17.336425114123635, 12.141750270373633, 9.47421453979931, 7.850497138580158, 6.758178159578176, 5.9730738934205085, 5.381556980561989, 4.919885243696804, 4.549533191046709, 4.245844507873635, 3.9923062494447343, 3.7774433185727823, 3.593033401525208, 3.433030679380984, 3.2928903641236325, 3.1691300857145386, 3.059036586516271, 2.9604645000247984, 2.8716951624661746, 2.7913355516236287], [17.136890010997973, 11.942295765179328, 9.274801422731919, 7.651109214285668, 6.558807183149099, 5.773715098269692, 5.182207363086576, 4.720542789285119, 4.350196482829004, 4.046512511534994, 3.7929781868766916, 3.5781185897086303, 3.3937115338714836, 3.2337112942480744, 3.0935731533365356, 2.969814795128947, 2.859723004085385, 2.7611524469882376, 2.672384486729486, 2.5920261227057733], [17.014114194543215, 11.819395404695536, 9.151837107206184, 7.528105969603974, 6.435777749762485, 5.650666841751416, 5.059144924756776, 4.597469282224372, 4.227114096456619, 3.92342284412706, 3.669882440806056, 3.4550176922289335, 3.270606215103683, 3.110602139362662, 2.9704606385412156, 2.846699313140453, 2.73660488256923, 2.6380319621740576, 2.54926187364139, 2.468901582969716], [16.928151105294162, 11.733490476122046, 9.065962044925554, 7.442249086805952, 6.349933096798216, 5.564830978980158, 4.973315684733672, 4.511645211175441, 4.141294171947413, 3.837606319780429, 3.584068755127257, 3.369206412200839, 3.1847969997679293, 3.024794715451142, 2.884654783670232, 2.760894843915663, 2.6508016459744788, 2.5522298292131893, 2.4634607345607513, 2.3831013436122355], [16.863649522553626, 11.669028369916672, 9.001520210454448, 7.3778195916513605, 6.28551190263837, 5.500415751160288, 4.908904952101457, 4.447237986982367, 4.076889762216505, 3.7732042179085, 3.51966857999998, 3.304807869908016, 3.1203998588842, 2.9603987904958924, 2.820259923700613, 2.696500924452838, 2.5864085631588054, 2.487837495488563, 2.399069075431939, 2.318710295170151], [16.813425884562143, 11.618735620642338, 8.951191971602437, 7.327469750447716, 6.235147528943631, 5.450040932237569, 4.858522263486425, 4.396849156168461, 4.026496004144157, 3.7228064194842325, 3.4692674084378705, 3.2544038397545147, 3.069993375293997, 2.9099901781885453, 2.7698494469306674, 2.646088801144492, 2.535994975138383, 2.437422596039891, 2.348652994973291, 2.2682931455866857], [16.77211641488161, 11.577459631839007, 8.909933175681992, 7.286221419760335, 6.1939062385039465, 5.408804701975916, 4.817289845687673, 4.35561971395051, 3.985268948930589, 3.6815813216142503, 3.4280439446804287, 3.2131817608382054, 3.0287724849421256, 2.868770319091114, 2.728630491069884, 2.6048706429472404, 2.494777526519119, 2.396205782740454, 2.307436753812704, 2.2270774223623224], [16.73822399212934, 11.543516942279366, 8.875964673437487, 7.252237205446778, 6.159911454253031, 5.374802320582524, 4.783281740419811, 4.321607141268426, 3.9512527924986367, 3.6475622265074064, 3.3940223961844547, 3.179158133198901, 2.9947470728412195, 2.834743358707354, 2.6946021746038955, 2.5708411289021402, 2.46074694714291, 2.3621742495212743, 2.2734043616078665, 2.1930442525494147], [16.709541900634697, 11.514863424813885, 8.847325829122118, 7.223607292614086, 6.13128754987232, 5.346182734776673, 4.754665408334748, 4.292993348672759, 3.9226410370757776, 3.618952141566254, 3.3654137058656417, 3.1505506247634285, 2.966140578778063, 2.806137744761351, 2.6659973315191268, 2.542236966577941, 2.432143390403268, 2.3335712349910605, 2.244801835365699, 2.1644421683364286], [16.68422209762636, 11.489567104998947, 8.822041568244327, 7.1983303719589085, 6.106015567185083, 5.320914301253894, 4.729399648839985, 4.26772967622425, 3.8973790388511897, 3.5936915162052783, 3.340154226656858, 3.125292116870061, 2.9408829045333604, 2.7808807938294615, 2.6407410141094907, 2.5169812086425063, 2.4068881301596052, 2.3083164203551467, 2.2195474220229547, 2.1391881182696038], [16.662483081083867, 11.467790009935579, 8.800244919345921, 7.176521820726128, 6.084199008927358, 5.299091987946992, 4.7075729995371285, 4.245899642729429, 3.875546290565011, 3.5718565417901864, 3.3183173937304726, 3.1034537089341026, 2.9190431448175387, 2.7590398612458094, 2.618899054255399, 2.495138341588544, 2.3850444560873534, 2.286472023720009, 2.1977023746820112, 2.1173424818686675], [16.64307615138391, 11.448404115836453, 8.780869827312085, 7.157153303862468, 6.064834915359997, 5.2797310736238465, 4.688214480534967, 4.226542993246086, 3.856191140805552, 3.552502621804318, 3.2989645004363135, 3.084101685717666, 2.8996918683607174, 2.7396892327127738, 2.599548993214232, 2.475788781709025, 2.3656953420264806, 2.2671233088223435, 2.178354019251765, 2.097994451851031], [16.625780673901048, 11.431126716540646, 8.76360171140963, 7.139890838721185, 6.047576251639868, 5.26247514217517, 4.670960607646973, 4.209290727039602, 3.8389401634754448, 3.5352527013528388, 3.2817154623330467, 3.0668533953671195, 2.882444219782191, 2.7224421409658577, 2.5823023891749983, 2.4585426083726807, 2.3484495518307433, 2.2498778616710995, 2.1611088810300974, 2.080749593291925], [16.610311788774098, 11.415627187723105, 8.748086446642862, 7.124365995550541, 6.032044964815705, 5.246939223975043, 4.655421200053995, 4.193748596018057, 3.8233958477254903, 3.5197065941255854, 3.2661678594687835, 3.051304525013869, 2.866894261584057, 2.7068912389023128, 2.566750660415541, 2.442990149544107, 2.3328964435541772, 2.2343241719120357, 2.14555466761552, 2.065194905831306], [16.59638509773674, 11.40171712095034, 8.734184916654621, 7.110469661865922, 6.018152126826252, 5.23304889851649, 4.641532767598177, 4.179861641027784, 3.8095100779548314, 3.5058217962350113, 3.2522838729643357, 3.0374212261247795, 2.8530115528530366, 2.693009042220199, 2.5528689122176447, 2.429108797410194, 2.3190154437471264, 2.2204434875604235, 2.1316742673480897, 2.05131476273482], [16.58343619011239, 11.388741941412713, 8.7211962461345, 7.097472779443414, 6.005149720033046, 5.220042521081844, 4.628523398584363, 4.166849937122915, 3.79649650100549, 3.492806683389201, 3.2392674778563357, 3.0244037443539087, 2.839993138434501, 2.679989818592664, 2.5398489798346384, 2.4160882391132663, 2.305994328655604, 2.207421873943513, 2.118652204782899, 2.0382922937532904], [16.57161537488067, 11.37693645552055, 8.709398632065353, 7.085679956918713, 5.993360120910973, 5.20825523878041, 4.616737861832723, 4.1550657627516046, 3.784713419532684, 3.48102449809317, 3.2274860407445845, 3.0126229412966303, 2.8282128795657098, 2.668210031887411, 2.528069606679521, 2.4043092311712533, 2.2942156455964167, 2.1956434817677835, 2.106874074562989, 2.026514400672336], [16.561053124550263, 11.36638793985581, 8.698857169337032, 7.075142787282127, 5.9828258393542795, 5.1977230330311395, 4.606207220047953, 4.14453634162205, 3.774184977610063, 3.4704968591202343, 3.216959072124136, 3.002096540771512, 2.8176869666184725, 2.657684541985688, 2.517544487307318, 2.3937844390199263, 2.2836911445311454, 2.1851192413260696, 2.096350068826472, 2.0159906074057847], [16.55103518681619, 11.35634748897818, 8.68880515765596, 7.06508373859026, 5.972762056673333, 5.1876558477955435, 4.596137471243784, 4.134464591983875, 3.7641116229072438, 3.4604221882644057, 3.2068833024616694, 2.9920198399169777, 2.807609466551849, 2.647606348485046, 2.5074656864541227, 2.3837051018034368, 2.2736113301816596, 2.175038999776117, 2.0862694425600754, 2.0059096328697628], [16.541745114999998, 11.347070271249999, 8.679534540675677, 7.055817139456522, 5.963498160454546, 5.178393894296874, 4.5868769814383565, 4.125205244573172, 3.7548531919230763, 3.4511645087499994, 3.1976262503211013, 2.9827633194491536, 2.7983534024015757, 2.6383506802573526, 2.4982103650000003, 2.374450086590909, 2.2643565873926397, 2.1657845009011645, 2.0770151633425415, 1.9966555524999992]]}],                        {\"autosize\": false, \"height\": 800, \"template\": {\"data\": {\"bar\": [{\"error_x\": {\"color\": \"#2a3f5f\"}, \"error_y\": {\"color\": \"#2a3f5f\"}, \"marker\": {\"line\": {\"color\": \"#E5ECF6\", \"width\": 0.5}}, \"type\": \"bar\"}], \"barpolar\": [{\"marker\": {\"line\": {\"color\": \"#E5ECF6\", \"width\": 0.5}}, \"type\": \"barpolar\"}], \"carpet\": [{\"aaxis\": {\"endlinecolor\": \"#2a3f5f\", \"gridcolor\": \"white\", \"linecolor\": \"white\", \"minorgridcolor\": \"white\", \"startlinecolor\": \"#2a3f5f\"}, \"baxis\": {\"endlinecolor\": \"#2a3f5f\", \"gridcolor\": \"white\", \"linecolor\": \"white\", \"minorgridcolor\": \"white\", \"startlinecolor\": \"#2a3f5f\"}, \"type\": \"carpet\"}], \"choropleth\": [{\"colorbar\": {\"outlinewidth\": 0, \"ticks\": \"\"}, \"type\": \"choropleth\"}], \"contour\": [{\"colorbar\": {\"outlinewidth\": 0, \"ticks\": \"\"}, \"colorscale\": [[0.0, \"#0d0887\"], [0.1111111111111111, \"#46039f\"], [0.2222222222222222, \"#7201a8\"], [0.3333333333333333, \"#9c179e\"], [0.4444444444444444, \"#bd3786\"], [0.5555555555555556, \"#d8576b\"], [0.6666666666666666, \"#ed7953\"], [0.7777777777777778, \"#fb9f3a\"], [0.8888888888888888, \"#fdca26\"], [1.0, \"#f0f921\"]], \"type\": \"contour\"}], \"contourcarpet\": [{\"colorbar\": {\"outlinewidth\": 0, \"ticks\": \"\"}, \"type\": \"contourcarpet\"}], \"heatmap\": [{\"colorbar\": {\"outlinewidth\": 0, \"ticks\": \"\"}, \"colorscale\": [[0.0, \"#0d0887\"], [0.1111111111111111, \"#46039f\"], [0.2222222222222222, \"#7201a8\"], [0.3333333333333333, \"#9c179e\"], [0.4444444444444444, \"#bd3786\"], [0.5555555555555556, \"#d8576b\"], [0.6666666666666666, \"#ed7953\"], [0.7777777777777778, \"#fb9f3a\"], [0.8888888888888888, \"#fdca26\"], [1.0, \"#f0f921\"]], \"type\": \"heatmap\"}], \"heatmapgl\": [{\"colorbar\": {\"outlinewidth\": 0, \"ticks\": \"\"}, \"colorscale\": [[0.0, \"#0d0887\"], [0.1111111111111111, \"#46039f\"], [0.2222222222222222, \"#7201a8\"], [0.3333333333333333, \"#9c179e\"], [0.4444444444444444, \"#bd3786\"], [0.5555555555555556, \"#d8576b\"], [0.6666666666666666, \"#ed7953\"], [0.7777777777777778, \"#fb9f3a\"], [0.8888888888888888, \"#fdca26\"], [1.0, \"#f0f921\"]], \"type\": \"heatmapgl\"}], \"histogram\": [{\"marker\": {\"colorbar\": {\"outlinewidth\": 0, \"ticks\": \"\"}}, \"type\": \"histogram\"}], \"histogram2d\": [{\"colorbar\": {\"outlinewidth\": 0, \"ticks\": \"\"}, \"colorscale\": [[0.0, \"#0d0887\"], [0.1111111111111111, \"#46039f\"], [0.2222222222222222, \"#7201a8\"], [0.3333333333333333, \"#9c179e\"], [0.4444444444444444, \"#bd3786\"], [0.5555555555555556, \"#d8576b\"], [0.6666666666666666, \"#ed7953\"], [0.7777777777777778, \"#fb9f3a\"], [0.8888888888888888, \"#fdca26\"], [1.0, \"#f0f921\"]], \"type\": \"histogram2d\"}], \"histogram2dcontour\": [{\"colorbar\": {\"outlinewidth\": 0, \"ticks\": \"\"}, \"colorscale\": [[0.0, \"#0d0887\"], [0.1111111111111111, \"#46039f\"], [0.2222222222222222, \"#7201a8\"], [0.3333333333333333, \"#9c179e\"], [0.4444444444444444, \"#bd3786\"], [0.5555555555555556, \"#d8576b\"], [0.6666666666666666, \"#ed7953\"], [0.7777777777777778, \"#fb9f3a\"], [0.8888888888888888, \"#fdca26\"], [1.0, \"#f0f921\"]], \"type\": \"histogram2dcontour\"}], \"mesh3d\": [{\"colorbar\": {\"outlinewidth\": 0, \"ticks\": \"\"}, \"type\": \"mesh3d\"}], \"parcoords\": [{\"line\": {\"colorbar\": {\"outlinewidth\": 0, \"ticks\": \"\"}}, \"type\": \"parcoords\"}], \"pie\": [{\"automargin\": true, \"type\": \"pie\"}], \"scatter\": [{\"marker\": {\"colorbar\": {\"outlinewidth\": 0, \"ticks\": \"\"}}, \"type\": \"scatter\"}], \"scatter3d\": [{\"line\": {\"colorbar\": {\"outlinewidth\": 0, \"ticks\": \"\"}}, \"marker\": {\"colorbar\": {\"outlinewidth\": 0, \"ticks\": \"\"}}, \"type\": \"scatter3d\"}], \"scattercarpet\": [{\"marker\": {\"colorbar\": {\"outlinewidth\": 0, \"ticks\": \"\"}}, \"type\": \"scattercarpet\"}], \"scattergeo\": [{\"marker\": {\"colorbar\": {\"outlinewidth\": 0, \"ticks\": \"\"}}, \"type\": \"scattergeo\"}], \"scattergl\": [{\"marker\": {\"colorbar\": {\"outlinewidth\": 0, \"ticks\": \"\"}}, \"type\": \"scattergl\"}], \"scattermapbox\": [{\"marker\": {\"colorbar\": {\"outlinewidth\": 0, \"ticks\": \"\"}}, \"type\": \"scattermapbox\"}], \"scatterpolar\": [{\"marker\": {\"colorbar\": {\"outlinewidth\": 0, \"ticks\": \"\"}}, \"type\": \"scatterpolar\"}], \"scatterpolargl\": [{\"marker\": {\"colorbar\": {\"outlinewidth\": 0, \"ticks\": \"\"}}, \"type\": \"scatterpolargl\"}], \"scatterternary\": [{\"marker\": {\"colorbar\": {\"outlinewidth\": 0, \"ticks\": \"\"}}, \"type\": \"scatterternary\"}], \"surface\": [{\"colorbar\": {\"outlinewidth\": 0, \"ticks\": \"\"}, \"colorscale\": [[0.0, \"#0d0887\"], [0.1111111111111111, \"#46039f\"], [0.2222222222222222, \"#7201a8\"], [0.3333333333333333, \"#9c179e\"], [0.4444444444444444, \"#bd3786\"], [0.5555555555555556, \"#d8576b\"], [0.6666666666666666, \"#ed7953\"], [0.7777777777777778, \"#fb9f3a\"], [0.8888888888888888, \"#fdca26\"], [1.0, \"#f0f921\"]], \"type\": \"surface\"}], \"table\": [{\"cells\": {\"fill\": {\"color\": \"#EBF0F8\"}, \"line\": {\"color\": \"white\"}}, \"header\": {\"fill\": {\"color\": \"#C8D4E3\"}, \"line\": {\"color\": \"white\"}}, \"type\": \"table\"}]}, \"layout\": {\"annotationdefaults\": {\"arrowcolor\": \"#2a3f5f\", \"arrowhead\": 0, \"arrowwidth\": 1}, \"autotypenumbers\": \"strict\", \"coloraxis\": {\"colorbar\": {\"outlinewidth\": 0, \"ticks\": \"\"}}, \"colorscale\": {\"diverging\": [[0, \"#8e0152\"], [0.1, \"#c51b7d\"], [0.2, \"#de77ae\"], [0.3, \"#f1b6da\"], [0.4, \"#fde0ef\"], [0.5, \"#f7f7f7\"], [0.6, \"#e6f5d0\"], [0.7, \"#b8e186\"], [0.8, \"#7fbc41\"], [0.9, \"#4d9221\"], [1, \"#276419\"]], \"sequential\": [[0.0, \"#0d0887\"], [0.1111111111111111, \"#46039f\"], [0.2222222222222222, \"#7201a8\"], [0.3333333333333333, \"#9c179e\"], [0.4444444444444444, \"#bd3786\"], [0.5555555555555556, \"#d8576b\"], [0.6666666666666666, \"#ed7953\"], [0.7777777777777778, \"#fb9f3a\"], [0.8888888888888888, \"#fdca26\"], [1.0, \"#f0f921\"]], \"sequentialminus\": [[0.0, \"#0d0887\"], [0.1111111111111111, \"#46039f\"], [0.2222222222222222, \"#7201a8\"], [0.3333333333333333, \"#9c179e\"], [0.4444444444444444, \"#bd3786\"], [0.5555555555555556, \"#d8576b\"], [0.6666666666666666, \"#ed7953\"], [0.7777777777777778, \"#fb9f3a\"], [0.8888888888888888, \"#fdca26\"], [1.0, \"#f0f921\"]]}, \"colorway\": [\"#636efa\", \"#EF553B\", \"#00cc96\", \"#ab63fa\", \"#FFA15A\", \"#19d3f3\", \"#FF6692\", \"#B6E880\", \"#FF97FF\", \"#FECB52\"], \"font\": {\"color\": \"#2a3f5f\"}, \"geo\": {\"bgcolor\": \"white\", \"lakecolor\": \"white\", \"landcolor\": \"#E5ECF6\", \"showlakes\": true, \"showland\": true, \"subunitcolor\": \"white\"}, \"hoverlabel\": {\"align\": \"left\"}, \"hovermode\": \"closest\", \"mapbox\": {\"style\": \"light\"}, \"paper_bgcolor\": \"white\", \"plot_bgcolor\": \"#E5ECF6\", \"polar\": {\"angularaxis\": {\"gridcolor\": \"white\", \"linecolor\": \"white\", \"ticks\": \"\"}, \"bgcolor\": \"#E5ECF6\", \"radialaxis\": {\"gridcolor\": \"white\", \"linecolor\": \"white\", \"ticks\": \"\"}}, \"scene\": {\"xaxis\": {\"backgroundcolor\": \"#E5ECF6\", \"gridcolor\": \"white\", \"gridwidth\": 2, \"linecolor\": \"white\", \"showbackground\": true, \"ticks\": \"\", \"zerolinecolor\": \"white\"}, \"yaxis\": {\"backgroundcolor\": \"#E5ECF6\", \"gridcolor\": \"white\", \"gridwidth\": 2, \"linecolor\": \"white\", \"showbackground\": true, \"ticks\": \"\", \"zerolinecolor\": \"white\"}, \"zaxis\": {\"backgroundcolor\": \"#E5ECF6\", \"gridcolor\": \"white\", \"gridwidth\": 2, \"linecolor\": \"white\", \"showbackground\": true, \"ticks\": \"\", \"zerolinecolor\": \"white\"}}, \"shapedefaults\": {\"line\": {\"color\": \"#2a3f5f\"}}, \"ternary\": {\"aaxis\": {\"gridcolor\": \"white\", \"linecolor\": \"white\", \"ticks\": \"\"}, \"baxis\": {\"gridcolor\": \"white\", \"linecolor\": \"white\", \"ticks\": \"\"}, \"bgcolor\": \"#E5ECF6\", \"caxis\": {\"gridcolor\": \"white\", \"linecolor\": \"white\", \"ticks\": \"\"}}, \"title\": {\"x\": 0.05}, \"xaxis\": {\"automargin\": true, \"gridcolor\": \"white\", \"linecolor\": \"white\", \"ticks\": \"\", \"title\": {\"standoff\": 15}, \"zerolinecolor\": \"white\", \"zerolinewidth\": 2}, \"yaxis\": {\"automargin\": true, \"gridcolor\": \"white\", \"linecolor\": \"white\", \"ticks\": \"\", \"title\": {\"standoff\": 15}, \"zerolinecolor\": \"white\", \"zerolinewidth\": 2}}}, \"title\": {\"text\": \"Contour Plot of Revenue-Net Yield Spread over ETH Price vs. ETH Staked\"}, \"width\": 1000, \"xaxis\": {\"title\": {\"text\": \"ETH Price ($/ETH)\"}}, \"yaxis\": {\"title\": {\"text\": \"ETH Staked (ETH)\"}}},                        {\"responsive\": true}                    ).then(function(){\n",
       "                            \n",
       "var gd = document.getElementById('0e2a6b53-aa09-490b-b728-93b878ef38ac');\n",
       "var x = new MutationObserver(function (mutations, observer) {{\n",
       "        var display = window.getComputedStyle(gd).display;\n",
       "        if (!display || display === 'none') {{\n",
       "            console.log([gd, 'removed!']);\n",
       "            Plotly.purge(gd);\n",
       "            observer.disconnect();\n",
       "        }}\n",
       "}});\n",
       "\n",
       "// Listen for the removal of the full notebook cells\n",
       "var notebookContainer = gd.closest('#notebook-container');\n",
       "if (notebookContainer) {{\n",
       "    x.observe(notebookContainer, {childList: true});\n",
       "}}\n",
       "\n",
       "// Listen for the clearing of the current output cell\n",
       "var outputEl = gd.closest('.output');\n",
       "if (outputEl) {{\n",
       "    x.observe(outputEl, {childList: true});\n",
       "}}\n",
       "\n",
       "                        })                };                });            </script>        </div>"
      ]
     },
     "metadata": {},
     "output_type": "display_data"
    },
    {
     "name": "stdout",
     "output_type": "stream",
     "text": [
      "time: 123 ms (started: 2021-05-28 10:05:23 +02:00)\n"
     ]
    }
   ],
   "source": [
    "visualizations.plot_revenue_net_yield_spread(df)"
   ]
  },
  {
   "cell_type": "code",
   "execution_count": null,
   "id": "bf7d817f-974d-4ee9-b8d8-5b5bd9454e8e",
   "metadata": {},
   "outputs": [],
   "source": []
  }
 ],
 "metadata": {
  "kernelspec": {
   "display_name": "Python (Eth2)",
   "language": "python",
   "name": "python-eth2"
  },
  "language_info": {
   "codemirror_mode": {
    "name": "ipython",
    "version": 3
   },
   "file_extension": ".py",
   "mimetype": "text/x-python",
   "name": "python",
   "nbconvert_exporter": "python",
   "pygments_lexer": "ipython3",
   "version": "3.8.10"
  }
 },
 "nbformat": 4,
 "nbformat_minor": 5
}
