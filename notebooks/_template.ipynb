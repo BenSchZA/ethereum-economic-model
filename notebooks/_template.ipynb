{
 "cells": [
  {
   "cell_type": "markdown",
   "metadata": {},
   "source": [
    "<span style=\"display:block;text-align:center;margin-right:105px\"><img src=\"../media/eth-masterclass-horizontal.png\" width=\"200\"/></span>"
   ]
  },
  {
   "cell_type": "markdown",
   "metadata": {},
   "source": [
    "# Experiment Notebook: {Descriptive Experiment Keywords}"
   ]
  },
  {
   "cell_type": "markdown",
   "metadata": {},
   "source": [
    "## Table of Contents\n",
    "\n",
    "* [Overview](#Overview)\n",
    "    * Research Question\n",
    "    * Experiment Purpose\n",
    "    * Scenario Analyses\n",
    "    * Assumptions\n",
    "* [Dependencies](#Dependencies)\n",
    "* [Setup / Preparatory Steps](#Setup-/-Preparatory-Steps)\n",
    "* [Scenario Analysis](#Scenario-Analysis)\n",
    "    * [1. ...?](#)\n",
    "        * Configuration\n",
    "        * Execution\n",
    "        * Output Preparation\n",
    "        * Analysis\n",
    "        * Conclusions\n",
    "    * [2. ...?](#)"
   ]
  },
  {
   "cell_type": "markdown",
   "metadata": {},
   "source": [
    "---"
   ]
  },
  {
   "cell_type": "markdown",
   "metadata": {},
   "source": [
    "# Overview\n",
    "\n",
    "## Research Question\n",
    "\n",
    "See [README.ipynb](README.ipynb) for descriptions of the following sections.\n",
    "\n",
    "## Experiment Purpose\n",
    "\n",
    "...\n",
    "\n",
    "## Scenarios Analyses\n",
    "\n",
    "1. ...\n",
    "\n",
    "These analyses will be described in further detail in their corresponding section.\n",
    "\n",
    "Finally, we will draw conclusions in each scenario analysis section.\n",
    "\n",
    "## Assumptions\n",
    "\n",
    "Our model adopts the base assumptions from the Hoban/Borgers \"Ethereum 2.0 Economic Model\". Due to the Altair updates since their model was released, and the state-space representation of our model, some of these assumptions were updated or adapted where necessary.\n",
    "\n",
    "See [assumptions document](../ASSUMPTIONS.md) for further details."
   ]
  },
  {
   "cell_type": "markdown",
   "metadata": {},
   "source": [
    "# Dependencies"
   ]
  },
  {
   "cell_type": "code",
   "execution_count": 1,
   "metadata": {},
   "outputs": [
    {
     "name": "stdout",
     "output_type": "stream",
     "text": [
      "time: 1.12 s (started: 2021-06-01 17:29:55 +02:00)\n"
     ]
    }
   ],
   "source": [
    "# Project dependencies\n",
    "import setup\n",
    "import visualizations as visualizations\n",
    "\n",
    "from experiments.base import experiment\n",
    "from experiments.run import run"
   ]
  },
  {
   "cell_type": "code",
   "execution_count": 1,
   "metadata": {},
   "outputs": [
    {
     "name": "stdout",
     "output_type": "stream",
     "text": [
      "time: 1.07 s (started: 2021-06-01 13:44:53 +02:00)\n"
     ]
    }
   ],
   "source": [
    "# Additional dependencies\n",
    "import copy\n",
    "import logging\n",
    "import numpy as np"
   ]
  },
  {
   "cell_type": "markdown",
   "metadata": {},
   "source": [
    "# Setup / Preparatory Steps"
   ]
  },
  {
   "cell_type": "code",
   "execution_count": 2,
   "metadata": {},
   "outputs": [
    {
     "name": "stdout",
     "output_type": "stream",
     "text": [
      "time: 21.6 ms (started: 2021-06-01 13:44:54 +02:00)\n"
     ]
    }
   ],
   "source": [
    "logger = logging.getLogger()\n",
    "logger.disabled = True"
   ]
  },
  {
   "cell_type": "code",
   "execution_count": 1,
   "metadata": {},
   "outputs": [
    {
     "name": "stdout",
     "output_type": "stream",
     "text": [
      "time: 13.2 ms (started: 2021-05-20 11:28:23 +02:00)\n"
     ]
    }
   ],
   "source": [
    "# Base experiment adjustments\n"
   ]
  },
  {
   "cell_type": "markdown",
   "metadata": {},
   "source": [
    "# Scenario Analysis"
   ]
  },
  {
   "cell_type": "markdown",
   "metadata": {},
   "source": [
    "## 1. {First scenario analysis / what-if question}"
   ]
  },
  {
   "cell_type": "markdown",
   "metadata": {},
   "source": [
    "### Configuration"
   ]
  },
  {
   "cell_type": "code",
   "execution_count": null,
   "metadata": {},
   "outputs": [],
   "source": [
    "# Base experiment adjustments\n"
   ]
  },
  {
   "cell_type": "markdown",
   "metadata": {},
   "source": [
    "### Execution"
   ]
  },
  {
   "cell_type": "code",
   "execution_count": 6,
   "metadata": {},
   "outputs": [
    {
     "name": "stdout",
     "output_type": "stream",
     "text": [
      "time: 634 ms (started: 2021-06-01 13:44:54 +02:00)\n"
     ]
    }
   ],
   "source": [
    "df, exceptions = run(experiment)"
   ]
  },
  {
   "cell_type": "markdown",
   "metadata": {},
   "source": [
    "### Output Preparation"
   ]
  },
  {
   "cell_type": "code",
   "execution_count": 7,
   "metadata": {},
   "outputs": [
    {
     "data": {
      "text/html": [
       "<div>\n",
       "<style scoped>\n",
       "    .dataframe tbody tr th:only-of-type {\n",
       "        vertical-align: middle;\n",
       "    }\n",
       "\n",
       "    .dataframe tbody tr th {\n",
       "        vertical-align: top;\n",
       "    }\n",
       "\n",
       "    .dataframe thead th {\n",
       "        text-align: right;\n",
       "    }\n",
       "</style>\n",
       "<table border=\"1\" class=\"dataframe\">\n",
       "  <thead>\n",
       "    <tr style=\"text-align: right;\">\n",
       "      <th></th>\n",
       "      <th>phase</th>\n",
       "      <th>timestamp</th>\n",
       "      <th>eth_price</th>\n",
       "      <th>eth_supply</th>\n",
       "      <th>eth_staked</th>\n",
       "      <th>supply_inflation</th>\n",
       "      <th>network_issuance</th>\n",
       "      <th>pow_issuance</th>\n",
       "      <th>number_of_validators_in_activation_queue</th>\n",
       "      <th>average_effective_balance</th>\n",
       "      <th>...</th>\n",
       "      <th>total_revenue_yields_pct</th>\n",
       "      <th>total_profit_yields_pct</th>\n",
       "      <th>revenue_net_yield_spread_pct</th>\n",
       "      <th>total_online_validator_rewards_eth</th>\n",
       "      <th>total_tips_to_validators_eth</th>\n",
       "      <th>source_reward_eth</th>\n",
       "      <th>target_reward_eth</th>\n",
       "      <th>head_reward_eth</th>\n",
       "      <th>block_proposer_reward_eth</th>\n",
       "      <th>sync_reward_eth</th>\n",
       "    </tr>\n",
       "  </thead>\n",
       "  <tbody>\n",
       "    <tr>\n",
       "      <th>1</th>\n",
       "      <td>2.0</td>\n",
       "      <td>2021-06-01 13:44:54.174642</td>\n",
       "      <td>25.000000</td>\n",
       "      <td>1.169904e+08</td>\n",
       "      <td>524288</td>\n",
       "      <td>0.045206</td>\n",
       "      <td>4.990423e+06</td>\n",
       "      <td>60.222222</td>\n",
       "      <td>230</td>\n",
       "      <td>3.200000e+10</td>\n",
       "      <td>...</td>\n",
       "      <td>21.980864</td>\n",
       "      <td>14.341165</td>\n",
       "      <td>7.639699</td>\n",
       "      <td>112463.650658</td>\n",
       "      <td>0.0</td>\n",
       "      <td>21373.362969</td>\n",
       "      <td>42746.725939</td>\n",
       "      <td>21373.362969</td>\n",
       "      <td>14498.409075</td>\n",
       "      <td>14248.908646</td>\n",
       "    </tr>\n",
       "    <tr>\n",
       "      <th>3</th>\n",
       "      <td>2.0</td>\n",
       "      <td>2021-06-01 13:44:54.174642</td>\n",
       "      <td>25.000000</td>\n",
       "      <td>1.177779e+08</td>\n",
       "      <td>33600000</td>\n",
       "      <td>0.052340</td>\n",
       "      <td>5.777936e+06</td>\n",
       "      <td>60.222222</td>\n",
       "      <td>230</td>\n",
       "      <td>3.200000e+10</td>\n",
       "      <td>...</td>\n",
       "      <td>2.744698</td>\n",
       "      <td>-3.866532</td>\n",
       "      <td>6.611230</td>\n",
       "      <td>899976.946500</td>\n",
       "      <td>0.0</td>\n",
       "      <td>171042.149880</td>\n",
       "      <td>342084.299760</td>\n",
       "      <td>171042.149880</td>\n",
       "      <td>116022.760560</td>\n",
       "      <td>114028.099920</td>\n",
       "    </tr>\n",
       "    <tr>\n",
       "      <th>5</th>\n",
       "      <td>2.0</td>\n",
       "      <td>2021-06-01 13:44:54.174642</td>\n",
       "      <td>55.102041</td>\n",
       "      <td>1.169904e+08</td>\n",
       "      <td>524288</td>\n",
       "      <td>0.045206</td>\n",
       "      <td>4.990423e+06</td>\n",
       "      <td>60.222222</td>\n",
       "      <td>230</td>\n",
       "      <td>3.200000e+10</td>\n",
       "      <td>...</td>\n",
       "      <td>21.980864</td>\n",
       "      <td>17.872689</td>\n",
       "      <td>4.108175</td>\n",
       "      <td>112463.650658</td>\n",
       "      <td>0.0</td>\n",
       "      <td>21373.362969</td>\n",
       "      <td>42746.725939</td>\n",
       "      <td>21373.362969</td>\n",
       "      <td>14498.409075</td>\n",
       "      <td>14248.908646</td>\n",
       "    </tr>\n",
       "    <tr>\n",
       "      <th>7</th>\n",
       "      <td>2.0</td>\n",
       "      <td>2021-06-01 13:44:54.174642</td>\n",
       "      <td>55.102041</td>\n",
       "      <td>1.177779e+08</td>\n",
       "      <td>33600000</td>\n",
       "      <td>0.052340</td>\n",
       "      <td>5.777936e+06</td>\n",
       "      <td>60.222222</td>\n",
       "      <td>230</td>\n",
       "      <td>3.200000e+10</td>\n",
       "      <td>...</td>\n",
       "      <td>2.744698</td>\n",
       "      <td>-0.335008</td>\n",
       "      <td>3.079707</td>\n",
       "      <td>899976.946500</td>\n",
       "      <td>0.0</td>\n",
       "      <td>171042.149880</td>\n",
       "      <td>342084.299760</td>\n",
       "      <td>171042.149880</td>\n",
       "      <td>116022.760560</td>\n",
       "      <td>114028.099920</td>\n",
       "    </tr>\n",
       "    <tr>\n",
       "      <th>9</th>\n",
       "      <td>2.0</td>\n",
       "      <td>2021-06-01 13:44:54.174642</td>\n",
       "      <td>85.204082</td>\n",
       "      <td>1.169904e+08</td>\n",
       "      <td>524288</td>\n",
       "      <td>0.045206</td>\n",
       "      <td>4.990423e+06</td>\n",
       "      <td>60.222222</td>\n",
       "      <td>230</td>\n",
       "      <td>3.200000e+10</td>\n",
       "      <td>...</td>\n",
       "      <td>21.980864</td>\n",
       "      <td>18.908884</td>\n",
       "      <td>3.071979</td>\n",
       "      <td>112463.650658</td>\n",
       "      <td>0.0</td>\n",
       "      <td>21373.362969</td>\n",
       "      <td>42746.725939</td>\n",
       "      <td>21373.362969</td>\n",
       "      <td>14498.409075</td>\n",
       "      <td>14248.908646</td>\n",
       "    </tr>\n",
       "    <tr>\n",
       "      <th>...</th>\n",
       "      <td>...</td>\n",
       "      <td>...</td>\n",
       "      <td>...</td>\n",
       "      <td>...</td>\n",
       "      <td>...</td>\n",
       "      <td>...</td>\n",
       "      <td>...</td>\n",
       "      <td>...</td>\n",
       "      <td>...</td>\n",
       "      <td>...</td>\n",
       "      <td>...</td>\n",
       "      <td>...</td>\n",
       "      <td>...</td>\n",
       "      <td>...</td>\n",
       "      <td>...</td>\n",
       "      <td>...</td>\n",
       "      <td>...</td>\n",
       "      <td>...</td>\n",
       "      <td>...</td>\n",
       "      <td>...</td>\n",
       "      <td>...</td>\n",
       "    </tr>\n",
       "    <tr>\n",
       "      <th>191</th>\n",
       "      <td>2.0</td>\n",
       "      <td>2021-06-01 13:44:54.174642</td>\n",
       "      <td>1439.795918</td>\n",
       "      <td>1.177779e+08</td>\n",
       "      <td>33600000</td>\n",
       "      <td>0.052340</td>\n",
       "      <td>5.777936e+06</td>\n",
       "      <td>60.222222</td>\n",
       "      <td>230</td>\n",
       "      <td>3.200000e+10</td>\n",
       "      <td>...</td>\n",
       "      <td>2.744698</td>\n",
       "      <td>2.485705</td>\n",
       "      <td>0.258993</td>\n",
       "      <td>899976.946500</td>\n",
       "      <td>0.0</td>\n",
       "      <td>171042.149880</td>\n",
       "      <td>342084.299760</td>\n",
       "      <td>171042.149880</td>\n",
       "      <td>116022.760560</td>\n",
       "      <td>114028.099920</td>\n",
       "    </tr>\n",
       "    <tr>\n",
       "      <th>193</th>\n",
       "      <td>2.0</td>\n",
       "      <td>2021-06-01 13:44:54.174642</td>\n",
       "      <td>1469.897959</td>\n",
       "      <td>1.169904e+08</td>\n",
       "      <td>524288</td>\n",
       "      <td>0.045206</td>\n",
       "      <td>4.990423e+06</td>\n",
       "      <td>60.222222</td>\n",
       "      <td>230</td>\n",
       "      <td>3.200000e+10</td>\n",
       "      <td>...</td>\n",
       "      <td>21.980864</td>\n",
       "      <td>20.695701</td>\n",
       "      <td>1.285162</td>\n",
       "      <td>112463.650658</td>\n",
       "      <td>0.0</td>\n",
       "      <td>21373.362969</td>\n",
       "      <td>42746.725939</td>\n",
       "      <td>21373.362969</td>\n",
       "      <td>14498.409075</td>\n",
       "      <td>14248.908646</td>\n",
       "    </tr>\n",
       "    <tr>\n",
       "      <th>195</th>\n",
       "      <td>2.0</td>\n",
       "      <td>2021-06-01 13:44:54.174642</td>\n",
       "      <td>1469.897959</td>\n",
       "      <td>1.177779e+08</td>\n",
       "      <td>33600000</td>\n",
       "      <td>0.052340</td>\n",
       "      <td>5.777936e+06</td>\n",
       "      <td>60.222222</td>\n",
       "      <td>230</td>\n",
       "      <td>3.200000e+10</td>\n",
       "      <td>...</td>\n",
       "      <td>2.744698</td>\n",
       "      <td>2.488004</td>\n",
       "      <td>0.256694</td>\n",
       "      <td>899976.946500</td>\n",
       "      <td>0.0</td>\n",
       "      <td>171042.149880</td>\n",
       "      <td>342084.299760</td>\n",
       "      <td>171042.149880</td>\n",
       "      <td>116022.760560</td>\n",
       "      <td>114028.099920</td>\n",
       "    </tr>\n",
       "    <tr>\n",
       "      <th>197</th>\n",
       "      <td>2.0</td>\n",
       "      <td>2021-06-01 13:44:54.174642</td>\n",
       "      <td>1500.000000</td>\n",
       "      <td>1.169904e+08</td>\n",
       "      <td>524288</td>\n",
       "      <td>0.045206</td>\n",
       "      <td>4.990423e+06</td>\n",
       "      <td>60.222222</td>\n",
       "      <td>230</td>\n",
       "      <td>3.200000e+10</td>\n",
       "      <td>...</td>\n",
       "      <td>21.980864</td>\n",
       "      <td>20.697908</td>\n",
       "      <td>1.282956</td>\n",
       "      <td>112463.650658</td>\n",
       "      <td>0.0</td>\n",
       "      <td>21373.362969</td>\n",
       "      <td>42746.725939</td>\n",
       "      <td>21373.362969</td>\n",
       "      <td>14498.409075</td>\n",
       "      <td>14248.908646</td>\n",
       "    </tr>\n",
       "    <tr>\n",
       "      <th>199</th>\n",
       "      <td>2.0</td>\n",
       "      <td>2021-06-01 13:44:54.174642</td>\n",
       "      <td>1500.000000</td>\n",
       "      <td>1.177779e+08</td>\n",
       "      <td>33600000</td>\n",
       "      <td>0.052340</td>\n",
       "      <td>5.777936e+06</td>\n",
       "      <td>60.222222</td>\n",
       "      <td>230</td>\n",
       "      <td>3.200000e+10</td>\n",
       "      <td>...</td>\n",
       "      <td>2.744698</td>\n",
       "      <td>2.490211</td>\n",
       "      <td>0.254488</td>\n",
       "      <td>899976.946500</td>\n",
       "      <td>0.0</td>\n",
       "      <td>171042.149880</td>\n",
       "      <td>342084.299760</td>\n",
       "      <td>171042.149880</td>\n",
       "      <td>116022.760560</td>\n",
       "      <td>114028.099920</td>\n",
       "    </tr>\n",
       "  </tbody>\n",
       "</table>\n",
       "<p>100 rows × 147 columns</p>\n",
       "</div>"
      ],
      "text/plain": [
       "     phase                  timestamp    eth_price    eth_supply  eth_staked  \\\n",
       "1      2.0 2021-06-01 13:44:54.174642    25.000000  1.169904e+08      524288   \n",
       "3      2.0 2021-06-01 13:44:54.174642    25.000000  1.177779e+08    33600000   \n",
       "5      2.0 2021-06-01 13:44:54.174642    55.102041  1.169904e+08      524288   \n",
       "7      2.0 2021-06-01 13:44:54.174642    55.102041  1.177779e+08    33600000   \n",
       "9      2.0 2021-06-01 13:44:54.174642    85.204082  1.169904e+08      524288   \n",
       "..     ...                        ...          ...           ...         ...   \n",
       "191    2.0 2021-06-01 13:44:54.174642  1439.795918  1.177779e+08    33600000   \n",
       "193    2.0 2021-06-01 13:44:54.174642  1469.897959  1.169904e+08      524288   \n",
       "195    2.0 2021-06-01 13:44:54.174642  1469.897959  1.177779e+08    33600000   \n",
       "197    2.0 2021-06-01 13:44:54.174642  1500.000000  1.169904e+08      524288   \n",
       "199    2.0 2021-06-01 13:44:54.174642  1500.000000  1.177779e+08    33600000   \n",
       "\n",
       "     supply_inflation  network_issuance  pow_issuance  \\\n",
       "1            0.045206      4.990423e+06     60.222222   \n",
       "3            0.052340      5.777936e+06     60.222222   \n",
       "5            0.045206      4.990423e+06     60.222222   \n",
       "7            0.052340      5.777936e+06     60.222222   \n",
       "9            0.045206      4.990423e+06     60.222222   \n",
       "..                ...               ...           ...   \n",
       "191          0.052340      5.777936e+06     60.222222   \n",
       "193          0.045206      4.990423e+06     60.222222   \n",
       "195          0.052340      5.777936e+06     60.222222   \n",
       "197          0.045206      4.990423e+06     60.222222   \n",
       "199          0.052340      5.777936e+06     60.222222   \n",
       "\n",
       "     number_of_validators_in_activation_queue  average_effective_balance  ...  \\\n",
       "1                                         230               3.200000e+10  ...   \n",
       "3                                         230               3.200000e+10  ...   \n",
       "5                                         230               3.200000e+10  ...   \n",
       "7                                         230               3.200000e+10  ...   \n",
       "9                                         230               3.200000e+10  ...   \n",
       "..                                        ...                        ...  ...   \n",
       "191                                       230               3.200000e+10  ...   \n",
       "193                                       230               3.200000e+10  ...   \n",
       "195                                       230               3.200000e+10  ...   \n",
       "197                                       230               3.200000e+10  ...   \n",
       "199                                       230               3.200000e+10  ...   \n",
       "\n",
       "     total_revenue_yields_pct  total_profit_yields_pct  \\\n",
       "1                   21.980864                14.341165   \n",
       "3                    2.744698                -3.866532   \n",
       "5                   21.980864                17.872689   \n",
       "7                    2.744698                -0.335008   \n",
       "9                   21.980864                18.908884   \n",
       "..                        ...                      ...   \n",
       "191                  2.744698                 2.485705   \n",
       "193                 21.980864                20.695701   \n",
       "195                  2.744698                 2.488004   \n",
       "197                 21.980864                20.697908   \n",
       "199                  2.744698                 2.490211   \n",
       "\n",
       "     revenue_net_yield_spread_pct  total_online_validator_rewards_eth  \\\n",
       "1                        7.639699                       112463.650658   \n",
       "3                        6.611230                       899976.946500   \n",
       "5                        4.108175                       112463.650658   \n",
       "7                        3.079707                       899976.946500   \n",
       "9                        3.071979                       112463.650658   \n",
       "..                            ...                                 ...   \n",
       "191                      0.258993                       899976.946500   \n",
       "193                      1.285162                       112463.650658   \n",
       "195                      0.256694                       899976.946500   \n",
       "197                      1.282956                       112463.650658   \n",
       "199                      0.254488                       899976.946500   \n",
       "\n",
       "     total_tips_to_validators_eth  source_reward_eth  target_reward_eth  \\\n",
       "1                             0.0       21373.362969       42746.725939   \n",
       "3                             0.0      171042.149880      342084.299760   \n",
       "5                             0.0       21373.362969       42746.725939   \n",
       "7                             0.0      171042.149880      342084.299760   \n",
       "9                             0.0       21373.362969       42746.725939   \n",
       "..                            ...                ...                ...   \n",
       "191                           0.0      171042.149880      342084.299760   \n",
       "193                           0.0       21373.362969       42746.725939   \n",
       "195                           0.0      171042.149880      342084.299760   \n",
       "197                           0.0       21373.362969       42746.725939   \n",
       "199                           0.0      171042.149880      342084.299760   \n",
       "\n",
       "     head_reward_eth  block_proposer_reward_eth  sync_reward_eth  \n",
       "1       21373.362969               14498.409075     14248.908646  \n",
       "3      171042.149880              116022.760560    114028.099920  \n",
       "5       21373.362969               14498.409075     14248.908646  \n",
       "7      171042.149880              116022.760560    114028.099920  \n",
       "9       21373.362969               14498.409075     14248.908646  \n",
       "..               ...                        ...              ...  \n",
       "191    171042.149880              116022.760560    114028.099920  \n",
       "193     21373.362969               14498.409075     14248.908646  \n",
       "195    171042.149880              116022.760560    114028.099920  \n",
       "197     21373.362969               14498.409075     14248.908646  \n",
       "199    171042.149880              116022.760560    114028.099920  \n",
       "\n",
       "[100 rows x 147 columns]"
      ]
     },
     "execution_count": 7,
     "metadata": {},
     "output_type": "execute_result"
    },
    {
     "name": "stdout",
     "output_type": "stream",
     "text": [
      "time: 62.8 ms (started: 2021-06-01 13:44:55 +02:00)\n"
     ]
    }
   ],
   "source": [
    "df"
   ]
  },
  {
   "cell_type": "markdown",
   "metadata": {},
   "source": [
    "### Analysis"
   ]
  },
  {
   "cell_type": "code",
   "execution_count": null,
   "metadata": {},
   "outputs": [],
   "source": []
  },
  {
   "cell_type": "markdown",
   "metadata": {},
   "source": [
    "### Conclusions"
   ]
  },
  {
   "cell_type": "markdown",
   "metadata": {},
   "source": [
    "We conclude XYZ based on ABC..."
   ]
  }
 ],
 "metadata": {
  "jupytext": {
   "formats": "ipynb,py"
  },
  "kernelspec": {
   "display_name": "Python (Eth2)",
   "language": "python",
   "name": "python-eth2"
  },
  "language_info": {
   "codemirror_mode": {
    "name": "ipython",
    "version": 3
   },
   "file_extension": ".py",
   "mimetype": "text/x-python",
   "name": "python",
   "nbconvert_exporter": "python",
   "pygments_lexer": "ipython3",
   "version": "3.8.10"
  }
 },
 "nbformat": 4,
 "nbformat_minor": 4
}
