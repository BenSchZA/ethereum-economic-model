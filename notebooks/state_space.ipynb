{
 "cells": [
  {
   "cell_type": "markdown",
   "id": "c2a43b05",
   "metadata": {},
   "source": [
    "# Eth2 Validator Economics Model: State Space Experiment Analysis"
   ]
  },
  {
   "cell_type": "markdown",
   "id": "10bfe4dd",
   "metadata": {},
   "source": [
    "## Setup"
   ]
  },
  {
   "cell_type": "markdown",
   "id": "52e6d8fa",
   "metadata": {},
   "source": [
    "Import the setup module, which runs shared notebook configuration methods, such as loading IPython modules:"
   ]
  },
  {
   "cell_type": "code",
   "execution_count": null,
   "id": "f1c0c29a",
   "metadata": {},
   "outputs": [],
   "source": [
    "import setup"
   ]
  },
  {
   "cell_type": "markdown",
   "id": "2776b59f",
   "metadata": {},
   "source": [
    "## Dependencies"
   ]
  },
  {
   "cell_type": "markdown",
   "id": "042e06d1",
   "metadata": {},
   "source": [
    "Import notebook specific depependencies:"
   ]
  },
  {
   "cell_type": "code",
   "execution_count": null,
   "id": "2e32ee6f",
   "metadata": {},
   "outputs": [],
   "source": [
    "import pandas as pd\n",
    "import numpy as np\n",
    "import plotly.graph_objects as go\n",
    "from plotly.subplots import make_subplots\n",
    "import plotly.express as px\n",
    "\n",
    "pd.options.plotting.backend = \"plotly\""
   ]
  },
  {
   "cell_type": "code",
   "execution_count": null,
   "id": "7cd74d2c",
   "metadata": {},
   "outputs": [],
   "source": [
    "from experiments.run import run\n",
    "from experiments.post_processing import post_process\n",
    "import visualizations as visualizations"
   ]
  },
  {
   "cell_type": "markdown",
   "id": "a20d8220",
   "metadata": {},
   "source": [
    "## Experiment"
   ]
  },
  {
   "cell_type": "markdown",
   "id": "37833fe7",
   "metadata": {},
   "source": [
    "Import the experiment to be run and analysed in this notebook:\n",
    "\n",
    "from experiments.state_space.experiment import experiment"
   ]
  },
  {
   "cell_type": "markdown",
   "id": "2eecac6d",
   "metadata": {},
   "source": [
    "Run the experiment, and get the raw results:"
   ]
  },
  {
   "cell_type": "code",
   "execution_count": null,
   "id": "f45bef98",
   "metadata": {},
   "outputs": [],
   "source": [
    "results, _exceptions = run(experiment)"
   ]
  },
  {
   "cell_type": "markdown",
   "id": "d7b4d41d",
   "metadata": {},
   "source": [
    "Convert the raw results to a Pandas DataFrame, and post-process the results:"
   ]
  },
  {
   "cell_type": "code",
   "execution_count": null,
   "id": "fbf50969",
   "metadata": {},
   "outputs": [],
   "source": [
    "df = pd.DataFrame(results)\n",
    "df = post_process(df)\n",
    "df"
   ]
  },
  {
   "cell_type": "markdown",
   "id": "f6437882",
   "metadata": {},
   "source": [
    "## Analysis"
   ]
  },
  {
   "cell_type": "markdown",
   "id": "90e63ff3",
   "metadata": {},
   "source": [
    "Analyze and visualize the results:\n",
    "\n",
    "df.plot(x='timestamp', y='eth_price')\n",
    "\n",
    "+\n",
    "from model.parameters import parameters\n",
    "\n",
    "df.reset_index(inplace=True)\n",
    "df = df.set_index('timestamp')\n",
    "\n",
    "date_start = parameters[\"date_start\"][0]\n",
    "date_eip1559 = parameters[\"date_eip1559\"][0]\n",
    "date_merge = parameters[\"date_merge\"][0]\n",
    "date_end = df.index[0]\n",
    "\n",
    "fig = df.plot(y='eth_supply', title='ETH Supply', width=1000, height=600)\n",
    "\n",
    "fig.add_shape(\n",
    "    type=\"rect\",\n",
    "    xref=\"x\",\n",
    "    yref=\"paper\",\n",
    "    x0=date_start,\n",
    "    y0=0,\n",
    "    x1=date_eip1559,\n",
    "    y1=1,\n",
    "    line=dict(color=\"rgba(0,0,0,0)\",width=3,),\n",
    "    fillcolor=\"rgba(0,0,0,0.3)\",\n",
    "    layer='below'\n",
    ")\n",
    "\n",
    "fig.add_shape(\n",
    "    type=\"rect\",\n",
    "    xref=\"x\",\n",
    "    yref=\"paper\",\n",
    "    x0=date_eip1559,\n",
    "    y0=0,\n",
    "    x1=date_merge,\n",
    "    y1=1,\n",
    "    line=dict(color=\"rgba(0,0,0,0)\",width=3,),\n",
    "    fillcolor=\"rgba(0,0,0,0.2)\",\n",
    "    layer='below'\n",
    ")\n",
    "\n",
    "fig.add_shape(\n",
    "    type=\"rect\",\n",
    "    xref=\"x\",\n",
    "    yref=\"paper\",\n",
    "    x0=date_merge,\n",
    "    y0=0,\n",
    "    x1=date_end,\n",
    "    y1=1,\n",
    "    line=dict(color=\"rgba(0,0,0,0)\",width=3,),\n",
    "    fillcolor=\"rgba(0,0,0,0.1)\",\n",
    "    layer='below'\n",
    ")\n",
    "\n",
    "fig.add_annotation(\n",
    "    x=date_eip1559, y=df.loc[date_eip1559.strftime(\"%Y-%m-%d\")]['eth_supply'][0],\n",
    "    text=\"EIP1559 Enabled\",\n",
    "    showarrow=True,\n",
    "    arrowhead=1\n",
    ")\n",
    "\n",
    "fig.add_annotation(\n",
    "    x=date_merge, y=df.loc[date_merge.strftime(\"%Y-%m-%d\")]['eth_supply'][0],\n",
    "    text=\"The Merge\",\n",
    "    showarrow=True,\n",
    "    arrowhead=1,\n",
    ")\n",
    "\n",
    "df.reset_index(inplace=True)\n",
    "\n",
    "fig.show()\n",
    "-\n",
    "\n",
    "df.plot(x='timestamp', y='supply_inflation_pct')\n",
    "\n",
    "df.plot(x='timestamp', y='total_online_validator_rewards_eth')\n",
    "\n",
    "df.plot(x='timestamp', y='eth_staked')"
   ]
  },
  {
   "cell_type": "code",
   "execution_count": null,
   "id": "5eddc6a6",
   "metadata": {},
   "outputs": [],
   "source": [
    "visualizations.plot_validator_rewards(df)\n",
    "\n",
    "# +\n",
    "validator_rewards = df.iloc[-1][['source_reward_eth', 'target_reward_eth', 'head_reward_eth', 'block_proposer_reward_eth', 'sync_reward_eth']].to_dict()\n",
    "\n",
    "px.pie(df, values=validator_rewards.values(), names=validator_rewards.keys(), title=\"Validator Rewards\")\n",
    "\n",
    "# +\n",
    "validator_rewards = df.iloc[-1][['total_tips_to_validators_eth', 'source_reward_eth', 'target_reward_eth', 'head_reward_eth', 'block_proposer_reward_eth', 'sync_reward_eth']].to_dict()\n",
    "\n",
    "px.pie(df, values=validator_rewards.values(), names=validator_rewards.keys(), title=\"Validator Rewards with tips\")\n",
    "# -\n",
    "\n",
    "df.plot(x='timestamp', y=['total_revenue', 'total_network_costs'])"
   ]
  },
  {
   "cell_type": "code",
   "execution_count": null,
   "id": "405d6a09",
   "metadata": {},
   "outputs": [],
   "source": [
    "df.plot(x='timestamp', y=['total_revenue', 'total_profit'])"
   ]
  },
  {
   "cell_type": "code",
   "execution_count": null,
   "id": "e2920615",
   "metadata": {},
   "outputs": [],
   "source": [
    "df.plot(x='timestamp', y=['total_revenue_yields_pct', 'total_profit_yields_pct'], title='Annualized Revenue and Profit Yields')"
   ]
  },
  {
   "cell_type": "code",
   "execution_count": null,
   "id": "466c5e05",
   "metadata": {},
   "outputs": [],
   "source": [
    "from model.parameters import validator_types\n",
    "\n",
    "hardware_costs = [validator.type + '_hardware_costs' for validator in validator_types]\n",
    "cloud_costs = [validator.type + '_cloud_costs' for validator in validator_types]\n",
    "third_party_costs = [validator.type + '_third_party_costs' for validator in validator_types]"
   ]
  },
  {
   "cell_type": "code",
   "execution_count": null,
   "id": "3f30de4f",
   "metadata": {},
   "outputs": [],
   "source": [
    "df.plot(x='timestamp', y=hardware_costs)"
   ]
  },
  {
   "cell_type": "code",
   "execution_count": null,
   "id": "eb31f81c",
   "metadata": {},
   "outputs": [],
   "source": [
    "df.plot(x='timestamp', y=cloud_costs)"
   ]
  },
  {
   "cell_type": "code",
   "execution_count": null,
   "id": "dd55bc4b",
   "metadata": {},
   "outputs": [],
   "source": [
    "df.plot(x='timestamp', y=third_party_costs)"
   ]
  },
  {
   "cell_type": "code",
   "execution_count": null,
   "id": "6bfb1f20",
   "metadata": {},
   "outputs": [],
   "source": []
  }
 ],
 "metadata": {
  "jupytext": {
   "formats": "ipynb,py:percent"
  },
  "kernelspec": {
   "display_name": "Python (Eth2)",
   "language": "python",
   "name": "python-eth2"
  }
 },
 "nbformat": 4,
 "nbformat_minor": 5
}
