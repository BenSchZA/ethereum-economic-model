{
 "cells": [
  {
   "cell_type": "markdown",
   "id": "9b2fd62c-56a8-44b6-9c68-b2cdb9e6e984",
   "metadata": {},
   "source": [
    "# Justin Drake APR"
   ]
  },
  {
   "cell_type": "code",
   "execution_count": 1,
   "id": "157749fd-e2a4-41ca-bce3-5699c0c1cdf8",
   "metadata": {},
   "outputs": [
    {
     "ename": "ModuleNotFoundError",
     "evalue": "No module named 'setup'",
     "output_type": "error",
     "traceback": [
      "\u001b[0;31m---------------------------------------------------------------------------\u001b[0m",
      "\u001b[0;31mModuleNotFoundError\u001b[0m                       Traceback (most recent call last)",
      "\u001b[0;32m<ipython-input-1-b61f9f338182>\u001b[0m in \u001b[0;36m<module>\u001b[0;34m\u001b[0m\n\u001b[1;32m      1\u001b[0m \u001b[0;32mimport\u001b[0m \u001b[0mproject_path\u001b[0m\u001b[0;34m\u001b[0m\u001b[0;34m\u001b[0m\u001b[0m\n\u001b[0;32m----> 2\u001b[0;31m \u001b[0;32mimport\u001b[0m \u001b[0msetup\u001b[0m\u001b[0;34m\u001b[0m\u001b[0;34m\u001b[0m\u001b[0m\n\u001b[0m",
      "\u001b[0;31mModuleNotFoundError\u001b[0m: No module named 'setup'"
     ]
    }
   ],
   "source": [
    "import project_path\n",
    "import notebooks.setup"
   ]
  },
  {
   "cell_type": "code",
   "execution_count": null,
   "id": "f2550f14-21e1-47d7-b80f-16259604b28f",
   "metadata": {},
   "outputs": [],
   "source": [
    "import pandas as pd\n",
    "import plotly.graph_objects as go\n",
    "from plotly.subplots import make_subplots"
   ]
  },
  {
   "cell_type": "code",
   "execution_count": null,
   "id": "7ec56008-54c6-47f9-8306-acb0b84ccdaf",
   "metadata": {},
   "outputs": [],
   "source": [
    "from experiments.run import run\n",
    "import visualizations as visualizations\n",
    "from model.system_parameters import parameters"
   ]
  },
  {
   "cell_type": "code",
   "execution_count": null,
   "id": "3699c0aa-62a1-4656-ad19-9cf61131b94f",
   "metadata": {},
   "outputs": [],
   "source": [
    "from experiments.default_experiment import experiment, TIMESTEPS, DELTA_TIME"
   ]
  },
  {
   "cell_type": "code",
   "execution_count": null,
   "id": "775410d0-02ef-4895-bbfa-47968f298c9a",
   "metadata": {},
   "outputs": [],
   "source": [
    "from model.types import Stage"
   ]
  },
  {
   "cell_type": "code",
   "execution_count": null,
   "id": "827cb8a6-bab0-476a-9695-608401b40a80",
   "metadata": {},
   "outputs": [],
   "source": [
    "daily_transactions = parameters[\"daily_transactions_process\"][0]()\n",
    "daily_transactions"
   ]
  },
  {
   "cell_type": "code",
   "execution_count": null,
   "id": "76697da0-7069-4f94-892b-affba3ca0ad4",
   "metadata": {},
   "outputs": [],
   "source": [
    "transaction_average_gas = parameters[\"transaction_average_gas\"][0]\n",
    "transaction_average_gas"
   ]
  },
  {
   "cell_type": "code",
   "execution_count": null,
   "id": "a8e3ddad-59cf-4597-8bf5-12e3303fc66b",
   "metadata": {},
   "outputs": [],
   "source": [
    "# Pre-process the basefee and tip process values from Justin Drake scenarios:\n",
    "# https://docs.google.com/spreadsheets/d/1FslqTnECKvi7_l4x6lbyRhNtzW9f6CVEzwDf04zprfA\n",
    "\n",
    "# Scenarios: optimistic, lean optimistic, best guess, lean conservative, conservative\n",
    "eth_staked_scenarios = [4.5e6, 5e6, 6e6, 10e6, 15e6]\n",
    "daily_evm_fees_scenarios = [15e3, 12e3, 10e3, 8e3, 6e3]\n",
    "fee_burn_percentage_scenarios = [0.50, 0.60, 0.70, 0.75, 0.80]\n",
    "\n",
    "basefee_values = []\n",
    "tip_values = []\n",
    "\n",
    "for scenario in range(len(eth_staked_scenarios)):\n",
    "    basefee_pct = fee_burn_percentage_scenarios[scenario]\n",
    "    tip_pct = 1 - basefee_pct\n",
    "    evm_fees = daily_evm_fees_scenarios[scenario]\n",
    "    \n",
    "    basefee_plus_tip = (evm_fees * 1e9) / (daily_transactions * transaction_average_gas)\n",
    "    basefee = basefee_plus_tip * basefee_pct\n",
    "    tip = basefee_plus_tip * tip_pct\n",
    "    \n",
    "    basefee_values.append(basefee)\n",
    "    tip_values.append(tip)\n",
    "    \n",
    "    print(daily_transactions * transaction_average_gas * (basefee + tip) / 1e9)"
   ]
  },
  {
   "cell_type": "code",
   "execution_count": null,
   "id": "bdb941e8-f9fd-497e-8ebb-7f14326ce930",
   "metadata": {},
   "outputs": [],
   "source": [
    "parameter_overrides = {\n",
    "    \"phase\": [Stage.PROOF_OF_STAKE],\n",
    "    \"eth_price_process\": [lambda _run=None, _timestep=None: 3000],\n",
    "    \"eth_staked_process\": [lambda _run=None, _timestep=None, eth_staked=eth_staked: eth_staked for eth_staked in eth_staked_scenarios],  # ETH\n",
    "    \"eip1559_basefee_process\": [lambda _run=None, _timestep=None, basefee=basefee: basefee for basefee in basefee_values],  # Gwei per gas\n",
    "    \"eip1559_tip_process\": [lambda _run=None, _timestep=None, tip=tip: tip for tip in tip_values],  # Gwei per gas\n",
    "}\n",
    "\n",
    "# Override default experiment parameters\n",
    "experiment.simulations[0].model.params.update(parameter_overrides)\n",
    "# Run single timestep, set unit of time to multiple epochs\n",
    "experiment.simulations[0].timesteps = 1\n",
    "experiment.simulations[0].model.params.update({\"dt\": [TIMESTEPS * DELTA_TIME]})"
   ]
  },
  {
   "cell_type": "code",
   "execution_count": null,
   "id": "6229d493-a47e-42eb-aae5-ada7659d45aa",
   "metadata": {},
   "outputs": [],
   "source": [
    "df, exceptions = run(experiment)"
   ]
  },
  {
   "cell_type": "code",
   "execution_count": null,
   "id": "2d1efd6d-3b08-49fe-83c1-64554a4abc15",
   "metadata": {},
   "outputs": [],
   "source": [
    "df"
   ]
  },
  {
   "cell_type": "code",
   "execution_count": null,
   "id": "e19fc174-0c8c-4928-9bd2-1cbc50e1a0a0",
   "metadata": {},
   "outputs": [],
   "source": [
    "df['total_revenue_yields'] * 100"
   ]
  },
  {
   "cell_type": "code",
   "execution_count": null,
   "id": "d1b3d589-c567-44a5-a129-c20ea748794f",
   "metadata": {},
   "outputs": [],
   "source": []
  }
 ],
 "metadata": {
  "kernelspec": {
   "display_name": "Python (CADLabs Ethereum Model)",
   "language": "python",
   "name": "python-cadlabs-eth-model"
  },
  "language_info": {
   "codemirror_mode": {
    "name": "ipython",
    "version": 3
   },
   "file_extension": ".py",
   "mimetype": "text/x-python",
   "name": "python",
   "nbconvert_exporter": "python",
   "pygments_lexer": "ipython3",
   "version": "3.8.10"
  }
 },
 "nbformat": 4,
 "nbformat_minor": 5
}
