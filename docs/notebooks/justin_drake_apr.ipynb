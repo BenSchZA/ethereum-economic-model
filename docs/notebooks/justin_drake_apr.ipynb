{
 "cells": [
  {
   "cell_type": "markdown",
   "id": "9b2fd62c-56a8-44b6-9c68-b2cdb9e6e984",
   "metadata": {},
   "source": [
    "# Justin Drake APR"
   ]
  },
  {
   "cell_type": "code",
   "execution_count": 1,
   "id": "157749fd-e2a4-41ca-bce3-5699c0c1cdf8",
   "metadata": {},
   "outputs": [
    {
     "name": "stdout",
     "output_type": "stream",
     "text": [
      "time: 12.8 ms (started: 2021-05-20 11:27:48 +02:00)\n"
     ]
    }
   ],
   "source": [
    "import setup"
   ]
  },
  {
   "cell_type": "code",
   "execution_count": 2,
   "id": "f2550f14-21e1-47d7-b80f-16259604b28f",
   "metadata": {},
   "outputs": [
    {
     "name": "stdout",
     "output_type": "stream",
     "text": [
      "time: 285 ms (started: 2021-05-20 11:27:48 +02:00)\n"
     ]
    }
   ],
   "source": [
    "import pandas as pd\n",
    "import plotly.graph_objects as go\n",
    "from plotly.subplots import make_subplots"
   ]
  },
  {
   "cell_type": "code",
   "execution_count": 3,
   "id": "7ec56008-54c6-47f9-8306-acb0b84ccdaf",
   "metadata": {},
   "outputs": [
    {
     "name": "stdout",
     "output_type": "stream",
     "text": [
      "time: 686 ms (started: 2021-05-20 11:27:48 +02:00)\n"
     ]
    }
   ],
   "source": [
    "from experiments.run import run\n",
    "import visualizations as visualizations\n",
    "from model.parameters import parameters"
   ]
  },
  {
   "cell_type": "code",
   "execution_count": 4,
   "id": "3699c0aa-62a1-4656-ad19-9cf61131b94f",
   "metadata": {},
   "outputs": [
    {
     "name": "stdout",
     "output_type": "stream",
     "text": [
      "time: 19.4 ms (started: 2021-05-20 11:27:49 +02:00)\n"
     ]
    }
   ],
   "source": [
    "from experiments.default import experiment, TIMESTEPS, DELTA_TIME"
   ]
  },
  {
   "cell_type": "code",
   "execution_count": 5,
   "id": "775410d0-02ef-4895-bbfa-47968f298c9a",
   "metadata": {},
   "outputs": [
    {
     "name": "stdout",
     "output_type": "stream",
     "text": [
      "time: 20 ms (started: 2021-05-20 11:27:49 +02:00)\n"
     ]
    }
   ],
   "source": [
    "from model.types import Phase"
   ]
  },
  {
   "cell_type": "code",
   "execution_count": 6,
   "id": "827cb8a6-bab0-476a-9695-608401b40a80",
   "metadata": {},
   "outputs": [
    {
     "data": {
      "text/plain": [
       "1400000"
      ]
     },
     "execution_count": 6,
     "metadata": {},
     "output_type": "execute_result"
    },
    {
     "name": "stdout",
     "output_type": "stream",
     "text": [
      "time: 26.4 ms (started: 2021-05-20 11:27:49 +02:00)\n"
     ]
    }
   ],
   "source": [
    "daily_transactions = parameters[\"daily_transactions_process\"][0]()\n",
    "daily_transactions"
   ]
  },
  {
   "cell_type": "code",
   "execution_count": 7,
   "id": "76697da0-7069-4f94-892b-affba3ca0ad4",
   "metadata": {},
   "outputs": [
    {
     "data": {
      "text/plain": [
       "73123"
      ]
     },
     "execution_count": 7,
     "metadata": {},
     "output_type": "execute_result"
    },
    {
     "name": "stdout",
     "output_type": "stream",
     "text": [
      "time: 19.2 ms (started: 2021-05-20 11:27:49 +02:00)\n"
     ]
    }
   ],
   "source": [
    "transaction_average_gas = parameters[\"transaction_average_gas\"][0]\n",
    "transaction_average_gas"
   ]
  },
  {
   "cell_type": "code",
   "execution_count": 8,
   "id": "a8e3ddad-59cf-4597-8bf5-12e3303fc66b",
   "metadata": {},
   "outputs": [
    {
     "name": "stdout",
     "output_type": "stream",
     "text": [
      "15000.000000000002\n",
      "12000.0\n",
      "10000.0\n",
      "8000.0\n",
      "6000.0\n",
      "time: 18.8 ms (started: 2021-05-20 11:27:49 +02:00)\n"
     ]
    }
   ],
   "source": [
    "# Pre-process the basefee and tip process values from Justin Drake scenarios:\n",
    "# https://docs.google.com/spreadsheets/d/1FslqTnECKvi7_l4x6lbyRhNtzW9f6CVEzwDf04zprfA\n",
    "\n",
    "# Scenarios: optimistic, lean optimistic, best guess, lean conservative, conservative\n",
    "eth_staked_scenarios = [4.5e6, 5e6, 6e6, 10e6, 15e6]\n",
    "daily_evm_fees_scenarios = [15e3, 12e3, 10e3, 8e3, 6e3]\n",
    "fee_burn_percentage_scenarios = [0.50, 0.60, 0.70, 0.75, 0.80]\n",
    "\n",
    "basefee_values = []\n",
    "tip_values = []\n",
    "\n",
    "for scenario in range(len(eth_staked_scenarios)):\n",
    "    basefee_pct = fee_burn_percentage_scenarios[scenario]\n",
    "    tip_pct = 1 - basefee_pct\n",
    "    evm_fees = daily_evm_fees_scenarios[scenario]\n",
    "    \n",
    "    basefee_plus_tip = (evm_fees * 1e9) / (daily_transactions * transaction_average_gas)\n",
    "    basefee = basefee_plus_tip * basefee_pct\n",
    "    tip = basefee_plus_tip * tip_pct\n",
    "    \n",
    "    basefee_values.append(basefee)\n",
    "    tip_values.append(tip)\n",
    "    \n",
    "    print(daily_transactions * transaction_average_gas * (basefee + tip) / 1e9)"
   ]
  },
  {
   "cell_type": "code",
   "execution_count": 9,
   "id": "bdb941e8-f9fd-497e-8ebb-7f14326ce930",
   "metadata": {},
   "outputs": [
    {
     "name": "stdout",
     "output_type": "stream",
     "text": [
      "time: 18.5 ms (started: 2021-05-20 11:27:49 +02:00)\n"
     ]
    }
   ],
   "source": [
    "parameter_overrides = {\n",
    "    \"phase\": [Phase.POST_MERGE],\n",
    "    \"eth_price_process\": [lambda _run=None, _timestep=None: 3000],\n",
    "    \"eth_staked_process\": [lambda _run=None, _timestep=None, eth_staked=eth_staked: eth_staked for eth_staked in eth_staked_scenarios],  # ETH\n",
    "    \"eip1559_basefee_process\": [lambda _run=None, _timestep=None, basefee=basefee: basefee for basefee in basefee_values],  # Gwei per gas\n",
    "    \"eip1559_tip_process\": [lambda _run=None, _timestep=None, tip=tip: tip for tip in tip_values],  # Gwei per gas\n",
    "}\n",
    "\n",
    "# Override default experiment parameters\n",
    "experiment.simulations[0].model.params.update(parameter_overrides)\n",
    "# Run single timestep, set unit of time to multiple epochs\n",
    "experiment.simulations[0].timesteps = 1\n",
    "experiment.simulations[0].model.params.update({\"dt\": [TIMESTEPS * DELTA_TIME]})"
   ]
  },
  {
   "cell_type": "code",
   "execution_count": 10,
   "id": "6229d493-a47e-42eb-aae5-ada7659d45aa",
   "metadata": {},
   "outputs": [
    {
     "name": "stdout",
     "output_type": "stream",
     "text": [
      "2021-05-20 11:27:49,264 - root - INFO - Running experiment\n",
      "2021-05-20 11:27:49,335 - root - INFO - Starting simulation 0 / run 0 / subset 0\n",
      "2021-05-20 11:27:49,352 - root - INFO - Starting simulation 0 / run 0 / subset 3\n",
      "2021-05-20 11:27:49,340 - root - INFO - Starting simulation 0 / run 0 / subset 1\n",
      "2021-05-20 11:27:49,347 - root - INFO - Starting simulation 0 / run 0 / subset 2\n",
      "2021-05-20 11:27:49,358 - root - INFO - Starting simulation 0 / run 0 / subset 4\n",
      "2021-05-20 11:27:49,379 - root - INFO - Experiment complete\n",
      "time: 206 ms (started: 2021-05-20 11:27:49 +02:00)\n"
     ]
    }
   ],
   "source": [
    "df, exceptions = run(experiment)"
   ]
  },
  {
   "cell_type": "code",
   "execution_count": 11,
   "id": "2d1efd6d-3b08-49fe-83c1-64554a4abc15",
   "metadata": {},
   "outputs": [
    {
     "data": {
      "text/html": [
       "<div>\n",
       "<style scoped>\n",
       "    .dataframe tbody tr th:only-of-type {\n",
       "        vertical-align: middle;\n",
       "    }\n",
       "\n",
       "    .dataframe tbody tr th {\n",
       "        vertical-align: top;\n",
       "    }\n",
       "\n",
       "    .dataframe thead th {\n",
       "        text-align: right;\n",
       "    }\n",
       "</style>\n",
       "<table border=\"1\" class=\"dataframe\">\n",
       "  <thead>\n",
       "    <tr style=\"text-align: right;\">\n",
       "      <th></th>\n",
       "      <th>phase</th>\n",
       "      <th>timestamp</th>\n",
       "      <th>eth_price</th>\n",
       "      <th>eth_supply</th>\n",
       "      <th>eth_staked</th>\n",
       "      <th>supply_inflation</th>\n",
       "      <th>network_issuance</th>\n",
       "      <th>pow_issuance</th>\n",
       "      <th>number_of_validators_in_activation_queue</th>\n",
       "      <th>average_effective_balance</th>\n",
       "      <th>...</th>\n",
       "      <th>supply_inflation_pct</th>\n",
       "      <th>total_revenue_yields_pct</th>\n",
       "      <th>total_profit_yields_pct</th>\n",
       "      <th>total_online_validator_rewards_eth</th>\n",
       "      <th>total_tips_to_validators_eth</th>\n",
       "      <th>source_reward_eth</th>\n",
       "      <th>target_reward_eth</th>\n",
       "      <th>head_reward_eth</th>\n",
       "      <th>block_proposer_reward_eth</th>\n",
       "      <th>sync_reward_eth</th>\n",
       "    </tr>\n",
       "  </thead>\n",
       "  <tbody>\n",
       "    <tr>\n",
       "      <th>1</th>\n",
       "      <td>4.0</td>\n",
       "      <td>2021-05-20 11:27:48.856600</td>\n",
       "      <td>3000</td>\n",
       "      <td>1.131440e+08</td>\n",
       "      <td>4500000.0</td>\n",
       "      <td>-0.021029</td>\n",
       "      <td>-2.394822e+06</td>\n",
       "      <td>0</td>\n",
       "      <td>230</td>\n",
       "      <td>3.200000e+10</td>\n",
       "      <td>...</td>\n",
       "      <td>-2.102938</td>\n",
       "      <td>67.755511</td>\n",
       "      <td>64.051432</td>\n",
       "      <td>3.005218e+06</td>\n",
       "      <td>2700000.0</td>\n",
       "      <td>58006.66869</td>\n",
       "      <td>116013.337379</td>\n",
       "      <td>58006.66869</td>\n",
       "      <td>39347.620747</td>\n",
       "      <td>38671.11246</td>\n",
       "    </tr>\n",
       "    <tr>\n",
       "      <th>3</th>\n",
       "      <td>4.0</td>\n",
       "      <td>2021-05-20 11:27:48.856600</td>\n",
       "      <td>3000</td>\n",
       "      <td>1.132520e+08</td>\n",
       "      <td>5000000.0</td>\n",
       "      <td>-0.020081</td>\n",
       "      <td>-2.286822e+06</td>\n",
       "      <td>0</td>\n",
       "      <td>230</td>\n",
       "      <td>3.200000e+10</td>\n",
       "      <td>...</td>\n",
       "      <td>-2.008101</td>\n",
       "      <td>41.256760</td>\n",
       "      <td>38.988142</td>\n",
       "      <td>2.033218e+06</td>\n",
       "      <td>1728000.0</td>\n",
       "      <td>58006.66869</td>\n",
       "      <td>116013.337379</td>\n",
       "      <td>58006.66869</td>\n",
       "      <td>39347.620747</td>\n",
       "      <td>38671.11246</td>\n",
       "    </tr>\n",
       "    <tr>\n",
       "      <th>5</th>\n",
       "      <td>4.0</td>\n",
       "      <td>2021-05-20 11:27:48.856600</td>\n",
       "      <td>3000</td>\n",
       "      <td>1.133240e+08</td>\n",
       "      <td>6000000.0</td>\n",
       "      <td>-0.019449</td>\n",
       "      <td>-2.214822e+06</td>\n",
       "      <td>0</td>\n",
       "      <td>230</td>\n",
       "      <td>3.200000e+10</td>\n",
       "      <td>...</td>\n",
       "      <td>-1.944877</td>\n",
       "      <td>23.423300</td>\n",
       "      <td>22.124481</td>\n",
       "      <td>1.385218e+06</td>\n",
       "      <td>1080000.0</td>\n",
       "      <td>58006.66869</td>\n",
       "      <td>116013.337379</td>\n",
       "      <td>58006.66869</td>\n",
       "      <td>39347.620747</td>\n",
       "      <td>38671.11246</td>\n",
       "    </tr>\n",
       "    <tr>\n",
       "      <th>7</th>\n",
       "      <td>4.0</td>\n",
       "      <td>2021-05-20 11:27:48.856600</td>\n",
       "      <td>3000</td>\n",
       "      <td>1.136840e+08</td>\n",
       "      <td>10000000.0</td>\n",
       "      <td>-0.016288</td>\n",
       "      <td>-1.854822e+06</td>\n",
       "      <td>0</td>\n",
       "      <td>230</td>\n",
       "      <td>3.200000e+10</td>\n",
       "      <td>...</td>\n",
       "      <td>-1.628754</td>\n",
       "      <td>10.401535</td>\n",
       "      <td>9.819476</td>\n",
       "      <td>1.025218e+06</td>\n",
       "      <td>720000.0</td>\n",
       "      <td>58006.66869</td>\n",
       "      <td>116013.337379</td>\n",
       "      <td>58006.66869</td>\n",
       "      <td>39347.620747</td>\n",
       "      <td>38671.11246</td>\n",
       "    </tr>\n",
       "    <tr>\n",
       "      <th>9</th>\n",
       "      <td>4.0</td>\n",
       "      <td>2021-05-20 11:27:48.856600</td>\n",
       "      <td>3000</td>\n",
       "      <td>1.141160e+08</td>\n",
       "      <td>15000000.0</td>\n",
       "      <td>-0.012494</td>\n",
       "      <td>-1.422822e+06</td>\n",
       "      <td>0</td>\n",
       "      <td>230</td>\n",
       "      <td>3.200000e+10</td>\n",
       "      <td>...</td>\n",
       "      <td>-1.249407</td>\n",
       "      <td>4.986387</td>\n",
       "      <td>4.703537</td>\n",
       "      <td>7.372183e+05</td>\n",
       "      <td>432000.0</td>\n",
       "      <td>58006.66869</td>\n",
       "      <td>116013.337379</td>\n",
       "      <td>58006.66869</td>\n",
       "      <td>39347.620747</td>\n",
       "      <td>38671.11246</td>\n",
       "    </tr>\n",
       "  </tbody>\n",
       "</table>\n",
       "<p>5 rows × 99 columns</p>\n",
       "</div>"
      ],
      "text/plain": [
       "   phase                  timestamp  eth_price    eth_supply  eth_staked  \\\n",
       "1    4.0 2021-05-20 11:27:48.856600       3000  1.131440e+08   4500000.0   \n",
       "3    4.0 2021-05-20 11:27:48.856600       3000  1.132520e+08   5000000.0   \n",
       "5    4.0 2021-05-20 11:27:48.856600       3000  1.133240e+08   6000000.0   \n",
       "7    4.0 2021-05-20 11:27:48.856600       3000  1.136840e+08  10000000.0   \n",
       "9    4.0 2021-05-20 11:27:48.856600       3000  1.141160e+08  15000000.0   \n",
       "\n",
       "   supply_inflation  network_issuance  pow_issuance  \\\n",
       "1         -0.021029     -2.394822e+06             0   \n",
       "3         -0.020081     -2.286822e+06             0   \n",
       "5         -0.019449     -2.214822e+06             0   \n",
       "7         -0.016288     -1.854822e+06             0   \n",
       "9         -0.012494     -1.422822e+06             0   \n",
       "\n",
       "   number_of_validators_in_activation_queue  average_effective_balance  ...  \\\n",
       "1                                       230               3.200000e+10  ...   \n",
       "3                                       230               3.200000e+10  ...   \n",
       "5                                       230               3.200000e+10  ...   \n",
       "7                                       230               3.200000e+10  ...   \n",
       "9                                       230               3.200000e+10  ...   \n",
       "\n",
       "   supply_inflation_pct  total_revenue_yields_pct  total_profit_yields_pct  \\\n",
       "1             -2.102938                 67.755511                64.051432   \n",
       "3             -2.008101                 41.256760                38.988142   \n",
       "5             -1.944877                 23.423300                22.124481   \n",
       "7             -1.628754                 10.401535                 9.819476   \n",
       "9             -1.249407                  4.986387                 4.703537   \n",
       "\n",
       "   total_online_validator_rewards_eth  total_tips_to_validators_eth  \\\n",
       "1                        3.005218e+06                     2700000.0   \n",
       "3                        2.033218e+06                     1728000.0   \n",
       "5                        1.385218e+06                     1080000.0   \n",
       "7                        1.025218e+06                      720000.0   \n",
       "9                        7.372183e+05                      432000.0   \n",
       "\n",
       "   source_reward_eth  target_reward_eth  head_reward_eth  \\\n",
       "1        58006.66869      116013.337379      58006.66869   \n",
       "3        58006.66869      116013.337379      58006.66869   \n",
       "5        58006.66869      116013.337379      58006.66869   \n",
       "7        58006.66869      116013.337379      58006.66869   \n",
       "9        58006.66869      116013.337379      58006.66869   \n",
       "\n",
       "   block_proposer_reward_eth  sync_reward_eth  \n",
       "1               39347.620747      38671.11246  \n",
       "3               39347.620747      38671.11246  \n",
       "5               39347.620747      38671.11246  \n",
       "7               39347.620747      38671.11246  \n",
       "9               39347.620747      38671.11246  \n",
       "\n",
       "[5 rows x 99 columns]"
      ]
     },
     "execution_count": 11,
     "metadata": {},
     "output_type": "execute_result"
    },
    {
     "name": "stdout",
     "output_type": "stream",
     "text": [
      "time: 44.3 ms (started: 2021-05-20 11:27:49 +02:00)\n"
     ]
    }
   ],
   "source": [
    "df"
   ]
  },
  {
   "cell_type": "code",
   "execution_count": 12,
   "id": "e19fc174-0c8c-4928-9bd2-1cbc50e1a0a0",
   "metadata": {},
   "outputs": [
    {
     "data": {
      "text/plain": [
       "1    67.755511\n",
       "3    41.256760\n",
       "5    23.423300\n",
       "7    10.401535\n",
       "9     4.986387\n",
       "Name: total_revenue_yields, dtype: float64"
      ]
     },
     "execution_count": 12,
     "metadata": {},
     "output_type": "execute_result"
    },
    {
     "name": "stdout",
     "output_type": "stream",
     "text": [
      "time: 20.8 ms (started: 2021-05-20 11:27:49 +02:00)\n"
     ]
    }
   ],
   "source": [
    "df['total_revenue_yields'] * 100"
   ]
  },
  {
   "cell_type": "code",
   "execution_count": null,
   "id": "d1b3d589-c567-44a5-a129-c20ea748794f",
   "metadata": {},
   "outputs": [],
   "source": []
  }
 ],
 "metadata": {
  "kernelspec": {
   "display_name": "Python (Eth2)",
   "language": "python",
   "name": "python-eth2"
  },
  "language_info": {
   "codemirror_mode": {
    "name": "ipython",
    "version": 3
   },
   "file_extension": ".py",
   "mimetype": "text/x-python",
   "name": "python",
   "nbconvert_exporter": "python",
   "pygments_lexer": "ipython3",
   "version": "3.8.10"
  }
 },
 "nbformat": 4,
 "nbformat_minor": 5
}
