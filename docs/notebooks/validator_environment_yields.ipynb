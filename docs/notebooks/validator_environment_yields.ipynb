{
 "cells": [
  {
   "source": [
    "# Validator Environment Yields"
   ],
   "cell_type": "markdown",
   "metadata": {}
  },
  {
   "cell_type": "code",
   "execution_count": 14,
   "metadata": {},
   "outputs": [
    {
     "output_type": "stream",
     "name": "stdout",
     "text": [
      "time: 31 ms (started: 2021-04-16 07:40:35 +02:00)\n"
     ]
    }
   ],
   "source": [
    "import setup"
   ]
  },
  {
   "cell_type": "code",
   "execution_count": 15,
   "metadata": {},
   "outputs": [
    {
     "output_type": "stream",
     "name": "stdout",
     "text": [
      "time: 30.3 ms (started: 2021-04-16 07:40:35 +02:00)\n"
     ]
    }
   ],
   "source": [
    "import pandas as pd"
   ]
  },
  {
   "cell_type": "code",
   "execution_count": 16,
   "metadata": {},
   "outputs": [
    {
     "output_type": "stream",
     "name": "stdout",
     "text": [
      "time: 29.8 ms (started: 2021-04-16 07:40:35 +02:00)\n"
     ]
    }
   ],
   "source": [
    "from experiments.run import run\n",
    "from experiments.post_processing import post_process\n",
    "from experiments.validator_environment_yields.experiment import experiment\n",
    "import visualizations as visualizations"
   ]
  },
  {
   "cell_type": "code",
   "execution_count": 17,
   "metadata": {},
   "outputs": [
    {
     "output_type": "stream",
     "name": "stdout",
     "text": [
      "Running experiment\n",
      "Experiment complete\n",
      "time: 2.24 s (started: 2021-04-16 07:40:35 +02:00)\n"
     ]
    }
   ],
   "source": [
    "results, exceptions = run(experiment)"
   ]
  },
  {
   "cell_type": "code",
   "execution_count": 18,
   "metadata": {},
   "outputs": [
    {
     "output_type": "execute_result",
     "data": {
      "text/plain": [
       "        eth_price    eth_supply  eth_staked  supply_inflation  \\\n",
       "1      100.000000  1.120000e+08      524288     -3.668750e-07   \n",
       "2      103.580291  1.120001e+08      524288      1.021577e-03   \n",
       "3      107.160582  1.120003e+08      524288      1.021575e-03   \n",
       "4      110.740873  1.120004e+08      524288      1.021574e-03   \n",
       "5      114.321164  1.120006e+08      524288      1.021573e-03   \n",
       "...           ...           ...         ...               ...   \n",
       "1617  2982.134347  1.128971e+08    33600000      8.112186e-03   \n",
       "1618  2985.714638  1.128982e+08    33600000      8.112106e-03   \n",
       "1619  2989.294930  1.128993e+08    33600000      8.112026e-03   \n",
       "1620  2992.875221  1.129005e+08    33600000      8.111946e-03   \n",
       "1621  2996.455512  1.129016e+08    33600000      8.111866e-03   \n",
       "\n",
       "      average_effective_balance  number_of_validators  \\\n",
       "1                  3.200000e+10                 16384   \n",
       "2                  3.200000e+10                 16384   \n",
       "3                  3.200000e+10                 16384   \n",
       "4                  3.200000e+10                 16384   \n",
       "5                  3.200000e+10                 16384   \n",
       "...                         ...                   ...   \n",
       "1617               3.200000e+10               1050000   \n",
       "1618               3.200000e+10               1050000   \n",
       "1619               3.200000e+10               1050000   \n",
       "1620               3.200000e+10               1050000   \n",
       "1621               3.200000e+10               1050000   \n",
       "\n",
       "      number_of_validators_online  number_of_validators_offline  base_reward  \\\n",
       "1                           16057                           327    8944000.0   \n",
       "2                           16057                           327    8944000.0   \n",
       "3                           16057                           327    8944000.0   \n",
       "4                           16057                           327    8944000.0   \n",
       "5                           16057                           327    8944000.0   \n",
       "...                           ...                           ...          ...   \n",
       "1617                      1029039                         20961    1116800.0   \n",
       "1618                      1029039                         20961    1116800.0   \n",
       "1619                      1029039                         20961    1116800.0   \n",
       "1620                      1029039                         20961    1116800.0   \n",
       "1621                      1029039                         20961    1116800.0   \n",
       "\n",
       "      validating_rewards  ...  diy_hardware_profit_yields  \\\n",
       "1           1.414641e+11  ...                    0.182357   \n",
       "2           1.414641e+11  ...                    0.183600   \n",
       "3           1.414641e+11  ...                    0.184759   \n",
       "4           1.414641e+11  ...                    0.185844   \n",
       "5           1.414641e+11  ...                    0.186861   \n",
       "...                  ...  ...                         ...   \n",
       "1617        1.132024e+12  ...                    0.026053   \n",
       "1618        1.132024e+12  ...                    0.026054   \n",
       "1619        1.132024e+12  ...                    0.026055   \n",
       "1620        1.132024e+12  ...                    0.026057   \n",
       "1621        1.132024e+12  ...                    0.026058   \n",
       "\n",
       "      diy_cloud_profit_yields  pool_staas_profit_yields  \\\n",
       "1                    0.211377                  0.192113   \n",
       "2                    0.211616                  0.192113   \n",
       "3                    0.211840                  0.192113   \n",
       "4                    0.212049                  0.192113   \n",
       "5                    0.212245                  0.192113   \n",
       "...                       ...                       ...   \n",
       "1617                 0.027026                  0.023987   \n",
       "1618                 0.027026                  0.023987   \n",
       "1619                 0.027026                  0.023987   \n",
       "1620                 0.027026                  0.023987   \n",
       "1621                 0.027027                  0.023987   \n",
       "\n",
       "      pool_hardware_profit_yields  pool_cloud_profit_yields  \\\n",
       "1                        0.200334                  0.183384   \n",
       "2                        0.200955                  0.184591   \n",
       "3                        0.201535                  0.185718   \n",
       "4                        0.202077                  0.186772   \n",
       "5                        0.202586                  0.187759   \n",
       "...                           ...                       ...   \n",
       "1617                     0.026655                  0.026087   \n",
       "1618                     0.026656                  0.026088   \n",
       "1619                     0.026657                  0.026090   \n",
       "1620                     0.026658                  0.026091   \n",
       "1621                     0.026658                  0.026093   \n",
       "\n",
       "      staas_full_profit_yields  staas_self_custodied_profit_yields  \\\n",
       "1                     0.185564                            0.192113   \n",
       "2                     0.185564                            0.192113   \n",
       "3                     0.185564                            0.192113   \n",
       "4                     0.185564                            0.192113   \n",
       "5                     0.185564                            0.192113   \n",
       "...                        ...                                 ...   \n",
       "1617                  0.023169                            0.023987   \n",
       "1618                  0.023169                            0.023987   \n",
       "1619                  0.023169                            0.023987   \n",
       "1620                  0.023169                            0.023987   \n",
       "1621                  0.023169                            0.023987   \n",
       "\n",
       "      supply_inflation_pct  total_revenue_yields_pct  total_profit_yields_pct  \n",
       "1                -0.000037                 21.831070                19.072025  \n",
       "2                 0.102158                 21.831070                19.126644  \n",
       "3                 0.102158                 21.831070                19.177613  \n",
       "4                 0.102157                 21.831070                19.225287  \n",
       "5                 0.102157                 21.831070                19.269974  \n",
       "...                    ...                       ...                      ...  \n",
       "1617              0.811219                  2.725817                 2.525635  \n",
       "1618              0.811211                  2.725817                 2.525698  \n",
       "1619              0.811203                  2.725817                 2.525762  \n",
       "1620              0.811195                  2.725817                 2.525825  \n",
       "1621              0.811187                  2.725817                 2.525888  \n",
       "\n",
       "[1620 rows x 79 columns]"
      ],
      "text/html": "<div>\n<style scoped>\n    .dataframe tbody tr th:only-of-type {\n        vertical-align: middle;\n    }\n\n    .dataframe tbody tr th {\n        vertical-align: top;\n    }\n\n    .dataframe thead th {\n        text-align: right;\n    }\n</style>\n<table border=\"1\" class=\"dataframe\">\n  <thead>\n    <tr style=\"text-align: right;\">\n      <th></th>\n      <th>eth_price</th>\n      <th>eth_supply</th>\n      <th>eth_staked</th>\n      <th>supply_inflation</th>\n      <th>average_effective_balance</th>\n      <th>number_of_validators</th>\n      <th>number_of_validators_online</th>\n      <th>number_of_validators_offline</th>\n      <th>base_reward</th>\n      <th>validating_rewards</th>\n      <th>...</th>\n      <th>diy_hardware_profit_yields</th>\n      <th>diy_cloud_profit_yields</th>\n      <th>pool_staas_profit_yields</th>\n      <th>pool_hardware_profit_yields</th>\n      <th>pool_cloud_profit_yields</th>\n      <th>staas_full_profit_yields</th>\n      <th>staas_self_custodied_profit_yields</th>\n      <th>supply_inflation_pct</th>\n      <th>total_revenue_yields_pct</th>\n      <th>total_profit_yields_pct</th>\n    </tr>\n  </thead>\n  <tbody>\n    <tr>\n      <th>1</th>\n      <td>100.000000</td>\n      <td>1.120000e+08</td>\n      <td>524288</td>\n      <td>-3.668750e-07</td>\n      <td>3.200000e+10</td>\n      <td>16384</td>\n      <td>16057</td>\n      <td>327</td>\n      <td>8944000.0</td>\n      <td>1.414641e+11</td>\n      <td>...</td>\n      <td>0.182357</td>\n      <td>0.211377</td>\n      <td>0.192113</td>\n      <td>0.200334</td>\n      <td>0.183384</td>\n      <td>0.185564</td>\n      <td>0.192113</td>\n      <td>-0.000037</td>\n      <td>21.831070</td>\n      <td>19.072025</td>\n    </tr>\n    <tr>\n      <th>2</th>\n      <td>103.580291</td>\n      <td>1.120001e+08</td>\n      <td>524288</td>\n      <td>1.021577e-03</td>\n      <td>3.200000e+10</td>\n      <td>16384</td>\n      <td>16057</td>\n      <td>327</td>\n      <td>8944000.0</td>\n      <td>1.414641e+11</td>\n      <td>...</td>\n      <td>0.183600</td>\n      <td>0.211616</td>\n      <td>0.192113</td>\n      <td>0.200955</td>\n      <td>0.184591</td>\n      <td>0.185564</td>\n      <td>0.192113</td>\n      <td>0.102158</td>\n      <td>21.831070</td>\n      <td>19.126644</td>\n    </tr>\n    <tr>\n      <th>3</th>\n      <td>107.160582</td>\n      <td>1.120003e+08</td>\n      <td>524288</td>\n      <td>1.021575e-03</td>\n      <td>3.200000e+10</td>\n      <td>16384</td>\n      <td>16057</td>\n      <td>327</td>\n      <td>8944000.0</td>\n      <td>1.414641e+11</td>\n      <td>...</td>\n      <td>0.184759</td>\n      <td>0.211840</td>\n      <td>0.192113</td>\n      <td>0.201535</td>\n      <td>0.185718</td>\n      <td>0.185564</td>\n      <td>0.192113</td>\n      <td>0.102158</td>\n      <td>21.831070</td>\n      <td>19.177613</td>\n    </tr>\n    <tr>\n      <th>4</th>\n      <td>110.740873</td>\n      <td>1.120004e+08</td>\n      <td>524288</td>\n      <td>1.021574e-03</td>\n      <td>3.200000e+10</td>\n      <td>16384</td>\n      <td>16057</td>\n      <td>327</td>\n      <td>8944000.0</td>\n      <td>1.414641e+11</td>\n      <td>...</td>\n      <td>0.185844</td>\n      <td>0.212049</td>\n      <td>0.192113</td>\n      <td>0.202077</td>\n      <td>0.186772</td>\n      <td>0.185564</td>\n      <td>0.192113</td>\n      <td>0.102157</td>\n      <td>21.831070</td>\n      <td>19.225287</td>\n    </tr>\n    <tr>\n      <th>5</th>\n      <td>114.321164</td>\n      <td>1.120006e+08</td>\n      <td>524288</td>\n      <td>1.021573e-03</td>\n      <td>3.200000e+10</td>\n      <td>16384</td>\n      <td>16057</td>\n      <td>327</td>\n      <td>8944000.0</td>\n      <td>1.414641e+11</td>\n      <td>...</td>\n      <td>0.186861</td>\n      <td>0.212245</td>\n      <td>0.192113</td>\n      <td>0.202586</td>\n      <td>0.187759</td>\n      <td>0.185564</td>\n      <td>0.192113</td>\n      <td>0.102157</td>\n      <td>21.831070</td>\n      <td>19.269974</td>\n    </tr>\n    <tr>\n      <th>...</th>\n      <td>...</td>\n      <td>...</td>\n      <td>...</td>\n      <td>...</td>\n      <td>...</td>\n      <td>...</td>\n      <td>...</td>\n      <td>...</td>\n      <td>...</td>\n      <td>...</td>\n      <td>...</td>\n      <td>...</td>\n      <td>...</td>\n      <td>...</td>\n      <td>...</td>\n      <td>...</td>\n      <td>...</td>\n      <td>...</td>\n      <td>...</td>\n      <td>...</td>\n      <td>...</td>\n    </tr>\n    <tr>\n      <th>1617</th>\n      <td>2982.134347</td>\n      <td>1.128971e+08</td>\n      <td>33600000</td>\n      <td>8.112186e-03</td>\n      <td>3.200000e+10</td>\n      <td>1050000</td>\n      <td>1029039</td>\n      <td>20961</td>\n      <td>1116800.0</td>\n      <td>1.132024e+12</td>\n      <td>...</td>\n      <td>0.026053</td>\n      <td>0.027026</td>\n      <td>0.023987</td>\n      <td>0.026655</td>\n      <td>0.026087</td>\n      <td>0.023169</td>\n      <td>0.023987</td>\n      <td>0.811219</td>\n      <td>2.725817</td>\n      <td>2.525635</td>\n    </tr>\n    <tr>\n      <th>1618</th>\n      <td>2985.714638</td>\n      <td>1.128982e+08</td>\n      <td>33600000</td>\n      <td>8.112106e-03</td>\n      <td>3.200000e+10</td>\n      <td>1050000</td>\n      <td>1029039</td>\n      <td>20961</td>\n      <td>1116800.0</td>\n      <td>1.132024e+12</td>\n      <td>...</td>\n      <td>0.026054</td>\n      <td>0.027026</td>\n      <td>0.023987</td>\n      <td>0.026656</td>\n      <td>0.026088</td>\n      <td>0.023169</td>\n      <td>0.023987</td>\n      <td>0.811211</td>\n      <td>2.725817</td>\n      <td>2.525698</td>\n    </tr>\n    <tr>\n      <th>1619</th>\n      <td>2989.294930</td>\n      <td>1.128993e+08</td>\n      <td>33600000</td>\n      <td>8.112026e-03</td>\n      <td>3.200000e+10</td>\n      <td>1050000</td>\n      <td>1029039</td>\n      <td>20961</td>\n      <td>1116800.0</td>\n      <td>1.132024e+12</td>\n      <td>...</td>\n      <td>0.026055</td>\n      <td>0.027026</td>\n      <td>0.023987</td>\n      <td>0.026657</td>\n      <td>0.026090</td>\n      <td>0.023169</td>\n      <td>0.023987</td>\n      <td>0.811203</td>\n      <td>2.725817</td>\n      <td>2.525762</td>\n    </tr>\n    <tr>\n      <th>1620</th>\n      <td>2992.875221</td>\n      <td>1.129005e+08</td>\n      <td>33600000</td>\n      <td>8.111946e-03</td>\n      <td>3.200000e+10</td>\n      <td>1050000</td>\n      <td>1029039</td>\n      <td>20961</td>\n      <td>1116800.0</td>\n      <td>1.132024e+12</td>\n      <td>...</td>\n      <td>0.026057</td>\n      <td>0.027026</td>\n      <td>0.023987</td>\n      <td>0.026658</td>\n      <td>0.026091</td>\n      <td>0.023169</td>\n      <td>0.023987</td>\n      <td>0.811195</td>\n      <td>2.725817</td>\n      <td>2.525825</td>\n    </tr>\n    <tr>\n      <th>1621</th>\n      <td>2996.455512</td>\n      <td>1.129016e+08</td>\n      <td>33600000</td>\n      <td>8.111866e-03</td>\n      <td>3.200000e+10</td>\n      <td>1050000</td>\n      <td>1029039</td>\n      <td>20961</td>\n      <td>1116800.0</td>\n      <td>1.132024e+12</td>\n      <td>...</td>\n      <td>0.026058</td>\n      <td>0.027027</td>\n      <td>0.023987</td>\n      <td>0.026658</td>\n      <td>0.026093</td>\n      <td>0.023169</td>\n      <td>0.023987</td>\n      <td>0.811187</td>\n      <td>2.725817</td>\n      <td>2.525888</td>\n    </tr>\n  </tbody>\n</table>\n<p>1620 rows × 79 columns</p>\n</div>"
     },
     "metadata": {},
     "execution_count": 18
    },
    {
     "output_type": "stream",
     "name": "stdout",
     "text": [
      "time: 616 ms (started: 2021-04-16 07:40:38 +02:00)\n"
     ]
    }
   ],
   "source": [
    "df = pd.DataFrame(results)\n",
    "df = post_process(df)\n",
    "df"
   ]
  },
  {
   "cell_type": "code",
   "execution_count": 19,
   "metadata": {},
   "outputs": [
    {
     "output_type": "execute_result",
     "data": {
      "text/plain": [
       "array([0, 1])"
      ]
     },
     "metadata": {},
     "execution_count": 19
    },
    {
     "output_type": "stream",
     "name": "stdout",
     "text": [
      "time: 30.7 ms (started: 2021-04-16 07:40:38 +02:00)\n"
     ]
    }
   ],
   "source": [
    "df.subset.unique()"
   ]
  },
  {
   "cell_type": "code",
   "execution_count": 20,
   "metadata": {},
   "outputs": [
    {
     "output_type": "stream",
     "name": "stdout",
     "text": [
      "time: 116 ms (started: 2021-04-16 07:40:38 +02:00)\n"
     ]
    }
   ],
   "source": [
    "visualizations.plot_validator_environment_yields(df.query('subset == 0'))"
   ]
  },
  {
   "cell_type": "code",
   "execution_count": 21,
   "metadata": {},
   "outputs": [
    {
     "output_type": "stream",
     "name": "stdout",
     "text": [
      "time: 105 ms (started: 2021-04-16 07:40:39 +02:00)\n"
     ]
    }
   ],
   "source": [
    "visualizations.plot_validator_environment_yields(df.query('subset == 1'))"
   ]
  }
 ],
 "metadata": {
  "kernelspec": {
   "display_name": "Python (Eth2)",
   "language": "python",
   "name": "python-eth2"
  },
  "language_info": {
   "codemirror_mode": {
    "name": "ipython",
    "version": 3
   },
   "file_extension": ".py",
   "mimetype": "text/x-python",
   "name": "python",
   "nbconvert_exporter": "python",
   "pygments_lexer": "ipython3",
   "version": "3.8.8-final"
  }
 },
 "nbformat": 4,
 "nbformat_minor": 4
}